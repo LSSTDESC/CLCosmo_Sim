{
 "cells": [
  {
   "cell_type": "code",
   "execution_count": null,
   "id": "df0f262b",
   "metadata": {},
   "outputs": [],
   "source": [
    "%load_ext autoreload\n",
    "%autoreload 2\n",
    "import glob, sys\n",
    "import numpy as np\n",
    "import matplotlib.pyplot as plt\n",
    "import time\n",
    "import pyccl as ccl\n",
    "def binning(corner): return [[corner[i],corner[i+1]] for i in range(len(corner)-1)]\n",
    "#define cosmo\n",
    "cosmo = ccl.Cosmology(Omega_c = 0.30711 - 0.048254, Omega_b = 0.048254, h = 0.677, sigma8 = 0.8288, n_s=0.96)"
   ]
  },
  {
   "cell_type": "code",
   "execution_count": null,
   "id": "9108e25d-0437-4cbc-9b45-cc466687b6a9",
   "metadata": {},
   "outputs": [],
   "source": [
    "%load_ext autoreload\n",
    "%autoreload 2\n",
    "import CL_COUNT_class_cluster_abundance as cl_count\n",
    "import CL_COUNT_modeling_richness as richness_model"
   ]
  },
  {
   "cell_type": "markdown",
   "id": "de4c6ed2-f101-4234-a592-c606090fd8d2",
   "metadata": {},
   "source": [
    "# Define proxy modelling\n",
    "Use a mass proxy, define the probability for observing a proxy given a mass and redhsift"
   ]
  },
  {
   "cell_type": "markdown",
   "id": "7d410af8-46c4-419a-94cb-15607d606c1a",
   "metadata": {},
   "source": [
    "$$\n",
    "P(\\log\\lambda|M,z) = N(\\mu(M,z), \\sigma^2(M,z))\n",
    "$$\n",
    "the mean is\n",
    "$$\n",
    "\\mu(M,z) = \\mu_0 + a_\\mu^M\\log_{10}\\frac{M}{M_0} + a_M^z\\log_{10}\\frac{1+z}{1+z_0} \n",
    "$$\n",
    "variance is\n",
    "$$\n",
    "\\sigma(M,z) = \\sigma_0 + a_\\sigma^M\\log_{10}\\frac{M}{M_0} + a_\\sigma ^z\\log_{10}\\frac{1+z}{1+z_0} \n",
    "$$"
   ]
  },
  {
   "cell_type": "code",
   "execution_count": null,
   "id": "95959831-12da-4157-909c-1c42421bb811",
   "metadata": {},
   "outputs": [],
   "source": [
    "#M_0, z_0\n",
    "theta_pivot = [3e14/0.71, 0.6]\n",
    "#\\mu_0, a_\\mu^z, a_\\mu^M\n",
    "theta_mu = [3.19, -0.7, 2]\n",
    "#\\sigma_0, a_\\sigma^z, a_\\sigma^M\n",
    "theta_sigma = [0.33, 0.,-0.08]\n",
    "#Richness object\n",
    "richness = richness_model.Richness(theta_mu, theta_sigma, theta_pivot)"
   ]
  },
  {
   "cell_type": "code",
   "execution_count": null,
   "id": "81d63c1c-a616-44fa-b64b-44d99d94f33c",
   "metadata": {},
   "outputs": [],
   "source": [
    "plt.figure(figsize = (7,5))\n",
    "proxy_array = np.linspace(0,10,1000)\n",
    "logm_array = np.linspace(14, 17, 4)\n",
    "c = ['r', 'k', 'g', 'b']\n",
    "for i, logm_ in enumerate(logm_array):\n",
    "    p = richness.pdf(proxy_array, .0, logm_)\n",
    "    plt.plot(proxy_array, p, label=f'logm = {logm_:.2f}', c = c[i])\n",
    "    p = richness.pdf(proxy_array, .5, logm_,)\n",
    "    plt.plot(proxy_array, p, '--', c = c[i])\n",
    "plt.ylabel(r'$P(\\lambda|\\log M, z)$', fontsize = 20)\n",
    "plt.ylim(0,3)\n",
    "plt.legend()\n",
    "plt.xlabel('$\\ln \\lambda$', fontsize = 20)\n",
    "plt.text(0, 1.5,'full line: z=0', fontsize = 20)\n",
    "plt.text(0, 2,'full line: z=.5', fontsize = 20)\n",
    "plt.show()"
   ]
  },
  {
   "cell_type": "code",
   "execution_count": null,
   "id": "33264c9e-c4fd-4f10-bf7f-6e53780ea320",
   "metadata": {},
   "outputs": [],
   "source": [
    "plt.figure(figsize = (7,5))\n",
    "z_array = np.linspace(0,2,4)\n",
    "logm_array = np.linspace(13, 15, 300)\n",
    "c = ['r', 'k', 'g', 'b']\n",
    "for i, z in enumerate(z_array):\n",
    "    p = richness.mu_loglambda_logM_f(z, logm_array)\n",
    "    plt.plot(logm_array, p, label=f'z = {z:.2f}', c = c[i])\n",
    "plt.ylabel(r'$\\langle\\log\\lambda|\\log M, z\\rangle$', fontsize = 20)\n",
    "plt.legend()\n",
    "plt.xlabel('$\\log_{10}M$', fontsize = 20)\n",
    "plt.show()"
   ]
  },
  {
   "cell_type": "markdown",
   "id": "0c92c4a6-d46e-42dc-9f70-9ce2fc82a3ae",
   "metadata": {},
   "source": [
    "initialize the `ClusterAbundance` object"
   ]
  },
  {
   "cell_type": "code",
   "execution_count": null,
   "id": "e04c7200-dce5-4044-9c5d-ef93ce8691da",
   "metadata": {},
   "outputs": [],
   "source": [
    "clc = cl_count.ClusterAbundance()\n",
    "#choose mass function and mass definition\n",
    "massdef = ccl.halos.massdef.MassDef(200, 'critical', c_m_relation=None)\n",
    "hmd = ccl.halos.hmfunc.MassFuncTinker08(cosmo, mass_def=massdef)\n",
    "clc.set_cosmology(cosmo = cosmo, hmd = hmd, massdef = massdef)\n",
    "clc.sky_area = (0.25)*4*np.pi"
   ]
  },
  {
   "cell_type": "markdown",
   "id": "d2ce7cad-9da8-4770-b0fd-06a5af2bf27b",
   "metadata": {},
   "source": [
    "# Un-binned approach"
   ]
  },
  {
   "cell_type": "markdown",
   "id": "4dce8259-5ba9-4266-b313-903e8a13f311",
   "metadata": {},
   "source": [
    "$$\n",
    "x_i = \\int_{\\log_{10}M_{min}}^{\\log_{10}M_{min}}\\frac{d^2V(z_i)}{dz d\\Omega}\\frac{dn(M,z_i)}{d\\log_{10}M}P(\\lambda_i|M,z_i)d\\log_{10}M\n",
    "$$"
   ]
  },
  {
   "cell_type": "code",
   "execution_count": null,
   "id": "991fde88-97e5-4d6f-830e-98fe006361b3",
   "metadata": {},
   "outputs": [],
   "source": [
    "import random\n",
    "n = 100\n",
    "z_list = np.linspace(0.1,2,n)\n",
    "random.shuffle(z_list)\n",
    "proxy_list = np.linspace(1,4,n)"
   ]
  },
  {
   "cell_type": "markdown",
   "id": "4f2d331e-3f29-461b-b8f2-30d49da53545",
   "metadata": {},
   "source": [
    "pre tabulated grids to fasten integration"
   ]
  },
  {
   "cell_type": "code",
   "execution_count": null,
   "id": "5fb86b7d-ee53-4abc-bcf4-2272062c00c5",
   "metadata": {},
   "outputs": [],
   "source": [
    "z_grid = np.linspace(0., 3, 1000)\n",
    "logm_grid = np.linspace(12,16, 1000)\n",
    "clc.compute_pdf_grid_ProxyZ(proxy = proxy_list, z = z_list, proxy_model = richness, \n",
    "                            z_grid = z_grid, logm_grid = logm_grid)"
   ]
  },
  {
   "cell_type": "markdown",
   "id": "855787ab-f567-4cba-9bbe-837aa2e235ca",
   "metadata": {},
   "source": [
    "Three different methods:\n",
    "1. Simpson integration of a tabulated grid of $\\frac{d^2V}{dz d\\Omega}\\frac{dn}{d\\log_{10}M}P(\\lambda|M,z)$ (method `simps`)\n",
    "2. Double integral using `scipy.integrate.dblquad` of $\\frac{d^2V}{dz d\\Omega}\\frac{dn}{d\\log_{10}M}P(\\lambda|M,z)$ (method `exact_CCL`)"
   ]
  },
  {
   "cell_type": "markdown",
   "id": "2f5bbeae-0070-40c0-9058-ef1c906f8d22",
   "metadata": {},
   "source": [
    "`simps`"
   ]
  },
  {
   "cell_type": "code",
   "execution_count": null,
   "id": "dc05ae8b-2d89-428f-8316-697b7f8275e4",
   "metadata": {},
   "outputs": [],
   "source": [
    "time0 = time.time()\n",
    "clc.compute_multiplicity_grid_MZ(z_grid = z_grid, logm_grid = logm_grid)\n",
    "dndproxy_simps = clc.multiplicity_function_individual_ProxyZ(z = z_list, proxy = proxy_list, \n",
    "                                                             proxy_model = richness, method = 'simps')\n",
    "time1 = time.time()\n",
    "print(time1-time0)"
   ]
  },
  {
   "cell_type": "markdown",
   "id": "0e47b0dd-0e8e-4c91-adb8-ae3eb7b27f41",
   "metadata": {},
   "source": [
    "`exact_CCL`"
   ]
  },
  {
   "cell_type": "code",
   "execution_count": null,
   "id": "b5e420f1-afbb-4979-ace1-9ba4724aacfc",
   "metadata": {},
   "outputs": [],
   "source": [
    "time0 = time.time()\n",
    "dndproxy_exact_CCL = clc.multiplicity_function_individual_ProxyZ(z = z_list, proxy = proxy_list, \n",
    "                                                                 proxy_model = richness, method = 'exact_CCL')\n",
    "time1 = time.time()\n",
    "print(time1-time0)"
   ]
  },
  {
   "cell_type": "code",
   "execution_count": null,
   "id": "9b5f0d8e-e6c1-44f9-840f-1045ab7e304b",
   "metadata": {},
   "outputs": [],
   "source": [
    "plt.figure(figsize = (7,5))\n",
    "plt.scatter(z_list, 100*abs(np.array(dndproxy_exact_CCL)-np.array(dndproxy_simps))/np.array(dndproxy_exact_CCL), s = 7, c = proxy_list, cmap = 'viridis')\n",
    "plt.colorbar()\n",
    "plt.xlabel('redshift', fontsize = 20)\n",
    "plt.ylabel('|bias| to CCL $\\%$', fontsize = 20)\n",
    "plt.yscale('log')\n",
    "plt.grid(True, which=\"both\")"
   ]
  },
  {
   "cell_type": "code",
   "execution_count": null,
   "id": "1dbbd56a-041c-4de2-83af-2e3ac284c799",
   "metadata": {},
   "outputs": [],
   "source": [
    "%load_ext autoreload\n",
    "%autoreload 2\n",
    "import CL_COUNT_class_cluster_abundance as cl_count\n",
    "import CL_COUNT_modeling_richness as richness_model"
   ]
  },
  {
   "cell_type": "code",
   "execution_count": null,
   "id": "d2962d7e-6d8b-4ab4-a530-baf815f8825e",
   "metadata": {},
   "outputs": [],
   "source": [
    "clc = cl_count.ClusterAbundance()\n",
    "#choose mass function and mass definition\n",
    "massdef = ccl.halos.massdef.MassDef(200, 'critical', c_m_relation=None)\n",
    "hmd = ccl.halos.hmfunc.MassFuncTinker08(cosmo, mass_def=massdef)\n",
    "clc.set_cosmology(cosmo = cosmo, hmd = hmd, massdef = massdef)\n",
    "clc.sky_area = (0.25)*4*np.pi"
   ]
  },
  {
   "cell_type": "markdown",
   "id": "426dafcb-546b-403e-81a4-f0590f97484b",
   "metadata": {},
   "source": [
    "# Binned approach"
   ]
  },
  {
   "cell_type": "markdown",
   "id": "8c925022-a825-4966-ba35-6ed3438aa15f",
   "metadata": {},
   "source": [
    "Comptue the integral"
   ]
  },
  {
   "cell_type": "markdown",
   "id": "f74ac4b3-4ecc-4f7d-874a-d1b7b7e2a66f",
   "metadata": {},
   "source": [
    "$$\n",
    "N_{\\alpha\\beta}^{\\rm predicted} = \\Omega_s\\int_{z_\\alpha}^{z_{\\alpha + 1}} dz\\int_{\\lambda_{\\beta}}^{\\lambda_{\\beta + 1}}d\\lambda\\int_{\\log_{10}M_{min}}^{\\log_{10}M_{max}}\\frac{d^2V(z)}{dz d\\Omega}\\frac{dn(M,z)}{d\\log_{10}M}P(\\lambda|M,z)d\\log_{10}M\n",
    "$$"
   ]
  },
  {
   "cell_type": "markdown",
   "id": "8595ac87-22f0-44c5-9c0c-3e6c60c7dbcb",
   "metadata": {},
   "source": [
    "define binning"
   ]
  },
  {
   "cell_type": "code",
   "execution_count": null,
   "id": "0bcf56fb-4c3b-4522-a508-a0a27351bd3d",
   "metadata": {},
   "outputs": [],
   "source": [
    "z_corner = np.linspace(0.25, 1, 3)\n",
    "proxy_corner = np.linspace(0, 2, 2)\n",
    "Z_bin = binning(z_corner)\n",
    "Proxy_bin = binning(proxy_corner)"
   ]
  },
  {
   "cell_type": "markdown",
   "id": "1e0e5898-25e0-4f5d-a864-acd35357e4cb",
   "metadata": {},
   "source": [
    "pre tabulated grid (only depends on mass-proxy relation)"
   ]
  },
  {
   "cell_type": "code",
   "execution_count": null,
   "id": "c437d226-14dc-4adb-a7a9-47d11ce127c3",
   "metadata": {},
   "outputs": [],
   "source": [
    "clc.compute_cumulative_grid_ProxyZ(Proxy_bin = Proxy_bin, proxy_model = richness, \n",
    "                                   z_grid = z_grid, logm_grid = logm_grid)"
   ]
  },
  {
   "cell_type": "markdown",
   "id": "fe7931f3-3c97-416b-8230-27a389d0332e",
   "metadata": {},
   "source": [
    "Three different methods:\n",
    "1. 2D Simpson integration on M-z axis of a tabulated grid of $\\Omega\\frac{d^2V(z)}{dz d\\Omega}\\frac{dn(M,z)}{d\\log_{10}M}\\int_{\\lambda_{\\rm bin}}P(\\lambda|M,z)d\\lambda$ (method `simps`)\n",
    "2. Double integral using `scipy.integrate.dblquad` over a interpolated function based on a tabulated grid of $\\Omega\\frac{d^2V(z)}{dz d\\Omega}\\frac{dn(M,z)}{d\\log_{10}M}\\int_{\\lambda_{\\rm bin}}P(\\lambda|M,z)d\\lambda$ (method `dblquad_interp`)\n",
    "3. Double integral using `scipy.integrate.dblquad` of $\\Omega\\frac{d^2V(z)}{dz d\\Omega}\\frac{dn(M,z)}{d\\log_{10}M}\\int_{bin_i} d\\lambda P(\\lambda|M,z)d\\lambda$ (method `exact_CCL`"
   ]
  },
  {
   "cell_type": "markdown",
   "id": "44265d7f-44ef-4936-b280-fdee9745edbb",
   "metadata": {},
   "source": [
    "`simps`"
   ]
  },
  {
   "cell_type": "code",
   "execution_count": null,
   "id": "9c5631a4-e508-4d4f-af13-6d5ee6490b20",
   "metadata": {},
   "outputs": [],
   "source": [
    "time0 = time.time()\n",
    "clc.compute_multiplicity_grid_MZ(z_grid = z_grid, logm_grid = logm_grid)\n",
    "N_ProxyZ_simps = clc.Cluster_Abundance_ProxyZ(Redshift_bin = Z_bin, Proxy_bin = Proxy_bin, \n",
    "                                              logm_limit = [min(logm_grid), max(logm_grid)], \n",
    "                                 proxy_model = richness, method = 'simps')\n",
    "time1 = time.time()\n",
    "print('time (seconds) = ' + str(time1-time0))"
   ]
  },
  {
   "cell_type": "markdown",
   "id": "b8465d82-b581-4280-a53d-a4ac74fb3683",
   "metadata": {},
   "source": [
    "`dblquad_interp`"
   ]
  },
  {
   "cell_type": "code",
   "execution_count": null,
   "id": "1b26a6cb-2df2-4ad0-bfcd-4029c2603ef5",
   "metadata": {},
   "outputs": [],
   "source": [
    "time0 = time.time()\n",
    "N_ProxyZ_dblquad_interp = clc.Cluster_Abundance_ProxyZ(Redshift_bin = Z_bin, Proxy_bin = Proxy_bin, \n",
    "                                                       logm_limit = [min(logm_grid), max(logm_grid)], \n",
    "                                 proxy_model = richness, method = 'dblquad_interp')\n",
    "time1 = time.time()\n",
    "print('time (seconds) = ' + str(time1-time0))"
   ]
  },
  {
   "cell_type": "markdown",
   "id": "a7e584a1-dd21-49bc-a4aa-c936dd1c8bf7",
   "metadata": {},
   "source": [
    "`exact_CCL`"
   ]
  },
  {
   "cell_type": "code",
   "execution_count": null,
   "id": "beac6019-4ebd-425f-ac3c-0cbd3a34a4ae",
   "metadata": {},
   "outputs": [],
   "source": [
    "time0 = time.time()\n",
    "N_ProxyZ_exact_CCL = clc.Cluster_Abundance_ProxyZ(Redshift_bin = Z_bin, Proxy_bin = Proxy_bin, \n",
    "                                                  logm_limit = [min(logm_grid), max(logm_grid)], \n",
    "                                 proxy_model = richness, method = 'exact_CCL')\n",
    "time1 = time.time()\n",
    "print('time (seconds) = ' + str(time1-time0))"
   ]
  },
  {
   "cell_type": "code",
   "execution_count": null,
   "id": "da95f320-5da3-4bd8-909e-96f18ea209ec",
   "metadata": {},
   "outputs": [],
   "source": [
    "plt.figure(figsize = (7,5))\n",
    "plt.yscale('log')\n",
    "z_ = np.mean(Z_bin, axis = 1)\n",
    "mass = np.mean(Proxy_bin, axis = 1)\n",
    "plt.tick_params(axis='both', which=\"both\", labelsize= 15)\n",
    "for f in range(len(Proxy_bin)):\n",
    "    label = [None, None]\n",
    "    if f == 0:\n",
    "        label = ['simps', 'dblquad_interp']\n",
    "    y_simps = abs(100*(1-N_ProxyZ_simps[:,f]/N_ProxyZ_exact_CCL[:,f]))\n",
    "    y_dbquad_interp = abs(100*(1-N_ProxyZ_dblquad_interp[:,f]/N_ProxyZ_exact_CCL[:,f]))\n",
    "    plt.scatter(z_, y_simps, color = 'k', label = label[0])\n",
    "    plt.scatter(z_, y_dbquad_interp, color = 'r', label = label[1])\n",
    "plt.grid(True, which=\"both\" )\n",
    "plt.ylabel(r'|biais| to exact_CCL $(\\%)$', fontsize = 20)\n",
    "plt.xlabel(r'$redshift$', fontsize = 20)\n",
    "plt.legend(frameon = False, fontsize = 20)"
   ]
  },
  {
   "cell_type": "code",
   "execution_count": null,
   "id": "6e920e1f-c88d-4c09-a0ce-dedc0f164271",
   "metadata": {},
   "outputs": [],
   "source": []
  },
  {
   "cell_type": "code",
   "execution_count": null,
   "id": "bf8671a5-707f-4ec3-b986-44248746a5a5",
   "metadata": {},
   "outputs": [],
   "source": []
  }
 ],
 "metadata": {
  "kernelspec": {
   "display_name": "mydesc",
   "language": "python",
   "name": "mydesc"
  },
  "language_info": {
   "codemirror_mode": {
    "name": "ipython",
    "version": 3
   },
   "file_extension": ".py",
   "mimetype": "text/x-python",
   "name": "python",
   "nbconvert_exporter": "python",
   "pygments_lexer": "ipython3",
   "version": "3.7.6"
  }
 },
 "nbformat": 4,
 "nbformat_minor": 5
}
