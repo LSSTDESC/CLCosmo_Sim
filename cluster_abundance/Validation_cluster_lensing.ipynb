{
 "cells": [
  {
   "cell_type": "code",
   "execution_count": 62,
   "id": "4b0c5ef0-8cb3-4898-930c-1e985d0f8ca9",
   "metadata": {},
   "outputs": [],
   "source": [
    "import sys\n",
    "import numpy as np\n",
    "import iminuit\n",
    "from iminuit import minuit\n",
    "import os\n",
    "os.environ['CLMM_MODELING_BACKEND'] = 'nc'\n",
    "import clmm\n",
    "from clmm import Cosmology\n",
    "from astropy.table import Table, QTable, hstack, vstack\n",
    "import pyccl as ccl\n",
    "import matplotlib.pyplot as plt\n",
    "from astropy.cosmology import FlatLambdaCDM\n",
    "cosmo = Cosmology(H0 = 71.0, Omega_dm0 = 0.265 - 0.0448, Omega_b0 = 0.0448, Omega_k0 = 0.0)\n",
    "cosmo_clmm = Cosmology(H0 = 71.0, Omega_dm0 = 0.265 - 0.0448, Omega_b0 = 0.0448, Omega_k0 = 0.0)\n",
    "cosmo_ccl  = ccl.Cosmology(Omega_c=0.265-0.0448, Omega_b=0.0448, h=0.71, A_s=2.1e-9, n_s=0.96, Neff=0, Omega_g=0)\n",
    "cosmo_astropy = FlatLambdaCDM(H0=71.0, Om0=0.265, Ob0 = 0.0448)\n",
    "def binning(corner): return [[corner[i],corner[i+1]] for i in range(len(corner)-1)]"
   ]
  },
  {
   "cell_type": "code",
   "execution_count": 63,
   "id": "4c498cd0-1930-45ab-9912-223460ae1875",
   "metadata": {},
   "outputs": [],
   "source": [
    "#cosmology\n",
    "Omega_c_true = 0.30711 - 0.048254\n",
    "Omega_b_true = 0.048254\n",
    "sigma8_true = .8288\n",
    "Omegam_true = 0.30711\n",
    "True_value = [Omega_c_true + Omega_b_true, sigma8_true]\n",
    "cosmo = ccl.Cosmology(Omega_c = Omega_c_true, Omega_b = Omega_b_true, h = 0.6777, sigma8 = sigma8_true, n_s=0.96)\n",
    "#halo model\n",
    "massdef = ccl.halos.massdef.MassDef('vir', 'critical', c_m_relation=None)\n",
    "hmd = ccl.halos.hmfunc.MassFuncDespali16(cosmo, mass_def=massdef)"
   ]
  },
  {
   "cell_type": "code",
   "execution_count": 64,
   "id": "33e9c466-53a3-4dc5-8000-0c1d0714cbda",
   "metadata": {},
   "outputs": [],
   "source": [
    "#purity\n",
    "richness0, p0, p1, np_ = 40, 0, 0, .2\n",
    "theta_purity = [richness0, p0, p1, np_]\n",
    "#completeness\n",
    "logm0, c0, c1, nc = 13.3, 0, 0, 1\n",
    "theta_completeness = [logm0, c0, c1, nc]\n",
    "#rm_relation\n",
    "log10m0, z0 = 13.5, .4\n",
    "proxy_mu0, proxy_muz, proxy_mulog10m =  np.log(20), 0, 1\n",
    "proxy_sigma0, proxy_sigmaz, proxy_sigmalog10m =  .2, 0., 0\n",
    "theta_rm = [log10m0, z0, proxy_mu0, proxy_muz, proxy_mulog10m, proxy_sigma0, proxy_sigmaz, proxy_sigmalog10m]"
   ]
  },
  {
   "cell_type": "code",
   "execution_count": 65,
   "id": "3a8b470d-4ff5-4d7a-a7bc-20c4b9b46598",
   "metadata": {},
   "outputs": [],
   "source": [
    "richness_grid = np.logspace(np.log10(2), np.log10(500), 300)\n",
    "logm_grid = np.linspace(11, 16, 301)\n",
    "z_grid = np.linspace(.1, 1, 302)"
   ]
  },
  {
   "cell_type": "code",
   "execution_count": 66,
   "id": "f2c9935f-7e1c-4318-9c10-b58a39714de9",
   "metadata": {},
   "outputs": [],
   "source": [
    "z_edges = np.linspace(0.1, 1, 5)\n",
    "Z_bin = binning(z_edges)\n",
    "richness_edges = np.exp(np.linspace(np.log(20), np.log(200), 11))\n",
    "Richness_bin = binning(richness_edges)"
   ]
  },
  {
   "cell_type": "code",
   "execution_count": null,
   "id": "9b08d7f3-7d02-4cbb-ab04-520479cb6b14",
   "metadata": {},
   "outputs": [],
   "source": []
  },
  {
   "cell_type": "code",
   "execution_count": null,
   "id": "d8695574-8c19-4650-a9df-b35028125a76",
   "metadata": {},
   "outputs": [],
   "source": []
  }
 ],
 "metadata": {
  "kernelspec": {
   "display_name": "mydesc",
   "language": "python",
   "name": "mydesc"
  },
  "language_info": {
   "codemirror_mode": {
    "name": "ipython",
    "version": 3
   },
   "file_extension": ".py",
   "mimetype": "text/x-python",
   "name": "python",
   "nbconvert_exporter": "python",
   "pygments_lexer": "ipython3",
   "version": "3.7.6"
  }
 },
 "nbformat": 4,
 "nbformat_minor": 5
}
