{
 "cells": [
  {
   "cell_type": "code",
   "execution_count": null,
   "id": "df0f262b",
   "metadata": {},
   "outputs": [],
   "source": [
    "import glob, sys\n",
    "import numpy as np\n",
    "import matplotlib.pyplot as plt\n",
    "import time\n",
    "import pyccl as ccl\n",
    "cosmo = ccl.Cosmology(Omega_c = 0.30711 - 0.048254, Omega_b = 0.048254, h = 0.677, sigma8 = 0.8288, n_s=0.96)"
   ]
  },
  {
   "cell_type": "code",
   "execution_count": null,
   "id": "9108e25d-0437-4cbc-9b45-cc466687b6a9",
   "metadata": {},
   "outputs": [],
   "source": [
    "%load_ext autoreload\n",
    "%autoreload 2\n",
    "import CL_COUNT_class_cluster_abundance as cl_count"
   ]
  },
  {
   "cell_type": "markdown",
   "id": "d4db73bc-1373-4a09-af6b-205c8c667416",
   "metadata": {},
   "source": [
    "initialize the `ClusterAbundance` object"
   ]
  },
  {
   "cell_type": "code",
   "execution_count": null,
   "id": "0161d728-016f-4e1e-bb0e-4679cad8a1cb",
   "metadata": {},
   "outputs": [],
   "source": [
    "clc = cl_count.ClusterAbundance()\n",
    "#choose the halo mass function and mass definition\n",
    "massdef = ccl.halos.massdef.MassDef(200, 'critical', c_m_relation=None)\n",
    "hmd = ccl.halos.hmfunc.MassFuncTinker08(cosmo, mass_def=massdef)\n",
    "clc.set_cosmology(cosmo = cosmo, hmd = hmd, massdef = massdef)\n",
    "clc.sky_area = (0.25)*4*np.pi"
   ]
  },
  {
   "cell_type": "markdown",
   "id": "9f72e8c9-57d8-473a-a865-41978c33e051",
   "metadata": {},
   "source": [
    "# Binned approach\n",
    "Compute the 2D integral"
   ]
  },
  {
   "cell_type": "markdown",
   "id": "419c30ea-33da-4125-b24a-fcc4d996fb48",
   "metadata": {},
   "source": [
    "$$\n",
    "N_{\\alpha\\beta}^{\\rm predicted} = \\Omega_s\\int_{z_\\alpha}^{z_{\\alpha + 1}} dz\\int_{\\log_{10}M_\\beta}^{\\log_{10}M_{\\beta + 1}}\\frac{d^2V(z)}{dz d\\Omega}\\frac{dn(M,z)}{d\\log_{10}M}d\\log_{10}M\n",
    "$$"
   ]
  },
  {
   "cell_type": "markdown",
   "id": "10e4885c-3808-477b-b7ea-c4d927630eeb",
   "metadata": {},
   "source": [
    "define mass & redshift binning"
   ]
  },
  {
   "cell_type": "code",
   "execution_count": null,
   "id": "226eab23-2904-4655-ad98-f1062a3320d7",
   "metadata": {},
   "outputs": [],
   "source": [
    "z_edges = np.linspace(0.25, 1.25, 16)\n",
    "logm_edges = np.linspace(14, 14.8, 11)\n",
    "# def binning(corner): return [[corner[i],corner[i+1]] for i in range(len(corner)-1)]\n",
    "# Z_bin = binning(z_corner)\n",
    "# logMass_bin = binning(logm_corner)"
   ]
  },
  {
   "cell_type": "markdown",
   "id": "bdf0b73b-3b83-4db8-8fbe-cc22bbe7684f",
   "metadata": {},
   "source": [
    "Three different methods:\n",
    "1. Simpson integration of a tabulated grid of $\\Omega\\frac{d^2V(z)}{dz d\\Omega}\\frac{dn(M,z)}{d\\log_{10}M}$ (method `grid`)\n",
    "2. Double integral using `scipy.integrate.dblquad` over a interpolated function based on a tabulated grid of $\\Omega\\frac{d^2V(z)}{dz d\\Omega}\\frac{dn(M,z)}{d\\log_{10}M}$ (method `interp`)\n",
    "3. Double integral using `scipy.integrate.dblquad` of $\\Omega\\frac{d^2V(z)}{dz d\\Omega}\\frac{dn(M,z)}{d\\log_{10}M}$ (method `exact`)"
   ]
  },
  {
   "cell_type": "code",
   "execution_count": null,
   "id": "d9fe64e5-87b2-47e1-9520-80f9c0e204c9",
   "metadata": {},
   "outputs": [],
   "source": [
    "#define redshift-mass grid\n",
    "z_grid = np.linspace(0., 3, 500)\n",
    "logm_grid = np.linspace(12,16, 500)"
   ]
  },
  {
   "cell_type": "markdown",
   "id": "0763810d-9a1d-4d37-b650-72f0b7ad066a",
   "metadata": {},
   "source": [
    "`grid`"
   ]
  },
  {
   "cell_type": "code",
   "execution_count": null,
   "id": "00c346f8-ce9a-4152-a1a3-7528f1c0e5f9",
   "metadata": {},
   "outputs": [],
   "source": [
    "t0 = time.time()\n",
    "clc.compute_multiplicity_grid_MZ(z_grid = z_grid, logm_grid = logm_grid)\n",
    "Abundance_grid = clc.Cluster_Abundance_MZ(zbin_edges = z_edges, proxybin_edges = logm_edges, method = 'grid')\n",
    "t1 = time.time()\n",
    "print('time (seconds) = ' + str(t1-t0))\n",
    "time_simps = t1-t0"
   ]
  },
  {
   "cell_type": "markdown",
   "id": "d6473c22-adfa-408d-9bbb-2c57e6e09c63",
   "metadata": {},
   "source": [
    "`interp`"
   ]
  },
  {
   "cell_type": "code",
   "execution_count": null,
   "id": "a012554e-9387-4122-bb68-b7208eee6689",
   "metadata": {},
   "outputs": [],
   "source": [
    "t0 = time.time()\n",
    "clc.compute_multiplicity_grid_MZ(z_grid = z_grid, logm_grid = logm_grid)\n",
    "Abundance_interp = clc.Cluster_Abundance_MZ(zbin_edges = z_edges, proxybin_edges = logm_edges, method = 'interp')\n",
    "t1 = time.time()\n",
    "print('time (seconds) = ' + str(t1-t0))\n",
    "time_dblquad_interp = t1-t0"
   ]
  },
  {
   "cell_type": "markdown",
   "id": "29a10921-7406-45c9-86e8-27c5d6a71c4a",
   "metadata": {},
   "source": [
    "`exact`"
   ]
  },
  {
   "cell_type": "code",
   "execution_count": null,
   "id": "0aee2101-6739-4a9d-ad82-63b2ea1219e1",
   "metadata": {},
   "outputs": [],
   "source": [
    "t0 = time.time()\n",
    "Abundance_exact = clc.Cluster_Abundance_MZ(zbin_edges = z_edges, proxybin_edges = logm_edges, method = 'exact')\n",
    "t1 = time.time()\n",
    "print('time (seconds) = ' + str(t1-t0))\n",
    "time_exact_CCL = t1-t0"
   ]
  },
  {
   "cell_type": "markdown",
   "id": "61e7c9f1-d074-4741-8d93-d5f53364db23",
   "metadata": {},
   "source": [
    "We plot the biais of the 2 first methods relative to the `exact` method"
   ]
  },
  {
   "cell_type": "code",
   "execution_count": null,
   "id": "26363c09-f957-4ba4-b241-1eaa851a1ba5",
   "metadata": {},
   "outputs": [],
   "source": [
    "plt.figure(figsize = (7,5))\n",
    "plt.yscale('log')\n",
    "z_ = [np.mean([z_edges[i],z_edges[i+1]]) for i in np.arange(len(z_edges)-1)]\n",
    "mass = [np.mean([10**logm_edges[i],10**logm_edges[i+1]]) for i in np.arange(len(logm_edges)-1)]\n",
    "plt.tick_params(axis='both', which=\"both\", labelsize= 15)\n",
    "for f in range(len(logm_edges)-1):\n",
    "    label = [None, None]\n",
    "    if f == 0:\n",
    "        label = ['grid', 'interp']\n",
    "    y_grid = abs(100*(1-Abundance_grid[:,f]/Abundance_exact[:,f]))\n",
    "    y_interp = abs(100*(1-Abundance_interp[:,f]/Abundance_exact[:,f]))\n",
    "    plt.scatter(z_, y_grid, color = 'k', label = label[0])\n",
    "    plt.scatter(z_, y_interp, color = 'r', label = label[1])\n",
    "plt.grid(True, which=\"both\" )\n",
    "plt.ylabel(r'|biais| to \"exact\" $(\\%)$', fontsize = 20)\n",
    "plt.xlabel(r'$redshift$', fontsize = 20)\n",
    "plt.legend(frameon = False, fontsize = 20)\n",
    "plt.show()"
   ]
  },
  {
   "cell_type": "code",
   "execution_count": null,
   "id": "b0f1d21e-6bf9-4c91-af0d-7dae4ff95d68",
   "metadata": {},
   "outputs": [],
   "source": [
    "halobais_model = ccl.halos.hbias.HaloBiasTinker10(cosmo, mass_def=massdef, mass_def_strict=True)"
   ]
  },
  {
   "cell_type": "code",
   "execution_count": null,
   "id": "d65899fe-88ae-436c-83aa-e680f5dbe3c5",
   "metadata": {},
   "outputs": [],
   "source": [
    "clc.compute_halo_bias_grid_MZ(z_grid = z_grid, logm_grid = logm_grid, halobiais = halobais_model)"
   ]
  },
  {
   "cell_type": "code",
   "execution_count": null,
   "id": "55f8842c-d38a-436d-b4bb-bbc68c623cc3",
   "metadata": {},
   "outputs": [],
   "source": [
    "biais_grid = clc.halo_bias_MZ(zbin_edges = z_edges, proxybin_edges = logm_edges, N_th = Abundance_grid, method ='grid')"
   ]
  },
  {
   "cell_type": "code",
   "execution_count": null,
   "id": "9c89419f-e32d-4c69-9a59-a5f92138393e",
   "metadata": {},
   "outputs": [],
   "source": [
    "biais_exact = clc.halo_bias_MZ(zbin_edges = z_edges, proxybin_edges = logm_edges, N_th = Abundance_exact, method ='exact')"
   ]
  },
  {
   "cell_type": "code",
   "execution_count": null,
   "id": "20325edf-4a6c-4143-b68a-ca10ababfcae",
   "metadata": {},
   "outputs": [],
   "source": [
    "plt.figure(figsize = (7,5))\n",
    "plt.yscale('log')\n",
    "z_ = [np.mean([z_edges[i],z_edges[i+1]]) for i in np.arange(len(z_edges)-1)]\n",
    "mass = [np.mean([10**logm_edges[i],10**logm_edges[i+1]]) for i in np.arange(len(logm_edges)-1)]\n",
    "plt.tick_params(axis='both', which=\"both\", labelsize= 15)\n",
    "for f in range(len(logm_edges)-1):\n",
    "    label = [None, None]\n",
    "    if f == 0:\n",
    "        label = ['grid', 'interp']\n",
    "    y_simps = abs(100*(1-biais_grid[:,f]/biais_exact[:,f]))\n",
    "    plt.scatter(z_, y_simps, color = 'k', label = label[0])\n",
    "plt.grid(True, which=\"both\" )\n",
    "plt.ylabel(r'|biais| to exact $(\\%)$', fontsize = 20)\n",
    "plt.xlabel(r'$redshift$', fontsize = 20)\n",
    "plt.legend(frameon = False, fontsize = 20)\n",
    "plt.show()"
   ]
  },
  {
   "cell_type": "markdown",
   "id": "0a48097b-2f10-49c7-bc10-6cff107a29cf",
   "metadata": {},
   "source": [
    "# Un-binned approach"
   ]
  },
  {
   "cell_type": "markdown",
   "id": "ef08b880-7e9a-4d8e-b6b8-11eb02587e9b",
   "metadata": {},
   "source": [
    "Compute $$\\frac{d^2V(z_i)}{dz d\\Omega}\\frac{dn(M_i,z_i)}{d\\log_{10}M_i}$$ for each masses and redshifts in a dark matter halo catalog"
   ]
  },
  {
   "cell_type": "code",
   "execution_count": null,
   "id": "edf782b0-84a6-4b91-8f1a-c6bcd408abc8",
   "metadata": {},
   "outputs": [],
   "source": [
    "#Generate mass, redshift catalog\n",
    "n_cluster = 100000\n",
    "redshift, M200c = np.random.random(n_cluster)*(1 - 0.2) + 0.2, 10**(np.random.random(n_cluster)*(15 - 13) + 13)"
   ]
  },
  {
   "cell_type": "markdown",
   "id": "0cf5e9b9-290b-4e51-be27-a988c289efa8",
   "metadata": {},
   "source": [
    "Method :\n",
    "1. compute individual $\\frac{d^2V(z)}{dz d\\Omega}\\frac{dn(M,z)}{d\\log_{10}M}$ from an interpolated function over a tabulated grid\n",
    "2. use CCL prediction for each dark matter halo mass ad redshift"
   ]
  },
  {
   "cell_type": "code",
   "execution_count": null,
   "id": "4fb25fdc-13cd-445d-851f-d3e946560723",
   "metadata": {},
   "outputs": [],
   "source": [
    "t0 = time.time()\n",
    "clc.compute_multiplicity_grid_MZ(z_grid = z_grid, logm_grid = logm_grid)\n",
    "multiplicity_interp = clc.multiplicity_function_individual_MZ(z = redshift, logm = np.log10(M200c), method = 'interp')\n",
    "t1 = time.time()\n",
    "print('time (seconds) = ' + str(t1-t0))"
   ]
  },
  {
   "cell_type": "code",
   "execution_count": null,
   "id": "1f396c8a-dd31-42ff-9e7f-85d36a99b2c4",
   "metadata": {},
   "outputs": [],
   "source": [
    "t0 = time.time()\n",
    "multiplicity_exact = clc.multiplicity_function_individual_MZ(z = redshift, logm = np.log10(M200c), method = 'exact')\n",
    "t1 = time.time()\n",
    "print('time (seconds) = ' + str(t1-t0))"
   ]
  },
  {
   "cell_type": "code",
   "execution_count": null,
   "id": "31d2de51-9e3a-4792-9bde-69a3efe3c209",
   "metadata": {},
   "outputs": [],
   "source": [
    "plt.figure(figsize = (7,5))\n",
    "plt.yscale('log')\n",
    "plt.tick_params(axis='both', which = 'major', labelsize= 15)\n",
    "plt.scatter(redshift, abs(100*(1-multiplicity_interp/np.array(multiplicity_exact))), s = 0.4, c = np.log10(M200c))\n",
    "plt.colorbar()\n",
    "plt.grid(True, which='both')\n",
    "plt.xlabel(r'$redshift$', fontsize = 20)\n",
    "plt.ylabel(r'|biais| to CCL $(\\%)$', fontsize = 20)"
   ]
  },
  {
   "cell_type": "code",
   "execution_count": null,
   "id": "7b53034a-713d-43b8-854c-644274f7a3f4",
   "metadata": {},
   "outputs": [],
   "source": []
  },
  {
   "cell_type": "code",
   "execution_count": null,
   "id": "a20add84-27da-44cf-ade0-26fec03a4b76",
   "metadata": {},
   "outputs": [],
   "source": []
  }
 ],
 "metadata": {
  "kernelspec": {
   "display_name": "mydesc",
   "language": "python",
   "name": "mydesc"
  },
  "language_info": {
   "codemirror_mode": {
    "name": "ipython",
    "version": 3
   },
   "file_extension": ".py",
   "mimetype": "text/x-python",
   "name": "python",
   "nbconvert_exporter": "python",
   "pygments_lexer": "ipython3",
   "version": "3.8.8"
  }
 },
 "nbformat": 4,
 "nbformat_minor": 5
}
