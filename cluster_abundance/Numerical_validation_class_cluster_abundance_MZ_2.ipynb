{
 "cells": [
  {
   "cell_type": "code",
   "execution_count": null,
   "id": "df0f262b",
   "metadata": {},
   "outputs": [],
   "source": [
    "import glob, sys\n",
    "import numpy as np\n",
    "import matplotlib.pyplot as plt\n",
    "import time\n",
    "import pyccl as ccl\n",
    "cosmo = ccl.Cosmology(Omega_c = 0.30711 - 0.048254, Omega_b = 0.048254, h = 0.677, sigma8 = 0.8288, n_s=0.96)"
   ]
  },
  {
   "cell_type": "code",
   "execution_count": null,
   "id": "9108e25d-0437-4cbc-9b45-cc466687b6a9",
   "metadata": {},
   "outputs": [],
   "source": [
    "%load_ext autoreload\n",
    "%autoreload 2\n",
    "import CL_COUNT_class_cluster_abundance as cl_count"
   ]
  },
  {
   "cell_type": "markdown",
   "id": "d4db73bc-1373-4a09-af6b-205c8c667416",
   "metadata": {},
   "source": [
    "initialize the `ClusterAbundance` object"
   ]
  },
  {
   "cell_type": "code",
   "execution_count": null,
   "id": "0161d728-016f-4e1e-bb0e-4679cad8a1cb",
   "metadata": {},
   "outputs": [],
   "source": [
    "clc = cl_count.ClusterAbundance()\n",
    "#choose the halo mass function and mass definition\n",
    "massdef = ccl.halos.massdef.MassDef(200, 'critical', c_m_relation=None)\n",
    "hmd = ccl.halos.hmfunc.MassFuncTinker08(cosmo, mass_def=massdef)\n",
    "clc.set_cosmology(cosmo = cosmo, hmd = hmd, massdef = massdef)\n",
    "clc.sky_area = (0.25)*4*np.pi"
   ]
  },
  {
   "cell_type": "markdown",
   "id": "9f72e8c9-57d8-473a-a865-41978c33e051",
   "metadata": {},
   "source": [
    "# Binned approach\n",
    "Compute the 2D integral"
   ]
  },
  {
   "cell_type": "markdown",
   "id": "419c30ea-33da-4125-b24a-fcc4d996fb48",
   "metadata": {},
   "source": [
    "$$\n",
    "N_{\\alpha\\beta}^{\\rm predicted} = \\Omega_s\\int_{z_\\alpha}^{z_{\\alpha + 1}} dz\\int_{\\log_{10}M_\\beta}^{\\log_{10}M_{\\beta + 1}}\\frac{d^2V(z)}{dz d\\Omega}\\frac{dn(M,z)}{d\\log_{10}M}d\\log_{10}M\n",
    "$$"
   ]
  },
  {
   "cell_type": "markdown",
   "id": "10e4885c-3808-477b-b7ea-c4d927630eeb",
   "metadata": {},
   "source": [
    "define mass & redshift binning"
   ]
  },
  {
   "cell_type": "code",
   "execution_count": null,
   "id": "226eab23-2904-4655-ad98-f1062a3320d7",
   "metadata": {},
   "outputs": [],
   "source": [
    "z_edges = np.linspace(0.25, 1.5, 11)\n",
    "logm_edges = np.linspace(14, 15, 11)"
   ]
  },
  {
   "cell_type": "markdown",
   "id": "bdf0b73b-3b83-4db8-8fbe-cc22bbe7684f",
   "metadata": {},
   "source": [
    "Three different methods:\n",
    "1. Simpson integration of a tabulated grid of $\\Omega\\frac{d^2V(z)}{dz d\\Omega}\\frac{dn(M,z)}{d\\log_{10}M}$ (method `grid`)\n",
    "2. Double integral using `scipy.integrate.dblquad` over a interpolated function based on a tabulated grid of $\\Omega\\frac{d^2V(z)}{dz d\\Omega}\\frac{dn(M,z)}{d\\log_{10}M}$ (method `interp`)\n",
    "3. Double integral using `scipy.integrate.dblquad` of $\\Omega\\frac{d^2V(z)}{dz d\\Omega}\\frac{dn(M,z)}{d\\log_{10}M}$ (method `exact`)"
   ]
  },
  {
   "cell_type": "markdown",
   "id": "87da795d-6ec0-437e-a1f8-3ac66923c14e",
   "metadata": {},
   "source": [
    "# Mass-z"
   ]
  },
  {
   "cell_type": "code",
   "execution_count": null,
   "id": "d9fe64e5-87b2-47e1-9520-80f9c0e204c9",
   "metadata": {},
   "outputs": [],
   "source": [
    "#define redshift-mass grid\n",
    "z_grid = np.linspace(0., 3, 500)\n",
    "logm_grid = np.linspace(12,16, 500)"
   ]
  },
  {
   "cell_type": "markdown",
   "id": "0763810d-9a1d-4d37-b650-72f0b7ad066a",
   "metadata": {},
   "source": [
    "`grid`"
   ]
  },
  {
   "cell_type": "code",
   "execution_count": null,
   "id": "00c346f8-ce9a-4152-a1a3-7528f1c0e5f9",
   "metadata": {},
   "outputs": [],
   "source": [
    "t0 = time.time()\n",
    "clc.compute_multiplicity_grid_MZ(z_grid = z_grid, logm_grid = logm_grid)\n",
    "Abundance_grid = clc.Cluster_Abundance_MZ(zbin_edges = z_edges, proxybin_edges = logm_edges, method = 'grid')\n",
    "t1 = time.time()\n",
    "print('time (seconds) = ' + str(t1-t0))\n",
    "time_simps = t1-t0"
   ]
  },
  {
   "cell_type": "code",
   "execution_count": null,
   "id": "42006c3f-1abf-4e93-b44a-659f121913f6",
   "metadata": {},
   "outputs": [],
   "source": [
    "import matplotlib.pylab as pl\n",
    "plt.figure(figsize = (7,5))\n",
    "colors = plt.cm.get_cmap('Greens', len(z_edges)-1)\n",
    "\n",
    "for i in np.arange(len(z_edges)-1):\n",
    "    logmmean = [np.mean([logm_edges[i],logm_edges[i+1]]) for i in np.arange(len(logm_edges)-1)]  \n",
    "    plt.plot(logmmean, Abundance_grid[i,:], label = f'{z_edges[i]:.2f} < z {z_edges[i+1]:.2f}', c = colors(i), linewidth = 3)\n",
    "plt.yscale('log')\n",
    "plt.xlabel(r'$\\log_{10}[M/M_\\odot]$', fontsize = 20)\n",
    "plt.ylabel('N', fontsize = 20)\n",
    "plt.legend(frameon = True, framealpha = 1)\n",
    "plt.grid(True, which=\"both\" )\n",
    "plt.tick_params(axis='both', which=\"both\", labelsize= 15)"
   ]
  }
 ],
 "metadata": {
  "kernelspec": {
   "display_name": "mydesc",
   "language": "python",
   "name": "mydesc"
  },
  "language_info": {
   "codemirror_mode": {
    "name": "ipython",
    "version": 3
   },
   "file_extension": ".py",
   "mimetype": "text/x-python",
   "name": "python",
   "nbconvert_exporter": "python",
   "pygments_lexer": "ipython3",
   "version": "3.8.8"
  }
 },
 "nbformat": 4,
 "nbformat_minor": 5
}
