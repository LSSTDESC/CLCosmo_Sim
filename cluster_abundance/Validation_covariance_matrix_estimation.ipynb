{
 "cells": [
  {
   "cell_type": "markdown",
   "id": "603fc7fe",
   "metadata": {},
   "source": [
    "# Estimating covariance matrix on SkySim5000 dark matter halo catalog"
   ]
  },
  {
   "cell_type": "code",
   "execution_count": null,
   "id": "8feea8eb",
   "metadata": {},
   "outputs": [],
   "source": [
    "from IPython.display import Markdown\n",
    "import numpy as np\n",
    "import pyccl as ccl\n",
    "import matplotlib.pyplot as plt\n",
    "import scipy.integrate\n",
    "import astropy.units as u\n",
    "from astropy.table import Table\n",
    "import GCRCatalogs\n",
    "\n",
    "%matplotlib inline"
   ]
  },
  {
   "cell_type": "code",
   "execution_count": null,
   "id": "c4cdfbad",
   "metadata": {},
   "outputs": [],
   "source": [
    "skysim_cat = GCRCatalogs.load_catalog('skysim5000_v1.1.1_small')"
   ]
  },
  {
   "cell_type": "code",
   "execution_count": null,
   "id": "45e36b87",
   "metadata": {},
   "outputs": [],
   "source": [
    "cosmo_ss  = skysim_cat.cosmology\n",
    "cosmo_ss"
   ]
  },
  {
   "cell_type": "markdown",
   "id": "f926adc9",
   "metadata": {},
   "source": [
    "## Extract DM haloes from the catalog in a given mass and redshift range. "
   ]
  },
  {
   "cell_type": "code",
   "execution_count": null,
   "id": "655d0bc5",
   "metadata": {
    "tags": []
   },
   "outputs": [],
   "source": [
    "%%time\n",
    "mmin = 1.e12 # Msun (M_fof)\n",
    "zmin = 0.\n",
    "zmax = 1.0\n",
    "dm_halos = Table(skysim_cat.get_quantities(['halo_mass','hostHaloMass','redshift','ra', 'dec', 'halo_id',\n",
    "                                             'baseDC2/sod_halo_mass'],\n",
    "                                            filters=[f'halo_mass > {mmin}','is_central==True',\n",
    "                                            f'redshift>{zmin}', f'redshift<{zmax}']))\n",
    "dm_halos['m200c'] = dm_halos['baseDC2/sod_halo_mass']/cosmo_ss.h"
   ]
  },
  {
   "cell_type": "code",
   "execution_count": null,
   "id": "daa85925-ab35-4f55-bb05-f52c0439e6ab",
   "metadata": {},
   "outputs": [],
   "source": [
    "dm_halos = Table(dm_halos[dm_halos['m200c'] > 0])"
   ]
  },
  {
   "cell_type": "code",
   "execution_count": null,
   "id": "31e3cc02-42a8-4f68-8a65-724bab711ed2",
   "metadata": {},
   "outputs": [],
   "source": [
    "print(min(np.log10(dm_halos['m200c'])), max(np.log10(dm_halos['m200c'])))"
   ]
  },
  {
   "cell_type": "code",
   "execution_count": null,
   "id": "584a92bc-c2cb-4843-a065-061d261b6306",
   "metadata": {},
   "outputs": [],
   "source": [
    "z_corner = np.linspace(0.25, 1, 10)\n",
    "logm_corner = np.linspace(13, 14.5, 10)"
   ]
  },
  {
   "cell_type": "code",
   "execution_count": null,
   "id": "7aec5c09-68d1-4342-be90-dbb77cc4fcc5",
   "metadata": {},
   "outputs": [],
   "source": [
    "type(dm_halos)"
   ]
  },
  {
   "cell_type": "code",
   "execution_count": null,
   "id": "ee304e13-3a2f-415d-8f18-d6024ebea03c",
   "metadata": {},
   "outputs": [],
   "source": [
    "import healpy\n",
    "healpix = healpy.ang2pix(2**8, np.array(dm_halos['ra']), np.array(dm_halos['dec']), nest=True, lonlat=True)\n",
    "healpix"
   ]
  },
  {
   "cell_type": "markdown",
   "id": "325f20f5-0c60-4636-9bde-4bef022de971",
   "metadata": {},
   "source": [
    "# Estimate the covariance matrix for binned cluster count"
   ]
  },
  {
   "cell_type": "code",
   "execution_count": null,
   "id": "b9c247dc-d0fc-43a2-bac7-09030bec6d58",
   "metadata": {},
   "outputs": [],
   "source": [
    "import CL_COUNT_DATAOPS_cluster_abundance_covariance as covariance"
   ]
  },
  {
   "cell_type": "code",
   "execution_count": null,
   "id": "7ea6b57b-e169-41bb-963c-2c7e552f8a5d",
   "metadata": {},
   "outputs": [],
   "source": [
    "Covariance = covariance.Covariance_matrix()"
   ]
  },
  {
   "cell_type": "markdown",
   "id": "ca2b6446-b100-49c2-affd-f8c2439d9145",
   "metadata": {},
   "source": [
    "## Bootstrap"
   ]
  },
  {
   "cell_type": "code",
   "execution_count": null,
   "id": "44ead052-33a3-45c7-90ce-04c2cb57711c",
   "metadata": {},
   "outputs": [],
   "source": [
    "Covariance.compute_boostrap_covariance(catalog = dm_halos, proxy_colname = 'm200c', \n",
    "                                    redshift_colname = 'redshift', proxy_corner = 10**logm_corner, \n",
    "                                    z_corner = z_corner, n_boot = 100)"
   ]
  },
  {
   "cell_type": "code",
   "execution_count": null,
   "id": "218360ea-8e98-4baf-979d-6e901d983dde",
   "metadata": {},
   "outputs": [],
   "source": [
    "plt.imshow(np.corrcoef(Covariance.Bootstrap_covariance_matrix))"
   ]
  },
  {
   "cell_type": "markdown",
   "id": "96252677-7f30-4ac7-88f7-88325012341f",
   "metadata": {},
   "source": [
    "## Jackknife"
   ]
  },
  {
   "cell_type": "code",
   "execution_count": null,
   "id": "1c768c90-fb13-4fef-857f-9ceca87e44b4",
   "metadata": {},
   "outputs": [],
   "source": [
    "Covariance.compute_jackknife_covariance_healpy(catalog = dm_halos, proxy_colname = 'm200c', \n",
    "                                           redshift_colname = 'redshift',z_corner = z_corner, \n",
    "                                           proxy_corner = 10**logm_corner, ra_colname = 'ra', \n",
    "                                           dec_colname = 'dec', n_power = 8, N_delete = 1)"
   ]
  },
  {
   "cell_type": "code",
   "execution_count": null,
   "id": "24f5577d-d044-4f3a-9528-d36bd5ce5f5c",
   "metadata": {},
   "outputs": [],
   "source": [
    "plt.imshow(np.corrcoef(Covariance.Jackknife_covariance_matrix))"
   ]
  },
  {
   "cell_type": "code",
   "execution_count": null,
   "id": "6261dff7-132c-431e-aecd-a2dca68770e9",
   "metadata": {},
   "outputs": [],
   "source": []
  }
 ],
 "metadata": {
  "kernelspec": {
   "display_name": "mydesc",
   "language": "python",
   "name": "mydesc"
  },
  "language_info": {
   "codemirror_mode": {
    "name": "ipython",
    "version": 3
   },
   "file_extension": ".py",
   "mimetype": "text/x-python",
   "name": "python",
   "nbconvert_exporter": "python",
   "pygments_lexer": "ipython3",
   "version": "3.8.8"
  }
 },
 "nbformat": 4,
 "nbformat_minor": 5
}
