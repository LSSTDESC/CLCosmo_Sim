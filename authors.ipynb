{
 "cells": [
  {
   "cell_type": "code",
   "execution_count": 8,
   "id": "782efaba-26a2-4bb5-bc59-71da76d7c3c8",
   "metadata": {},
   "outputs": [
    {
     "name": "stdout",
     "output_type": "stream",
     "text": [
      "The autoreload extension is already loaded. To reload it, use:\n",
      "  %reload_ext autoreload\n"
     ]
    }
   ],
   "source": [
    "%load_ext autoreload\n",
    "%autoreload 2\n",
    "import numpy as np"
   ]
  },
  {
   "cell_type": "code",
   "execution_count": 16,
   "id": "9c53499b-9c34-4862-bc01-3a0f09d367d5",
   "metadata": {},
   "outputs": [],
   "source": [
    "authors = {}\n",
    "authors['cpayerne']  ={'name':\"Constantin Payerne,\",              'affiliation':['1','2']}\n",
    "authors['zzhang']    ={'name':\"Zhuowen Zhang,\",                                                  'affiliation':['3']}\n",
    "authors['maguena']  ={'name':\"Michel Aguena,\",                                          'affiliation':['4','4sa']}\n",
    "authors['ccombet']  ={'name':\"Céline Combet,\",                                                  'affiliation':['2']}\n",
    "authors['tguillemin']  ={'name':\"Thibault Guillemin,\",                            'affiliation':['5']}\n",
    "authors['mricci']  ={'name':\"Marina Ricci,\",                                        'affiliation':['4']}\n",
    "#\n",
    "authors['namouroux'] = {'name': \"Nathan Amouroux,\",                                            'affiliation':['5']}\n",
    "authors['cavestruz'] = {'name': \"Camille Avestruz,\",                                            'affiliation':['6','6a']}\n",
    "authors['ebarroso'] = {'name': \"Eduardo J. Barroso,\",                                            'affiliation':['5']}\n",
    "authors['afarahi'] = {'name': \"Arya Farahi,\",                                            'affiliation':['8','8a']}\n",
    "authors['ekovacs'] = {'name': \"Eve Kovacs,\",                                            'affiliation':['8b']}\n",
    "authors['cmurray'] = {'name': \"Calum Murray,\",                                            'affiliation':['4','9a']}\n",
    "authors['mrau'] = {'name': \"Markus M. Rau,\",                                            'affiliation':['9ab','9abc']}\n",
    "authors['erykoff'] = {'name': \"Eli S. Rykoff,\",                                            'affiliation':['4a','5a']}\n",
    "authors['sschmidt'] = {'name': \"Samuel J. Schmidt,\",                                            'affiliation':['6aa']}"
   ]
  },
  {
   "cell_type": "code",
   "execution_count": 27,
   "id": "d701ffd1-38d2-48dd-97fd-0628ad42d2a8",
   "metadata": {},
   "outputs": [],
   "source": [
    "affiliations = {}\n",
    "affiliations['1'] = {'name': \"Université Paris-Saclay, CEA, IRFU, 91191, Gif-sur-Yvette, France\"}\n",
    "affiliations['2'] = {'name': \"Université Grenoble Alpes, CNRS, IN2P3, LPSC, 38000 Grenoble, France\"}\n",
    "affiliations['3'] = {'name': \"Kavli Institute for Cosmological Physics, University of Chicago, Chicago, IL 60637, USA\"}\n",
    "affiliations['4'] = {'name': \"Université Paris Cité, CNRS, IN2P3, APC, 75013 Paris, France\"}\n",
    "affiliations['4sa'] = {'name': \"Italian National Institute of AstroPhysics, Osservatorio Astronomico di Trieste, Italy\"}\n",
    "affiliations['5'] = {'name': \"Université de Savoie, CNRS, IN2P3, LAPP, Annecy-le-Vieux, France\"}\n",
    "affiliations['6'] = {'name': \"Department of Physics, University of Michigan, Ann Arbor, MI 48109, USA\"}\n",
    "affiliations['6a'] = {'name': \"Leinweber Center of Theoretical Physics, University of Michigan, Ann Arbor, MI 48109, USA\"}\n",
    "affiliations['7'] = {'name': \"NSF’s National Optical-Infrared Astronomy Research Laboratory, 950 N. Cherry Ave., Tucson, AZ, 85719, USA\"}\n",
    "affiliations['8'] = {'name': \"Department of Statistics and Data Sciences, The University of Texas at Austin, TX 78712, USA\"}\n",
    "affiliations['8a'] ={'name': \"The NSF-Simons AI Institute for Cosmic Origins, University of Texas at Austin, Austin, TX 78712, USA\" }\n",
    "affiliations['8b'] ={'name': \"HEP Division, Argonne National Laboratory, 9700 S. Cass Ave., Lemont, IL 60439, USA\"}\n",
    "affiliations['9a'] = {'name': \"Université Paris-Saclay, Université Paris Cité, CEA, CNRS, AIM, 91191, Gif-sur-Yvette, France\"}\n",
    "affiliations['9ab'] = {'name': \"School of Mathematics, Statistics and Physics, Newcastle University, Newcastle upon Tyne, NE17RU, United Kingdom\"}\n",
    "affiliations['9abc'] = {'name': \"High Energy Physics Division, Argonne National Laboratory, Lemont, IL 60439, USA\"}\n",
    "affiliations['4a'] = {'name': \"Kavli Institute for Particle Astrophysics \\\\& Cosmology, P. O. Box 2450, Stanford University, Stanford, CA 94305, USA\"}\n",
    "affiliations['5a'] = {'name': \"SLAC National Accelerator Laboratory, Menlo Park, CA 94025, USA\"}\n",
    "affiliations['6aa'] = {'name': \"Department of Physics and Astronomy, University of California, One Shields Avenue, Davis, CA 95616, USA\"}"
   ]
  },
  {
   "cell_type": "code",
   "execution_count": 28,
   "id": "94e60fbe-5b06-4cce-ad94-c162ccfafede",
   "metadata": {},
   "outputs": [],
   "source": [
    "affiliations_keys_in_author_list = []\n",
    "for author in authors:\n",
    "    affiliations_keys_in_author_list.extend(authors[author]['affiliation'])\n",
    "affiliations_keys_in_author_list = np.unique(affiliations_keys_in_author_list)"
   ]
  },
  {
   "cell_type": "code",
   "execution_count": 29,
   "id": "26eeaa1b-a631-490d-a421-2668921b66d7",
   "metadata": {},
   "outputs": [],
   "source": [
    "import copy\n",
    "affiliations_updated = copy.deepcopy(affiliations)\n",
    "for i, affiliation in enumerate(affiliations):\n",
    "    if affiliation not in affiliations_keys_in_author_list:\n",
    "        del affiliations_updated[affiliation]\n",
    "for i, affiliation in enumerate(affiliations_updated):\n",
    "    affiliations_updated[affiliation]['index']=i+1"
   ]
  },
  {
   "cell_type": "code",
   "execution_count": 30,
   "id": "a8ff276a-d077-4779-b077-c22bcbc9a91c",
   "metadata": {},
   "outputs": [
    {
     "name": "stdout",
     "output_type": "stream",
     "text": [
      "\\author{\n",
      "Constantin Payerne,\\inst{1, 2} \\fnmsep\\thanks{Corresponding author: \\email{constantin.payerne@gmail.com}}\n",
      "Zhuowen Zhang,\\inst{3}\n",
      "Michel Aguena,\\inst{4, 5}\n",
      "Céline Combet,\\inst{2}\n",
      "Thibault Guillemin,\\inst{6}\n",
      "Marina Ricci,\\inst{4}\n",
      "Nathan Amouroux,\\inst{6}\n",
      "Camille Avestruz,\\inst{7, 8}\n",
      "Eduardo J. Barroso,\\inst{6}\n",
      "Arya Farahi,\\inst{9, 10}\n",
      "Eve Kovacs,\\inst{11}\n",
      "Calum Murray,\\inst{4, 12}\n",
      "Markus M. Rau,\\inst{13, 14}\n",
      "Eli S. Rykoff,\\inst{15, 16}\n",
      "Sam Schmidt,\\inst{17}\n",
      "and the LSST Dark Energy Science Collaboration}\n"
     ]
    }
   ],
   "source": [
    "print('\\\\author{')\n",
    "for h, author in enumerate(authors):\n",
    "    name = authors[author]['name']\n",
    "    aff = authors[author]['affiliation']\n",
    "    name_aff = []\n",
    "    for aff_ in aff:\n",
    "        aff_index = affiliations_updated[aff_]['index']\n",
    "        name_aff.append(aff_index)\n",
    "    front = \"\\\\inst{\"\n",
    "  \n",
    "    for i, n in enumerate(name_aff):\n",
    "        front = front + str(name_aff[i]) +\", \"\n",
    "    front = front + 'x'\n",
    "    front = front.split(\", x\")[0] \n",
    "    if h ==0:\n",
    "        print(authors[author]['name']+front+'}'+\" \\\\fnmsep\\\\thanks{Corresponding author: \\email{constantin.payerne@gmail.com}}\" )\n",
    "    else: print(authors[author]['name']+front+\"}\")\n",
    "print('and the LSST Dark Energy Science Collaboration}')"
   ]
  },
  {
   "cell_type": "code",
   "execution_count": 31,
   "id": "f8542dd0-10d4-4c85-a120-01dbe66ed345",
   "metadata": {},
   "outputs": [
    {
     "name": "stdout",
     "output_type": "stream",
     "text": [
      "\\institute{\n",
      "Université Paris-Saclay, CEA, IRFU, 91191, Gif-sur-Yvette, France\n",
      "\\and\n",
      "Université Grenoble Alpes, CNRS, IN2P3, LPSC, 38000 Grenoble, France\n",
      "\\and\n",
      "Kavli Institute for Cosmological Physics, University of Chicago, Chicago, IL 60637, USA\n",
      "\\and\n",
      "Université Paris Cité, CNRS, IN2P3, APC, 75013 Paris, France\n",
      "\\and\n",
      "Italian National Institute of AstroPhysics, Osservatorio Astronomico di Trieste, Italy\n",
      "\\and\n",
      "Université de Savoie, CNRS, IN2P3, LAPP, Annecy-le-Vieux, France\n",
      "\\and\n",
      "Department of Physics, University of Michigan, Ann Arbor, MI 48109, USA\n",
      "\\and\n",
      "Leinweber Center of Theoretical Physics, University of Michigan, Ann Arbor, MI 48109, USA\n",
      "\\and\n",
      "Department of Statistics and Data Sciences, The University of Texas at Austin, TX 78712, USA\n",
      "\\and\n",
      "The NSF-Simons AI Institute for Cosmic Origins, University of Texas at Austin, Austin, TX 78712, USA\n",
      "\\and\n",
      "HEP Division, Argonne National Laboratory, 9700 S. Cass Ave., Lemont, IL 60439, USA\n",
      "\\and\n",
      "Université Paris-Saclay, Université Paris Cité, CEA, CNRS, AIM, 91191, Gif-sur-Yvette, France\n",
      "\\and\n",
      "School of Mathematics, Statistics and Physics, Newcastle University, Newcastle upon Tyne, NE17RU, United Kingdom\n",
      "\\and\n",
      "High Energy Physics Division, Argonne National Laboratory, Lemont, IL 60439, USA\n",
      "\\and\n",
      "Kavli Institute for Particle Astrophysics \\& Cosmology, P. O. Box 2450, Stanford University, Stanford, CA 94305, USA\n",
      "\\and\n",
      "SLAC National Accelerator Laboratory, Menlo Park, CA 94025, USA\n",
      "\\and\n",
      "Department of Physics and Astronomy, University of California, One Shields Avenue, Davis, CA 95616, USA\n",
      "}\n"
     ]
    }
   ],
   "source": [
    "print('\\\\institute{')\n",
    "for i, affiliation in enumerate(affiliations_updated):\n",
    "    front = affiliations_updated[affiliation]['name']\n",
    "    print(front)\n",
    "    if i != len(affiliations_updated)-1: print('\\\\and')\n",
    "print('}')"
   ]
  },
  {
   "cell_type": "code",
   "execution_count": null,
   "id": "c6cfa8a0-36d9-4550-9ffe-7f484344d27f",
   "metadata": {},
   "outputs": [],
   "source": []
  },
  {
   "cell_type": "code",
   "execution_count": null,
   "id": "95ade6bd-5f05-42c1-92a4-378ff24c5795",
   "metadata": {},
   "outputs": [],
   "source": []
  }
 ],
 "metadata": {
  "kernelspec": {
   "display_name": "myenv",
   "language": "python",
   "name": "myenv"
  },
  "language_info": {
   "codemirror_mode": {
    "name": "ipython",
    "version": 3
   },
   "file_extension": ".py",
   "mimetype": "text/x-python",
   "name": "python",
   "nbconvert_exporter": "python",
   "pygments_lexer": "ipython3",
   "version": "3.10.10"
  }
 },
 "nbformat": 4,
 "nbformat_minor": 5
}
