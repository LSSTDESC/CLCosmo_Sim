{
 "cells": [
  {
   "cell_type": "code",
   "execution_count": 1,
   "id": "2dd8ac07-7619-4b58-a68d-a7142d20791e",
   "metadata": {},
   "outputs": [],
   "source": [
    "%load_ext autoreload\n",
    "%autoreload 2\n",
    "import numpy as np\n",
    "import matplotlib.pyplot as plt\n",
    "import GCRCatalogs\n",
    "import healpy\n",
    "import pickle,sys\n",
    "import mysql\n",
    "from mysql.connector import Error\n",
    "from clmm.dataops import compute_galaxy_weights\n",
    "from clmm import Cosmology\n",
    "from scipy.integrate import simps\n",
    "cosmo = Cosmology(H0 = 71.0, Omega_dm0 = 0.265 - 0.0448, Omega_b0 = 0.0448, Omega_k0 = 0.0)\n",
    "conn = mysql.connector.connect(host='ccqserv201', user='qsmaster', port=30040)\n",
    "cursor = conn.cursor(dictionary=True, buffered=True)"
   ]
  },
  {
   "cell_type": "code",
   "execution_count": 2,
   "id": "1f53a986-b9c9-4144-9406-af3fb74739ef",
   "metadata": {},
   "outputs": [
    {
     "name": "stdout",
     "output_type": "stream",
     "text": [
      "['DSt_true', 'DSx_true', 'W_l_true', 'radius_true', 'DSt_flex', 'DSx_flex', 'W_l_flex', 'radius_flex', 'DSt_bpz', 'DSx_bpz', 'W_l_bpz', 'radius_bpz']\n"
     ]
    }
   ],
   "source": [
    "import _utils_photometric_redshifts\n",
    "import _utils_lensing_profiles\n",
    "import _utils_extract_sources_in_cosmoDC2\n",
    "import _config_extract_sources_in_cosmoDC2 \n",
    "import _config_lensing_profiles\n",
    "from astropy.table import QTable, Table, vstack, join, hstack"
   ]
  },
  {
   "cell_type": "markdown",
   "id": "3f177a20-1e7e-4989-9c08-47b047ea9c03",
   "metadata": {},
   "source": [
    "## Cosmodc2 with qserv & GCRCatalogs"
   ]
  },
  {
   "cell_type": "code",
   "execution_count": 3,
   "id": "7fdfc1f9-eee7-4764-90c5-cb4e5516ba35",
   "metadata": {},
   "outputs": [],
   "source": [
    "def qserv_query(ra, dec, rmax = 10):\n",
    "    r\"\"\"\n",
    "    quantities wanted + cuts\n",
    "    Attributes:\n",
    "    -----------\n",
    "    z: float\n",
    "        lens redshift\n",
    "    ra: float\n",
    "        lens right ascension\n",
    "    dec: float\n",
    "        lens declinaison\n",
    "    rmax: float\n",
    "        maximum radius\n",
    "    \"\"\"\n",
    "    zmax = 3.\n",
    "    zmin = 0\n",
    "    theta_max = (rmax/lens_distance) * (180./np.pi)\n",
    "    query = \"SELECT data.coord_ra as ra, data.coord_dec as dec, data.redshift as z, \"\n",
    "    query += \"data.galaxy_id as galaxy_id, \"\n",
    "    query += \"data.mag_i, data.mag_r, data.mag_y, \"\n",
    "    query += \"data.shear_1 as shear1, data.shear_2 as shear2, data.convergence as kappa, \"\n",
    "    query += \"data.ellipticity_1_true as e1_true, data.ellipticity_2_true as e2_true \" \n",
    "    query += \"FROM cosmoDC2_v1_1_4_image.data as data \"\n",
    "    query += f\"WHERE data.redshift >= {zmin} AND data.redshift < {zmax} \"\n",
    "    query += f\"AND scisql_s2PtInCircle(coord_ra, coord_dec, {ra}, {dec}, {theta_max}) = 1 \"\n",
    "    query += f\"AND data.mag_i <= 25 \"\n",
    "    query += \";\" \n",
    "    return query"
   ]
  },
  {
   "cell_type": "code",
   "execution_count": 4,
   "id": "d70627d6-41c7-48b3-8f0d-3fa589fe41e5",
   "metadata": {},
   "outputs": [],
   "source": [
    "#cluster\n",
    "z, ra, dec = .6, 65, -40"
   ]
  },
  {
   "cell_type": "markdown",
   "id": "b90d509e-0807-4e05-b3d8-90945d5a5207",
   "metadata": {},
   "source": [
    "### true shapes, true redshifts"
   ]
  },
  {
   "cell_type": "code",
   "execution_count": 5,
   "id": "e646d984-9914-40a7-8ebc-11444bb64026",
   "metadata": {},
   "outputs": [
    {
     "name": "stderr",
     "output_type": "stream",
     "text": [
      "/pbs/throng/lsst/users/cpayerne/CLCosmo_Sim/extract_data/_utils_extract_sources_in_cosmoDC2.py:81: UserWarning: pandas only supports SQLAlchemy connectable (engine/connection) or database string URI or sqlite3 DBAPI2 connection. Other DBAPI2 objects are not tested. Please consider using SQLAlchemy.\n",
      "  tab = pd.read_sql_query(query_mysql, conn_qserv)\n"
     ]
    }
   ],
   "source": [
    "lens_distance=cosmo.eval_da(z)\n",
    "bckgd_galaxy_catalog=_utils_extract_sources_in_cosmoDC2.extract(qserv_query = qserv_query( ra, dec, rmax = 6),\n",
    "                                        conn_qserv=conn, cosmo=cosmo)"
   ]
  },
  {
   "cell_type": "code",
   "execution_count": 6,
   "id": "17b2799d-fa2b-4d57-bef5-1a45d5fb75d0",
   "metadata": {},
   "outputs": [
    {
     "data": {
      "text/plain": [
       "29197"
      ]
     },
     "execution_count": 6,
     "metadata": {},
     "output_type": "execute_result"
    }
   ],
   "source": [
    "len(bckgd_galaxy_catalog)"
   ]
  },
  {
   "cell_type": "code",
   "execution_count": 7,
   "id": "5f1c3d5e-20af-49d0-ae6d-b9337be8ea72",
   "metadata": {},
   "outputs": [],
   "source": [
    "gc_bpz  = \"cosmoDC2_v1.1.4_image_with_photozs_v1\"\n",
    "gc_flex = \"cosmoDC2_v1.1.4_image_with_photozs_flexzboost_v1\"\n",
    "#list of healpix in cosmoDC2\n",
    "healpix_dc2 = GCRCatalogs.load_catalog(\"cosmoDC2_v1.1.4_image\").get_catalog_info()['healpix_pixels']\n",
    "z_bins  = GCRCatalogs.load_catalog(gc_flex).photoz_pdf_bin_centers\n",
    "z_bins[0] = 1e-7\n",
    "photoz_gc=[gc_bpz, gc_flex]\n",
    "photoz_label=['_bpz', '_flex']\n",
    "#hp = GCRCatalogs.load_catalog(\"cosmoDC2_v1.1.4_image\").get_catalog_info()['healpix_pixels']\n",
    "#healpix_list = gc_flex.get_catalog_info()['catalogs'][1]['healpix_pixels']"
   ]
  },
  {
   "cell_type": "code",
   "execution_count": 8,
   "id": "5bdf562c-fe12-44f1-91fe-d53a52947747",
   "metadata": {},
   "outputs": [],
   "source": [
    "def query_photoz():\n",
    "    \n",
    "    return ['photoz_pdf', 'photoz_mean','photoz_mode','photoz_odds','galaxy_id']"
   ]
  },
  {
   "cell_type": "code",
   "execution_count": 9,
   "id": "2641d2bb-75d5-4ee7-a13a-30a1ae068a08",
   "metadata": {},
   "outputs": [
    {
     "name": "stdout",
     "output_type": "stream",
     "text": [
      "extracting photoz redshift infos (GCRCatalogs)\n",
      "[10071]\n",
      "----> extraction in cosmoDC2_v1.1.4_image_with_photozs_v1\n",
      "-----> heapix pixel = 10071\n",
      "chunk = 0\n",
      "full healpix = 813526\n",
      "truncated healpix = 19008\n"
     ]
    },
    {
     "name": "stderr",
     "output_type": "stream",
     "text": [
      "/pbs/home/c/cpayerne/.conda/envs/myenv/lib/python3.10/site-packages/clmm-1.10.0-py3.10.egg/clmm/cosmology/parent_class.py:454: UserWarning: \n",
      "Some source redshifts are lower than the cluster redshift.\n",
      "Sigma_crit = np.inf for those galaxies.\n",
      "/pbs/throng/lsst/users/cpayerne/CLCosmo_Sim/extract_data/_utils_photometric_redshifts.py:65: RuntimeWarning: divide by zero encountered in reciprocal\n",
      "  return simps(sigmacrit_1_integrand, pzbins[0,:], axis=1)**(-1.)\n",
      "/pbs/home/c/cpayerne/.conda/envs/myenv/lib/python3.10/site-packages/clmm-1.10.0-py3.10.egg/clmm/cosmology/parent_class.py:454: UserWarning: \n",
      "Some source redshifts are lower than the cluster redshift.\n",
      "Sigma_crit = np.inf for those galaxies.\n",
      "/pbs/home/c/cpayerne/.conda/envs/myenv/lib/python3.10/site-packages/clmm-1.10.0-py3.10.egg/clmm/cosmology/parent_class.py:454: UserWarning: \n",
      "Some source redshifts are lower than the cluster redshift.\n",
      "Sigma_crit = np.inf for those galaxies.\n",
      "/pbs/home/c/cpayerne/.conda/envs/myenv/lib/python3.10/site-packages/clmm-1.10.0-py3.10.egg/clmm/cosmology/parent_class.py:454: UserWarning: \n",
      "Some source redshifts are lower than the cluster redshift.\n",
      "Sigma_crit = np.inf for those galaxies.\n"
     ]
    },
    {
     "name": "stdout",
     "output_type": "stream",
     "text": [
      "chunk = 1\n",
      "full healpix = 623544\n",
      "truncated healpix = 9347\n"
     ]
    },
    {
     "name": "stderr",
     "output_type": "stream",
     "text": [
      "/pbs/home/c/cpayerne/.conda/envs/myenv/lib/python3.10/site-packages/clmm-1.10.0-py3.10.egg/clmm/cosmology/parent_class.py:454: UserWarning: \n",
      "Some source redshifts are lower than the cluster redshift.\n",
      "Sigma_crit = np.inf for those galaxies.\n",
      "/pbs/throng/lsst/users/cpayerne/CLCosmo_Sim/extract_data/_utils_photometric_redshifts.py:65: RuntimeWarning: divide by zero encountered in reciprocal\n",
      "  return simps(sigmacrit_1_integrand, pzbins[0,:], axis=1)**(-1.)\n",
      "/pbs/home/c/cpayerne/.conda/envs/myenv/lib/python3.10/site-packages/clmm-1.10.0-py3.10.egg/clmm/cosmology/parent_class.py:454: UserWarning: \n",
      "Some source redshifts are lower than the cluster redshift.\n",
      "Sigma_crit = np.inf for those galaxies.\n",
      "/pbs/home/c/cpayerne/.conda/envs/myenv/lib/python3.10/site-packages/clmm-1.10.0-py3.10.egg/clmm/cosmology/parent_class.py:454: UserWarning: \n",
      "Some source redshifts are lower than the cluster redshift.\n",
      "Sigma_crit = np.inf for those galaxies.\n",
      "/pbs/home/c/cpayerne/.conda/envs/myenv/lib/python3.10/site-packages/clmm-1.10.0-py3.10.egg/clmm/cosmology/parent_class.py:454: UserWarning: \n",
      "Some source redshifts are lower than the cluster redshift.\n",
      "Sigma_crit = np.inf for those galaxies.\n"
     ]
    },
    {
     "name": "stdout",
     "output_type": "stream",
     "text": [
      "chunk = 2\n",
      "full healpix = 143269\n",
      "truncated healpix = 842\n",
      "----> extraction in cosmoDC2_v1.1.4_image_with_photozs_flexzboost_v1\n"
     ]
    },
    {
     "name": "stderr",
     "output_type": "stream",
     "text": [
      "/pbs/home/c/cpayerne/.conda/envs/myenv/lib/python3.10/site-packages/clmm-1.10.0-py3.10.egg/clmm/cosmology/parent_class.py:454: UserWarning: \n",
      "Some source redshifts are lower than the cluster redshift.\n",
      "Sigma_crit = np.inf for those galaxies.\n",
      "/pbs/throng/lsst/users/cpayerne/CLCosmo_Sim/extract_data/_utils_photometric_redshifts.py:65: RuntimeWarning: divide by zero encountered in reciprocal\n",
      "  return simps(sigmacrit_1_integrand, pzbins[0,:], axis=1)**(-1.)\n",
      "/pbs/home/c/cpayerne/.conda/envs/myenv/lib/python3.10/site-packages/clmm-1.10.0-py3.10.egg/clmm/cosmology/parent_class.py:454: UserWarning: \n",
      "Some source redshifts are lower than the cluster redshift.\n",
      "Sigma_crit = np.inf for those galaxies.\n",
      "/pbs/home/c/cpayerne/.conda/envs/myenv/lib/python3.10/site-packages/clmm-1.10.0-py3.10.egg/clmm/cosmology/parent_class.py:454: UserWarning: \n",
      "Some source redshifts are lower than the cluster redshift.\n",
      "Sigma_crit = np.inf for those galaxies.\n",
      "/pbs/home/c/cpayerne/.conda/envs/myenv/lib/python3.10/site-packages/clmm-1.10.0-py3.10.egg/clmm/cosmology/parent_class.py:454: UserWarning: \n",
      "Some source redshifts are lower than the cluster redshift.\n",
      "Sigma_crit = np.inf for those galaxies.\n"
     ]
    },
    {
     "name": "stdout",
     "output_type": "stream",
     "text": [
      "-----> heapix pixel = 10071\n",
      "chunk = 0\n",
      "full healpix = 813526\n",
      "truncated healpix = 19008\n"
     ]
    },
    {
     "name": "stderr",
     "output_type": "stream",
     "text": [
      "/pbs/home/c/cpayerne/.conda/envs/myenv/lib/python3.10/site-packages/clmm-1.10.0-py3.10.egg/clmm/cosmology/parent_class.py:454: UserWarning: \n",
      "Some source redshifts are lower than the cluster redshift.\n",
      "Sigma_crit = np.inf for those galaxies.\n",
      "/pbs/throng/lsst/users/cpayerne/CLCosmo_Sim/extract_data/_utils_photometric_redshifts.py:65: RuntimeWarning: divide by zero encountered in reciprocal\n",
      "  return simps(sigmacrit_1_integrand, pzbins[0,:], axis=1)**(-1.)\n",
      "/pbs/home/c/cpayerne/.conda/envs/myenv/lib/python3.10/site-packages/clmm-1.10.0-py3.10.egg/clmm/cosmology/parent_class.py:454: UserWarning: \n",
      "Some source redshifts are lower than the cluster redshift.\n",
      "Sigma_crit = np.inf for those galaxies.\n",
      "/pbs/home/c/cpayerne/.conda/envs/myenv/lib/python3.10/site-packages/clmm-1.10.0-py3.10.egg/clmm/cosmology/parent_class.py:454: UserWarning: \n",
      "Some source redshifts are lower than the cluster redshift.\n",
      "Sigma_crit = np.inf for those galaxies.\n",
      "/pbs/home/c/cpayerne/.conda/envs/myenv/lib/python3.10/site-packages/clmm-1.10.0-py3.10.egg/clmm/cosmology/parent_class.py:454: UserWarning: \n",
      "Some source redshifts are lower than the cluster redshift.\n",
      "Sigma_crit = np.inf for those galaxies.\n"
     ]
    },
    {
     "name": "stdout",
     "output_type": "stream",
     "text": [
      "chunk = 1\n",
      "full healpix = 623544\n",
      "truncated healpix = 9347\n"
     ]
    },
    {
     "name": "stderr",
     "output_type": "stream",
     "text": [
      "/pbs/home/c/cpayerne/.conda/envs/myenv/lib/python3.10/site-packages/clmm-1.10.0-py3.10.egg/clmm/cosmology/parent_class.py:454: UserWarning: \n",
      "Some source redshifts are lower than the cluster redshift.\n",
      "Sigma_crit = np.inf for those galaxies.\n",
      "/pbs/throng/lsst/users/cpayerne/CLCosmo_Sim/extract_data/_utils_photometric_redshifts.py:65: RuntimeWarning: divide by zero encountered in reciprocal\n",
      "  return simps(sigmacrit_1_integrand, pzbins[0,:], axis=1)**(-1.)\n",
      "/pbs/home/c/cpayerne/.conda/envs/myenv/lib/python3.10/site-packages/clmm-1.10.0-py3.10.egg/clmm/cosmology/parent_class.py:454: UserWarning: \n",
      "Some source redshifts are lower than the cluster redshift.\n",
      "Sigma_crit = np.inf for those galaxies.\n",
      "/pbs/home/c/cpayerne/.conda/envs/myenv/lib/python3.10/site-packages/clmm-1.10.0-py3.10.egg/clmm/cosmology/parent_class.py:454: UserWarning: \n",
      "Some source redshifts are lower than the cluster redshift.\n",
      "Sigma_crit = np.inf for those galaxies.\n",
      "/pbs/home/c/cpayerne/.conda/envs/myenv/lib/python3.10/site-packages/clmm-1.10.0-py3.10.egg/clmm/cosmology/parent_class.py:454: UserWarning: \n",
      "Some source redshifts are lower than the cluster redshift.\n",
      "Sigma_crit = np.inf for those galaxies.\n"
     ]
    },
    {
     "name": "stdout",
     "output_type": "stream",
     "text": [
      "chunk = 2\n",
      "full healpix = 143269\n",
      "truncated healpix = 842\n"
     ]
    },
    {
     "name": "stderr",
     "output_type": "stream",
     "text": [
      "/pbs/home/c/cpayerne/.conda/envs/myenv/lib/python3.10/site-packages/clmm-1.10.0-py3.10.egg/clmm/cosmology/parent_class.py:454: UserWarning: \n",
      "Some source redshifts are lower than the cluster redshift.\n",
      "Sigma_crit = np.inf for those galaxies.\n",
      "/pbs/throng/lsst/users/cpayerne/CLCosmo_Sim/extract_data/_utils_photometric_redshifts.py:65: RuntimeWarning: divide by zero encountered in reciprocal\n",
      "  return simps(sigmacrit_1_integrand, pzbins[0,:], axis=1)**(-1.)\n",
      "/pbs/home/c/cpayerne/.conda/envs/myenv/lib/python3.10/site-packages/clmm-1.10.0-py3.10.egg/clmm/cosmology/parent_class.py:454: UserWarning: \n",
      "Some source redshifts are lower than the cluster redshift.\n",
      "Sigma_crit = np.inf for those galaxies.\n",
      "/pbs/home/c/cpayerne/.conda/envs/myenv/lib/python3.10/site-packages/clmm-1.10.0-py3.10.egg/clmm/cosmology/parent_class.py:454: UserWarning: \n",
      "Some source redshifts are lower than the cluster redshift.\n",
      "Sigma_crit = np.inf for those galaxies.\n",
      "/pbs/home/c/cpayerne/.conda/envs/myenv/lib/python3.10/site-packages/clmm-1.10.0-py3.10.egg/clmm/cosmology/parent_class.py:454: UserWarning: \n",
      "Some source redshifts are lower than the cluster redshift.\n",
      "Sigma_crit = np.inf for those galaxies.\n"
     ]
    }
   ],
   "source": [
    "#extract photometric redshifts with GCRCatalogs\n",
    "print('extracting photoz redshift infos (GCRCatalogs)')\n",
    "id_gal=bckgd_galaxy_catalog['galaxy_id']\n",
    "ras=bckgd_galaxy_catalog['ra']\n",
    "decs=bckgd_galaxy_catalog['dec']\n",
    "#find all different healpix pixels\n",
    "healpix = np.array(np.unique(healpy.ang2pix(32, ras, decs, nest=False, lonlat=True)))\n",
    "print(healpix)\n",
    "table_photoz = Table()\n",
    "table_photoz['galaxy_id'] = id_gal\n",
    "for k, gc_ in enumerate(photoz_gc):\n",
    "    print(f'----> extraction in {gc_}')\n",
    "    pz_table = Table(names = ['sigmac_photoz', 'p_background', 'photoz_dispersion', \n",
    "                          'sigmac_estimate_0', 'sigmac_estimate_1', 'sigmac_estimate_2', \n",
    "                          'z_estimate_0', 'z_estimate_1', 'z_estimate_2', \n",
    "                          'galaxy_id', 'photoz_mean', 'photoz_mode', 'photoz_odds'])\n",
    "    photoz_gc_ = GCRCatalogs.load_catalog(gc_)\n",
    "    for i, hp in enumerate(healpix):\n",
    "        #browse healpix pixels\n",
    "        print(f'-----> heapix pixel = ' + str(hp))\n",
    "        chunk = photoz_gc_.get_quantities(query_photoz(), native_filters=[f'healpix_pixel=={hp}'], return_iterator=True)\n",
    "        for j in range(3):\n",
    "            #browse chunk data\n",
    "            print('chunk = ' + str(j))\n",
    "            dat_extract_photoz_chunk = Table(next(chunk))\n",
    "            print(f'full healpix = ' + str(len(dat_extract_photoz_chunk['galaxy_id'])))\n",
    "            #use only selected galaxies\n",
    "            dat_extract_photoz_chunk_truncated = dat_extract_photoz_chunk[np.isin(dat_extract_photoz_chunk['galaxy_id'],\n",
    "                                                                                  table_photoz['galaxy_id'])]\n",
    "           # if len(dat_extract_photoz_chunk_truncated['galaxy_id']) == 0: continue\n",
    "\n",
    "            print('truncated healpix = ' + str(len(dat_extract_photoz_chunk_truncated['galaxy_id'])))\n",
    "            pzbins_table=np.array([z_bins for i in range(len(dat_extract_photoz_chunk_truncated['photoz_pdf'].data))])\n",
    "\n",
    "            #compute WL weights with \n",
    "            pz_quantities_chunk = _utils_photometric_redshifts.compute_photoz_quantities(z, dat_extract_photoz_chunk_truncated['photoz_pdf'], \n",
    "                                                                   pzbins_table, n_samples_per_pdf=3, cosmo=cosmo,\n",
    "                                                                   use_clmm=False)\n",
    "            pz_quantities_chunk['galaxy_id'] = dat_extract_photoz_chunk_truncated['galaxy_id']\n",
    "            pz_quantities_chunk['photoz_mean'] = dat_extract_photoz_chunk_truncated['photoz_mean']\n",
    "            pz_quantities_chunk['photoz_mode'] = dat_extract_photoz_chunk_truncated['photoz_mode']\n",
    "            pz_quantities_chunk['photoz_odds'] = dat_extract_photoz_chunk_truncated['photoz_odds']\n",
    "            pz_table = vstack([pz_table, pz_quantities_chunk])\n",
    "    colnames = pz_table.colnames\n",
    "    for name in colnames:\n",
    "        if name!='galaxy_id':\n",
    "            pz_table.rename_column(name, name + photoz_label[k])\n",
    "    bckgd_galaxy_catalog = join(Table(bckgd_galaxy_catalog), pz_table, keys='galaxy_id')"
   ]
  },
  {
   "cell_type": "code",
   "execution_count": 14,
   "id": "f436956f-4a81-4652-8dac-ffc9e1453689",
   "metadata": {},
   "outputs": [
    {
     "data": {
      "text/plain": [
       "['ra',\n",
       " 'dec',\n",
       " 'z',\n",
       " 'galaxy_id',\n",
       " 'mag_i',\n",
       " 'mag_r',\n",
       " 'mag_y',\n",
       " 'shear1',\n",
       " 'shear2',\n",
       " 'kappa',\n",
       " 'e1_true',\n",
       " 'e2_true',\n",
       " 'g1',\n",
       " 'g2',\n",
       " 'e1',\n",
       " 'e2',\n",
       " 'sigmac_photoz_bpz',\n",
       " 'p_background_bpz',\n",
       " 'photoz_dispersion_bpz',\n",
       " 'sigmac_estimate_0_bpz',\n",
       " 'sigmac_estimate_1_bpz',\n",
       " 'sigmac_estimate_2_bpz',\n",
       " 'z_estimate_0_bpz',\n",
       " 'z_estimate_1_bpz',\n",
       " 'z_estimate_2_bpz',\n",
       " 'photoz_mean_bpz',\n",
       " 'photoz_mode_bpz',\n",
       " 'photoz_odds_bpz',\n",
       " 'sigmac_photoz_flex',\n",
       " 'p_background_flex',\n",
       " 'photoz_dispersion_flex',\n",
       " 'sigmac_estimate_0_flex',\n",
       " 'sigmac_estimate_1_flex',\n",
       " 'sigmac_estimate_2_flex',\n",
       " 'z_estimate_0_flex',\n",
       " 'z_estimate_1_flex',\n",
       " 'z_estimate_2_flex',\n",
       " 'photoz_mean_flex',\n",
       " 'photoz_mode_flex',\n",
       " 'photoz_odds_flex']"
      ]
     },
     "execution_count": 14,
     "metadata": {},
     "output_type": "execute_result"
    }
   ],
   "source": [
    "bckgd_galaxy_catalog.colnames"
   ]
  },
  {
   "cell_type": "code",
   "execution_count": 20,
   "id": "278e8ec7-1c5e-4ef3-bb8d-ea95f6168ed5",
   "metadata": {},
   "outputs": [
    {
     "data": {
      "image/png": "[encoded data removed]",
      "text/plain": [
       "<Figure size 700x400 with 1 Axes>"
      ]
     },
     "metadata": {},
     "output_type": "display_data"
    },
    {
     "data": {
      "image/png": "[encoded data removed]",
      "text/plain": [
       "<Figure size 700x400 with 1 Axes>"
      ]
     },
     "metadata": {},
     "output_type": "display_data"
    }
   ],
   "source": [
    "photoz = 'bpz'\n",
    "plt.figure(figsize=(7,4))\n",
    "bins_ = np.linspace(0, 3, 40)\n",
    "plt.hist(bckgd_galaxy_catalog['z'], bins=bins_,  color='gray', alpha=.6,  lw=3, ls='--', label = 'input distribution')\n",
    "mask_1 = bckgd_galaxy_catalog[f'p_background_{photoz}'] > 0.5\n",
    "plt.hist(bckgd_galaxy_catalog['z'][mask_1], bins=bins_, histtype = 'step', lw=3, label = 'p_background > 0.5')\n",
    "mask_2 = bckgd_galaxy_catalog[f'p_background_{photoz}'] > 0.8\n",
    "plt.hist(bckgd_galaxy_catalog['z'][mask_2], bins=bins_, histtype = 'step', lw=3, label = 'p_background > 0.7')\n",
    "mask_3 = bckgd_galaxy_catalog[f'p_background_{photoz}'] > 0.9\n",
    "plt.hist(bckgd_galaxy_catalog['z'][mask_3], bins=bins_, histtype = 'step', lw=3, label = 'p_background > 0.9')\n",
    "plt.vlines(z, 0, 10000, color='r', label = 'cluster redshift')\n",
    "plt.ylim(0,3300)\n",
    "plt.legend()\n",
    "plt.grid(True)\n",
    "plt.xlabel('true cosmoDC2 redshift')\n",
    "plt.show()\n",
    "plt.figure(figsize=(7,4))\n",
    "plt.hist(bckgd_galaxy_catalog['z'], bins=bins_,  color='gray', alpha=.6,  lw=3, ls='--', label = 'input distribution')\n",
    "mask_1 = bckgd_galaxy_catalog[f'photoz_mean_{photoz}'] > z\n",
    "plt.hist(bckgd_galaxy_catalog['z'][mask_1], bins=bins_, histtype = 'step', lw=3, label = r'$\\langle z \\rangle > z_{cl}$')\n",
    "mask_2 = bckgd_galaxy_catalog[f'photoz_mean_{photoz}'] > z + .05\n",
    "plt.hist(bckgd_galaxy_catalog['z'][mask_2], bins=bins_, histtype = 'step', lw=3, label = r'$\\langle z \\rangle > z_{cl} + 0.05$')\n",
    "mask_3 = bckgd_galaxy_catalog[f'photoz_mean_{photoz}'] > z + 0.1\n",
    "plt.hist(bckgd_galaxy_catalog['z'][mask_3], bins=bins_, histtype = 'step', lw=3, label = r'$\\langle z \\rangle > z_{cl} + 0.1$')\n",
    "plt.vlines(z, 0, 10000, color='r', label = 'cluster redshift')\n",
    "plt.ylim(0,3300)\n",
    "plt.legend()\n",
    "plt.grid(True)\n",
    "plt.xlabel('true cosmoDC2 redshift')\n",
    "plt.show()"
   ]
  },
  {
   "cell_type": "code",
   "execution_count": null,
   "id": "d1ec8a4b-7275-497e-9b5f-27e376f046af",
   "metadata": {},
   "outputs": [],
   "source": []
  },
  {
   "cell_type": "code",
   "execution_count": null,
   "id": "0a5164e5-a3e2-4554-ac1a-e2733a44abea",
   "metadata": {},
   "outputs": [],
   "source": []
  },
  {
   "cell_type": "code",
   "execution_count": null,
   "id": "da415064-e472-4265-afb5-6125588d3c8f",
   "metadata": {},
   "outputs": [],
   "source": []
  }
 ],
 "metadata": {
  "kernelspec": {
   "display_name": "myenv",
   "language": "python",
   "name": "myenv"
  },
  "language_info": {
   "codemirror_mode": {
    "name": "ipython",
    "version": 3
   },
   "file_extension": ".py",
   "mimetype": "text/x-python",
   "name": "python",
   "nbconvert_exporter": "python",
   "pygments_lexer": "ipython3",
   "version": "3.10.10"
  }
 },
 "nbformat": 4,
 "nbformat_minor": 5
}
