{
 "cells": [
  {
   "cell_type": "code",
   "execution_count": 1,
   "id": "2dd8ac07-7619-4b58-a68d-a7142d20791e",
   "metadata": {},
   "outputs": [
    {
     "ename": "ModuleNotFoundError",
     "evalue": "No module named 'cosmodc2'",
     "output_type": "error",
     "traceback": [
      "\u001b[0;31m---------------------------------------------------------------------------\u001b[0m",
      "\u001b[0;31mModuleNotFoundError\u001b[0m                       Traceback (most recent call last)",
      "\u001b[0;32m<ipython-input-1-42cf46c5e325>\u001b[0m in \u001b[0;36m<module>\u001b[0;34m\u001b[0m\n\u001b[1;32m      2\u001b[0m \u001b[0mget_ipython\u001b[0m\u001b[0;34m(\u001b[0m\u001b[0;34m)\u001b[0m\u001b[0;34m.\u001b[0m\u001b[0mrun_line_magic\u001b[0m\u001b[0;34m(\u001b[0m\u001b[0;34m'autoreload'\u001b[0m\u001b[0;34m,\u001b[0m \u001b[0;34m'2'\u001b[0m\u001b[0;34m)\u001b[0m\u001b[0;34m\u001b[0m\u001b[0;34m\u001b[0m\u001b[0m\n\u001b[1;32m      3\u001b[0m \u001b[0;32mimport\u001b[0m \u001b[0mnumpy\u001b[0m \u001b[0;32mas\u001b[0m \u001b[0mnp\u001b[0m\u001b[0;34m\u001b[0m\u001b[0;34m\u001b[0m\u001b[0m\n\u001b[0;32m----> 4\u001b[0;31m \u001b[0;32mimport\u001b[0m \u001b[0mcosmodc2\u001b[0m\u001b[0;34m\u001b[0m\u001b[0;34m\u001b[0m\u001b[0m\n\u001b[0m\u001b[1;32m      5\u001b[0m \u001b[0;32mimport\u001b[0m \u001b[0mlens_data\u001b[0m \u001b[0;32mas\u001b[0m \u001b[0mlens\u001b[0m\u001b[0;34m\u001b[0m\u001b[0;34m\u001b[0m\u001b[0m\n\u001b[1;32m      6\u001b[0m \u001b[0;32mimport\u001b[0m \u001b[0mmatplotlib\u001b[0m\u001b[0;34m.\u001b[0m\u001b[0mpyplot\u001b[0m \u001b[0;32mas\u001b[0m \u001b[0mplt\u001b[0m\u001b[0;34m\u001b[0m\u001b[0;34m\u001b[0m\u001b[0m\n",
      "\u001b[0;31mModuleNotFoundError\u001b[0m: No module named 'cosmodc2'"
     ]
    }
   ],
   "source": [
    "%load_ext autoreload\n",
    "%autoreload 2\n",
    "import numpy as np\n",
    "import cosmodc2\n",
    "import lens_data as lens\n",
    "import matplotlib.pyplot as plt\n",
    "import GCRCatalogs\n",
    "import healpy\n",
    "import pickle,sys\n",
    "import mysql\n",
    "sys.path.append('/pbs/throng/lsst/users/cpayerne/LikelihoodsClusterAbundance/modules/')\n",
    "import edit\n",
    "import utils\n",
    "from mysql.connector import Error\n",
    "from clmm.dataops import compute_galaxy_weights\n",
    "from clmm import Cosmology\n",
    "from scipy.integrate import simps\n",
    "cosmo = Cosmology(H0 = 71.0, Omega_dm0 = 0.265 - 0.0448, Omega_b0 = 0.0448, Omega_k0 = 0.0)\n",
    "\n",
    "conn = mysql.connector.connect(host='ccqserv201', user='qsmaster', port=30040)\n",
    "cursor = conn.cursor(dictionary=True, buffered=True)"
   ]
  },
  {
   "cell_type": "markdown",
   "id": "c3f2dd4c-a188-4e04-8225-81686152a906",
   "metadata": {},
   "source": [
    "# Lens catalog"
   ]
  },
  {
   "cell_type": "code",
   "execution_count": null,
   "id": "5839bf69-c1c1-47ad-92f3-ce13cd98e162",
   "metadata": {},
   "outputs": [],
   "source": [
    "lens_catalog = lens.lens_catalog\n",
    "index = 10"
   ]
  },
  {
   "cell_type": "markdown",
   "id": "3f177a20-1e7e-4989-9c08-47b047ea9c03",
   "metadata": {},
   "source": [
    "## Cosmodc2 with qserv & GCRCatalogs"
   ]
  },
  {
   "cell_type": "code",
   "execution_count": 22,
   "id": "7fdfc1f9-eee7-4764-90c5-cb4e5516ba35",
   "metadata": {},
   "outputs": [],
   "source": [
    "def qserv_query(lens_z, lens_distance, ra, dec, rmax = 10):\n",
    "    r\"\"\"\n",
    "    quantities wanted + cuts\n",
    "    Attributes:\n",
    "    -----------\n",
    "    z: float\n",
    "        lens redshift\n",
    "    ra: float\n",
    "        lens right ascension\n",
    "    dec: float\n",
    "        lens declinaison\n",
    "    rmax: float\n",
    "        maximum radius\n",
    "    \"\"\"\n",
    "    zmax = 3.\n",
    "    zmin = lens_z + .1\n",
    "    theta_max = (rmax/lens_distance) * (180./np.pi)\n",
    "    query = \"SELECT data.coord_ra as ra, data.coord_dec as dec, data.redshift as z, \"\n",
    "    query += \"data.galaxy_id as galaxy_id, \"\n",
    "    query += \"data.mag_i, data.mag_r, data.mag_y, \"\n",
    "    query += \"data.shear_1 as shear1, data.shear_2 as shear2, data.convergence as kappa, \"\n",
    "    query += \"data.ellipticity_1_true as e1_true, data.ellipticity_2_true as e2_true \" \n",
    "    query += \"FROM cosmoDC2_v1_1_4_image.data as data \"\n",
    "    query += f\"WHERE data.redshift >= {zmin} AND data.redshift < {zmax} \"\n",
    "    query += f\"AND scisql_s2PtInCircle(coord_ra, coord_dec, {ra}, {dec}, {theta_max}) = 1 \"\n",
    "    query += f\"AND data.mag_i <= 25 \"\n",
    "    query += \";\" \n",
    "    return query"
   ]
  },
  {
   "cell_type": "code",
   "execution_count": 23,
   "id": "d70627d6-41c7-48b3-8f0d-3fa589fe41e5",
   "metadata": {},
   "outputs": [],
   "source": [
    "#z, ra, dec = lens_catalog['redshift'][index], lens_catalog['ra'][index], lens_catalog['dec'][index]\n",
    "lens_catalog_name='/pbs/throng/lsst/users/cpayerne/CLMassDC2/data/lens_catalog_cosmoDC2_v1.1.4_redmapper_v0.8.1.pkl'\n",
    "lens_catalog=edit.load_pickle(lens_catalog_name)\n",
    "index=0\n",
    "z, ra, dec = lens_catalog['redshift'][index], lens_catalog['ra'][index], lens_catalog['dec'][index]"
   ]
  },
  {
   "cell_type": "code",
   "execution_count": 28,
   "id": "88d6d91a-b501-4146-b2b8-cfcbc7976238",
   "metadata": {},
   "outputs": [
    {
     "data": {
      "text/plain": [
       "(0.5135129, 52.520436430812914, -25.717996124671657)"
      ]
     },
     "execution_count": 28,
     "metadata": {},
     "output_type": "execute_result"
    }
   ],
   "source": [
    "z, ra, dec"
   ]
  },
  {
   "cell_type": "markdown",
   "id": "b90d509e-0807-4e05-b3d8-90945d5a5207",
   "metadata": {},
   "source": [
    "### true shapes, true redshifts"
   ]
  },
  {
   "cell_type": "code",
   "execution_count": 24,
   "id": "e646d984-9914-40a7-8ebc-11444bb64026",
   "metadata": {},
   "outputs": [],
   "source": [
    "lens_distance=cosmo.eval_da(z)\n",
    "bckgd_galaxy_catalog=cosmodc2.extract(qserv_query = qserv_query(z, lens_distance, ra, dec, rmax = 5),\n",
    "                                        conn_qserv=conn, cosmo=cosmo)"
   ]
  },
  {
   "cell_type": "code",
   "execution_count": 33,
   "id": "c989befa-4092-4335-8064-4f99e52dea32",
   "metadata": {},
   "outputs": [
    {
     "data": {
      "text/plain": [
       "<matplotlib.collections.PathCollection at 0x7facd8c63bd0>"
      ]
     },
     "execution_count": 33,
     "metadata": {},
     "output_type": "execute_result"
    },
    {
     "data": {
      "image/png": "[encoded data removed]",
      "text/plain": [
       "<Figure size 432x288 with 1 Axes>"
      ]
     },
     "metadata": {
      "needs_background": "light"
     },
     "output_type": "display_data"
    }
   ],
   "source": [
    "plt.scatter(bckgd_galaxy_catalog.galcat['ra'], bckgd_galaxy_catalog.galcat['dec'])"
   ]
  },
  {
   "cell_type": "code",
   "execution_count": 25,
   "id": "7be261ee-4ca5-4eab-a0a1-317fbb989560",
   "metadata": {},
   "outputs": [
    {
     "data": {
      "image/png": "[encoded data removed]",
      "text/plain": [
       "<Figure size 432x288 with 1 Axes>"
      ]
     },
     "metadata": {
      "needs_background": "light"
     },
     "output_type": "display_data"
    }
   ],
   "source": [
    "bins=50\n",
    "plt.hist(bckgd_galaxy_catalog.galcat['mag_i'], bins=bins, histtype='step', label='mag_i')\n",
    "plt.hist(bckgd_galaxy_catalog.galcat['mag_r'], bins=bins, histtype='step', label='mag_r')\n",
    "plt.hist(bckgd_galaxy_catalog.galcat['mag_y'], bins=bins, histtype='step', label='mag_y')\n",
    "plt.legend(loc='upper left')\n",
    "plt.yscale('log')\n",
    "plt.show()"
   ]
  },
  {
   "cell_type": "markdown",
   "id": "461993fd-4d65-478d-b28c-817546724a3d",
   "metadata": {},
   "source": [
    "### photometric redshifts"
   ]
  },
  {
   "cell_type": "code",
   "execution_count": 60,
   "id": "5f1c3d5e-20af-49d0-ae6d-b9337be8ea72",
   "metadata": {},
   "outputs": [
    {
     "ename": "AttributeError",
     "evalue": "'CosmoDC2GalaxyCatalog' object has no attribute 'photoz_pdf_bin_centers'",
     "output_type": "error",
     "traceback": [
      "\u001b[0;31m---------------------------------------------------------------------------\u001b[0m",
      "\u001b[0;31mAttributeError\u001b[0m                            Traceback (most recent call last)",
      "\u001b[0;32m<ipython-input-60-1b116df8a9a1>\u001b[0m in \u001b[0;36m<module>\u001b[0;34m\u001b[0m\n\u001b[1;32m      1\u001b[0m \u001b[0mgc_flex\u001b[0m \u001b[0;34m=\u001b[0m \u001b[0mGCRCatalogs\u001b[0m\u001b[0;34m.\u001b[0m\u001b[0mload_catalog\u001b[0m\u001b[0;34m(\u001b[0m\u001b[0;34m\"cosmoDC2_v1.1.4_image\"\u001b[0m\u001b[0;34m)\u001b[0m\u001b[0;34m\u001b[0m\u001b[0;34m\u001b[0m\u001b[0m\n\u001b[1;32m      2\u001b[0m \u001b[0mgc_bpz\u001b[0m  \u001b[0;34m=\u001b[0m \u001b[0mGCRCatalogs\u001b[0m\u001b[0;34m.\u001b[0m\u001b[0mload_catalog\u001b[0m\u001b[0;34m(\u001b[0m\u001b[0;34m\"cosmoDC2_v1.1.4_small_with_photozs_v1\"\u001b[0m\u001b[0;34m)\u001b[0m\u001b[0;34m\u001b[0m\u001b[0;34m\u001b[0m\u001b[0m\n\u001b[0;32m----> 3\u001b[0;31m \u001b[0mz_bins\u001b[0m  \u001b[0;34m=\u001b[0m \u001b[0mgc_flex\u001b[0m\u001b[0;34m.\u001b[0m\u001b[0mphotoz_pdf_bin_centers\u001b[0m\u001b[0;34m\u001b[0m\u001b[0;34m\u001b[0m\u001b[0m\n\u001b[0m\u001b[1;32m      4\u001b[0m \u001b[0mz_bins\u001b[0m\u001b[0;34m[\u001b[0m\u001b[0;36m0\u001b[0m\u001b[0;34m]\u001b[0m \u001b[0;34m=\u001b[0m \u001b[0;36m1e-7\u001b[0m\u001b[0;34m\u001b[0m\u001b[0;34m\u001b[0m\u001b[0m\n\u001b[1;32m      5\u001b[0m \u001b[0mphotoz_label\u001b[0m\u001b[0;34m=\u001b[0m\u001b[0;34m[\u001b[0m\u001b[0;34m'bpz'\u001b[0m\u001b[0;34m,\u001b[0m \u001b[0;34m'flex'\u001b[0m\u001b[0;34m]\u001b[0m\u001b[0;34m\u001b[0m\u001b[0;34m\u001b[0m\u001b[0m\n",
      "\u001b[0;31mAttributeError\u001b[0m: 'CosmoDC2GalaxyCatalog' object has no attribute 'photoz_pdf_bin_centers'"
     ]
    }
   ],
   "source": [
    "gc_flex = GCRCatalogs.load_catalog(\"cosmoDC2_v1.1.4_image\")\n",
    "gc_bpz  = GCRCatalogs.load_catalog(\"cosmoDC2_v1.1.4_small_with_photozs_v1\")\n",
    "z_bins  = gc_flex.photoz_pdf_bin_centers\n",
    "z_bins[0] = 1e-7\n",
    "photoz_label=['bpz', 'flex']\n",
    "photoz_gc=[gc_bpz, gc_flex]"
   ]
  },
  {
   "cell_type": "code",
   "execution_count": 64,
   "id": "a6f47cbd-2c42-452a-96cc-d06d35a86c0e",
   "metadata": {},
   "outputs": [],
   "source": [
    "hp = GCRCatalogs.load_catalog(\"cosmoDC2_v1.1.4_image\").get_catalog_info()['healpix_pixels']"
   ]
  },
  {
   "cell_type": "code",
   "execution_count": 50,
   "id": "de4c7623-295b-45c3-a29b-d8c67fa4cbef",
   "metadata": {},
   "outputs": [
    {
     "data": {
      "text/plain": [
       "[9559,\n",
       " 9686,\n",
       " 9687,\n",
       " 9814,\n",
       " 9815,\n",
       " 9816,\n",
       " 9942,\n",
       " 9943,\n",
       " 10070,\n",
       " 10071,\n",
       " 10072,\n",
       " 10198,\n",
       " 10199,\n",
       " 10200,\n",
       " 10326,\n",
       " 10327,\n",
       " 10450]"
      ]
     },
     "execution_count": 50,
     "metadata": {},
     "output_type": "execute_result"
    }
   ],
   "source": [
    "healpix_list = gc_flex.get_catalog_info()['catalogs'][1]['healpix_pixels']"
   ]
  },
  {
   "cell_type": "code",
   "execution_count": 30,
   "id": "2641d2bb-75d5-4ee7-a13a-30a1ae068a08",
   "metadata": {},
   "outputs": [
    {
     "name": "stdout",
     "output_type": "stream",
     "text": [
      "14455\n",
      "extracting photoz redshift infos (GCRCatalogs)\n",
      "[8787]\n",
      "0\n"
     ]
    },
    {
     "ename": "ValueError",
     "evalue": "input tables for join must both have at least one row",
     "output_type": "error",
     "traceback": [
      "\u001b[0;31m---------------------------------------------------------------------------\u001b[0m",
      "\u001b[0;31mValueError\u001b[0m                                Traceback (most recent call last)",
      "\u001b[0;32m<ipython-input-30-7bc617d1af21>\u001b[0m in \u001b[0;36m<module>\u001b[0;34m\u001b[0m\n\u001b[1;32m     17\u001b[0m \u001b[0;34m\u001b[0m\u001b[0m\n\u001b[1;32m     18\u001b[0m     \u001b[0;31m#load photoz_data\u001b[0m\u001b[0;34m\u001b[0m\u001b[0;34m\u001b[0m\u001b[0;34m\u001b[0m\u001b[0m\n\u001b[0;32m---> 19\u001b[0;31m     \u001b[0mdat_photoz\u001b[0m\u001b[0;34m=\u001b[0m\u001b[0mcosmodc2\u001b[0m\u001b[0;34m.\u001b[0m\u001b[0mextract_photoz\u001b[0m\u001b[0;34m(\u001b[0m\u001b[0mid_gal\u001b[0m\u001b[0;34m,\u001b[0m \u001b[0mhealpix\u001b[0m\u001b[0;34m=\u001b[0m\u001b[0mhealpix\u001b[0m\u001b[0;34m,\u001b[0m \u001b[0mGCRcatalog\u001b[0m\u001b[0;34m=\u001b[0m\u001b[0mphotoz_gc_\u001b[0m\u001b[0;34m)\u001b[0m\u001b[0;34m\u001b[0m\u001b[0;34m\u001b[0m\u001b[0m\n\u001b[0m\u001b[1;32m     20\u001b[0m     \u001b[0mname_dat_photoz_to_save\u001b[0m\u001b[0;34m=\u001b[0m\u001b[0;34m[\u001b[0m\u001b[0;34m'photoz_zbins'\u001b[0m\u001b[0;34m,\u001b[0m \u001b[0;34m'photoz_pdf'\u001b[0m\u001b[0;34m,\u001b[0m \u001b[0;34m'photoz_mean'\u001b[0m\u001b[0;34m,\u001b[0m \u001b[0;34m'photoz_odds'\u001b[0m\u001b[0;34m,\u001b[0m \u001b[0;34m'photoz_mode'\u001b[0m\u001b[0;34m]\u001b[0m\u001b[0;34m\u001b[0m\u001b[0;34m\u001b[0m\u001b[0m\n\u001b[1;32m     21\u001b[0m \u001b[0;34m\u001b[0m\u001b[0m\n",
      "\u001b[0;32m/pbs/throng/lsst/users/cpayerne/CLMassDC2/data/data_extraction/cosmodc2.py\u001b[0m in \u001b[0;36mextract_photoz\u001b[0;34m(id_gal, healpix, GCRcatalog)\u001b[0m\n\u001b[1;32m     63\u001b[0m     \u001b[0mtable_photoz\u001b[0m\u001b[0;34m[\u001b[0m\u001b[0;34m'pzbins'\u001b[0m\u001b[0;34m]\u001b[0m \u001b[0;34m=\u001b[0m \u001b[0mnp\u001b[0m\u001b[0;34m.\u001b[0m\u001b[0marray\u001b[0m\u001b[0;34m(\u001b[0m\u001b[0;34m[\u001b[0m\u001b[0mz_bins\u001b[0m \u001b[0;32mfor\u001b[0m \u001b[0mi\u001b[0m \u001b[0;32min\u001b[0m \u001b[0mrange\u001b[0m\u001b[0;34m(\u001b[0m\u001b[0mn_gal\u001b[0m\u001b[0;34m)\u001b[0m\u001b[0;34m]\u001b[0m\u001b[0;34m)\u001b[0m\u001b[0;34m\u001b[0m\u001b[0;34m\u001b[0m\u001b[0m\n\u001b[1;32m     64\u001b[0m     \u001b[0mprint\u001b[0m\u001b[0;34m(\u001b[0m\u001b[0mlen\u001b[0m\u001b[0;34m(\u001b[0m\u001b[0mtable_photoz\u001b[0m\u001b[0;34m)\u001b[0m\u001b[0;34m)\u001b[0m\u001b[0;34m\u001b[0m\u001b[0;34m\u001b[0m\u001b[0m\n\u001b[0;32m---> 65\u001b[0;31m     \u001b[0mtable_photoz_ordered\u001b[0m \u001b[0;34m=\u001b[0m \u001b[0mjoin\u001b[0m\u001b[0;34m(\u001b[0m\u001b[0mtable_photoz\u001b[0m\u001b[0;34m,\u001b[0m \u001b[0mTable_id_gal\u001b[0m\u001b[0;34m,\u001b[0m \u001b[0mkeys\u001b[0m\u001b[0;34m=\u001b[0m\u001b[0;34m'galaxy_id'\u001b[0m\u001b[0;34m)\u001b[0m\u001b[0;34m\u001b[0m\u001b[0;34m\u001b[0m\u001b[0m\n\u001b[0m\u001b[1;32m     66\u001b[0m     \u001b[0;32mreturn\u001b[0m \u001b[0mtable_photoz_ordered\u001b[0m\u001b[0;34m\u001b[0m\u001b[0;34m\u001b[0m\u001b[0m\n\u001b[1;32m     67\u001b[0m \u001b[0;34m\u001b[0m\u001b[0m\n",
      "\u001b[0;32m~/.conda/envs/mydesc/lib/python3.7/site-packages/astropy/table/operations.py\u001b[0m in \u001b[0;36mjoin\u001b[0;34m(left, right, keys, join_type, uniq_col_name, table_names, metadata_conflicts, join_funcs)\u001b[0m\n\u001b[1;32m    385\u001b[0m     out = _join(left, right, keys, join_type,\n\u001b[1;32m    386\u001b[0m                 \u001b[0muniq_col_name\u001b[0m\u001b[0;34m,\u001b[0m \u001b[0mtable_names\u001b[0m\u001b[0;34m,\u001b[0m \u001b[0mcol_name_map\u001b[0m\u001b[0;34m,\u001b[0m \u001b[0mmetadata_conflicts\u001b[0m\u001b[0;34m,\u001b[0m\u001b[0;34m\u001b[0m\u001b[0;34m\u001b[0m\u001b[0m\n\u001b[0;32m--> 387\u001b[0;31m                 join_funcs)\n\u001b[0m\u001b[1;32m    388\u001b[0m \u001b[0;34m\u001b[0m\u001b[0m\n\u001b[1;32m    389\u001b[0m     \u001b[0;31m# Merge the column and table meta data. Table subclasses might override\u001b[0m\u001b[0;34m\u001b[0m\u001b[0;34m\u001b[0m\u001b[0;34m\u001b[0m\u001b[0m\n",
      "\u001b[0;32m~/.conda/envs/mydesc/lib/python3.7/site-packages/astropy/table/operations.py\u001b[0m in \u001b[0;36m_join\u001b[0;34m(left, right, keys, join_type, uniq_col_name, table_names, col_name_map, metadata_conflicts, join_funcs)\u001b[0m\n\u001b[1;32m   1136\u001b[0m \u001b[0;34m\u001b[0m\u001b[0m\n\u001b[1;32m   1137\u001b[0m     \u001b[0;32mif\u001b[0m \u001b[0mlen_left\u001b[0m \u001b[0;34m==\u001b[0m \u001b[0;36m0\u001b[0m \u001b[0;32mor\u001b[0m \u001b[0mlen_right\u001b[0m \u001b[0;34m==\u001b[0m \u001b[0;36m0\u001b[0m\u001b[0;34m:\u001b[0m\u001b[0;34m\u001b[0m\u001b[0;34m\u001b[0m\u001b[0m\n\u001b[0;32m-> 1138\u001b[0;31m         \u001b[0;32mraise\u001b[0m \u001b[0mValueError\u001b[0m\u001b[0;34m(\u001b[0m\u001b[0;34m'input tables for join must both have at least one row'\u001b[0m\u001b[0;34m)\u001b[0m\u001b[0;34m\u001b[0m\u001b[0;34m\u001b[0m\u001b[0m\n\u001b[0m\u001b[1;32m   1139\u001b[0m \u001b[0;34m\u001b[0m\u001b[0m\n\u001b[1;32m   1140\u001b[0m     \u001b[0;31m# Joined array dtype as a list of descr (name, type_str, shape) tuples\u001b[0m\u001b[0;34m\u001b[0m\u001b[0;34m\u001b[0m\u001b[0;34m\u001b[0m\u001b[0m\n",
      "\u001b[0;31mValueError\u001b[0m: input tables for join must both have at least one row"
     ]
    }
   ],
   "source": [
    "bckgd_galaxy_catalog.ra = ra\n",
    "bckgd_galaxy_catalog.dec = dec\n",
    "bckgd_galaxy_catalog.z = z\n",
    "print(len(bckgd_galaxy_catalog.galcat))\n",
    "\n",
    "\n",
    "#extract photometric redshifts with GCRCatalogs\n",
    "print('extracting photoz redshift infos (GCRCatalogs)')\n",
    "id_gal=bckgd_galaxy_catalog.galcat['galaxy_id']\n",
    "ras=bckgd_galaxy_catalog.galcat['ra']\n",
    "decs=bckgd_galaxy_catalog.galcat['dec']\n",
    "\n",
    "#find all different healpix pixels\n",
    "healpix = np.array(np.unique(healpy.ang2pix(32, ras, decs, nest=False, lonlat=True)))\n",
    "print(healpix)\n",
    "for k, photoz_gc_ in enumerate(photoz_gc):\n",
    "\n",
    "    #load photoz_data\n",
    "    dat_photoz=cosmodc2.extract_photoz(id_gal, healpix=healpix, GCRcatalog=photoz_gc_)\n",
    "    name_dat_photoz_to_save=['photoz_zbins', 'photoz_pdf', 'photoz_mean', 'photoz_odds', 'photoz_mode']\n",
    "\n",
    "    #store data to save\n",
    "    dat_to_save=[np.array([z_bins for i in range(len(dat_photoz['photoz_pdf'].data))]),\n",
    "                 dat_photoz['photoz_pdf'].data,\n",
    "                 dat_photoz['photoz_mean'].data,\n",
    "                 dat_photoz['photoz_odds'].data,\n",
    "                 dat_photoz['photoz_odds'].data]\n",
    "    #save data\n",
    "    for s, dat in enumerate(dat_photoz_to_save):\n",
    "        name=name_dat_photoz_to_save[s]\n",
    "        bckgd_galaxy_catalog.galcat[name + photoz_label[k]]=dat"
   ]
  },
  {
   "cell_type": "markdown",
   "id": "fdac802b-1555-4336-80ff-ab77e1418ae3",
   "metadata": {},
   "source": [
    "#### load only photometric informations"
   ]
  },
  {
   "cell_type": "code",
   "execution_count": 7,
   "id": "338287db-2768-47bf-8935-380de7f36041",
   "metadata": {},
   "outputs": [],
   "source": [
    "dat = extract_cosmodc2.extract_photoz(id_gal, healpix=healpix, GCRcatalog=gc_bpz)"
   ]
  },
  {
   "cell_type": "code",
   "execution_count": 8,
   "id": "fbc712ca-b1a6-469c-9f3c-bce9f0288d17",
   "metadata": {},
   "outputs": [
    {
     "name": "stdout",
     "output_type": "stream",
     "text": [
      "CPU times: user 14 µs, sys: 13 µs, total: 27 µs\n",
      "Wall time: 57 µs\n"
     ]
    },
    {
     "name": "stderr",
     "output_type": "stream",
     "text": [
      "/pbs/throng/lsst/users/cpayerne/CLMassDC2/data/data_extraction/cosmodc2.py:56: RuntimeWarning: divide by zero encountered in reciprocal\n",
      "  return simps(sigmacrit_1_integrand, pzbins[0,:], axis=1)**(-1.)\n"
     ]
    }
   ],
   "source": [
    "%time\n",
    "sigmac = extract_cosmodc2.compute_photoz_sigmac(z, dat['photoz_pdf'].data, dat['pzbins'].data,cosmo=cosmo)"
   ]
  },
  {
   "cell_type": "code",
   "execution_count": 9,
   "id": "85022f11-bcb8-4a6a-abfd-e9d1b3fd3f5f",
   "metadata": {},
   "outputs": [
    {
     "name": "stdout",
     "output_type": "stream",
     "text": [
      "CPU times: user 16 µs, sys: 0 ns, total: 16 µs\n",
      "Wall time: 31.7 µs\n"
     ]
    },
    {
     "name": "stderr",
     "output_type": "stream",
     "text": [
      "/pbs/throng/lsst/users/cpayerne/CLMassDC2/data/data_extraction/cosmodc2.py:52: RuntimeWarning: divide by zero encountered in true_divide\n",
      "  return 1./(sigmac_2**.5)\n"
     ]
    }
   ],
   "source": [
    "%time\n",
    "sigmac_clmm = extract_cosmodc2.compute_photoz_sigmac(z, dat['photoz_pdf'].data, dat['pzbins'].data, use_clmm=True, cosmo=cosmo)"
   ]
  },
  {
   "cell_type": "code",
   "execution_count": 10,
   "id": "31693de7-73f7-48be-84cc-dbe504969db7",
   "metadata": {},
   "outputs": [],
   "source": [
    "p_background=extract_cosmodc2.compute_p_background(z, dat['photoz_pdf'].data, dat['pzbins'].data, use_clmm=False)"
   ]
  },
  {
   "cell_type": "code",
   "execution_count": 11,
   "id": "cc74e626-bb09-4eaa-ad4c-5033f9ff1f9c",
   "metadata": {},
   "outputs": [
    {
     "data": {
      "text/plain": [
       "<matplotlib.collections.PathCollection at 0x7f03e62b9850>"
      ]
     },
     "execution_count": 11,
     "metadata": {},
     "output_type": "execute_result"
    },
    {
     "data": {
      "image/png": "[encoded data removed]",
      "text/plain": [
       "<Figure size 432x288 with 1 Axes>"
      ]
     },
     "metadata": {
      "needs_background": "light"
     },
     "output_type": "display_data"
    }
   ],
   "source": [
    "plt.scatter(bckgd_galaxy_catalog.galcat['z'], p_background )"
   ]
  },
  {
   "cell_type": "code",
   "execution_count": 12,
   "id": "6aa43f33-ccac-45ff-8a96-78cd2e03dce0",
   "metadata": {},
   "outputs": [
    {
     "data": {
      "text/plain": [
       "(0.0, 4e-31)"
      ]
     },
     "execution_count": 12,
     "metadata": {},
     "output_type": "execute_result"
    },
    {
     "data": {
      "image/png": "[encoded data removed]",
      "text/plain": [
       "<Figure size 432x288 with 1 Axes>"
      ]
     },
     "metadata": {
      "needs_background": "light"
     },
     "output_type": "display_data"
    }
   ],
   "source": [
    "mask=p_background>.9\n",
    "plt.scatter(bckgd_galaxy_catalog.galcat['z'][mask], sigmac[mask]**(-2), )\n",
    "utils.density_contour(bckgd_galaxy_catalog.galcat['z'][mask], sigmac[mask]**(-2), 10,10, ax=None, c='k')\n",
    "plt.scatter(bckgd_galaxy_catalog.galcat['z'][mask], bckgd_galaxy_catalog.galcat['w_ls_true'][mask] )\n",
    "plt.ylim(0,4e-31)\n",
    "#plt.xlim(0,5e-31)"
   ]
  },
  {
   "cell_type": "markdown",
   "id": "32731aa2-4d77-46f2-8070-772e1bc28d12",
   "metadata": {},
   "source": [
    "### load true shapes, true z, correponding photometric informations"
   ]
  },
  {
   "cell_type": "code",
   "execution_count": 13,
   "id": "afd9a64f-0a24-4cd9-83cf-67d6c49d1f2c",
   "metadata": {},
   "outputs": [
    {
     "ename": "NameError",
     "evalue": "name 'compute_photoz_weights' is not defined",
     "output_type": "error",
     "traceback": [
      "\u001b[0;31m---------------------------------------------------------------------------\u001b[0m",
      "\u001b[0;31mNameError\u001b[0m                                 Traceback (most recent call last)",
      "\u001b[0;32m<ipython-input-13-394ba4af2ad0>\u001b[0m in \u001b[0;36m<module>\u001b[0;34m\u001b[0m\n\u001b[1;32m      1\u001b[0m bckgd_galaxy_catalog = extract_cosmodc2.extract(lens_redshift = z, lens_ra = ra, lens_dec = dec, rmax=5,\n\u001b[1;32m      2\u001b[0m                                      \u001b[0mphotoz\u001b[0m\u001b[0;34m=\u001b[0m\u001b[0;32mTrue\u001b[0m\u001b[0;34m,\u001b[0m \u001b[0mphotoz_label\u001b[0m\u001b[0;34m=\u001b[0m\u001b[0;34m'flex'\u001b[0m\u001b[0;34m,\u001b[0m\u001b[0;34m\u001b[0m\u001b[0;34m\u001b[0m\u001b[0m\n\u001b[0;32m----> 3\u001b[0;31m                                     GCRcatalog=gc_flex, conn_qserv=conn, cosmo=cosmo)\n\u001b[0m",
      "\u001b[0;32m/pbs/throng/lsst/users/cpayerne/CLMassDC2/data/data_extraction/cosmodc2.py\u001b[0m in \u001b[0;36mextract\u001b[0;34m(lens_redshift, lens_ra, lens_dec, rmax, photoz, photoz_label, GCRcatalog, conn_qserv, cosmo)\u001b[0m\n\u001b[1;32m    202\u001b[0m     \u001b[0;31m#compute photoz weights\u001b[0m\u001b[0;34m\u001b[0m\u001b[0;34m\u001b[0m\u001b[0;34m\u001b[0m\u001b[0m\n\u001b[1;32m    203\u001b[0m     \u001b[0;32mif\u001b[0m \u001b[0mphotoz\u001b[0m\u001b[0;34m==\u001b[0m\u001b[0;32mTrue\u001b[0m\u001b[0;34m:\u001b[0m\u001b[0;34m\u001b[0m\u001b[0;34m\u001b[0m\u001b[0m\n\u001b[0;32m--> 204\u001b[0;31m         w_ls_photoz=compute_photoz_weights(lens_redshift,\n\u001b[0m\u001b[1;32m    205\u001b[0m                               \u001b[0mdat_photoz\u001b[0m\u001b[0;34m[\u001b[0m\u001b[0;34m'photoz_pdf'\u001b[0m\u001b[0;34m]\u001b[0m\u001b[0;34m,\u001b[0m\u001b[0;34m\u001b[0m\u001b[0;34m\u001b[0m\u001b[0m\n\u001b[1;32m    206\u001b[0m                               dat_photoz['pzbins'], cosmo=cosmo)\n",
      "\u001b[0;31mNameError\u001b[0m: name 'compute_photoz_weights' is not defined"
     ]
    }
   ],
   "source": [
    "bckgd_galaxy_catalog = extract_cosmodc2.extract(lens_redshift = z, lens_ra = ra, lens_dec = dec, rmax=5,\n",
    "                                     photoz=True, photoz_label='flex', \n",
    "                                    GCRcatalog=gc_flex, conn_qserv=conn, cosmo=cosmo)"
   ]
  },
  {
   "cell_type": "code",
   "execution_count": null,
   "id": "01671b48-78e5-44c3-b620-8ee68af0f5aa",
   "metadata": {},
   "outputs": [],
   "source": [
    "plt.scatter(bckgd_galaxy_catalog.galcat['z'], bckgd_galaxy_catalog.galcat['w_ls_flex'])\n",
    "plt.scatter(bckgd_galaxy_catalog.galcat['z'], bckgd_galaxy_catalog.galcat['w_ls_true'])"
   ]
  },
  {
   "cell_type": "markdown",
   "id": "b0596795-15da-4dca-a01f-a729a35f6a22",
   "metadata": {},
   "source": [
    "# DC2"
   ]
  },
  {
   "cell_type": "code",
   "execution_count": null,
   "id": "53fe1a30-1da5-4b86-9b65-f153d718cf32",
   "metadata": {},
   "outputs": [],
   "source": [
    "%load_ext autoreload\n",
    "%autoreload 2\n",
    "import extract_bckgd_sources_in_dc2"
   ]
  },
  {
   "cell_type": "code",
   "execution_count": null,
   "id": "7193a816-b835-4c8e-a60f-89ee94167fba",
   "metadata": {},
   "outputs": [],
   "source": [
    "def load(filename, **kwargs):\n",
    "    \"\"\"Loads GalaxyCluster object to filename using Pickle\"\"\"\n",
    "    with open(filename, 'rb') as fin:\n",
    "        return pickle.load(fin, **kwargs)\n",
    "tract_list = load('/pbs/throng/lsst/users/cpayerne/CLMassDC2/data/data_extraction/tract_dc2dr6_coord.pkl')"
   ]
  },
  {
   "cell_type": "code",
   "execution_count": null,
   "id": "61f30102-b8b3-4560-8983-d5aaf46d488b",
   "metadata": {},
   "outputs": [],
   "source": [
    "ra, dec,z = tract_list['ra'][0], tract_list['dec'][0], .1"
   ]
  },
  {
   "cell_type": "code",
   "execution_count": null,
   "id": "8e3edd0b-d168-4169-8aad-4fe8dc8a42cd",
   "metadata": {},
   "outputs": [],
   "source": [
    "object_cat = GCRCatalogs.load_catalog('dc2_object_run2.2i_dr6_v2_with_addons')"
   ]
  },
  {
   "cell_type": "code",
   "execution_count": null,
   "id": "cd981afa-9c0f-409c-9c02-37364162b3c9",
   "metadata": {},
   "outputs": [],
   "source": [
    "cl=extract_bckgd_sources_in_dc2.extract(lens_redshift=z, lens_ra=ra, lens_dec=dec, rmax=5, cosmo=cosmo, GCRcatalog=object_cat)"
   ]
  }
 ],
 "metadata": {
  "kernelspec": {
   "display_name": "mydesc",
   "language": "python",
   "name": "mydesc"
  },
  "language_info": {
   "codemirror_mode": {
    "name": "ipython",
    "version": 3
   },
   "file_extension": ".py",
   "mimetype": "text/x-python",
   "name": "python",
   "nbconvert_exporter": "python",
   "pygments_lexer": "ipython3",
   "version": "3.7.6"
  }
 },
 "nbformat": 4,
 "nbformat_minor": 5
}
