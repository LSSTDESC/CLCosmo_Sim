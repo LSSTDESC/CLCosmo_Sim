{
 "cells": [
  {
   "cell_type": "code",
   "execution_count": 1,
   "id": "146ac57d-4b61-4307-b95d-dd5e56893c04",
   "metadata": {},
   "outputs": [],
   "source": [
    "%load_ext autoreload\n",
    "\n",
    "%autoreload 2\n",
    "import sys\n",
    "import pyccl as ccl\n",
    "import numpy as np\n",
    "from clmm import Cosmology\n",
    "from multiprocessing import Pool\n",
    "import matplotlib.pyplot as plt\n",
    "import emcee\n",
    "import time\n",
    "import pickle\n",
    "def save_pickle(dat, filename, **kwargs):\n",
    "    file = open(filename,'wb')\n",
    "    pickle.dump(dat, file)\n",
    "    file.close()\n",
    "\n",
    "sys.path.append('/pbs/throng/lsst/users/cpayerne/CLCosmo_Sim/cluster_abundance')\n",
    "import CL_COUNT_modeling_completeness as comp\n",
    "import CL_COUNT_modeling_purity as pur\n",
    "import CL_COUNT_modeling_halo_mass_function as hmf\n",
    "import CL_MASS_cluster_mass as cl_mass\n",
    "import CL_COUNT_modeling_richness_mass_relation as rm_relation\n",
    "\n",
    "import CL_COUNT_cluster_abundance as cl_count\n",
    "import CL_LENSING_cluster_lensing as cl_lensing\n",
    "def load(filename, **kwargs):\n",
    "    \"\"\"Loads GalaxyCluster object to filename using Pickle\"\"\"\n",
    "    with open(filename, 'rb') as fin:\n",
    "        return pickle.load(fin, **kwargs)\n",
    "sys.path.append('/pbs/throng/lsst/users/cpayerne/CLMassDC2/modules/')\n",
    "import analysis_Mass_Richness_relation as analysis"
   ]
  },
  {
   "cell_type": "code",
   "execution_count": 54,
   "id": "ead51c1a-5814-435f-b155-ef832b7471f8",
   "metadata": {},
   "outputs": [],
   "source": [
    "#cosmology\n",
    "Omega_m_true = 0.2648\n",
    "Omega_b_true = 0.0448\n",
    "Omega_c_true = Omega_m_true - Omega_b_true\n",
    "sigma8_true = 0.8\n",
    "H0_true = 71\n",
    "ns_true = 0.963\n",
    "True_value = [Omega_m_true, sigma8_true]\n",
    "cosmo_clmm = Cosmology(H0 = H0_true, Omega_dm0 = Omega_c_true, Omega_b0 = Omega_b_true, Omega_k0 = 0.0)\n",
    "cosmo = ccl.Cosmology(Omega_c = Omega_c_true, Omega_b = Omega_b_true, h = H0_true/100, sigma8 = sigma8_true, n_s=ns_true)\n",
    "#halo model\n",
    "massdef = ccl.halos.massdef.MassDef(200, 'critical', c_m_relation=None)\n",
    "hmd = ccl.halos.hmfunc.MassFuncDespali16(cosmo, mass_def=massdef,)#hydro=False)\n",
    "#purity\n",
    "a_nc, b_nc, a_rc, b_rc = np.log(10)*0.8612, np.log(10)*0.3527, 2.2183, -0.6592\n",
    "theta_purity = [a_nc, b_nc, a_rc, b_rc]\n",
    "#completeness\n",
    "a_nc, b_nc, a_mc, b_mc = 1.1321, 0.7751, 13.31, 0.2025\n",
    "theta_completeness = [a_nc, b_nc, a_mc, b_mc]\n",
    "#rm_relation\n",
    "log10m0, z0 = np.log10(10**14.2), .6\n",
    "proxy_mu0, proxy_muz, proxy_mulog10m =  3.091, 0, 1.05*np.log(10)\n",
    "#proxy_mu0, proxy_muz, proxy_mulog10m =3.50831009, -0.04283462 , 2.20183355\n",
    "proxy_sigma0, proxy_sigmaz, proxy_sigmalog10m =  0.594, 0., 0.026*np.log(10)\n",
    "#proxy_sigma0, proxy_sigmaz, proxy_sigmalog10m = 0.24189878,  0.74964302,  0.55467301\n",
    "theta_rm = [log10m0, z0, proxy_mu0, proxy_muz, proxy_mulog10m, proxy_sigma0, proxy_sigmaz, proxy_sigmalog10m]\n",
    "\n",
    "richness_grid = np.exp(np.linspace(np.log(20), np.log(200), 200))\n",
    "logm_grid = np.linspace(10, 16,200)\n",
    "z_grid = np.linspace(.1, 1, 102)"
   ]
  },
  {
   "cell_type": "code",
   "execution_count": 55,
   "id": "4ec8674c-42ee-4683-ab4c-9e1b52368dc2",
   "metadata": {},
   "outputs": [],
   "source": [
    "grids = {'logm_grid': logm_grid, 'z_grid': z_grid, 'richness_grid':richness_grid}\n",
    "count_modelling = {'dNdzdlogMdOmega':None,'richness_mass_relation':None, 'completeness':None, 'purity':None }\n",
    "params = {'params_purity':theta_purity, 'params_completeness': theta_completeness, 'params_richness_mass_relation': theta_rm,\n",
    "         'CCL_cosmology': cosmo, 'halo_mass_distribution': hmd}\n",
    "compute = {'compute_dNdzdlogMdOmega':True,'compute_richness_mass_relation':True, 'compute_completeness':True, 'compute_purity':True }\n",
    "\n",
    "count_modelling_new = cl_count.recompute_count_modelling(count_modelling, grids = grids, compute = compute, params = params)\n",
    "\n",
    "data = np.load('/pbs/throng/lsst/users/cpayerne/CLMassDC2/notebooks/data_for_notebooks/stacked_esd_profiles_redmapper_true.pkl', allow_pickle=True)\n",
    "profiles = data['stacked profile']\n",
    "covariances = data['stacked covariance']\n",
    "r = profiles['radius'][0]\n",
    "\n",
    "#cluster_lensing = np.zeros([len(r), len(logm_grid), len(z_grid)])#\n",
    "cluster_lensing = cl_lensing.compute_cluster_lensing(r, 'Diemer15', logm_grid, z_grid, cosmo, cosmo_clmm)\n",
    "\n",
    "Z_bin = analysis.Z_bin\n",
    "Richness_bin = analysis.Obs_bin\n",
    "bins = {'redshift_bins':Z_bin, 'richness_bins': Richness_bin}\n",
    "DS_obs = np.zeros([len(r), len(Richness_bin), len(Z_bin)])\n",
    "Err_obs = np.zeros([len(r), len(Richness_bin), len(Z_bin)])\n",
    "\n",
    "for i, z_bin in enumerate(Z_bin):\n",
    "    mask_z = (profiles['z_mean'] > z_bin[0])*(profiles['z_mean'] < z_bin[1])\n",
    "    for j, richness_bin in enumerate(Richness_bin):\n",
    "        mask_richness = (profiles['obs_mean'] > richness_bin[0])*(profiles['obs_mean'] < richness_bin[1])\n",
    "        mask_tot = mask_z * mask_richness\n",
    "        DS_obs[:,j,i] = profiles['gt'][mask_tot][0]\n",
    "        Err_obs[:,j,i] = covariances['cov_t'][mask_tot][0].diagonal()**.5"
   ]
  },
  {
   "cell_type": "code",
   "execution_count": 56,
   "id": "92e6adaa-a955-4aba-9fc0-b40444acc397",
   "metadata": {},
   "outputs": [
    {
     "data": {
      "text/plain": [
       "array([0.55714842, 0.6804306 , 0.83032523, 1.01419232, 1.23822211,\n",
       "       1.51217248, 1.84672312, 2.25518907, 2.75257284, 3.3614032 ,\n",
       "       4.10456528, 5.01139196, 6.11925852, 7.47073947, 9.12433179])"
      ]
     },
     "execution_count": 56,
     "metadata": {},
     "output_type": "execute_result"
    }
   ],
   "source": [
    "r"
   ]
  },
  {
   "cell_type": "code",
   "execution_count": 57,
   "id": "9a61cc70-b842-428e-8817-781fb35d028e",
   "metadata": {},
   "outputs": [],
   "source": [
    "Omegaredmapper = 439.78987\n",
    "Omega = 4*np.pi*(Omegaredmapper/(360**2/np.pi))"
   ]
  },
  {
   "cell_type": "code",
   "execution_count": 58,
   "id": "d69bea6a-5930-4701-a4b0-15076ff468be",
   "metadata": {},
   "outputs": [],
   "source": [
    "def DS(params, purity, completeness):\n",
    "    \n",
    "    proxy_mu0, proxy_muz, proxy_mulog10m, proxy_sigma0, proxy_sigmaz, proxy_sigmalog10m, Om, s8 = params\n",
    "    theta_rm_new = [log10m0, z0, proxy_mu0, proxy_muz, proxy_mulog10m, proxy_sigma0, proxy_sigmaz, proxy_sigmalog10m]\n",
    "    cosmo_new = ccl.Cosmology(Omega_c = Om - Omega_b_true, Omega_b = Omega_b_true, h = H0_true/100, sigma8 = s8, n_s=ns_true)\n",
    "    massdef = ccl.halos.massdef.MassDef(200, 'critical', c_m_relation=None)\n",
    "    hmd = ccl.halos.hmfunc.MassFuncBocquet16(cosmo_new, mass_def=massdef,hydro=False)\n",
    "    params_new = {'params_purity':theta_purity, \n",
    "                  'params_completeness': theta_completeness, \n",
    "                  'params_richness_mass_relation': theta_rm_new,\n",
    "                  'CCL_cosmology': cosmo_new, \n",
    "                  'halo_mass_distribution': hmd}\n",
    "    compute_new = {'compute_dNdzdlogMdOmega':True,\n",
    "                   'compute_richness_mass_relation':True, \n",
    "                   'compute_completeness':False, \n",
    "                   'compute_purity':False}\n",
    "    adds_N = {'add_purity':purity, 'add_completeness':completeness}\n",
    "    adds_NDS = {'add_purity':False, 'add_completeness':True}\n",
    "    count_modelling_new = cl_count.recompute_count_modelling(count_modelling, grids = grids, compute = compute_new, params = params_new)\n",
    "    integrand_count_new = cl_count.define_count_integrand(count_modelling_new, adds_N)\n",
    "    integrand_count_ds_new = cl_count.define_count_integrand(count_modelling_new, adds_NDS)\n",
    "    NDS_profiles = Omega * cl_lensing.Cluster_dNd0mega_Lensing_ProxyZ(bins, integrand_count = integrand_count_ds_new, \n",
    "                                                                      cluster_lensing = cluster_lensing, \n",
    "                                                                      lensing_radius = r, grids = grids)\n",
    "    N = Omega * cl_count.Cluster_SurfaceDensity_ProxyZ(bins, integrand_count = integrand_count_new, grids = grids)\n",
    "    DS_profiles = NDS_profiles/N\n",
    "    lnL = -.5*np.sum(((DS_profiles - DS_obs)/Err_obs)**2)\n",
    "    return N, DS_profiles,integrand_count_new, integrand_count_ds_new"
   ]
  },
  {
   "cell_type": "code",
   "execution_count": 59,
   "id": "f6a38abf-1826-4fe0-8d12-61ecc7e3744a",
   "metadata": {},
   "outputs": [
    {
     "name": "stdout",
     "output_type": "stream",
     "text": [
      "[3.4495108720126013, 0.004256996704585974, 2.301561321748246, 0.3276791645957994, 0.3265677128171295, 0.19116059671497923, 0.2648, 0.8]\n"
     ]
    }
   ],
   "source": [
    "tWLN = np.load('/pbs/throng/lsst/users/cpayerne/CLCosmo_Sim/richness_mass_from_DC2/chains/manuscript_analysis_WLxN.pkl', allow_pickle = True)\n",
    "params_new_tWLN = list(np.mean(tWLN[17000:], axis=0))\n",
    "params_new_tWLN.append(Omega_m_true)\n",
    "params_new_tWLN.append(sigma8_true)\n",
    "print(params_new_tWLN)\n",
    "tWLN_cosmo = np.load('/pbs/throng/lsst/users/cpayerne/CLCosmo_Sim/richness_mass_from_DC2/chains/old_manuscript_analysis_WLxN_fit_cosmo.pkl', allow_pickle = True)\n",
    "params_new_tWLN_cosmo = list(np.mean(tWLN_cosmo[17000:], axis=0))\n",
    "tfiducial = np.load('/pbs/throng/lsst/users/cpayerne/CLCosmo_Sim/richness_mass_from_DC2/plots/fiducial.pkl.npy')\n",
    "params_new_fid = list(np.mean(tfiducial, axis=0))\n",
    "params_new_fid.append(Omega_m_true)\n",
    "params_new_fid.append(sigma8_true)"
   ]
  },
  {
   "cell_type": "code",
   "execution_count": 60,
   "id": "b10f7ace-13be-4493-a91c-25810d085aa5",
   "metadata": {},
   "outputs": [],
   "source": [
    "table_redmapper = load('catalog_cosmoDC2_v1.1.4_redmapper_v0.8.1.pkl')\n",
    "N_obs, proxy_edges, z_edges = np.histogram2d(table_redmapper['richness'],table_redmapper['redshift'], \n",
    "                                                       \n",
    "                                                   bins=[analysis.rich_corner, analysis.z_corner,])"
   ]
  },
  {
   "cell_type": "code",
   "execution_count": 61,
   "id": "19ec5ae2-c388-415e-94bd-b923a08a693d",
   "metadata": {},
   "outputs": [],
   "source": [
    "N_mod_pnc, DS_mod, int_count, int_ds_count = DS(params_new_tWLN, False, True)\n",
    "N_mod_npc, DS_mod,int_count, int_ds_count = DS(params_new_tWLN, True, False)\n",
    "N_mod_pc, DS_mod,int_count, int_ds_count = DS(params_new_tWLN, False, False)\n",
    "N_mod_npnc, DS_mod,int_count, int_ds_count = DS(params_new_tWLN, True, True)\n",
    "Nfid, DS_mod, int_count, int_ds_count  = DS(params_new_fid, True, True)"
   ]
  },
  {
   "cell_type": "code",
   "execution_count": 62,
   "id": "df487c92-bcd9-4c6a-92b6-771cc5dd8ecf",
   "metadata": {},
   "outputs": [],
   "source": [
    "N_mod_pnc_cosmo, DS_mod, int_count, int_ds_count = DS(params_new_tWLN_cosmo, False, True)\n",
    "N_mod_npc_cosmo, DS_mod,int_count, int_ds_count = DS(params_new_tWLN_cosmo, True, False)\n",
    "N_mod_pc_cosmo, DS_mod,int_count, int_ds_count = DS(params_new_tWLN_cosmo, False, False)\n",
    "N_mod_npnc_cosmo, DS_mod,int_count, int_ds_count = DS(params_new_tWLN_cosmo, True, True)"
   ]
  },
  {
   "cell_type": "code",
   "execution_count": 63,
   "id": "d1467400-b6c9-46d7-bccc-15c039eb271b",
   "metadata": {},
   "outputs": [],
   "source": [
    "np.save( 'best_fit_DS',DS_mod,)"
   ]
  },
  {
   "cell_type": "code",
   "execution_count": 65,
   "id": "cce948d5-9c58-42ae-94c3-f1fe2fca6bb7",
   "metadata": {},
   "outputs": [
    {
     "name": "stderr",
     "output_type": "stream",
     "text": [
      "No artists with labels found to put in legend.  Note that artists whose label start with an underscore are ignored when legend() is called with no argument.\n",
      "No artists with labels found to put in legend.  Note that artists whose label start with an underscore are ignored when legend() is called with no argument.\n"
     ]
    },
    {
     "data": {
      "image/png": "[encoded data removed]",
      "text/plain": [
       "<Figure size 1200x700 with 4 Axes>"
      ]
     },
     "metadata": {},
     "output_type": "display_data"
    }
   ],
   "source": [
    "c = ['k', 'k', 'k', 'k', 'k', 'k', 'k']\n",
    "indexes = [0,3]\n",
    "#indexes = [3, 7]\n",
    "fig, ax = plt.subplots(1, len(Z_bin[indexes[0]:indexes[1]]), figsize=(12,7), sharex = True, sharey = True)\n",
    "plt.subplots_adjust(left=None, bottom=None, right=None, top=None, wspace=0, hspace=None)\n",
    "\n",
    "for i, z_bin in enumerate(analysis.Z_bin[indexes[0]:indexes[1]]):\n",
    "    z0 = z_bin[0]\n",
    "    z1 = z_bin[1]\n",
    "    ax[i].set_box_aspect(1)\n",
    "    ax[i].set_title(f'{z0:.1f} < z < {z1:.1f}', fontsize=10)\n",
    "    #ax[i].plot(np.log(np.mean(analysis.Obs_bin, axis=1)), N_mod_pnc[:,i], ls = '-', label = r'$p=1, c\\neq 1$', color = 'C1')\n",
    "    #ax[i].plot(np.log(np.mean(analysis.Obs_bin, axis=1)), N_mod_npc[:,i], ls='-', label = r'$p\\neq 1, c= 1$', color = 'magenta')\n",
    "    #ax[i].plot(np.log(np.mean(analysis.Obs_bin, axis=1)), N_mod_npnc[:,i], ls=(0, (2, 5)),  label = r'$p\\neq 1, c\\neq 1$', color = 'C2')\n",
    "    #ax[i].plot(np.log(np.mean(analysis.Obs_bin, axis=1)), N_mod_npnc_cosmo[:,i], ls='--',  label = r'$p\\neq 1, c\\neq 1$ (fit cosmo)', color = 'C2')\n",
    "    #ax[i].plot(np.log(np.mean(analysis.Obs_bin, axis=1)), N_mod_pc[:,i], ls='-', label=r'$p=1, c=1$', color = 'C0')\n",
    "    ax[i].plot(np.log(np.mean(analysis.Obs_bin, axis=1)), Nfid[:,i],   '-C3', label = 'Fiducial')\n",
    "    ax[i].errorbar(np.log(np.mean(analysis.Obs_bin, axis=1)), N_obs[:,i],  N_obs[:,i]**.5,  color = 'dodgerblue', marker = 'o', markersize=2, fmt=' ', capsize=3)\n",
    "    #ax[i].stairs(N_obs[:,i], np.log(analysis.rich_corner))\n",
    "  \n",
    "    ax[i].set_xlabel(r'$\\ln \\lambda$', fontsize=15)\n",
    "    ax[0].set_ylabel('N', fontsize=20)\n",
    "    ax[2].legend(fontsize=10, frameon=True,ncols=3)\n",
    "   # ax[i].set_xscale('log')\n",
    "    ax[i].set_yscale('log')\n",
    "    ax[i].set_ylim(2, 5e3)\n",
    "    ax[i].set_xlim(np.log(20), np.log(200))\n",
    "    ax[i].tick_params(axis='both', which=\"both\", labelsize= 12)\n",
    "#plt.savefig('abundance_redmapper2.png', bbox_inches='tight', dpi=300)"
   ]
  },
  {
   "cell_type": "code",
   "execution_count": null,
   "id": "a2e24ef6-481d-48cb-aa55-3a00fdc34f96",
   "metadata": {},
   "outputs": [],
   "source": [
    "color = ['r', 'm', 'purple', 'k']\n",
    "fig, ax = plt.subplots(1, len(Z_bin), figsize=(15,4), sharey = True)\n",
    "plt.subplots_adjust(left=None, bottom=None, right=None, top=None, wspace=0, hspace=0)\n",
    "for i, z_bin in enumerate(Z_bin):\n",
    "    z0 = analysis.Z_bin[i][0]\n",
    "    z1 = analysis.Z_bin[i][1]\n",
    "    ax[i].set_title(f'{z0:.1f} < z < {z1:.1f}', fontsize=20)\n",
    "    for j, richness_bin in enumerate(Richness_bin):\n",
    "        ax[i].errorbar(r, DS_obs[:,j,i], Err_obs[:,j,i], fmt = ' ', marker = 'o', markersize=3, color=color[j])\n",
    "        ax[i].loglog(r[(r > 1)*(r <= 5.5)], DS_mod[:,j,i][(r > 1)*(r <= 5.5)], color[j])\n",
    "        ax[i].tick_params(axis='both', which=\"both\", labelsize= 15)\n",
    "        ax[i].set_xlabel('R [Mpc]', fontsize=20)\n",
    "        ax[0].set_ylabel(r'$\\Delta\\Sigma$', fontsize=20)\n",
    "        radius = np.linspace(0, 1, 100)\n",
    "        ax[i].fill_between(radius, 0*radius + 1e16, alpha = .1, color = 'skyblue')# + 1e16)\n",
    "        radius = np.linspace(5, 20, 100)\n",
    "        ax[i].fill_between(radius, 0*radius + 1e16, alpha = .1, color = 'skyblue')\n",
    "        ax[i].set_xlim(0.7, 10)\n",
    "        ax[i].set_ylim(1e12, 2e14)\n",
    "#plt.savefig('lensing_redmapper.png', bbox_inches='tight', dpi=300)"
   ]
  },
  {
   "cell_type": "code",
   "execution_count": null,
   "id": "18c84d82-d144-4cfe-8c8c-9f5ef00cd028",
   "metadata": {},
   "outputs": [],
   "source": [
    "mass_data = load('/pbs/throng/lsst/users/cpayerne/CLMassDC2/notebooks/plots/WL_mean_masses/halomodel_nfw_freec.pkl')['masses']\n",
    "log10Mass = np.zeros(N_obs.shape)\n",
    "log10Mass_err = np.zeros(N_obs.shape)\n",
    "for i, richness_bin in enumerate(Richness_bin):\n",
    "    for j, redshift_bin in enumerate(Z_bin):\n",
    "        maskz = (mass_data['z_mean'] > redshift_bin[0])*(mass_data['z_mean'] < redshift_bin[1])\n",
    "        maskr = (mass_data['obs_mean'] > richness_bin[0])*(mass_data['obs_mean'] < richness_bin[1])\n",
    "        mask = maskz * maskr\n",
    "        mass_in_bin = mass_data[mask]\n",
    "        log10Mass[i,j] = np.array(mass_in_bin['log10M200c_WL'])\n",
    "        log10Mass_err[i,j] = np.array(mass_in_bin['err_log10M200c_WL'])"
   ]
  },
  {
   "cell_type": "code",
   "execution_count": null,
   "id": "12b977ba-35f4-4d6c-9afc-2734da7039b1",
   "metadata": {},
   "outputs": [],
   "source": [
    "NM = Omega * cl_mass.Cluster_dNd0mega_Mass_ProxyZ(bins, integrand_count = int_ds_count, grids = grids)\n",
    "Mth = NM/N_mod_npnc"
   ]
  },
  {
   "cell_type": "code",
   "execution_count": null,
   "id": "4c368be0-e808-426d-9e3a-54a644d10faf",
   "metadata": {},
   "outputs": [],
   "source": [
    "color= ['C0', 'C1', 'C2', 'C3']\n",
    "for i, redshift_bin in enumerate(Z_bin[:4]):\n",
    "    plt.errorbar(np.log(np.mean(analysis.Obs_bin, axis=1)), log10Mass[:,i], log10Mass_err[:,i], fmt= ' ', color = color[i], marker = 'o')\n",
    "    plt.errorbar(np.log(np.mean(analysis.Obs_bin, axis=1)), np.log10(Mth[:,i]), color = color[i])"
   ]
  },
  {
   "cell_type": "code",
   "execution_count": null,
   "id": "ec21f988-8639-48aa-be2c-7b82b9c4f624",
   "metadata": {},
   "outputs": [],
   "source": []
  }
 ],
 "metadata": {
  "kernelspec": {
   "display_name": "myenv",
   "language": "python",
   "name": "myenv"
  },
  "language_info": {
   "codemirror_mode": {
    "name": "ipython",
    "version": 3
   },
   "file_extension": ".py",
   "mimetype": "text/x-python",
   "name": "python",
   "nbconvert_exporter": "python",
   "pygments_lexer": "ipython3",
   "version": "3.10.10"
  }
 },
 "nbformat": 4,
 "nbformat_minor": 5
}
