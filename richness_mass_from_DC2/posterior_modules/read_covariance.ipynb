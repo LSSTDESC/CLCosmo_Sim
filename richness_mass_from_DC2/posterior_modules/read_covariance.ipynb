{
 "cells": [
  {
   "cell_type": "code",
   "execution_count": 13,
   "id": "6e486e23-7673-4769-ba53-b8f667152c1c",
   "metadata": {},
   "outputs": [],
   "source": [
    "import sys, glob\n",
    "import pyccl as ccl\n",
    "import numpy as np\n",
    "from clmm import Cosmology\n",
    "from multiprocessing import Pool\n",
    "import emcee\n",
    "import matplotlib.pyplot as plt\n",
    "from itertools import combinations, chain\n",
    "import time\n",
    "import healpy\n",
    "import pickle\n",
    "import analysis_list\n",
    "def save_pickle(dat, filename, **kwargs):\n",
    "    file = open(filename,'wb')\n",
    "    pickle.dump(dat, file)\n",
    "    file.close()\n",
    "def load(filename, **kwargs):\n",
    "    \"\"\"Loads GalaxyCluster object to filename using Pickle\"\"\"\n",
    "    with open(filename, 'rb') as fin:\n",
    "        return pickle.load(fin, **kwargs)"
   ]
  }
 ],
 "metadata": {
  "kernelspec": {
   "display_name": "myenv",
   "language": "python",
   "name": "myenv"
  },
  "language_info": {
   "codemirror_mode": {
    "name": "ipython",
    "version": 3
   },
   "file_extension": ".py",
   "mimetype": "text/x-python",
   "name": "python",
   "nbconvert_exporter": "python",
   "pygments_lexer": "ipython3",
   "version": "3.10.10"
  }
 },
 "nbformat": 4,
 "nbformat_minor": 5
}
