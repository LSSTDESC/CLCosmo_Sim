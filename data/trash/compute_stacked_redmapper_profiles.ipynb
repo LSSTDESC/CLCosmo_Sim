{
 "cells": [
  {
   "cell_type": "code",
   "execution_count": 44,
   "id": "5c96e453",
   "metadata": {},
   "outputs": [
    {
     "name": "stdout",
     "output_type": "stream",
     "text": [
      "The autoreload extension is already loaded. To reload it, use:\n",
      "  %reload_ext autoreload\n"
     ]
    }
   ],
   "source": [
    "%load_ext autoreload\n",
    "\n",
    "\n",
    "%autoreload 2\n",
    "import matplotlib.pyplot as plt\n",
    "import pickle\n",
    "import emcee\n",
    "import sys\n",
    "import numpy as np\n",
    "import corner\n",
    "from astropy.table import Table\n",
    "\n",
    "sys.path.append('/pbs/throng/lsst/users/cpayerne/CLMassDC2/modules/')\n",
    "import CL_WL_DATAOPS_make_profile as prf\n",
    "import analysis_Mass_Richness_relation as analysis"
   ]
  },
  {
   "cell_type": "code",
   "execution_count": 45,
   "id": "a78ec39f",
   "metadata": {},
   "outputs": [],
   "source": [
    "def load(filename, **kwargs):\n",
    "    with open(filename, 'rb') as fin:\n",
    "        return pickle.load(fin, **kwargs)\n",
    "def save_pickle(dat, filename, **kwargs):\n",
    "    file = open(filename,'wb')\n",
    "    pickle.dump(dat, file)\n",
    "    file.close()"
   ]
  },
  {
   "cell_type": "markdown",
   "id": "1db58c1c-d243-434c-b621-3579130a6ad7",
   "metadata": {},
   "source": [
    "# Load data"
   ]
  },
  {
   "cell_type": "code",
   "execution_count": 46,
   "id": "5813bb43-a78c-432b-85af-cc4b24205e0a",
   "metadata": {},
   "outputs": [],
   "source": [
    "ind_profile = np.load('/pbs/throng/lsst/users/cpayerne/CLMassDC2/data/data_new_version/ind_profile_redmapper.pkl', allow_pickle = True)\n",
    "ind_profile['cluster_id'] = ind_profile['id']"
   ]
  },
  {
   "cell_type": "code",
   "execution_count": 47,
   "id": "f3bcdd1b-090b-4003-8a47-c3dd484c2d45",
   "metadata": {},
   "outputs": [],
   "source": [
    "sum_weights_per_cluster_true_10 = []\n",
    "sum_weights_per_cluster_true_5 = []\n",
    "for i, cl in enumerate(ind_profile):\n",
    "    mask = (ind_profile['radius_true'][i] > 1)*(ind_profile['radius_true'][i] < 10)\n",
    "    sum_weights_per_cluster_true_10.append(np.sum(ind_profile['W_l_true'][i][mask]))\n",
    "    mask = (ind_profile['radius_true'][i] > 1)*(ind_profile['radius_true'][i] < 5.5)\n",
    "    sum_weights_per_cluster_true_5.append(np.sum(ind_profile['W_l_true'][i][mask]))"
   ]
  },
  {
   "cell_type": "code",
   "execution_count": 48,
   "id": "5d238ad2-ee65-4f6d-b086-b427efce6e32",
   "metadata": {},
   "outputs": [],
   "source": [
    "ind_profile['weight_per_cluster_true_5'] = np.array(sum_weights_per_cluster_true_5)*1e27\n",
    "ind_profile['weight_per_cluster_true_10'] = np.array(sum_weights_per_cluster_true_10)*1e27"
   ]
  },
  {
   "cell_type": "code",
   "execution_count": null,
   "id": "6c92befd-6c9b-4422-b493-28556a89598e",
   "metadata": {},
   "outputs": [],
   "source": []
  },
  {
   "cell_type": "code",
   "execution_count": 49,
   "id": "34ca69de-91bb-4f2c-a17c-c362f5ae4c0b",
   "metadata": {},
   "outputs": [],
   "source": [
    "sum_weights_per_cluster_bpz_10 = []\n",
    "sum_weights_per_cluster_bpz_5 = []\n",
    "for i, cl in enumerate(ind_profile):\n",
    "    mask = (ind_profile['radius_bpz'][i] > 1)*(ind_profile['radius_bpz'][i] < 10)\n",
    "    sum_weights_per_cluster_bpz_10.append(np.sum(ind_profile['W_l_bpz'][i][mask]))\n",
    "    mask = (ind_profile['radius_bpz'][i] > 1)*(ind_profile['radius_bpz'][i] < 5.5)\n",
    "    sum_weights_per_cluster_bpz_5.append(np.sum(ind_profile['W_l_bpz'][i][mask]))"
   ]
  },
  {
   "cell_type": "code",
   "execution_count": 50,
   "id": "dd303ada-8b0a-4864-9858-e2af93a03695",
   "metadata": {},
   "outputs": [],
   "source": [
    "ind_profile['weight_per_cluster_bpz_5'] = np.array(sum_weights_per_cluster_bpz_5)*1e27\n",
    "ind_profile['weight_per_cluster_bpz_10'] = np.array(sum_weights_per_cluster_bpz_10)*1e27"
   ]
  },
  {
   "cell_type": "code",
   "execution_count": null,
   "id": "d2e0634d-8688-440c-9f89-51a1dcbb1ddd",
   "metadata": {},
   "outputs": [],
   "source": []
  },
  {
   "cell_type": "code",
   "execution_count": 51,
   "id": "fdb2932d-1662-4ac0-9649-241eee7c7e3d",
   "metadata": {},
   "outputs": [],
   "source": [
    "sum_weights_per_cluster_flex_10 = []\n",
    "sum_weights_per_cluster_flex_5 = []\n",
    "for i, cl in enumerate(ind_profile):\n",
    "    mask = (ind_profile['radius_flex'][i] > 1)*(ind_profile['radius_flex'][i] < 10)\n",
    "    sum_weights_per_cluster_flex_10.append(np.sum(ind_profile['W_l_flex'][i][mask]))\n",
    "    mask = (ind_profile['radius_flex'][i] > 1)*(ind_profile['radius_flex'][i] < 5.5)\n",
    "    sum_weights_per_cluster_flex_5.append(np.sum(ind_profile['W_l_flex'][i][mask]))"
   ]
  },
  {
   "cell_type": "code",
   "execution_count": 52,
   "id": "6807be46-55df-4d2a-bdb0-b29aff84ee8b",
   "metadata": {},
   "outputs": [],
   "source": [
    "ind_profile['weight_per_cluster_flex_5'] = np.array(sum_weights_per_cluster_flex_5)*1e27\n",
    "ind_profile['weight_per_cluster_flex_10'] = np.array(sum_weights_per_cluster_flex_10)*1e27"
   ]
  },
  {
   "cell_type": "code",
   "execution_count": 70,
   "id": "722f6a86-f89e-4884-9d3d-11e29418ab8b",
   "metadata": {},
   "outputs": [
    {
     "data": {
      "text/html": [
       "<div><i>Table length=4200</i>\n",
       "<table id=\"table139999190186256\" class=\"table-striped table-bordered table-condensed\">\n",
       "<thead><tr><th>id</th><th>ra</th><th>dec</th><th>redshift</th><th>richness</th><th>DSt_true</th><th>DSx_true</th><th>W_l_true</th><th>radius_true</th><th>DSt_flex</th><th>DSx_flex</th><th>W_l_flex</th><th>radius_flex</th><th>DSt_bpz</th><th>DSx_bpz</th><th>W_l_bpz</th><th>radius_bpz</th><th>cluster_id</th><th>weight_per_cluster_true_5</th><th>weight_per_cluster_true_10</th><th>weight_per_cluster_bpz_5</th><th>weight_per_cluster_bpz_10</th><th>weight_per_cluster_flex_5</th><th>weight_per_cluster_flex_10</th></tr></thead>\n",
       "<thead><tr><th>int64</th><th>float64</th><th>float64</th><th>float32</th><th>float32</th><th>float64[15]</th><th>float64[15]</th><th>float64[15]</th><th>float64[15]</th><th>float64[15]</th><th>float64[15]</th><th>float64[15]</th><th>float64[15]</th><th>float64[15]</th><th>float64[15]</th><th>float64[15]</th><th>float64[15]</th><th>int64</th><th>float64</th><th>float64</th><th>float64</th><th>float64</th><th>float64</th><th>float64</th></tr></thead>\n",
       "<tr><td>4835</td><td>60.1207701187705</td><td>-35.74737806182082</td><td>0.8966372</td><td>21.559492</td><td>181970202039987.4 .. -28443127135230.145</td><td>-121039939628388.1 .. -21985931615491.89</td><td>1.4180508196511585e-30 .. 2.0250401348304404e-28</td><td>0.5527313667973088 .. 9.109776808324828</td><td>186844158302200.06 .. -28130753176707.68</td><td>-94406510728502.52 .. -23161785687557.227</td><td>1.2809401389525147e-30 .. 2.00502872517232e-28</td><td>0.5526983369189398 .. 9.107341532359275</td><td>229408661422969.3 .. -30475882564310.934</td><td>-108653582159705.6 .. -23529352904882.918</td><td>1.1542652404066941e-30 .. 1.8563679470487896e-28</td><td>0.5570769071349138 .. 9.105309294464476</td><td>4835</td><td>0.16903709046398135</td><td>0.5877441350664222</td><td>0.1472356022633458</td><td>0.5225976213967364</td><td>0.1679053914315133</td><td>0.5834192504661593</td></tr>\n",
       "<tr><td>469</td><td>50.8966866200705</td><td>-44.45493260669247</td><td>0.62144566</td><td>67.09559</td><td>101473623143260.23 .. -10043112864669.078</td><td>-35887467578322.05 .. -1437950060441.7378</td><td>3.0116534980031034e-30 .. 8.233913568744426e-28</td><td>0.5517712415705935 .. 9.121209309502692</td><td>107897703822353.47 .. -10165490715356.232</td><td>-41169782555698.96 .. -1353983749805.2114</td><td>2.9963764470191383e-30 .. 8.248629622102231e-28</td><td>0.552239228793423 .. 9.120522698056662</td><td>100454892424314.47 .. -11818278402811.826</td><td>-35638929602281.72 .. -1889540588074.1912</td><td>2.8685370633676007e-30 .. 7.7917764479001615e-28</td><td>0.551797720465266 .. 9.125507961269342</td><td>469</td><td>0.6640101937352697</td><td>2.3612189445692215</td><td>0.6315828858586464</td><td>2.245355024960733</td><td>0.668513491840032</td><td>2.3719263128676324</td></tr>\n",
       "<tr><td>7043</td><td>72.99011209131204</td><td>-40.587925971785054</td><td>0.889254</td><td>20.217054</td><td>97881380813686.16 .. 3887784045769.054</td><td>8072260980519.0 .. 1044440307522.794</td><td>9.633161809747258e-31 .. 1.9732417114529207e-28</td><td>0.5736735982046974 .. 9.14595416598728</td><td>93953737194012.14 .. 4145301969984.8984</td><td>7039094084410.3125 .. 1641104810481.4553</td><td>9.543965840067045e-31 .. 1.954503218913488e-28</td><td>0.5728915484293453 .. 9.144104324927497</td><td>126276479793492.92 .. 9473736202452.504</td><td>-41687767791710.445 .. 6800227385406.311</td><td>7.040289281137459e-31 .. 1.8237833212338301e-28</td><td>0.5742616367375348 .. 9.15928227130137</td><td>7043</td><td>0.17623832288543867</td><td>0.5767030052544213</td><td>0.15800059542506617</td><td>0.5299753892990338</td><td>0.17401886229543095</td><td>0.5686678696134753</td></tr>\n",
       "<tr><td>3356</td><td>49.211119675755015</td><td>-31.117136628863747</td><td>0.60960704</td><td>26.258024</td><td>-10376143498329.596 .. -2325086854171.113</td><td>159996224784037.97 .. -2612206554365.4937</td><td>2.8203970915992385e-30 .. 6.505801834573477e-28</td><td>0.5539945696756196 .. 9.127824858851557</td><td>-5422831698024.002 .. -1965062340104.346</td><td>157798891268474.9 .. -2005404590317.263</td><td>2.8592699160753785e-30 .. 6.551576855809062e-28</td><td>0.5536524789085484 .. 9.126757912192435</td><td>13841718145833.443 .. -2693003317705.131</td><td>174246427292332.88 .. -724987637473.043</td><td>2.768877373940194e-30 .. 6.361042717974786e-28</td><td>0.5569526443568353 .. 9.125734944364337</td><td>3356</td><td>0.7491798461355804</td><td>2.0932092607817694</td><td>0.7150365120779707</td><td>2.0327867947105767</td><td>0.7527720502483205</td><td>2.106572435915462</td></tr>\n",
       "<tr><td>4405</td><td>57.00381256004044</td><td>-31.200967027470817</td><td>0.41625932</td><td>21.879847</td><td>239179990463104.6 .. -1260336771650.6157</td><td>28313931125033.656 .. 430047622508.0653</td><td>1.1700788547153446e-29 .. 2.1093841410489106e-27</td><td>0.5525299141278757 .. 9.121906300526922</td><td>240719445093826.3 .. -1249963123100.8247</td><td>27727088470384.67 .. 366839947505.8924</td><td>1.1681332259714397e-29 .. 2.1108101095421127e-27</td><td>0.5522587683943728 .. 9.121500003910127</td><td>245870593739057.78 .. -2299263070897.441</td><td>15145051713930.822 .. 245773558391.89246</td><td>1.1106164621357106e-29 .. 2.0443073241787993e-27</td><td>0.5533498436412896 .. 9.12224726579502</td><td>4405</td><td>1.870597778347071</td><td>6.301148580810867</td><td>1.8190470661968388</td><td>6.10848807537671</td><td>1.8709499240958023</td><td>6.302381712934712</td></tr>\n",
       "<tr><td>4343</td><td>58.4235667390495</td><td>-29.20874410125269</td><td>0.7108572</td><td>25.739355</td><td>43003326717340.85 .. 29548754728615.17</td><td>-55140034360060.26 .. 5429590487048.838</td><td>1.4902812857260423e-30 .. 5.6228558367708965e-28</td><td>0.5553711496930266 .. 9.136175884230136</td><td>43338141752699.57 .. 29288626526524.56</td><td>-56919305571446.6 .. 5437081045188.817</td><td>1.4502489951400324e-30 .. 5.611660500608422e-28</td><td>0.5547021664564906 .. 9.135731232833145</td><td>59882654625334.91 .. 26925714683992.332</td><td>30674387107227.754 .. 7114492949555.313</td><td>1.0951124555678614e-30 .. 5.383743053476121e-28</td><td>0.5508709433501978 .. 9.135874034629675</td><td>4343</td><td>0.46511510882796087</td><td>1.6756114290540196</td><td>0.4449195282599397</td><td>1.5988626009958913</td><td>0.4644012183231699</td><td>1.671997544528485</td></tr>\n",
       "<tr><td>972</td><td>70.95326443716387</td><td>-29.52459979191898</td><td>0.76803654</td><td>36.98227</td><td>73040774000207.66 .. 10248684606887.037</td><td>122039648881910.39 .. 2206985935057.5806</td><td>2.0791472452451452e-30 .. 4.054505526354732e-28</td><td>0.5585977774313011 .. 9.097858562657224</td><td>87577968146683.62 .. 9860606499054.463</td><td>123479693491157.0 .. 1713554438773.684</td><td>2.077337089550409e-30 .. 4.0388059384327084e-28</td><td>0.5591860369211348 .. 9.097442599839795</td><td>119730730900212.56 .. 6522626638965.143</td><td>123605391675206.94 .. 5026411565011.485</td><td>1.9494873484642255e-30 .. 3.691127212447913e-28</td><td>0.554084818123817 .. 9.094407799794405</td><td>972</td><td>0.36609329938358015</td><td>1.2507666238617747</td><td>0.3317496543769659</td><td>1.1402343400012858</td><td>0.36421484945441907</td><td>1.2450164839210431</td></tr>\n",
       "<tr><td>2013</td><td>49.037182416759</td><td>-27.777101771858717</td><td>0.30862483</td><td>30.620947</td><td>3945538901474.382 .. 98882563704.63254</td><td>2637322106787.492 .. -6127185576485.912</td><td>1.5931312284342718e-29 .. 2.703964503814574e-27</td><td>0.5602243827263055 .. 9.105080297669835</td><td>4456021400784.518 .. 312096364874.31934</td><td>4045403362291.4346 .. -6315955763384.02</td><td>1.5909969511830705e-29 .. 2.7005782355588146e-27</td><td>0.5604048029942181 .. 9.105065116976144</td><td>7073872484185.32 .. 522948014381.782</td><td>5152414815705.425 .. -6900868351328.436</td><td>1.5937907921413265e-29 .. 2.616402647281318e-27</td><td>0.5600752382114706 .. 9.105109660555003</td><td>2013</td><td>3.06637932009413</td><td>9.384215551978706</td><td>2.957974642909345</td><td>9.074346388146203</td><td>3.0619402024520137</td><td>9.373090056109643</td></tr>\n",
       "<tr><td>2703</td><td>52.71937563448216</td><td>-44.73281158996169</td><td>0.6591492</td><td>30.361612</td><td>-166017712341088.12 .. 12984489884982.777</td><td>-50993262208259.16 .. -2767845318465.1064</td><td>1.990199694097806e-30 .. 6.636302030953043e-28</td><td>0.5538449177626812 .. 9.125416631864297</td><td>-159261047478900.5 .. 12799818629404.52</td><td>-24703122918798.984 .. -2800033766543.8926</td><td>1.9547312256390233e-30 .. 6.635246903288952e-28</td><td>0.553356330194108 .. 9.12736735316393</td><td>-132545546244515.5 .. 11055063345388.418</td><td>-37686807803717.77 .. -2621126563548.179</td><td>1.8989279585656917e-30 .. 6.415790358524142e-28</td><td>0.5474120526108476 .. 9.124592142984595</td><td>2703</td><td>0.6714358059126394</td><td>2.1601201344824807</td><td>0.6290722188848307</td><td>2.0581117767898247</td><td>0.6712326914263758</td><td>2.16148620958936</td></tr>\n",
       "<tr><td>3354</td><td>51.6929519551827</td><td>-44.74002136599452</td><td>0.9190092</td><td>28.836115</td><td>138733443028995.12 .. -2263924819177.846</td><td>123652094037252.81 .. 9725098728485.725</td><td>1.047880267820574e-30 .. 1.8026041997798374e-28</td><td>0.5698901588285061 .. 9.132495091698772</td><td>145974272811796.62 .. -4666894076794.203</td><td>130680437763188.56 .. 10975695202824.713</td><td>9.59333822651337e-31 .. 1.7724151577527993e-28</td><td>0.5700059944842166 .. 9.131769854780469</td><td>209506713277629.5 .. -6749997524405.01</td><td>207099933880575.16 .. 16981318607061.031</td><td>8.467528175900865e-31 .. 1.6193664551215333e-28</td><td>0.5739945508277933 .. 9.132099706218956</td><td>3354</td><td>0.16464449315379767</td><td>0.5591655267583457</td><td>0.15702858424622396</td><td>0.5159962859857519</td><td>0.1616662762546212</td><td>0.5481847282772296</td></tr>\n",
       "<tr><td>...</td><td>...</td><td>...</td><td>...</td><td>...</td><td>...</td><td>...</td><td>...</td><td>...</td><td>...</td><td>...</td><td>...</td><td>...</td><td>...</td><td>...</td><td>...</td><td>...</td><td>...</td><td>...</td><td>...</td><td>...</td><td>...</td><td>...</td><td>...</td></tr>\n",
       "<tr><td>2586</td><td>55.14612099968777</td><td>-30.113239945099984</td><td>0.9558515</td><td>23.710443</td><td>100559475809851.2 .. 9495969217731.676</td><td>85872055421875.89 .. -6185727623711.642</td><td>5.588755110706316e-31 .. 1.542390323155579e-28</td><td>0.5470687664282071 .. 9.121552537810672</td><td>108050788681075.4 .. 10545715473560.486</td><td>83061107589060.84 .. -5486985120224.556</td><td>5.595516807658691e-31 .. 1.5223733239594516e-28</td><td>0.5473486833877408 .. 9.121176648832472</td><td>50930296649999.625 .. 10029965461424.982</td><td>39324764737253.38 .. -8528531083849.684</td><td>9.342608554250265e-31 .. 1.3565825808555012e-28</td><td>0.5570050813274325 .. 9.119022905966526</td><td>2586</td><td>0.15156426565355965</td><td>0.48728280861385115</td><td>0.13180709074039665</td><td>0.42576794733925194</td><td>0.1493109763773397</td><td>0.4798185402096768</td></tr>\n",
       "<tr><td>2774</td><td>56.94908471657481</td><td>-40.99184753142367</td><td>0.8548122</td><td>24.030798</td><td>102100606348687.75 .. 1520338095318.044</td><td>-123144027105351.58 .. 8754129048686.441</td><td>1.1652525835675513e-30 .. 2.419268695505819e-28</td><td>0.5718680724617522 .. 9.144710069967271</td><td>113360346782081.66 .. 50415863516.63965</td><td>-123882674188481.16 .. 9831058474056.799</td><td>1.1925280225878705e-30 .. 2.390190286841218e-28</td><td>0.5714376288973432 .. 9.144103445870897</td><td>183823367611246.53 .. 1677574261927.839</td><td>-158855616790816.4 .. 13004630853813.707</td><td>1.3703485590326125e-30 .. 2.14466087763592e-28</td><td>0.5666645216518839 .. 9.146306717866725</td><td>2774</td><td>0.22941255647181247</td><td>0.7656134325065577</td><td>0.19866566546483413</td><td>0.66527966050446</td><td>0.22583871414551582</td><td>0.7550483203948406</td></tr>\n",
       "<tr><td>2747</td><td>62.26151886478238</td><td>-29.64261000217731</td><td>1.0739701</td><td>21.910357</td><td>32575316432238.75 .. 20231086976735.14</td><td>298015400644529.5 .. 3166364074542.888</td><td>4.056646261528803e-31 .. 8.544241995657468e-29</td><td>0.5834738358466375 .. 9.108231553484936</td><td>33349108296566.203 .. 18464418107065.848</td><td>331389846935430.44 .. 1520874064759.9954</td><td>3.6534140273032935e-31 .. 8.366906439489488e-29</td><td>0.5833590282097048 .. 9.108363291574628</td><td>48608337523329.16 .. 14476663931400.434</td><td>311569263522336.7 .. 7652385848101.575</td><td>4.145149323068405e-31 .. 6.737938359888912e-29</td><td>0.5707056491524758 .. 9.105118836555315</td><td>2747</td><td>0.07285154311215342</td><td>0.25819855977710104</td><td>0.057574829994451626</td><td>0.20609834694797438</td><td>0.07072226700821566</td><td>0.25126854809003235</td></tr>\n",
       "<tr><td>179</td><td>73.01070907189093</td><td>-41.53809503406473</td><td>0.6154717</td><td>88.69663</td><td>110026702991259.95 .. -14937577748142.246</td><td>117147083766578.89 .. 2001470610774.8318</td><td>4.623999442230013e-30 .. 8.657287504716509e-28</td><td>0.5597833429338166 .. 9.133798358000822</td><td>106405517367893.25 .. -15459632697797.402</td><td>113498895925769.12 .. 1929875979557.4292</td><td>4.7213180376886886e-30 .. 8.662075708991524e-28</td><td>0.5601180294166828 .. 9.133441824221174</td><td>102053232186170.08 .. -15629799309796.545</td><td>110749608695721.25 .. 2169937757545.5986</td><td>4.3122741332263506e-30 .. 8.306871718031143e-28</td><td>0.5582409859125702 .. 9.132888076385676</td><td>179</td><td>0.7242513281799872</td><td>2.5762324769287996</td><td>0.6964973251273564</td><td>2.473516266337356</td><td>0.7259365081874386</td><td>2.577354445345558</td></tr>\n",
       "<tr><td>3950</td><td>68.54766667865685</td><td>-31.112306440963884</td><td>0.9659705</td><td>21.376432</td><td>-9257698062514.246 .. -32037054385585.613</td><td>67237679860605.06 .. -6593864884711.547</td><td>3.435773519904495e-31 .. 1.4598153837612722e-28</td><td>0.5849195724567844 .. 9.121083088488096</td><td>-7202597630213.967 .. -30881475547066.656</td><td>46664637106761.97 .. -6286799615649.95</td><td>3.242358889981017e-31 .. 1.4377749756721026e-28</td><td>0.585161244266117 .. 9.122213318513758</td><td>-26731818005189.93 .. -29886367012584.8</td><td>255702923187087.53 .. 5370254520652.691</td><td>1.3957811846262845e-31 .. 1.2760188822021935e-28</td><td>0.58699080218134 .. 9.121590591719594</td><td>3950</td><td>0.11714385507773872</td><td>0.4152605944546607</td><td>0.09519695090405514</td><td>0.35121777813571226</td><td>0.11516169487250418</td><td>0.40951447952052844</td></tr>\n",
       "<tr><td>4064</td><td>61.43292692887472</td><td>-31.09918339498882</td><td>0.39218286</td><td>22.062906</td><td>97762703648057.7 .. 7030375206976.062</td><td>-1879234806714.5386 .. -1121550128266.577</td><td>1.1813061444972837e-29 .. 2.35506618246998e-27</td><td>0.5606306224355747 .. 9.120701765271043</td><td>101169608741141.55 .. 6939929033145.563</td><td>-1757564510403.9404 .. -1153110455046.3633</td><td>1.1821444572533336e-29 .. 2.3576965864688153e-27</td><td>0.5604992413466324 .. 9.120841118263051</td><td>102836434227201.44 .. 6908164407491.845</td><td>1498018268403.563 .. -1059460994640.008</td><td>1.1300363969551682e-29 .. 2.2884206671146254e-27</td><td>0.5603103222347802 .. 9.121411127467052</td><td>4064</td><td>2.1230597755193066</td><td>7.264309566305423</td><td>2.0520415530457745</td><td>7.043125400854156</td><td>2.1246012084912995</td><td>7.27496749700362</td></tr>\n",
       "<tr><td>105</td><td>70.80835293068301</td><td>-37.007966407171956</td><td>0.80360204</td><td>87.76608</td><td>155472656755228.0 .. -6508893637296.62</td><td>138029119668688.9 .. 429198250956.1143</td><td>5.303852623741742e-31 .. 3.2696537275125014e-28</td><td>0.5471095542725966 .. 9.138533539043392</td><td>191978476144707.7 .. -6486875157417.58</td><td>143311469974261.53 .. 150602226591.37262</td><td>5.156935179674288e-31 .. 3.2369678818945044e-28</td><td>0.5469870469960696 .. 9.136682519638695</td><td>200064823905030.12 .. -6713110611546.021</td><td>245341201466689.44 .. -1191878391054.7253</td><td>3.498869677510417e-31 .. 2.978866428616474e-28</td><td>0.5610210763574739 .. 9.141157239530049</td><td>105</td><td>0.25342229569945146</td><td>0.9177732618483344</td><td>0.22371954509332034</td><td>0.8198887601458607</td><td>0.25139277727753273</td><td>0.908456319925337</td></tr>\n",
       "<tr><td>414</td><td>60.977721373332336</td><td>-28.374920875944316</td><td>1.0745691</td><td>48.5608</td><td>114888113267360.06 .. 17224403075570.799</td><td>-29126625061734.59 .. 15661717400948.639</td><td>2.5013949264805094e-31 .. 9.251232327378146e-29</td><td>0.5363321962254022 .. 9.127203530695448</td><td>145095909834246.8 .. 17838852877808.715</td><td>-63516385616052.83 .. 15071172894612.03</td><td>1.9981221466865803e-31 .. 9.003565181166978e-29</td><td>0.5387544402344082 .. 9.125862128140039</td><td>276231405287011.75 .. 21644494295021.023</td><td>-379762518232726.3 .. 22102450581496.76</td><td>5.064229407811787e-32 .. 7.386596170530257e-29</td><td>0.5175082774533362 .. 9.146123531163727</td><td>414</td><td>0.07640929341474165</td><td>0.268491072976695</td><td>0.0605969724574422</td><td>0.21167800655093266</td><td>0.07389750637514117</td><td>0.26131826514775347</td></tr>\n",
       "<tr><td>611</td><td>58.7324012246629</td><td>-33.906470610139294</td><td>0.9943867</td><td>49.58288</td><td>-71926358703803.48 .. 2118124378538.246</td><td>-149216262914164.25 .. -4575988579243.605</td><td>3.177060618717565e-31 .. 1.1606490327472737e-28</td><td>0.5615423436278557 .. 9.120439496101167</td><td>-63840137618097.09 .. 4426473849208.526</td><td>-143099377153305.97 .. -2125841491806.0642</td><td>3.2375687162114194e-31 .. 1.1260492373433914e-28</td><td>0.5617087373652502 .. 9.117964090205865</td><td>-74104638647084.69 .. -10088364954.921371</td><td>-56112316389763.57 .. -2536420679982.7524</td><td>4.31197328619036e-31 .. 9.443489246762902e-29</td><td>0.5760850223380858 .. 9.119559902651464</td><td>611</td><td>0.10017732227531852</td><td>0.34926224380794146</td><td>0.09009864590890558</td><td>0.3041451625256053</td><td>0.09800985698639568</td><td>0.34169082958461555</td></tr>\n",
       "<tr><td>533</td><td>71.99210858820851</td><td>-42.71275807303035</td><td>0.690436</td><td>54.34243</td><td>-89824960044462.84 .. 4721213335797.171</td><td>24462494869656.61 .. 1743487317884.6367</td><td>2.0492280907549257e-30 .. 6.00037452053801e-28</td><td>0.5559214268074821 .. 9.119686843645466</td><td>-95638655534199.55 .. 4182916488274.8267</td><td>13577602347259.406 .. 1133832144425.0754</td><td>1.961383880169647e-30 .. 5.989543509602828e-28</td><td>0.556712788481038 .. 9.11846602328902</td><td>-121593338895838.14 .. 4435847489869.474</td><td>-19969436135123.96 .. 1515679827554.6877</td><td>1.9053611832917684e-30 .. 5.668765145634307e-28</td><td>0.5561480559726807 .. 9.117260109318808</td><td>533</td><td>0.5918203465741653</td><td>1.872005444891357</td><td>0.5719362541627314</td><td>1.7853051774425543</td><td>0.591678168574024</td><td>1.869801457502766</td></tr>\n",
       "</table></div>"
      ],
      "text/plain": [
       "<Table length=4200>\n",
       "  id          ra         ... weight_per_cluster_flex_10\n",
       "int64      float64       ...          float64          \n",
       "----- ------------------ ... --------------------------\n",
       " 4835   60.1207701187705 ...         0.5834192504661593\n",
       "  469   50.8966866200705 ...         2.3719263128676324\n",
       " 7043  72.99011209131204 ...         0.5686678696134753\n",
       " 3356 49.211119675755015 ...          2.106572435915462\n",
       " 4405  57.00381256004044 ...          6.302381712934712\n",
       " 4343   58.4235667390495 ...          1.671997544528485\n",
       "  972  70.95326443716387 ...         1.2450164839210431\n",
       " 2013    49.037182416759 ...          9.373090056109643\n",
       " 2703  52.71937563448216 ...           2.16148620958936\n",
       " 3354   51.6929519551827 ...         0.5481847282772296\n",
       "  ...                ... ...                        ...\n",
       " 2586  55.14612099968777 ...         0.4798185402096768\n",
       " 2774  56.94908471657481 ...         0.7550483203948406\n",
       " 2747  62.26151886478238 ...        0.25126854809003235\n",
       "  179  73.01070907189093 ...          2.577354445345558\n",
       " 3950  68.54766667865685 ...        0.40951447952052844\n",
       " 4064  61.43292692887472 ...           7.27496749700362\n",
       "  105  70.80835293068301 ...          0.908456319925337\n",
       "  414 60.977721373332336 ...        0.26131826514775347\n",
       "  611   58.7324012246629 ...        0.34169082958461555\n",
       "  533  71.99210858820851 ...          1.869801457502766"
      ]
     },
     "execution_count": 70,
     "metadata": {},
     "output_type": "execute_result"
    }
   ],
   "source": [
    "ind_profile"
   ]
  },
  {
   "cell_type": "code",
   "execution_count": 53,
   "id": "60d13e61-f9cb-4ddb-87ce-423879116551",
   "metadata": {},
   "outputs": [
    {
     "data": {
      "image/png": "[encoded data removed]",
      "text/plain": [
       "<Figure size 640x480 with 1 Axes>"
      ]
     },
     "metadata": {},
     "output_type": "display_data"
    }
   ],
   "source": [
    "plt.hist(ind_profile['richness'], bins=np.logspace(np.log10(20), np.log10(200), 100))\n",
    "plt.xscale('log')"
   ]
  },
  {
   "cell_type": "code",
   "execution_count": 54,
   "id": "fdee7714-81f2-4e10-bc72-823a32854823",
   "metadata": {},
   "outputs": [
    {
     "data": {
      "text/html": [
       "&lt;Column name=&apos;richness&apos; dtype=&apos;float64&apos; length=5&gt;\n",
       "<table>\n",
       "<tr><td>20.00348472595215</td></tr>\n",
       "<tr><td>23.451108932495117</td></tr>\n",
       "<tr><td>28.72933006286621</td></tr>\n",
       "<tr><td>39.407814025878906</td></tr>\n",
       "<tr><td>119.55744934082031</td></tr>\n",
       "</table>"
      ],
      "text/plain": [
       "<Column name='richness' dtype='float64' length=5>\n",
       " 20.00348472595215\n",
       "23.451108932495117\n",
       " 28.72933006286621\n",
       "39.407814025878906\n",
       "119.55744934082031"
      ]
     },
     "execution_count": 54,
     "metadata": {},
     "output_type": "execute_result"
    }
   ],
   "source": [
    "np.quantile(ind_profile['richness'][ind_profile['richness'] < 120], [0, .25, .5, .75, 1])"
   ]
  },
  {
   "cell_type": "code",
   "execution_count": 55,
   "id": "269dc837-ad39-4257-8b82-897ec3f0e374",
   "metadata": {},
   "outputs": [],
   "source": [
    "Z_bin = analysis.Z_bin\n",
    "Obs_bin = analysis.Obs_bin"
   ]
  },
  {
   "cell_type": "code",
   "execution_count": 56,
   "id": "29d24f79-7937-4734-b9ea-1aaae24195a7",
   "metadata": {},
   "outputs": [
    {
     "data": {
      "text/plain": [
       "[[20, 35], [35, 70], [70, 100], [100, 200]]"
      ]
     },
     "execution_count": 56,
     "metadata": {},
     "output_type": "execute_result"
    }
   ],
   "source": [
    "Obs_bin"
   ]
  },
  {
   "cell_type": "code",
   "execution_count": 57,
   "id": "b3140414-6889-4ce3-9f7e-2598424b600f",
   "metadata": {},
   "outputs": [
    {
     "data": {
      "text/plain": [
       "[[0.2, 0.3],\n",
       " [0.3, 0.4],\n",
       " [0.4, 0.5],\n",
       " [0.5, 0.6],\n",
       " [0.6, 0.7],\n",
       " [0.7, 0.8],\n",
       " [0.8, 1.0]]"
      ]
     },
     "execution_count": 57,
     "metadata": {},
     "output_type": "execute_result"
    }
   ],
   "source": [
    "Z_bin"
   ]
  },
  {
   "cell_type": "markdown",
   "id": "696afb2a-49be-401c-8c1e-a8049494448e",
   "metadata": {},
   "source": [
    "# WL mass"
   ]
  },
  {
   "cell_type": "markdown",
   "id": "b1f4d24b-9adc-42e0-9858-3df216684f30",
   "metadata": {},
   "source": [
    "## Estimating shear profile"
   ]
  },
  {
   "cell_type": "code",
   "execution_count": 94,
   "id": "453eaa93",
   "metadata": {},
   "outputs": [
    {
     "name": "stdout",
     "output_type": "stream",
     "text": [
      "140\n",
      "73\n",
      "14\n",
      "6\n",
      "252\n",
      "104\n",
      "13\n",
      "6\n",
      "300\n",
      "137\n",
      "17\n",
      "17\n",
      "354\n",
      "122\n",
      "19\n",
      "12\n",
      "367\n",
      "153\n",
      "31\n",
      "14\n",
      "304\n",
      "139\n",
      "21\n",
      "7\n",
      "650\n",
      "288\n",
      "32\n",
      "22\n"
     ]
    }
   ],
   "source": [
    "profile_true_stack = prf.stacked_profile(profile = ind_profile,\n",
    "                    r_in = 'radius_true',\n",
    "                    gt_in = 'DSt_true', gx_in = 'DSx_true',\n",
    "                    r_out = 'radius',\n",
    "                    gt_out = 'gt', gx_out = 'gx',\n",
    "                    weight = 'W_l_true',\n",
    "                    z_name = 'redshift', obs_name = 'richness',\n",
    "                    Z_bin = Z_bin, Obs_bin = Obs_bin, add_columns_to_bin = ['W_l_true','richness', 'redshift', \n",
    "                                                                            'weight_per_cluster_true_5', 'weight_per_cluster_true_10',\n",
    "                                                                            'weight_per_cluster_bpz_5', 'weight_per_cluster_bpz_10',\n",
    "                                                                            'weight_per_cluster_flex_5', 'weight_per_cluster_flex_10'])\n",
    "covariance_true_stack = prf.bootstrap_covariance(profile = ind_profile,\n",
    "                    r_in = 'radius_true',\n",
    "                    gt_in = 'DSt_true', gx_in = 'DSx_true',\n",
    "                    r_out = 'radius',\n",
    "                    gt_out = 'gt', gx_out = 'gx',\n",
    "                    weight = 'W_l_true',\n",
    "                    #n_jack = 50,\n",
    "                                                #ra = 'ra', dec = 'dec',\n",
    "                                                n_boot = 600,\n",
    "                    z_name = 'redshift', obs_name = 'richness',\n",
    "                    Z_bin = Z_bin, Obs_bin = Obs_bin)"
   ]
  },
  {
   "cell_type": "code",
   "execution_count": 95,
   "id": "80e060c8-a44e-4aef-bbbe-0cc05e695f74",
   "metadata": {},
   "outputs": [],
   "source": [
    "t = {'stacked profile':profile_true_stack, 'stacked covariance': covariance_true_stack}"
   ]
  },
  {
   "cell_type": "code",
   "execution_count": 99,
   "id": "c74877db-bece-454f-ab3c-173f8bad9a2e",
   "metadata": {},
   "outputs": [
    {
     "data": {
      "text/plain": [
       "<matplotlib.colorbar.Colorbar at 0x7f5412a67fd0>"
      ]
     },
     "execution_count": 99,
     "metadata": {},
     "output_type": "execute_result"
    },
    {
     "data": {
      "image/png": "[encoded data removed]",
      "text/plain": [
       "<Figure size 640x480 with 2 Axes>"
      ]
     },
     "metadata": {},
     "output_type": "display_data"
    }
   ],
   "source": [
    "cov = t['stacked covariance']\n",
    "cov_t = cov['cov_t'][15]\n",
    "corr = np.zeros(cov_t.shape)\n",
    "for i in range(corr.shape[0]):\n",
    "    for j in range(corr.shape[0]):\n",
    "        corr[i,j] = cov_t[i,j]/np.sqrt(cov_t[i,i]*cov_t[j,j])\n",
    "plt.imshow(corr, vmin=-1, vmax = 1, cmap='bwr')\n",
    "plt.colorbar()"
   ]
  },
  {
   "cell_type": "code",
   "execution_count": 40,
   "id": "2062d7b2-84ce-4594-9f71-32ae279c0000",
   "metadata": {},
   "outputs": [],
   "source": [
    "#save_pickle(t, '/pbs/throng/lsst/users/cpayerne/CLMassDC2/notebooks/data_for_notebooks/stacked_esd_profiles_redmapper_true.pkl', allow_pickle=True)"
   ]
  },
  {
   "cell_type": "code",
   "execution_count": 13,
   "id": "1e84ded8-e047-4edb-915a-ded8f6a03df4",
   "metadata": {},
   "outputs": [
    {
     "name": "stdout",
     "output_type": "stream",
     "text": [
      "140\n",
      "73\n",
      "14\n",
      "6\n",
      "252\n",
      "104\n",
      "13\n",
      "6\n",
      "300\n",
      "137\n",
      "17\n",
      "17\n",
      "354\n",
      "122\n",
      "19\n",
      "12\n",
      "367\n",
      "153\n",
      "31\n",
      "14\n",
      "304\n",
      "139\n",
      "21\n",
      "7\n",
      "650\n",
      "288\n",
      "32\n",
      "22\n"
     ]
    }
   ],
   "source": [
    "profile_BPZ_stack = prf.stacked_profile(profile = ind_profile,\n",
    " r_in = 'radius_bpz',\n",
    "                    gt_in = 'DSt_bpz', gx_in = 'DSx_bpz',\n",
    "                    r_out = 'radius',\n",
    "                    gt_out = 'gt', gx_out = 'gx',\n",
    "                    weight = 'W_l_bpz',\n",
    "                    z_name = 'redshift', obs_name = 'richness',\n",
    "                    Z_bin = Z_bin, Obs_bin = Obs_bin, add_columns_to_bin = ['W_l_bpz','richness', 'redshift'])\n",
    "covariance_BPZ_stack = prf.bootstrap_covariance(profile = ind_profile,\n",
    "                    r_in = 'radius_bpz',\n",
    "                    gt_in = 'DSt_bpz', gx_in = 'DSx_bpz',\n",
    "                    r_out = 'radius',\n",
    "                    gt_out = 'gt', gx_out = 'gx',\n",
    "                    weight = 'W_l_bpz',\n",
    "                    n_boot = 400,\n",
    "                    z_name = 'redshift', obs_name = 'richness',\n",
    "                    Z_bin = Z_bin, Obs_bin = Obs_bin)"
   ]
  },
  {
   "cell_type": "code",
   "execution_count": 14,
   "id": "b1aa82d6-ee73-43b7-87b4-092395507ed7",
   "metadata": {},
   "outputs": [],
   "source": [
    "t2 = {'stacked profile':profile_BPZ_stack, 'stacked covariance': covariance_BPZ_stack}"
   ]
  },
  {
   "cell_type": "code",
   "execution_count": 15,
   "id": "e9bef5f2-b677-407b-ab18-5f97d0eac204",
   "metadata": {},
   "outputs": [
    {
     "data": {
      "text/plain": [
       "28"
      ]
     },
     "execution_count": 15,
     "metadata": {},
     "output_type": "execute_result"
    }
   ],
   "source": [
    "len(profile_BPZ_stack)"
   ]
  },
  {
   "cell_type": "code",
   "execution_count": 16,
   "id": "064b56dd-7347-4b9e-89b2-0c466339714a",
   "metadata": {},
   "outputs": [],
   "source": [
    "save_pickle(t2, '/pbs/throng/lsst/users/cpayerne/CLMassDC2/notebooks/data_for_notebooks/stacked_esd_profiles_redmapper_BPZ.pkl', allow_pickle=True)"
   ]
  },
  {
   "cell_type": "code",
   "execution_count": 17,
   "id": "3300d8e9-b53a-4e90-86da-35ff24255241",
   "metadata": {},
   "outputs": [
    {
     "name": "stdout",
     "output_type": "stream",
     "text": [
      "140\n",
      "73\n",
      "14\n",
      "6\n",
      "252\n",
      "104\n",
      "13\n",
      "6\n",
      "300\n",
      "137\n",
      "17\n",
      "17\n",
      "354\n",
      "122\n",
      "19\n",
      "12\n",
      "367\n",
      "153\n",
      "31\n",
      "14\n",
      "304\n",
      "139\n",
      "21\n",
      "7\n",
      "650\n",
      "288\n",
      "32\n",
      "22\n"
     ]
    }
   ],
   "source": [
    "profile_flex_stack = prf.stacked_profile(profile = ind_profile,\n",
    " r_in = 'radius_flex',\n",
    "                    gt_in = 'DSt_flex', gx_in = 'DSx_flex',\n",
    "                    r_out = 'radius',\n",
    "                    gt_out = 'gt', gx_out = 'gx',\n",
    "                    weight = 'W_l_flex',\n",
    "                    z_name = 'redshift', obs_name = 'richness',\n",
    "                    Z_bin = Z_bin, Obs_bin = Obs_bin, add_columns_to_bin = ['W_l_flex','richness', 'redshift'])\n",
    "\n",
    "covariance_flex_stack = prf.bootstrap_covariance(profile = ind_profile,\n",
    "                    r_in = 'radius_flex',\n",
    "                    gt_in = 'DSt_flex', gx_in = 'DSx_flex',\n",
    "                    r_out = 'radius',\n",
    "                    gt_out = 'gt', gx_out = 'gx',\n",
    "                    weight = 'W_l_flex',\n",
    "                    n_boot = 400,\n",
    "                    z_name = 'redshift', obs_name = 'richness',\n",
    "                    Z_bin = Z_bin, Obs_bin = Obs_bin)"
   ]
  },
  {
   "cell_type": "code",
   "execution_count": 18,
   "id": "1862f2c8-1397-4b09-af36-4782b0cdcaca",
   "metadata": {},
   "outputs": [],
   "source": [
    "t3 = {'stacked profile':profile_flex_stack, 'stacked covariance': covariance_flex_stack}"
   ]
  },
  {
   "cell_type": "code",
   "execution_count": 19,
   "id": "03ec530c-f57f-447a-97db-96c5330addc6",
   "metadata": {},
   "outputs": [
    {
     "data": {
      "text/plain": [
       "28"
      ]
     },
     "execution_count": 19,
     "metadata": {},
     "output_type": "execute_result"
    }
   ],
   "source": [
    "len(profile_flex_stack)"
   ]
  },
  {
   "cell_type": "code",
   "execution_count": 20,
   "id": "0efd53ec-e967-495a-b857-b5da09635c90",
   "metadata": {},
   "outputs": [],
   "source": [
    "save_pickle(t3, '/pbs/throng/lsst/users/cpayerne/CLMassDC2/notebooks/data_for_notebooks/stacked_esd_profiles_redmapper_flex.pkl', allow_pickle=True)"
   ]
  },
  {
   "cell_type": "code",
   "execution_count": null,
   "id": "59bfcf65-a290-47dd-838f-3c7cf76e7159",
   "metadata": {},
   "outputs": [],
   "source": []
  }
 ],
 "metadata": {
  "kernelspec": {
   "display_name": "myenv",
   "language": "python",
   "name": "myenv"
  },
  "language_info": {
   "codemirror_mode": {
    "name": "ipython",
    "version": 3
   },
   "file_extension": ".py",
   "mimetype": "text/x-python",
   "name": "python",
   "nbconvert_exporter": "python",
   "pygments_lexer": "ipython3",
   "version": "3.10.10"
  }
 },
 "nbformat": 4,
 "nbformat_minor": 5
}
