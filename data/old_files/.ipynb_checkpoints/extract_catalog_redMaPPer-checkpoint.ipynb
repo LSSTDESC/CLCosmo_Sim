{
 "cells": [
  {
   "cell_type": "code",
   "execution_count": 9,
   "id": "retired-squad",
   "metadata": {},
   "outputs": [],
   "source": [
    "import GCRCatalogs\n",
    "import matplotlib.pyplot as plt\n",
    "import pickle\n",
    "import sys\n",
    "import numpy as np\n",
    "from astropy.cosmology import FlatLambdaCDM\n",
    "import astropy.units as u\n",
    "from astropy.table import Table\n",
    "def load(filename, **kwargs):\n",
    "    \"\"\"Loads GalaxyCluster object to filename using Pickle\"\"\"\n",
    "    with open(filename, 'rb') as fin:\n",
    "        return pickle.load(fin, **kwargs)"
   ]
  },
  {
   "cell_type": "code",
   "execution_count": 10,
   "id": "bacterial-fairy",
   "metadata": {},
   "outputs": [],
   "source": [
    "catalog = GCRCatalogs.load_catalog('cosmoDC2_v1.1.4_redmapper_v0.8.1')"
   ]
  },
  {
   "cell_type": "code",
   "execution_count": 11,
   "id": "endless-watson",
   "metadata": {},
   "outputs": [],
   "source": [
    "quantity = ['cluster_id','ra', 'dec', 'redshift', 'redshift_err', 'richness', 'richness_err']"
   ]
  },
  {
   "cell_type": "code",
   "execution_count": 12,
   "id": "e15024f7-92c3-485d-b73b-2dda63d483e5",
   "metadata": {},
   "outputs": [],
   "source": [
    "dat = catalog.get_quantities(quantity)"
   ]
  },
  {
   "cell_type": "code",
   "execution_count": 6,
   "id": "34149eca-3c81-4ba0-a32c-d9032ddd8d90",
   "metadata": {},
   "outputs": [
    {
     "data": {
      "image/png": "[encoded data removed]",
      "text/plain": [
       "<Figure size 640x480 with 1 Axes>"
      ]
     },
     "metadata": {},
     "output_type": "display_data"
    }
   ],
   "source": [
    "plt.hist2d(dat['redshift'], dat['richness'], cmap = 'gist_rainbow', bins=[30, np.logspace(np.log10(20), np.log10(300), 20)], cmin=1)\n",
    "plt.yscale('log')"
   ]
  },
  {
   "cell_type": "code",
   "execution_count": 9,
   "id": "9f84db7a-004b-487d-a971-a6551f00f946",
   "metadata": {},
   "outputs": [],
   "source": [
    "#print(len(dat['richness'][(dat['richness'] > 20)*(dat['redshift'] > .2)]))"
   ]
  },
  {
   "cell_type": "code",
   "execution_count": 7,
   "id": "d7663cb2-13a2-42ad-a22f-c49255829c9e",
   "metadata": {},
   "outputs": [],
   "source": [
    "def save_pickle(dat, filename, **kwargs):\n",
    "     file = open(filename,'wb')\n",
    "     pickle.dump(dat, file)\n",
    "     file.close()"
   ]
  },
  {
   "cell_type": "code",
   "execution_count": 8,
   "id": "c4912e14-56a4-4c2d-b20f-8b9eec713763",
   "metadata": {},
   "outputs": [],
   "source": [
    "save_pickle(Table(dat), 'lens_catalog_cosmoDC2_v1.1.4_redmapper_v0.8.1.pkl')"
   ]
  },
  {
   "cell_type": "code",
   "execution_count": 12,
   "id": "b379cc04-f0e4-4494-84d7-5ca1fec0f16d",
   "metadata": {},
   "outputs": [],
   "source": [
    "#Table(dat).colnames"
   ]
  },
  {
   "cell_type": "code",
   "execution_count": null,
   "id": "4a85ea3c-bc05-4a5e-a778-1bc789a8a925",
   "metadata": {},
   "outputs": [],
   "source": []
  }
 ],
 "metadata": {
  "kernelspec": {
   "display_name": "myenv",
   "language": "python",
   "name": "myenv"
  },
  "language_info": {
   "codemirror_mode": {
    "name": "ipython",
    "version": 3
   },
   "file_extension": ".py",
   "mimetype": "text/x-python",
   "name": "python",
   "nbconvert_exporter": "python",
   "pygments_lexer": "ipython3",
   "version": "3.10.10"
  }
 },
 "nbformat": 4,
 "nbformat_minor": 5
}
