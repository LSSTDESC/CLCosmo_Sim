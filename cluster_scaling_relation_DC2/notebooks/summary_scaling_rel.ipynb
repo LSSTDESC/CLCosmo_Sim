{
 "cells": [
  {
   "cell_type": "code",
   "execution_count": 52,
   "id": "146ac57d-4b61-4307-b95d-dd5e56893c04",
   "metadata": {},
   "outputs": [
    {
     "name": "stdout",
     "output_type": "stream",
     "text": [
      "The autoreload extension is already loaded. To reload it, use:\n",
      "  %reload_ext autoreload\n"
     ]
    }
   ],
   "source": [
    "%load_ext autoreload\n",
    "\n",
    "%autoreload 2\n",
    "import numpy as np\n",
    "import corner, sys\n",
    "import getdist\n",
    "from getdist import plots, MCSamples\n",
    "%matplotlib inline\n",
    "import matplotlib.pyplot as plt\n",
    "sys.path.append('../../modules/')\n",
    "import numpy as np\n",
    "#plt.switch_backend(\"Qt5Agg\")"
   ]
  },
  {
   "cell_type": "code",
   "execution_count": 53,
   "id": "1bd5fc23-f084-4a98-bc8e-0b4b0fe2a43a",
   "metadata": {},
   "outputs": [],
   "source": [
    "names = ['1', '2', '3', '4', '5', '6']\n",
    "labels = [r'\\ln \\lambda_0', r'\\mu_z', r'\\mu_m', r'\\sigma_{\\ln \\lambda, 0}', r'\\sigma_z', r'\\sigma_m']\n",
    "settings={'mult_bias_correction_order':0,'smooth_scale_2D':4, 'smooth_scale_1D':4, 'boundary_correction_order':0}"
   ]
  },
  {
   "cell_type": "code",
   "execution_count": 57,
   "id": "4a1dc8c8-4aac-45f3-94ac-673cc6f74fa4",
   "metadata": {},
   "outputs": [
    {
     "name": "stdout",
     "output_type": "stream",
     "text": [
      "Removed no burn in\n",
      "Removed no burn in\n",
      "Removed no burn in\n",
      "Removed no burn in\n",
      "Removed no burn in\n",
      "Removed no burn in\n"
     ]
    }
   ],
   "source": [
    "n_cut=19000\n",
    "name='1-halo=nfw+c-M=Duffy08_rmin=1.0-rmax=3.5_photoz=Truez_hmf=Despali16'\n",
    "t = np.load(f'../chains/M/MCMC_fit_m-r_M_{name}.pkl', allow_pickle = True)\n",
    "M = MCSamples(samples=t['flat_chains'][n_cut:],names = names, \n",
    "                    labels = labels, \n",
    "                     settings=settings, \n",
    "                     label='Lensing masses alone')\n",
    "t = np.load('../chains/N/MCMC_fit_m-r_N_low_z_sample_hmf=Despali16.pkl', allow_pickle = True)\n",
    "N = MCSamples(samples=t['flat_chains'][n_cut:],names = names, \n",
    "                    labels = labels, \n",
    "                     settings=settings, \n",
    "                     label='Abundance alone')\n",
    "t = np.load(f'../chains/MxN/MCMC_fit_m-r_MxN_{name}.pkl', allow_pickle = True)\n",
    "MxN = MCSamples(samples=t['flat_chains'][n_cut:],names = names, \n",
    "                    labels = labels, \n",
    "                     settings=settings, \n",
    "                     label='Lensing masses + Abundance')\n",
    "t = np.load(f'../chains/WL/MCMC_fit_m-r_WL_{name}.pkl', allow_pickle = True)\n",
    "WL = MCSamples(samples=t['flat_chains'][n_cut:],names = names, \n",
    "                    labels = labels, \n",
    "                     settings=settings, \n",
    "                     label='Lensing profiles alone')\n",
    "t = np.load(f'../chains/WLxN/MCMC_fit_m-r_WLxN_{name}.pkl', allow_pickle = True)\n",
    "WLxN = MCSamples(samples=t['flat_chains'][n_cut:],names = names, \n",
    "                    labels = labels, \n",
    "                     settings=settings, \n",
    "                     label='Lensing profiles + Abundance')\n",
    "t = np.load(f'../chains/WLxN/MCMC_fit_m-r_WLxN_1-halo=nfw+c-M=Duffy08_rmin=1.0-rmax=3.5_photoz=Truez_low_z_sample_hmf=Despali16.pkl', allow_pickle = True)\n",
    "WLxNlowz = MCSamples(samples=t['flat_chains'][n_cut:],names = names, \n",
    "                    labels = labels, \n",
    "                     settings=settings, \n",
    "                     label='Lensing profiles + Abundance ($z < 0.8$)')"
   ]
  },
  {
   "cell_type": "code",
   "execution_count": 59,
   "id": "fab61101-5924-477f-8e73-acc457131bb3",
   "metadata": {},
   "outputs": [
    {
     "name": "stdout",
     "output_type": "stream",
     "text": [
      "Abundance alone & $3.27 \\pm 0.14$  & $0.04 \\pm 0.19$  & $2.22 \\pm 0.20$  & $0.53 \\pm 0.11$  & $0.06 \\pm 0.25$  & $-0.11 \\pm 0.14$ \\\\\n",
      "Lensing masses alone & $3.37 \\pm 0.20$  & $0.18 \\pm 0.47$  & $2.34 \\pm 0.44$  & $0.52 \\pm 0.10$  & $-0.03 \\pm 0.32$  & $-0.00 \\pm 0.15$ \\\\\n",
      "Lensing profiles alone & $3.31 \\pm 0.19$  & $0.36 \\pm 0.54$  & $2.41 \\pm 0.45$  & $0.54 \\pm 0.08$  & $-0.05 \\pm 0.33$  & $-0.03 \\pm 0.15$ \\\\\n",
      "Lensing masses + Abundance & $3.33 \\pm 0.04$  & $0.14 \\pm 0.07$  & $2.14 \\pm 0.06$  & $0.58 \\pm 0.02$  & $0.06 \\pm 0.11$  & $0.13 \\pm 0.07$ \\\\\n",
      "Lensing profiles + Abundance & $3.37 \\pm 0.03$  & $0.08 \\pm 0.07$  & $2.18 \\pm 0.07$  & $0.53 \\pm 0.03$  & $0.20 \\pm 0.11$  & $0.14 \\pm 0.05$ \\\\\n",
      "Lensing profiles + Abundance ($z < 0.8$) & $3.34 \\pm 0.04$  & $-0.04 \\pm 0.13$  & $2.16 \\pm 0.07$  & $0.54 \\pm 0.02$  & $0.17 \\pm 0.15$  & $0.08 \\pm 0.08$ \\\\\n"
     ]
    }
   ],
   "source": [
    "list_chains = [N, M, WL, MxN, WLxN, WLxNlowz]\n",
    "for chain in list_chains:\n",
    "    means = chain.mean(['1', '2', '3', '4', '5', '6'])\n",
    "    errors = np.diagonal(chain.cov(['1', '2', '3', '4', '5', '6']))**.5\n",
    "    a = str(chain.label)\n",
    "    for i, n in enumerate(['1', '2', '3', '4', '5', '6']):\n",
    "        a += f' & ${means[i]:.2f} \\pm {errors[i]:.2f}$ '\n",
    "    a += '\\{}'.format('\\\\')\n",
    "    print(a)"
   ]
  },
  {
   "cell_type": "markdown",
   "id": "5c578194-3b87-4c93-83e5-98c5b4be5de9",
   "metadata": {},
   "source": [
    "# impact c(M) relation"
   ]
  },
  {
   "cell_type": "code",
   "execution_count": 49,
   "id": "1fdb5669-1953-4150-89b9-c6d552c54473",
   "metadata": {},
   "outputs": [
    {
     "name": "stdout",
     "output_type": "stream",
     "text": [
      "Removed no burn in\n",
      "Removed no burn in\n",
      "Removed no burn in\n",
      "Removed no burn in\n",
      "Removed no burn in\n"
     ]
    }
   ],
   "source": [
    "n_cut=19000\n",
    "name='1-halo=nfw+c-M=Duffy08_rmin=1.0-rmax=3.5_photoz=Truez_hmf=Despali16'\n",
    "t = np.load(f'../chains/MxN/MCMC_fit_m-r_MxN_{name}.pkl', allow_pickle = True)\n",
    "MxNDuffy08 = MCSamples(samples=t['flat_chains'][n_cut:],names = names, \n",
    "                    labels = labels, \n",
    "                     settings=settings, \n",
    "                     label='Duffy et al. 2008')\n",
    "name='1-halo=nfw+c-M=Prada12_rmin=1.0-rmax=3.5_photoz=Truez_hmf=Despali16'\n",
    "t = np.load(f'../chains/MxN/MCMC_fit_m-r_MxN_{name}.pkl', allow_pickle = True)\n",
    "MxNPrada12 = MCSamples(samples=t['flat_chains'][n_cut:],names = names, \n",
    "                    labels = labels, \n",
    "                     settings=settings, \n",
    "                     label='Prada et al. 2012')\n",
    "name='1-halo=nfw+c-M=Bhattacharya13_rmin=1.0-rmax=3.5_photoz=Truez_hmf=Despali16'\n",
    "t = np.load(f'../chains/MxN/MCMC_fit_m-r_MxN_{name}.pkl', allow_pickle = True)\n",
    "MxNBhattacharya13 = MCSamples(samples=t['flat_chains'][n_cut:],names = names, \n",
    "                    labels = labels, \n",
    "                     settings=settings, \n",
    "                     label='Bhattacharya et al. 2013')\n",
    "name='1-halo=nfw+c-M=Diemer15_rmin=1.0-rmax=3.5_photoz=Truez_hmf=Despali16'\n",
    "t = np.load(f'../chains/MxN/MCMC_fit_m-r_MxN_{name}.pkl', allow_pickle = True)\n",
    "MxNDiemer15 = MCSamples(samples=t['flat_chains'][n_cut:],names = names, \n",
    "                    labels = labels, \n",
    "                     settings=settings, \n",
    "                     label='Diemer & Kravtsov 2014')\n",
    "name='1-halo=nfw+c-M=None_rmin=1.0-rmax=3.5_photoz=Truez_hmf=Despali16'\n",
    "t = np.load(f'../chains/MxN/MCMC_fit_m-r_MxN_{name}.pkl', allow_pickle = True)\n",
    "MxNnone = MCSamples(samples=t['flat_chains'][n_cut:],names = names, \n",
    "                    labels = labels, \n",
    "                     settings=settings, \n",
    "                     label='free concentration')"
   ]
  },
  {
   "cell_type": "code",
   "execution_count": 50,
   "id": "5ae634ab-693d-4cbb-a42f-b152283e3021",
   "metadata": {},
   "outputs": [],
   "source": [
    "list_chains = [MxNDuffy08, MxNPrada12, MxNBhattacharya13, MxNDiemer15, MxNnone]"
   ]
  },
  {
   "cell_type": "code",
   "execution_count": 51,
   "id": "ccf7cea7-731b-4a2c-aed4-86144a4a36cb",
   "metadata": {},
   "outputs": [
    {
     "name": "stdout",
     "output_type": "stream",
     "text": [
      "Duffy et al. 2008 & $3.33 \\pm 0.04$  & $0.14 \\pm 0.07$  & $2.14 \\pm 0.06$  & $0.58 \\pm 0.02$  & $0.06 \\pm 0.11$  & $0.13 \\pm 0.07$ \\\\\n",
      "Prada et al. 2012 & $3.40 \\pm 0.04$  & $0.17 \\pm 0.06$  & $2.22 \\pm 0.07$  & $0.52 \\pm 0.03$  & $0.02 \\pm 0.10$  & $0.16 \\pm 0.05$ \\\\\n",
      "Bhattacharya et al. 2013 & $3.37 \\pm 0.04$  & $0.14 \\pm 0.08$  & $2.19 \\pm 0.06$  & $0.55 \\pm 0.03$  & $0.07 \\pm 0.12$  & $0.14 \\pm 0.05$ \\\\\n",
      "Diemer & Kravtsov 2014 & $3.38 \\pm 0.03$  & $0.15 \\pm 0.07$  & $2.20 \\pm 0.07$  & $0.54 \\pm 0.03$  & $0.06 \\pm 0.12$  & $0.15 \\pm 0.05$ \\\\\n",
      "free concentration & $3.37 \\pm 0.04$  & $0.14 \\pm 0.08$  & $2.19 \\pm 0.08$  & $0.54 \\pm 0.03$  & $0.08 \\pm 0.14$  & $0.15 \\pm 0.06$ \\\\\n"
     ]
    }
   ],
   "source": [
    "for chain in list_chains:\n",
    "    means = chain.mean(['1', '2', '3', '4', '5', '6'])\n",
    "    errors = np.diagonal(chain.cov(['1', '2', '3', '4', '5', '6']))**.5\n",
    "    a = str(chain.label)\n",
    "    for i, n in enumerate(['1', '2', '3', '4', '5', '6']):\n",
    "        a += f' & ${means[i]:.2f} \\pm {errors[i]:.2f}$ '\n",
    "    a += '\\{}'.format('\\\\')\n",
    "    print(a)"
   ]
  },
  {
   "cell_type": "markdown",
   "id": "ffa455cd-79ad-43ee-a423-c10c73bed52f",
   "metadata": {},
   "source": [
    "# impact halo model"
   ]
  },
  {
   "cell_type": "code",
   "execution_count": 61,
   "id": "f88dfeba-46f5-4e9e-a287-7c4fa5c64176",
   "metadata": {},
   "outputs": [
    {
     "name": "stdout",
     "output_type": "stream",
     "text": [
      "Removed no burn in\n",
      "Removed no burn in\n",
      "Removed no burn in\n"
     ]
    }
   ],
   "source": [
    "n_cut=19000\n",
    "name='1-halo=nfw+c-M=None_rmin=1.0-rmax=3.5_photoz=Truez_hmf=Despali16'\n",
    "t = np.load(f'../chains/MxN/MCMC_fit_m-r_MxN_{name}.pkl', allow_pickle = True)\n",
    "MxN_NFW = MCSamples(samples=t['flat_chains'][n_cut:],names = names, \n",
    "                    labels = labels, \n",
    "                     settings=settings, \n",
    "                     label='Navarro-Frenk-White (NFW)')\n",
    "name='1-halo=hernquist+c-M=None_rmin=1.0-rmax=3.5_photoz=Truez_hmf=Despali16'\n",
    "t = np.load(f'../chains/MxN/MCMC_fit_m-r_MxN_{name}.pkl', allow_pickle = True)\n",
    "MxN_hernquist = MCSamples(samples=t['flat_chains'][n_cut:],names = names, \n",
    "                    labels = labels, \n",
    "                     settings=settings, \n",
    "                     label='Hernquist')\n",
    "name='1-halo=einasto+c-M=None_rmin=1.0-rmax=3.5_photoz=Truez_hmf=Despali16'\n",
    "t = np.load(f'../chains/MxN/MCMC_fit_m-r_MxN_{name}.pkl', allow_pickle = True)\n",
    "MxN_einasto = MCSamples(samples=t['flat_chains'][n_cut:],names = names, \n",
    "                    labels = labels, \n",
    "                     settings=settings, \n",
    "                     label='Einasto')"
   ]
  },
  {
   "cell_type": "code",
   "execution_count": 62,
   "id": "2c221210-7701-4fff-b3d2-ce5cc68f2f64",
   "metadata": {},
   "outputs": [
    {
     "name": "stdout",
     "output_type": "stream",
     "text": [
      "Navarro-Frenk-White (NFW) & $3.37 \\pm 0.04$  & $0.14 \\pm 0.08$  & $2.19 \\pm 0.08$  & $0.54 \\pm 0.03$  & $0.08 \\pm 0.14$  & $0.15 \\pm 0.06$ \\\\\n",
      "Einasto & $3.36 \\pm 0.04$  & $0.13 \\pm 0.08$  & $2.18 \\pm 0.07$  & $0.55 \\pm 0.03$  & $0.08 \\pm 0.14$  & $0.14 \\pm 0.06$ \\\\\n",
      "Hernquist & $3.36 \\pm 0.05$  & $0.14 \\pm 0.08$  & $2.17 \\pm 0.08$  & $0.55 \\pm 0.03$  & $0.08 \\pm 0.13$  & $0.13 \\pm 0.06$ \\\\\n"
     ]
    }
   ],
   "source": [
    "list_chains = [MxN_NFW, MxN_einasto, MxN_hernquist]\n",
    "for chain in list_chains:\n",
    "    means = chain.mean(['1', '2', '3', '4', '5', '6'])\n",
    "    errors = np.diagonal(chain.cov(['1', '2', '3', '4', '5', '6']))**.5\n",
    "    a = str(chain.label)\n",
    "    for i, n in enumerate(['1', '2', '3', '4', '5', '6']):\n",
    "        a += f' & ${means[i]:.2f} \\pm {errors[i]:.2f}$ '\n",
    "    a += '\\{}'.format('\\\\')\n",
    "    print(a)"
   ]
  },
  {
   "cell_type": "markdown",
   "id": "ec225eac-4629-46f4-a166-0d1ba5253383",
   "metadata": {},
   "source": [
    "# Impact photoz"
   ]
  },
  {
   "cell_type": "code",
   "execution_count": 65,
   "id": "e200162a-2d45-4c1d-a262-c23b88ecc0e1",
   "metadata": {},
   "outputs": [
    {
     "name": "stdout",
     "output_type": "stream",
     "text": [
      "Removed no burn in\n",
      "Removed no burn in\n",
      "Removed no burn in\n",
      "Removed no burn in\n",
      "Removed no burn in\n"
     ]
    }
   ],
   "source": [
    "n_cut=19000\n",
    "name='1-halo=nfw+c-M=Duffy08_rmin=1.0-rmax=3.5_photoz=Truez_hmf=Despali16'\n",
    "t = np.load(f'../chains/WLxN/MCMC_fit_m-r_WLxN_{name}.pkl', allow_pickle = True)\n",
    "WLxN_true = MCSamples(samples=t['flat_chains'][n_cut:],names = names, \n",
    "                    labels = labels, \n",
    "                     settings=settings, \n",
    "                     label='true source redshifts')\n",
    "name='1-halo=nfw+c-M=Duffy08_rmin=1.0-rmax=3.5_photoz=BPZ_hmf=Despali16'\n",
    "t = np.load(f'../chains/WLxN/MCMC_fit_m-r_WLxN_{name}.pkl', allow_pickle = True)\n",
    "WLxN_bpz = MCSamples(samples=t['flat_chains'][n_cut:],names = names, \n",
    "                    labels = labels, \n",
    "                     settings=settings, \n",
    "                     label='BPZ')\n",
    "\n",
    "name='1-halo=nfw+c-M=Duffy08+lensing_bias_rmin=1.0-rmax=3.5_photoz=BPZ_hmf=Despali16'\n",
    "t = np.load(f'../chains/WLxN/MCMC_fit_m-r_WLxN_{name}.pkl', allow_pickle = True)\n",
    "WLxN_bpzb = MCSamples(samples=t['flat_chains'][n_cut:],names = names+['7'], \n",
    "                    labels = labels+['b'], \n",
    "                     settings=settings, \n",
    "                     label='BPZ (with factor 1+b)')\n",
    "\n",
    "name='1-halo=nfw+c-M=Duffy08_rmin=1.0-rmax=3.5_photoz=flex_hmf=Despali16'\n",
    "t = np.load(f'../chains/WLxN/MCMC_fit_m-r_WLxN_{name}.pkl', allow_pickle = True)\n",
    "WLxN_flex = MCSamples(samples=t['flat_chains'][n_cut:],names = names, \n",
    "                    labels = labels, \n",
    "                     settings=settings, \n",
    "                     label='FlexZBoost')\n",
    "name='1-halo=nfw+c-M=Duffy08+lensing_bias_rmin=1.0-rmax=3.5_photoz=flex_hmf=Despali16'\n",
    "t = np.load(f'../chains/WLxN/MCMC_fit_m-r_WLxN_{name}.pkl', allow_pickle = True)\n",
    "WLxN_flexb = MCSamples(samples=t['flat_chains'][n_cut:],names = names+['7'], \n",
    "                    labels = labels+['b'], \n",
    "                     settings=settings, \n",
    "                     label='FlexZBoost (with factor 1+b)')"
   ]
  },
  {
   "cell_type": "code",
   "execution_count": 67,
   "id": "2e04e9ae-87d0-4831-bad8-6f171e5f9b17",
   "metadata": {},
   "outputs": [
    {
     "name": "stdout",
     "output_type": "stream",
     "text": [
      "true source redshifts & $3.37 \\pm 0.03$  & $0.08 \\pm 0.07$  & $2.18 \\pm 0.07$  & $0.53 \\pm 0.03$  & $0.20 \\pm 0.11$  & $0.14 \\pm 0.05$ \\\\\n",
      "BPZ & $3.29 \\pm 0.03$  & $-0.02 \\pm 0.08$  & $2.07 \\pm 0.06$  & $0.59 \\pm 0.02$  & $0.32 \\pm 0.11$  & $0.14 \\pm 0.06$ \\\\\n",
      "BPZ (with factor 1+b) & $3.33 \\pm 0.07$  & $-0.04 \\pm 0.09$  & $2.12 \\pm 0.11$  & $0.55 \\pm 0.06$  & $0.40 \\pm 0.15$  & $0.13 \\pm 0.06$ \\\\\n",
      "FlexZBoost & $3.37 \\pm 0.03$  & $0.09 \\pm 0.08$  & $2.18 \\pm 0.06$  & $0.54 \\pm 0.02$  & $0.17 \\pm 0.12$  & $0.14 \\pm 0.05$ \\\\\n",
      "FlexZBoost (with factor 1+b) & $3.33 \\pm 0.07$  & $0.08 \\pm 0.07$  & $2.12 \\pm 0.10$  & $0.57 \\pm 0.06$  & $0.17 \\pm 0.13$  & $0.14 \\pm 0.06$ \\\\\n"
     ]
    }
   ],
   "source": [
    "list_chains = [WLxN_true, WLxN_bpz, WLxN_bpzb, WLxN_flex, WLxN_flexb]\n",
    "for chain in list_chains:\n",
    "    means = chain.mean(['1', '2', '3', '4', '5', '6'])\n",
    "    errors = np.diagonal(chain.cov(['1', '2', '3', '4', '5', '6']))**.5\n",
    "    a = str(chain.label)\n",
    "    for i, n in enumerate(['1', '2', '3', '4', '5', '6']):\n",
    "        a += f' & ${means[i]:.2f} \\pm {errors[i]:.2f}$ '\n",
    "    a += '\\{}'.format('\\\\')\n",
    "    print(a)"
   ]
  },
  {
   "cell_type": "code",
   "execution_count": null,
   "id": "e8f857fa-8d01-4533-bed1-e6801caf75f3",
   "metadata": {},
   "outputs": [],
   "source": []
  }
 ],
 "metadata": {
  "kernelspec": {
   "display_name": "myenv",
   "language": "python",
   "name": "myenv"
  },
  "language_info": {
   "codemirror_mode": {
    "name": "ipython",
    "version": 3
   },
   "file_extension": ".py",
   "mimetype": "text/x-python",
   "name": "python",
   "nbconvert_exporter": "python",
   "pygments_lexer": "ipython3",
   "version": "3.10.10"
  }
 },
 "nbformat": 4,
 "nbformat_minor": 5
}
