{
 "cells": [
  {
   "cell_type": "code",
   "execution_count": 1,
   "id": "adc4f936-39cd-471e-87f9-5db32a36f6a2",
   "metadata": {},
   "outputs": [],
   "source": [
    "%load_ext autoreload\n",
    "%autoreload 2\n",
    "import matplotlib.pyplot as plt\n",
    "import pickle\n",
    "from astropy.io import fits as fits\n",
    "from astropy.coordinates import SkyCoord, match_coordinates_3d, match_coordinates_sky\n",
    "import sys\n",
    "import emcee\n",
    "import numpy as np\n",
    "from astropy.cosmology import FlatLambdaCDM\n",
    "import astropy.units as u\n",
    "from astropy.table import Table, QTable, hstack, vstack\n",
    "from astropy import units as u\n",
    "import corner\n",
    "from astropy.coordinates import SkyCoord, match_coordinates_3d\n",
    "cosmo_astropy = FlatLambdaCDM(H0=71.0, Om0=0.265, Ob0 = 0.0448)\n",
    "import iminuit\n",
    "from iminuit import Minuit\n",
    "sys.path.append('../modules/')\n",
    "import _analysis_cluster_mass_measurement as analysisM\n",
    "sys.path.append('../../')\n",
    "import _redshift_richness_bins as analysis"
   ]
  },
  {
   "cell_type": "code",
   "execution_count": 2,
   "id": "f5975a2a-5266-45ea-b3b5-6d5e2dad33ca",
   "metadata": {},
   "outputs": [],
   "source": [
    "dat = fits.open('../../data/matched_pairs_Mfofcut.fits')\n",
    "dat_open= dat[1].data"
   ]
  },
  {
   "cell_type": "code",
   "execution_count": null,
   "id": "6c7fd0d1-16ae-45aa-9c5d-12544f3bc186",
   "metadata": {},
   "outputs": [],
   "source": [
    "m = np.linspace(14, 15, 10)\n",
    "color = ['C' + str(i) for i in range(len(analysis.Z_bin))]\n",
    "for case in analysisM.analysis.keys():\n",
    "    analysis_list = analysisM.analysis[case]\n",
    "    if len(analysis_list)==1: continue\n",
    "    fig, ax = plt.subplots(1, len(analysis_list),figsize=(3*len(analysis_list), 3), sharex=True, sharey=True)\n",
    "    for i in range(len(analysis_list)):\n",
    "        file_to_load = analysis_list[i]['name_save']\n",
    "        f = Table(np.load(file_to_load, allow_pickle = True)['masses'])\n",
    "        for k, z_bin in enumerate(analysis.Z_bin):\n",
    "            if i==0:\n",
    "                ax[0].plot([],[], '-',label = f'{z_bin[0]:.1f}'+ r'$< z < $'+ f'{z_bin[1]:.1f}', color = color[k])\n",
    "                ax[0].legend(fontsize=5, loc = 'lower right')\n",
    "            for l, r_bin in enumerate(analysis.Obs_bin):\n",
    "                file_to_load = analysis_list[i]['name_save']\n",
    "                mask_z = (f['z_mean'] > z_bin[0])*(f['z_mean'] < z_bin[1])\n",
    "                mask_r = (f['obs_mean'] > r_bin[0])*(f['obs_mean'] < r_bin[1])\n",
    "                mask = mask_z * mask_r\n",
    "                f_cut = f[mask]\n",
    "                richness = f_cut['obs_mean']\n",
    "                richness_err = f_cut['obs_rms']\n",
    "                logm200w = f_cut['log10M200c_WL']\n",
    "                logm200w_err = f_cut['err_log10M200c_WL']\n",
    "                mask_z = (dat_open['cat1_ztrue_cg'] > z_bin[0])*(dat_open['cat1_ztrue_cg'] < z_bin[1])\n",
    "                mask_r = (dat_open['cat1_richness'] > r_bin[0])*(dat_open['cat1_richness'] < r_bin[1])\n",
    "                mask = mask_z * mask_r\n",
    "                ax[i].set_ylim(14, 15)\n",
    "                ax[i].set_xlim(14, 15)\n",
    "                mean_logm_true = np.log10(np.mean(dat_open['cat2_M200c'][mask]))\n",
    "                mean_logm_true_err = np.std(np.log10(dat_open['cat2_M200c'][mask]))/np.sqrt(len(mask[mask==True]))\n",
    "                ax[i].errorbar(mean_logm_true, logm200w, yerr=logm200w_err, xerr=mean_logm_true_err, color = color[k])\n",
    "                ax[i].plot(m, m, '--k', zorder=0)\n",
    "                ax[i].set_ylabel(r'$WL\\ \\log_{10}M_{\\rm 200c}\\ [M_\\odot]$', fontsize=10)\n",
    "                ax[i].set_xlabel(r'$DC2\\ \\log_{10}M_{\\rm 200c}\\ [M_\\odot]$', fontsize=10)\n",
    "                title = file_to_load.split('../../cluster_mass_measurement/cluster-masses_')[1].split('.pkl')[0]\n",
    "                ax[i].set_title(title, fontsize=6)\n",
    "                ax[i].set_box_aspect(aspect=1)\n",
    "                ax[i].grid(True)\n",
    "    plt.savefig(f'../../fig/cluster_masses_DC2_vs_lensing_impact_{case}.png', bbox_inches='tight', dpi=300)"
   ]
  },
  {
   "cell_type": "code",
   "execution_count": null,
   "id": "ed8b1576-f9ac-405a-b5f6-172841f9caa6",
   "metadata": {},
   "outputs": [],
   "source": []
  }
 ],
 "metadata": {
  "kernelspec": {
   "display_name": "myenv",
   "language": "python",
   "name": "myenv"
  },
  "language_info": {
   "codemirror_mode": {
    "name": "ipython",
    "version": 3
   },
   "file_extension": ".py",
   "mimetype": "text/x-python",
   "name": "python",
   "nbconvert_exporter": "python",
   "pygments_lexer": "ipython3",
   "version": "3.10.10"
  }
 },
 "nbformat": 4,
 "nbformat_minor": 5
}
