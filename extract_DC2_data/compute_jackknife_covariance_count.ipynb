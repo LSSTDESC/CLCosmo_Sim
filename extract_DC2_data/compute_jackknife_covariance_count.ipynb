{
 "cells": [
  {
   "cell_type": "code",
   "execution_count": 1,
   "id": "891ccef6-3be1-4300-9702-7751bed9a839",
   "metadata": {},
   "outputs": [],
   "source": [
    "import numpy as np\n",
    "import mysql\n",
    "import healpy, math\n",
    "import copy\n",
    "from itertools import combinations, chain\n",
    "import matplotlib.pyplot as plt\n",
    "from mysql.connector import Error\n",
    "from astropy.table import QTable, Table, vstack, join, hstack\n",
    "conn = mysql.connector.connect(host='ccqserv201', user='qsmaster', port=30040)\n",
    "cursor = conn.cursor(dictionary=True, buffered=True)\n",
    "import _utils_extract_sources_in_cosmoDC2\n",
    "import GCRCatalogs\n",
    "import pickle\n",
    "def save_pickle(dat, filename, **kwargs):\n",
    "    file = open(filename,'wb')\n",
    "    pickle.dump(dat, file)\n",
    "    file.close()\n",
    "cosmodc2 = GCRCatalogs.load_catalog(\"cosmoDC2_v1.1.4_image\")\n",
    "healpix_dc2 = GCRCatalogs.load_catalog(\"cosmoDC2_v1.1.4_image\").get_catalog_info()['healpix_pixels']\n",
    "import sys\n",
    "sys.path.append('../')\n",
    "import _redshift_richness_bins as analysis"
   ]
  },
  {
   "cell_type": "code",
   "execution_count": 2,
   "id": "89b84fff-d950-4da5-b9ff-c36e79b643bc",
   "metadata": {},
   "outputs": [
    {
     "data": {
      "text/plain": [
       "439.78987"
      ]
     },
     "execution_count": 2,
     "metadata": {},
     "output_type": "execute_result"
    }
   ],
   "source": [
    "cosmodc2.sky_area"
   ]
  },
  {
   "cell_type": "code",
   "execution_count": 3,
   "id": "3509f62d-1f85-4bb2-9140-3405813cfe74",
   "metadata": {},
   "outputs": [],
   "source": [
    "name_lens_cat = '../data/lens_catalog_cosmoDC2_v1.1.4_redmapper_v0.8.1.pkl'\n",
    "ra_name, dec_name, z_name = 'ra', 'dec', 'redshift'\n",
    "obs_name = 'richness'\n",
    "lens_cat = np.load(name_lens_cat, allow_pickle = True)\n",
    "ra, dec, z, richness = lens_cat['ra'], lens_cat['dec'], lens_cat['redshift'], lens_cat['richness']\n",
    "mask = (richness > 20) * (richness < 200) * (z > 0.2) * (z < 1)\n",
    "ra, dec, z, richness = ra[mask], dec[mask], z[mask], richness[mask]"
   ]
  },
  {
   "cell_type": "code",
   "execution_count": 4,
   "id": "b658efb2-63ff-4a56-87f8-c9630b63dc21",
   "metadata": {},
   "outputs": [],
   "source": [
    "def binning(corner): return [[corner[i],corner[i+1]] for i in range(len(corner)-1)]\n",
    "z_corner = analysis.z_corner#n\n",
    "#z_corner = np.array([0.2, 0.4, 0.6, 0.8, 1])\n",
    "Z_bin = binning(z_corner)\n",
    "rich_corner = analysis.rich_corner\n",
    "#rich_corner = np.array([20, 35, 70, 100, 200])\n",
    "#rich_corner = np.array([r for r in rich_corner])\n",
    "Obs_bin = binning(rich_corner)"
   ]
  },
  {
   "cell_type": "code",
   "execution_count": 5,
   "id": "6e7a91b3-2759-4ad1-9fd8-b044bc6e7e5b",
   "metadata": {},
   "outputs": [],
   "source": [
    "n_density_redmapper = len(ra)/cosmodc2.sky_area"
   ]
  },
  {
   "cell_type": "code",
   "execution_count": 6,
   "id": "3a9b2128-7969-4ac0-984f-7f130a4911cd",
   "metadata": {},
   "outputs": [],
   "source": [
    "N, rich_edges, z_edges = np.histogram2d(z, richness,  bins = [z_corner, rich_corner, ])"
   ]
  },
  {
   "cell_type": "code",
   "execution_count": 7,
   "id": "4f9706ec-51a1-4e28-b08e-20d8b27c0a1e",
   "metadata": {},
   "outputs": [],
   "source": [
    "n = 10000000\n",
    "rand1 = np.random.random(n)\n",
    "dec_deg_random = np.array([math.asin(2*n_ - 1) for n_ in rand1])*180/np.pi"
   ]
  },
  {
   "cell_type": "code",
   "execution_count": 8,
   "id": "991b7d6c-af4a-4f98-ba0d-dc4b893f889e",
   "metadata": {},
   "outputs": [
    {
     "name": "stdout",
     "output_type": "stream",
     "text": [
      "2119455\n"
     ]
    }
   ],
   "source": [
    "mask_dec_random = (dec_deg_random < -20)*(dec_deg_random > -50)\n",
    "dec_deg_random = dec_deg_random[mask_dec_random]\n",
    "print(len(dec_deg_random))\n",
    "rand2 = np.random.random(len(dec_deg_random))\n",
    "ra_deg_random = rand2*(80 - 45) + 45\n",
    "healpix_random = healpy.ang2pix(32, ra_deg_random, dec_deg_random, nest=False, lonlat=True)\n",
    "mask_healpy_random = np.isin(healpix_random, healpix_dc2)\n",
    "ra_random, dec_random = ra_deg_random[mask_healpy_random], dec_deg_random[mask_healpy_random]"
   ]
  },
  {
   "cell_type": "code",
   "execution_count": 9,
   "id": "12ee23f8-9ee7-43c0-b810-6bb6d0828572",
   "metadata": {},
   "outputs": [],
   "source": [
    "n_density_random = len(ra_random)/439.78987"
   ]
  },
  {
   "cell_type": "code",
   "execution_count": 10,
   "id": "693dfbbd-2e4a-475a-a0b6-25dd6556cb88",
   "metadata": {},
   "outputs": [],
   "source": [
    "def cov_jaccknife(nside, cut_coverage=0.8, n_delete=1):\n",
    "    healpix_list = np.unique(healpy.ang2pix(nside, ra_deg_random, dec_deg_random, nest=False, lonlat=True))\n",
    "    #random on redmapper footprint\n",
    "    healpix_random = healpy.ang2pix(nside, ra_random, dec_random, nest=False, lonlat=True)\n",
    "    \n",
    "    count_per_hp_random = np.array([len(healpix_random[healpix_random==p]) for p in healpix_list])\n",
    "    density_per_hp = count_per_hp_random/healpy.nside2pixarea(nside, degrees=True)\n",
    "    n_density_random = len(ra_random)/cosmodc2.sky_area\n",
    "    coverage_hp = density_per_hp/n_density_random\n",
    "    mask_healpix_used = coverage_hp > cut_coverage\n",
    "    \n",
    "    healpix_to_measure, index = np.unique(healpix_list[mask_healpix_used], return_index=True)\n",
    "    coverage_to_measure = coverage_hp[mask_healpix_used]\n",
    "    healpix_to_measure_comb = list(combinations(healpix_to_measure, n_delete))\n",
    "    print(len(healpix_to_measure_comb))\n",
    "    n_healpix = len(np.unique(healpix_to_measure))\n",
    "    S_tot_healpix = n_healpix*healpy.nside2pixarea(nside, degrees=True)\n",
    "    frac = S_tot_healpix/cosmodc2.sky_area\n",
    "    \n",
    "    healpix_redmapper_clusters = healpy.ang2pix(nside, ra, dec, nest=False, lonlat=True)\n",
    "    histogram = np.zeros([len(z_corner)-1, len(rich_corner)-1, len(healpix_to_measure)])\n",
    "    for i, p in enumerate(healpix_to_measure):\n",
    "          histogram[:,:,i] =  np.histogram2d(z[np.isin(healpix_redmapper_clusters,p)],\n",
    "                                      richness[np.isin(healpix_redmapper_clusters,p)], \n",
    "                                      bins=(z_corner, rich_corner),weights=None)[0]/frac\n",
    "    pixeled_nc = np.zeros([len(healpix_to_measure_comb), (len(z_corner)-1)*(len(rich_corner)-1)])\n",
    "    for j, p_comb in enumerate(healpix_to_measure_comb):\n",
    "        index_healpix_to_keep = np.arange(len(healpix_to_measure))\n",
    "        index_healpix_to_keep = index_healpix_to_keep[np.invert(np.isin(healpix_to_measure,p_comb))]\n",
    "        histogram_JK = histogram[:,:,index_healpix_to_keep]\n",
    "        pixeled_nc[j,:] = np.sum(histogram_JK, axis = 2).flatten()\n",
    "    n_jack = len(healpix_to_measure_comb)\n",
    "    n_s = len(healpix_to_measure)\n",
    "    print(np.sqrt(n_s))\n",
    "    coeff = (n_s - n_delete)/(n_delete*n_jack)\n",
    "    cov_n = coeff * np.cov(np.transpose(pixeled_nc), bias=False) * (n_jack - 1) \n",
    "    cov_N =  cov_n\n",
    "    return cov_N"
   ]
  },
  {
   "cell_type": "code",
   "execution_count": 11,
   "id": "b8dd82db-29ca-4a15-a718-f889fa77e860",
   "metadata": {},
   "outputs": [
    {
     "name": "stdout",
     "output_type": "stream",
     "text": [
      "65780\n",
      "5.0990195135927845\n"
     ]
    }
   ],
   "source": [
    "cov16 =cov_jaccknife(16, cut_coverage=.9, n_delete=5)"
   ]
  },
  {
   "cell_type": "code",
   "execution_count": 12,
   "id": "dd0761f3-6e3e-4ea4-af3c-3e173227ba16",
   "metadata": {},
   "outputs": [
    {
     "name": "stdout",
     "output_type": "stream",
     "text": [
      "366145\n",
      "11.445523142259598\n"
     ]
    }
   ],
   "source": [
    "cov32 =cov_jaccknife(32, cut_coverage = .9, n_delete=3)"
   ]
  },
  {
   "cell_type": "code",
   "execution_count": 13,
   "id": "80f85d26-45e3-41cb-83fc-884906425557",
   "metadata": {},
   "outputs": [
    {
     "name": "stdout",
     "output_type": "stream",
     "text": [
      "524\n",
      "22.891046284519195\n"
     ]
    }
   ],
   "source": [
    "cov64 = cov_jaccknife(64, cut_coverage=0.7, n_delete=1)"
   ]
  },
  {
   "cell_type": "code",
   "execution_count": 14,
   "id": "d7d71fab-87c3-46a0-95f4-3ff7626ae2cb",
   "metadata": {},
   "outputs": [
    {
     "name": "stdout",
     "output_type": "stream",
     "text": [
      "2096\n",
      "45.78209256903839\n"
     ]
    }
   ],
   "source": [
    "cov128 = cov_jaccknife(128, cut_coverage=0.7, n_delete=1)"
   ]
  },
  {
   "cell_type": "code",
   "execution_count": 15,
   "id": "d9354984-dc73-412b-ad95-809eac3d6ea5",
   "metadata": {},
   "outputs": [],
   "source": [
    "%load_ext autoreload\n",
    "%autoreload 2\n",
    "import clmm\n",
    "import pyccl as ccl\n",
    "from clmm import Cosmology\n",
    "sys.path.append('../modeling/')\n",
    "import CL_COUNT_modeling_completeness as comp\n",
    "import CL_COUNT_modeling_purity as pur\n",
    "import CL_COUNT_modeling_halo_mass_function as hmf\n",
    "import CL_COUNT_modeling_richness_mass_relation as rm_relation\n",
    "import CL_MASS_cluster_mass as cl_mass\n",
    "import CL_COUNT_cluster_abundance as cl_count\n",
    "import CL_LENSING_cluster_lensing as cl_lensing\n",
    "sys.path.append('/pbs/throng/lsst/users/cpayerne/PySSC/')\n",
    "import PySSC\n",
    "sys.path.append('/pbs/throng/lsst/users/cpayerne/LikelihoodsClusterAbundance/modules/')\n",
    "import covariance as covar"
   ]
  },
  {
   "cell_type": "code",
   "execution_count": 16,
   "id": "c1a18fcb-1578-4859-bae6-99000db6eb8f",
   "metadata": {},
   "outputs": [],
   "source": [
    "#cosmology\n",
    "Omega_c_true = 0.2648 - 0.0448\n",
    "Omega_b_true = 0.0448\n",
    "sigma8_true = .8\n",
    "Omegam_true = 0.2648\n",
    "True_value = [Omega_c_true + Omega_b_true, sigma8_true]\n",
    "cosmo_clmm = Cosmology(H0 = 71.0, Omega_dm0 = 0.2648 - 0.0448, Omega_b0 = 0.0448, Omega_k0 = 0.0)\n",
    "cosmo = ccl.Cosmology(Omega_c = Omega_c_true, Omega_b = Omega_b_true, h = 71/100, sigma8 = sigma8_true, n_s=0.963)\n",
    "#halo model\n",
    "massdef = ccl.halos.massdef.MassDef(200, 'critical',)\n",
    "hmd = ccl.halos.hmfunc.MassFuncDespali16( mass_def=massdef)"
   ]
  },
  {
   "cell_type": "code",
   "execution_count": 17,
   "id": "c0e74ea7-e8bb-45f5-9c93-f4ad8a1bb06a",
   "metadata": {},
   "outputs": [],
   "source": [
    "#purity\n",
    "a_nc, b_nc, a_rc, b_rc = np.log(10)*0.8612, np.log(10)*0.3527, 2.2183, -0.6592\n",
    "theta_purity = [a_nc, b_nc, a_rc, b_rc]\n",
    "#completeness\n",
    "a_nc, b_nc, a_mc, b_mc = 1.1321, 0.7751, 13.31, 0.2025\n",
    "theta_completeness = [a_nc, b_nc, a_mc, b_mc]\n",
    "#rm_relation\n",
    "log10m0, z0 = np.log10(10**14.3), .5\n",
    "proxy_mu0, proxy_muz, proxy_mulog10m =  3.14511557, -0.0435828,   2.04626608\n",
    "proxy_sigma0, proxy_sigmaz, proxy_sigmalog10m =  0.63992348,  0.29677146, -0.02426758\n",
    "theta_rm = [log10m0, z0, proxy_mu0, proxy_muz, proxy_mulog10m, proxy_sigma0, proxy_sigmaz, proxy_sigmalog10m]"
   ]
  },
  {
   "cell_type": "code",
   "execution_count": 18,
   "id": "da028b66-f71c-4ddc-832e-4fe05ddf022b",
   "metadata": {},
   "outputs": [],
   "source": [
    "richness_grid = np.logspace(np.log10(20), np.log10(200), 310)\n",
    "logm_grid = np.linspace(11, 16, 200)\n",
    "z_grid = np.linspace(.2, 1, 301)"
   ]
  },
  {
   "cell_type": "code",
   "execution_count": 19,
   "id": "15dbcd9b-69c9-4e13-a353-a4ac95c46abf",
   "metadata": {},
   "outputs": [
    {
     "name": "stdout",
     "output_type": "stream",
     "text": [
      "CPU times: user 6.6 s, sys: 694 ms, total: 7.29 s\n",
      "Wall time: 4.16 s\n"
     ]
    }
   ],
   "source": [
    "bins = {'redshift_bins':Z_bin, 'richness_bins': Obs_bin}\n",
    "grids = {'logm_grid': logm_grid, 'z_grid': z_grid, 'richness_grid':richness_grid}\n",
    "count_modelling = {'dNdzdlogMdOmega':None,'richness_mass_relation':None, 'completeness':None, 'purity':None }\n",
    "params = {'params_purity':theta_purity, 'params_completeness': theta_completeness, 'params_richness_mass_relation': theta_rm,\n",
    "         'CCL_cosmology': cosmo, 'halo_mass_distribution': hmd}\n",
    "adds = {'add_purity' : True, 'add_completeness':True}\n",
    "compute = {'compute_dNdzdlogMdOmega':True,'compute_richness_mass_relation':True, 'compute_completeness':True, 'compute_purity':True }\n",
    "#compute_count_modeling\n",
    "%time count_modelling_new = cl_count.recompute_count_modelling(count_modelling, grids = grids, compute = compute, params = params)\n",
    "integrand_count = cl_count.define_count_integrand(count_modelling_new, adds)\n",
    "Omega = (4*np.pi)*(439.78987/(360**2/np.pi))\n",
    "Nth = Omega * cl_count.Cluster_SurfaceDensity_ProxyZ(bins, integrand_count = integrand_count, grids = grids)"
   ]
  },
  {
   "cell_type": "code",
   "execution_count": 20,
   "id": "255ae178-3121-4054-bb2b-26c11bba6527",
   "metadata": {},
   "outputs": [],
   "source": [
    "bNth = Omega * cl_count.Cluster_bias_SurfaceDensity_ProxyZ(bins, integrand_count = integrand_count, grids = grids, cosmo = cosmo)"
   ]
  },
  {
   "cell_type": "code",
   "execution_count": 21,
   "id": "960ba087-ecc8-4ba4-b979-96d0c6faa210",
   "metadata": {},
   "outputs": [],
   "source": [
    "default_cosmo_params = {'omega_b':cosmo['Omega_b']*cosmo['h']**2, \n",
    "                                'omega_cdm':cosmo['Omega_c']*cosmo['h']**2, \n",
    "                                'H0':cosmo['h']*100, \n",
    "                                'n_s':cosmo['n_s'], \n",
    "                                'sigma8': cosmo['sigma8'],\n",
    "                                'output' : 'mPk'}\n",
    "z_arr = np.linspace(0.2,1.2,1000)\n",
    "nbins_T   = len(Z_bin)\n",
    "windows_T = np.zeros((nbins_T,len(z_arr)))\n",
    "for i, z_bin in enumerate(Z_bin):\n",
    "    Dz = z_bin[1]-z_bin[0]\n",
    "    z_arr_cut = z_arr[(z_arr > z_bin[0])*(z_arr < z_bin[1])]\n",
    "    for k, z in enumerate(z_arr):\n",
    "        if ((z>z_bin[0]) and (z<=z_bin[1])):\n",
    "            windows_T[i,k] = 1  \n",
    "Sij_fullsky = PySSC.Sij_alt_fullsky(z_arr, windows_T, order=1, cosmo_params=default_cosmo_params, cosmo_Class=None, convention=0)"
   ]
  },
  {
   "cell_type": "code",
   "execution_count": 22,
   "id": "e9c7ee69-ce8e-40da-baac-7d89c5b36a75",
   "metadata": {},
   "outputs": [],
   "source": [
    "f_sky = (439.78987/(360**2/np.pi))\n",
    "Sij_partialsky = Sij_fullsky/f_sky"
   ]
  },
  {
   "cell_type": "code",
   "execution_count": 23,
   "id": "f275c2fd-b238-4f42-884b-1bb15874beed",
   "metadata": {},
   "outputs": [],
   "source": [
    "Covariance = covar.Covariance_matrix()\n",
    "NNSbb = Covariance.sample_covariance_full_sky(Z_bin, Obs_bin, \n",
    "                                                  bNth.T, \n",
    "                                                  Sij_partialsky)"
   ]
  },
  {
   "cell_type": "code",
   "execution_count": 24,
   "id": "67179436-95ea-4da2-a59f-14536240cd1e",
   "metadata": {},
   "outputs": [
    {
     "data": {
      "text/plain": [
       "<matplotlib.colorbar.Colorbar at 0x7fc8fd7bb2e0>"
      ]
     },
     "execution_count": 24,
     "metadata": {},
     "output_type": "execute_result"
    },
    {
     "data": {
      "image/png": "[encoded data removed]",
      "text/plain": [
       "<Figure size 600x200 with 4 Axes>"
      ]
     },
     "metadata": {},
     "output_type": "display_data"
    }
   ],
   "source": [
    "plt.figure(figsize=(6, 2))\n",
    "plt.subplot(121)\n",
    "plt.imshow(np.corrcoef(cov32), cmap='bwr', vmin=-1, vmax=1)\n",
    "plt.colorbar()\n",
    "plt.subplot(122)\n",
    "plt.imshow(np.corrcoef(np.diag(Nth.T.flatten())+NNSbb), cmap='bwr', vmin=-1, vmax=1)\n",
    "plt.colorbar()"
   ]
  },
  {
   "cell_type": "code",
   "execution_count": null,
   "id": "789f906d-374d-4e6c-94fd-a7b02baf3363",
   "metadata": {},
   "outputs": [],
   "source": []
  },
  {
   "cell_type": "code",
   "execution_count": 31,
   "id": "010c8f27-d0c0-4d2e-9dc7-0e2cc4373556",
   "metadata": {},
   "outputs": [
    {
     "data": {
      "image/png": "[encoded data removed]",
      "text/plain": [
       "<Figure size 1200x300 with 14 Axes>"
      ]
     },
     "metadata": {},
     "output_type": "display_data"
    }
   ],
   "source": [
    "fig, ax = plt.subplots(2, len(Z_bin), figsize=(12,3), sharex = True, sharey = True)\n",
    "for i, z_bin in enumerate(Z_bin):\n",
    "        z0 = z_bin[0]\n",
    "        z1 = z_bin[1]\n",
    "        ax[0,i].set_title(f'{z0:.1f} < z < {z1:.1f}', fontsize=10)\n",
    "        Varth = Nth[:,i]+NNSbb.diagonal()[i*4:(i+1)*4]\n",
    "        x = np.linspace(-20, 1000, 100)\n",
    "        ax[0,i].errorbar(np.log(np.mean(Obs_bin, axis=1)), N.T[:,i]/Nth[:,i] ,\n",
    "                       N.T[:,i]**.5/Nth[:,i], fmt=' ', marker = '.')\n",
    "        ax[0,i].stairs(N.T[:,i]/Nth[:,i], np.log(rich_corner), lw=2, color='C0')\n",
    "        ax[0,0].set_ylabel(r'$N_{\\rm obs}/N_{\\rm th}$')\n",
    "        ax[1,0].set_ylabel(r'$Var_{\\rm JK}/Var_{\\rm th}$')\n",
    "        ax[0,i].plot(x, 0*x +1, '--k')\n",
    "        ax[1,i].plot(x, 0*x +1, '--k')\n",
    "        ax[1,i].errorbar(np.log(np.mean(Obs_bin, axis=1)),cov16.diagonal()[i*4:(i+1)*4]/Varth, label = r'nside=16', lw=2)\n",
    "        ax[1,i].errorbar(np.log(np.mean(Obs_bin, axis=1)),cov32.diagonal()[i*4:(i+1)*4]/Varth,  label = r'nside=32', lw=2)\n",
    "        ax[1,i].errorbar(np.log(np.mean(Obs_bin, axis=1)),cov64.diagonal()[i*4:(i+1)*4]/Varth,  label = r'nside=64', lw=2)\n",
    "        ax[1,i].errorbar(np.log(np.mean(Obs_bin, axis=1)),cov128.diagonal()[i*4:(i+1)*4]/Varth, label = r'nside=128', lw=2)\n",
    "        ax[1,i].set_xlabel(r'$\\ln\\lambda$', fontsize=15)\n",
    "        #ax[1,3].legend(fontsize=10, frameon=True,ncols=3, loc = 'upper right')\n",
    "        ax[1,i].set_ylim(0., 2)\n",
    "        ax[1,i].set_xlim(np.log(rich_corner[0]), np.log(rich_corner[-1]))\n",
    "        ax[1,i].tick_params(axis='both', which=\"both\", labelsize= 12)\n",
    "        ax[1,i].grid(True,which='both')\n",
    "        ax[0,i].grid(True,which='both')\n",
    "plt.savefig('../fig/covariance_JK_vs_th.png', bbox_inches='tight', dpi=150)"
   ]
  },
  {
   "cell_type": "code",
   "execution_count": 26,
   "id": "6e87f985-46fa-48a2-bb67-9f0d32091d6f",
   "metadata": {},
   "outputs": [],
   "source": [
    "def cov_jaccknife_(nside, cut_coverage=0.8, n_delete=1):\n",
    "    plt.figure(figsize=(4,3))\n",
    "    plt.scatter(ra_random,\n",
    "                    dec_random, color='r')\n",
    "    healpix_list = np.unique(healpy.ang2pix(nside, ra_deg_random, dec_deg_random, nest=False, lonlat=True))\n",
    "    #random on redmapper footprint\n",
    "    healpix_random = healpy.ang2pix(nside, ra_random, dec_random, nest=False, lonlat=True)\n",
    "    \n",
    "    count_per_hp_random = np.array([len(healpix_random[healpix_random==p]) for p in healpix_list])\n",
    "    density_per_hp = count_per_hp_random/healpy.nside2pixarea(nside, degrees=True)\n",
    "    n_density_random = len(ra_random)/cosmodc2.sky_area\n",
    "    coverage_hp = density_per_hp/n_density_random\n",
    "    mask_healpix_used = coverage_hp > cut_coverage\n",
    "    \n",
    "    healpix_to_measure, index = np.unique(healpix_list[mask_healpix_used], return_index=True)\n",
    "    coverage_to_measure = coverage_hp[mask_healpix_used]\n",
    "    healpix_to_measure_comb = list(combinations(healpix_to_measure, n_delete))\n",
    "    print(len(healpix_to_measure_comb))\n",
    "    n_healpix = len(np.unique(healpix_to_measure))\n",
    "    S_tot_healpix = n_healpix*healpy.nside2pixarea(nside, degrees=True)\n",
    "    frac = S_tot_healpix/cosmodc2.sky_area\n",
    "    \n",
    "    healpix_redmapper_clusters = healpy.ang2pix(nside, ra, dec, nest=False, lonlat=True)\n",
    "    pixeled_nc = np.transpose(np.array([\n",
    "        np.histogram2d(\n",
    "            z[np.invert(np.isin(healpix_redmapper_clusters,p))],\n",
    "            richness[np.invert(np.isin(healpix_redmapper_clusters,p))], \n",
    "            bins=(z_corner, rich_corner),\n",
    "            weights=None)[0].flatten()\n",
    "        for p in healpix_to_measure_comb]))/frac\n",
    "    \n",
    "    colors = plt.cm.get_cmap('Greens', len(healpix_to_measure))\n",
    "    colors = [colors(i) for i in np.random.choice(np.arange(len(healpix_to_measure)), size=len(healpix_to_measure),) ]\n",
    "    plt.scatter(ra, dec, color='k', s=1, marker='*')\n",
    "    for i, p in enumerate(healpix_to_measure):\n",
    "        plt.scatter(ra[np.isin(healpix_redmapper_clusters,p) ],\n",
    "                    dec[np.isin(healpix_redmapper_clusters,p) ], c=colors[i], s=5)\n",
    "    \n",
    "    n_jack = len(healpix_to_measure_comb)\n",
    "    n_s = len(healpix_to_measure)\n",
    "    print(np.sqrt(n_s))\n",
    "    coeff = (n_s - n_delete)/(n_delete*n_jack)\n",
    "    cov_n = coeff * np.cov(pixeled_nc, bias=False) * (n_jack - 1) \n",
    "    cov_N =  cov_n\n",
    "    n_bins = (len(z_corner)-1)*(len(rich_corner)-1)\n",
    "    plt.grid()\n",
    "    plt.xlim(45, 80)\n",
    "    plt.ylim(-50, -20)\n",
    "    plt.xlabel('RA')\n",
    "    plt.ylabel('Dec')\n",
    "    plt.title(f'Nside = {nside}')\n",
    "    plt.savefig(f'../fig/covariance_JK_cluster_count_Nside={nside}.png', bbox_inches='tight', dpi=150)\n",
    "    return cov_N"
   ]
  }
 ],
 "metadata": {
  "kernelspec": {
   "display_name": "myenv",
   "language": "python",
   "name": "myenv"
  },
  "language_info": {
   "codemirror_mode": {
    "name": "ipython",
    "version": 3
   },
   "file_extension": ".py",
   "mimetype": "text/x-python",
   "name": "python",
   "nbconvert_exporter": "python",
   "pygments_lexer": "ipython3",
   "version": "3.10.10"
  }
 },
 "nbformat": 4,
 "nbformat_minor": 5
}
