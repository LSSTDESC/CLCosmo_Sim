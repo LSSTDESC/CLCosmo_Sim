{
 "cells": [
  {
   "cell_type": "code",
   "execution_count": 2,
   "id": "2dd8ac07-7619-4b58-a68d-a7142d20791e",
   "metadata": {},
   "outputs": [],
   "source": [
    "%load_ext autoreload\n",
    "%autoreload 2\n",
    "import warnings\n",
    "warnings.filterwarnings('ignore')\n",
    "import numpy as np\n",
    "import matplotlib.pyplot as plt\n",
    "import GCRCatalogs\n",
    "import healpy\n",
    "import pickle,sys\n",
    "import mysql\n",
    "from mysql.connector import Error\n",
    "import clmm\n",
    "from clmm.dataops import compute_galaxy_weights\n",
    "from clmm import Cosmology\n",
    "from scipy.integrate import simps\n",
    "cosmo = Cosmology(H0 = 71.0, Omega_dm0 = 0.265 - 0.0448, Omega_b0 = 0.0448, Omega_k0 = 0.0)\n",
    "conn = mysql.connector.connect(host='ccqserv201', user='qsmaster', port=30040)\n",
    "cursor = conn.cursor(dictionary=True, buffered=True)"
   ]
  },
  {
   "cell_type": "code",
   "execution_count": 3,
   "id": "d9b6e844-0f30-4e5a-8d11-b48a02101237",
   "metadata": {},
   "outputs": [],
   "source": [
    "sys.path.append('../lensing_profile_measurement')\n",
    "import _utils_lensing_profiles"
   ]
  },
  {
   "cell_type": "code",
   "execution_count": 5,
   "id": "1f53a986-b9c9-4144-9406-af3fb74739ef",
   "metadata": {},
   "outputs": [
    {
     "name": "stdout",
     "output_type": "stream",
     "text": [
      "['DSt_true', 'DSx_true', 'W_l_true', 'radius_true', 'DSt_flex', 'DSx_flex', 'W_l_flex', 'radius_flex', 'DSt_bpz', 'DSx_bpz', 'W_l_bpz', 'radius_bpz']\n"
     ]
    }
   ],
   "source": [
    "import _utils_photometric_redshifts\n",
    "import _utils_extract_sources_in_cosmoDC2\n",
    "import _config_lensing_profiles\n",
    "from astropy.table import QTable, Table, vstack, join, hstack"
   ]
  },
  {
   "cell_type": "markdown",
   "id": "3f177a20-1e7e-4989-9c08-47b047ea9c03",
   "metadata": {},
   "source": [
    "## Cosmodc2 with qserv & GCRCatalogs"
   ]
  },
  {
   "cell_type": "code",
   "execution_count": 6,
   "id": "7fdfc1f9-eee7-4764-90c5-cb4e5516ba35",
   "metadata": {},
   "outputs": [],
   "source": [
    "def qserv_query(ra, dec, rmax = 10):\n",
    "    r\"\"\"\n",
    "    quantities wanted + cuts\n",
    "    Attributes:\n",
    "    -----------\n",
    "    z: float\n",
    "        lens redshift\n",
    "    ra: float\n",
    "        lens right ascension\n",
    "    dec: float\n",
    "        lens declinaison\n",
    "    rmax: float\n",
    "        maximum radius\n",
    "    \"\"\"\n",
    "    zmax = 3.\n",
    "    zmin = 0\n",
    "    theta_max = (rmax/lens_distance) * (180./np.pi)\n",
    "    query = \"SELECT data.coord_ra as ra, data.coord_dec as dec, data.redshift as z, \"\n",
    "    query += \"data.galaxy_id as galaxy_id, \"\n",
    "    query += \"data.mag_i, data.mag_r, data.mag_y, \"\n",
    "    query += \"data.shear_1 as shear1, data.shear_2 as shear2, data.convergence as kappa, \"\n",
    "    query += \"data.ellipticity_1_true as e1_true_uncorr, data.ellipticity_2_true as e2_true_uncorr \" \n",
    "    query += \"FROM cosmoDC2_v1_1_4_image.data as data \"\n",
    "    query += f\"WHERE data.redshift >= {zmin} AND data.redshift < {zmax} \"\n",
    "    query += f\"AND scisql_s2PtInCircle(coord_ra, coord_dec, {ra}, {dec}, {theta_max}) = 1 \"\n",
    "    query += f\"AND data.mag_i <= 25 \"\n",
    "    query += \";\" \n",
    "    return query"
   ]
  },
  {
   "cell_type": "code",
   "execution_count": 13,
   "id": "d70627d6-41c7-48b3-8f0d-3fa589fe41e5",
   "metadata": {},
   "outputs": [],
   "source": [
    "#cluster\n",
    "lens_cat = np.load('../data/lens_catalog_cosmoDC2_v1.1.4_redmapper_v0.8.1.pkl', allow_pickle = True)\n",
    "mask = (lens_cat['richness'] > 20)&(lens_cat['redshift'] > .2)\n",
    "index = 4000\n",
    "z, ra, dec, richness = 0.01, lens_cat['ra'][mask][index], lens_cat['dec'][mask][index], lens_cat['richness'][mask][index]"
   ]
  },
  {
   "cell_type": "code",
   "execution_count": 14,
   "id": "9dd38be3-4ee3-4546-a076-a5ecbf5122ac",
   "metadata": {},
   "outputs": [
    {
     "data": {
      "text/plain": [
       "(0.01, 72.62527257555823, -40.311777764790264, 21.239138)"
      ]
     },
     "execution_count": 14,
     "metadata": {},
     "output_type": "execute_result"
    }
   ],
   "source": [
    "z, ra, dec, richness"
   ]
  },
  {
   "cell_type": "markdown",
   "id": "b90d509e-0807-4e05-b3d8-90945d5a5207",
   "metadata": {},
   "source": [
    "### true shapes, true redshifts"
   ]
  },
  {
   "cell_type": "code",
   "execution_count": 17,
   "id": "e646d984-9914-40a7-8ebc-11444bb64026",
   "metadata": {},
   "outputs": [],
   "source": [
    "lens_distance=cosmo.eval_da(z)\n",
    "bckgd_galaxy_catalog_truth=_utils_extract_sources_in_cosmoDC2.extract(qserv_query = qserv_query( ra, dec, rmax = .2),\n",
    "                                        conn_qserv=conn, cosmo=cosmo)"
   ]
  },
  {
   "cell_type": "code",
   "execution_count": 18,
   "id": "3234f71b-a05f-44d4-ac7c-75caf2eddd73",
   "metadata": {},
   "outputs": [
    {
     "data": {
      "text/plain": [
       "34949"
      ]
     },
     "execution_count": 18,
     "metadata": {},
     "output_type": "execute_result"
    }
   ],
   "source": [
    "len(bckgd_galaxy_catalog_truth)"
   ]
  },
  {
   "cell_type": "code",
   "execution_count": 19,
   "id": "5f1c3d5e-20af-49d0-ae6d-b9337be8ea72",
   "metadata": {},
   "outputs": [],
   "source": [
    "gc_bpz  = \"cosmoDC2_v1.1.4_image_with_photozs_v1\"\n",
    "gc_flex = \"cosmoDC2_v1.1.4_image_with_photozs_flexzboost_v1\"\n",
    "healpix_dc2 = GCRCatalogs.load_catalog(\"cosmoDC2_v1.1.4_image\").get_catalog_info()['healpix_pixels']\n",
    "z_bins  = GCRCatalogs.load_catalog(gc_flex).photoz_pdf_bin_centers\n",
    "z_bins[0] = 1e-7\n",
    "photoz_gc=[gc_bpz, gc_flex]\n",
    "photoz_label=['_bpz', '_flex']"
   ]
  },
  {
   "cell_type": "code",
   "execution_count": 20,
   "id": "5bdf562c-fe12-44f1-91fe-d53a52947747",
   "metadata": {},
   "outputs": [],
   "source": [
    "def query_photoz():\n",
    "    return ['photoz_pdf', 'photoz_mean','photoz_mode','photoz_odds','galaxy_id']"
   ]
  },
  {
   "cell_type": "code",
   "execution_count": 21,
   "id": "2641d2bb-75d5-4ee7-a13a-30a1ae068a08",
   "metadata": {},
   "outputs": [
    {
     "name": "stdout",
     "output_type": "stream",
     "text": [
      "extracting photoz redshift infos (GCRCatalogs)\n",
      "[10074]\n",
      "----> extraction in cosmoDC2_v1.1.4_image_with_photozs_v1\n",
      "-----> heapix pixel = 10074\n",
      "<generator object BaseGenericCatalog._get_quantities_iter at 0x7f2c9017f610>\n",
      "chunk = 0\n",
      "full healpix = 832748\n",
      "truncated healpix = 24974\n"
     ]
    },
    {
     "name": "stderr",
     "output_type": "stream",
     "text": [
      "/pbs/home/c/cpayerne/.conda/envs/myenv/lib/python3.10/site-packages/clmm-1.10.0-py3.10.egg/clmm/cosmology/parent_class.py:454: UserWarning: \n",
      "Some source redshifts are lower than the cluster redshift.\n",
      "Sigma_crit = np.inf for those galaxies.\n",
      "/pbs/home/c/cpayerne/.conda/envs/myenv/lib/python3.10/site-packages/clmm-1.10.0-py3.10.egg/clmm/cosmology/parent_class.py:454: UserWarning: \n",
      "Some source redshifts are lower than the cluster redshift.\n",
      "Sigma_crit = np.inf for those galaxies.\n",
      "/pbs/home/c/cpayerne/.conda/envs/myenv/lib/python3.10/site-packages/clmm-1.10.0-py3.10.egg/clmm/cosmology/parent_class.py:454: UserWarning: \n",
      "Some source redshifts are lower than the cluster redshift.\n",
      "Sigma_crit = np.inf for those galaxies.\n",
      "/pbs/home/c/cpayerne/.conda/envs/myenv/lib/python3.10/site-packages/clmm-1.10.0-py3.10.egg/clmm/cosmology/parent_class.py:454: UserWarning: \n",
      "Some source redshifts are lower than the cluster redshift.\n",
      "Sigma_crit = np.inf for those galaxies.\n"
     ]
    },
    {
     "name": "stdout",
     "output_type": "stream",
     "text": [
      "chunk = 1\n",
      "full healpix = 600251\n",
      "truncated healpix = 9277\n"
     ]
    },
    {
     "name": "stderr",
     "output_type": "stream",
     "text": [
      "/pbs/home/c/cpayerne/.conda/envs/myenv/lib/python3.10/site-packages/clmm-1.10.0-py3.10.egg/clmm/cosmology/parent_class.py:454: UserWarning: \n",
      "Some source redshifts are lower than the cluster redshift.\n",
      "Sigma_crit = np.inf for those galaxies.\n"
     ]
    },
    {
     "name": "stdout",
     "output_type": "stream",
     "text": [
      "chunk = 2\n",
      "full healpix = 138089\n",
      "truncated healpix = 698\n",
      "----> extraction in cosmoDC2_v1.1.4_image_with_photozs_flexzboost_v1\n"
     ]
    },
    {
     "name": "stderr",
     "output_type": "stream",
     "text": [
      "/pbs/home/c/cpayerne/.conda/envs/myenv/lib/python3.10/site-packages/clmm-1.10.0-py3.10.egg/clmm/cosmology/parent_class.py:454: UserWarning: \n",
      "Some source redshifts are lower than the cluster redshift.\n",
      "Sigma_crit = np.inf for those galaxies.\n"
     ]
    },
    {
     "name": "stdout",
     "output_type": "stream",
     "text": [
      "-----> heapix pixel = 10074\n",
      "<generator object BaseGenericCatalog._get_quantities_iter at 0x7f2c900ab5a0>\n",
      "chunk = 0\n",
      "full healpix = 832748\n",
      "truncated healpix = 24974\n"
     ]
    },
    {
     "name": "stderr",
     "output_type": "stream",
     "text": [
      "/pbs/home/c/cpayerne/.conda/envs/myenv/lib/python3.10/site-packages/clmm-1.10.0-py3.10.egg/clmm/cosmology/parent_class.py:454: UserWarning: \n",
      "Some source redshifts are lower than the cluster redshift.\n",
      "Sigma_crit = np.inf for those galaxies.\n",
      "/pbs/home/c/cpayerne/.conda/envs/myenv/lib/python3.10/site-packages/clmm-1.10.0-py3.10.egg/clmm/cosmology/parent_class.py:454: UserWarning: \n",
      "Some source redshifts are lower than the cluster redshift.\n",
      "Sigma_crit = np.inf for those galaxies.\n",
      "/pbs/home/c/cpayerne/.conda/envs/myenv/lib/python3.10/site-packages/clmm-1.10.0-py3.10.egg/clmm/cosmology/parent_class.py:454: UserWarning: \n",
      "Some source redshifts are lower than the cluster redshift.\n",
      "Sigma_crit = np.inf for those galaxies.\n",
      "/pbs/home/c/cpayerne/.conda/envs/myenv/lib/python3.10/site-packages/clmm-1.10.0-py3.10.egg/clmm/cosmology/parent_class.py:454: UserWarning: \n",
      "Some source redshifts are lower than the cluster redshift.\n",
      "Sigma_crit = np.inf for those galaxies.\n"
     ]
    },
    {
     "name": "stdout",
     "output_type": "stream",
     "text": [
      "chunk = 1\n",
      "full healpix = 600251\n",
      "truncated healpix = 9277\n"
     ]
    },
    {
     "name": "stderr",
     "output_type": "stream",
     "text": [
      "/pbs/home/c/cpayerne/.conda/envs/myenv/lib/python3.10/site-packages/clmm-1.10.0-py3.10.egg/clmm/cosmology/parent_class.py:454: UserWarning: \n",
      "Some source redshifts are lower than the cluster redshift.\n",
      "Sigma_crit = np.inf for those galaxies.\n"
     ]
    },
    {
     "name": "stdout",
     "output_type": "stream",
     "text": [
      "chunk = 2\n",
      "full healpix = 138089\n",
      "truncated healpix = 698\n"
     ]
    },
    {
     "name": "stderr",
     "output_type": "stream",
     "text": [
      "/pbs/home/c/cpayerne/.conda/envs/myenv/lib/python3.10/site-packages/clmm-1.10.0-py3.10.egg/clmm/cosmology/parent_class.py:454: UserWarning: \n",
      "Some source redshifts are lower than the cluster redshift.\n",
      "Sigma_crit = np.inf for those galaxies.\n"
     ]
    }
   ],
   "source": [
    "#extract photometric redshifts with GCRCatalogs\n",
    "print('extracting photoz redshift infos (GCRCatalogs)')\n",
    "id_gal=bckgd_galaxy_catalog_truth['galaxy_id']\n",
    "ras=bckgd_galaxy_catalog_truth['ra']\n",
    "decs=bckgd_galaxy_catalog_truth['dec']\n",
    "#find all different healpix pixels\n",
    "healpix = np.array(np.unique(healpy.ang2pix(32, ras, decs, nest=False, lonlat=True)))\n",
    "print(healpix)\n",
    "table_photoz = Table()\n",
    "table_photoz['galaxy_id'] = id_gal\n",
    "for k, gc_ in enumerate(photoz_gc):\n",
    "    print(f'----> extraction in {gc_}')\n",
    "    pz_table = Table(names = ['sigmac_photoz', 'p_background', 'photoz_dispersion', \n",
    "                          'sigmac_estimate_0', 'sigmac_estimate_1', 'sigmac_estimate_2', \n",
    "                          'z_estimate_0', 'z_estimate_1', 'z_estimate_2', \n",
    "                          'galaxy_id', 'photoz_mean', 'photoz_mode', 'photoz_odds'])\n",
    "    photoz_gc_ = GCRCatalogs.load_catalog(gc_)\n",
    "    for i, hp in enumerate(healpix):\n",
    "        #browse healpix pixels\n",
    "        print(f'-----> heapix pixel = ' + str(hp))\n",
    "        chunk = photoz_gc_.get_quantities(query_photoz(), native_filters=[f'healpix_pixel=={hp}'], return_iterator=True)\n",
    "        print(chunk)\n",
    "        for j in range(3):\n",
    "            #browse chunk data\n",
    "            print('chunk = ' + str(j))\n",
    "            try: \n",
    "                dat_extract_photoz_chunk = Table(next(chunk))\n",
    "            except: \n",
    "                print('no chunk')\n",
    "                continue\n",
    "            print(f'full healpix = ' + str(len(dat_extract_photoz_chunk['galaxy_id'])))\n",
    "            #use only selected galaxies\n",
    "            dat_extract_photoz_chunk_truncated = dat_extract_photoz_chunk[np.isin(dat_extract_photoz_chunk['galaxy_id'],\n",
    "                                                                                  table_photoz['galaxy_id'])]\n",
    "           # if len(dat_extract_photoz_chunk_truncated['galaxy_id']) == 0: continue\n",
    "\n",
    "            print('truncated healpix = ' + str(len(dat_extract_photoz_chunk_truncated['galaxy_id'])))\n",
    "            pzbins_table=np.array([z_bins for i in range(len(dat_extract_photoz_chunk_truncated['photoz_pdf'].data))])\n",
    "\n",
    "            #compute WL weights with \n",
    "            pz_quantities_chunk = _utils_photometric_redshifts.compute_photoz_quantities(z, dat_extract_photoz_chunk_truncated['photoz_pdf'], \n",
    "                                                                   pzbins_table, n_samples_per_pdf=3, cosmo=cosmo,\n",
    "                                                                   use_clmm=False)\n",
    "            pz_quantities_chunk['galaxy_id'] = dat_extract_photoz_chunk_truncated['galaxy_id']\n",
    "            pz_quantities_chunk['photoz_mean'] = dat_extract_photoz_chunk_truncated['photoz_mean']\n",
    "            pz_quantities_chunk['photoz_mode'] = dat_extract_photoz_chunk_truncated['photoz_mode']\n",
    "            pz_quantities_chunk['photoz_odds'] = dat_extract_photoz_chunk_truncated['photoz_odds']\n",
    "            pz_table = vstack([pz_table, pz_quantities_chunk])\n",
    "    colnames = pz_table.colnames\n",
    "    for name in colnames:\n",
    "        if name!='galaxy_id':\n",
    "            pz_table.rename_column(name, name + photoz_label[k])\n",
    "    bckgd_galaxy_catalog_truth = join(Table(bckgd_galaxy_catalog_truth), pz_table, keys='galaxy_id')"
   ]
  },
  {
   "cell_type": "code",
   "execution_count": 24,
   "id": "93eac002-5e52-47ec-a0a8-f08adf6b605f",
   "metadata": {},
   "outputs": [],
   "source": [
    "mask_mag= bckgd_galaxy_catalog_truth['mag_i'] < 24.5\n",
    "mask_mag*= bckgd_galaxy_catalog_truth['mag_r'] < 28\n",
    "bckgd_galaxy_catalog = bckgd_galaxy_catalog_truth[mask_mag]"
   ]
  },
  {
   "cell_type": "code",
   "execution_count": 25,
   "id": "c717030f-8c01-42f3-8ec3-7ab6e885273f",
   "metadata": {},
   "outputs": [],
   "source": [
    "ellipticity_uncorr_e1 = bckgd_galaxy_catalog['e1_true']\n",
    "ellipticity_uncorr_e2 = bckgd_galaxy_catalog['e2_true']\n",
    "ellipticity_corr_e1, ellipticity_corr_e2 = _utils_extract_sources_in_cosmoDC2.correct_shear_ellipticity(ellipticity_uncorr_e1, ellipticity_uncorr_e2)"
   ]
  },
  {
   "cell_type": "code",
   "execution_count": null,
   "id": "b9913ec2-dfc5-41d3-8903-7f0c76051feb",
   "metadata": {},
   "outputs": [],
   "source": []
  },
  {
   "cell_type": "code",
   "execution_count": 76,
   "id": "da415064-e472-4265-afb5-6125588d3c8f",
   "metadata": {},
   "outputs": [
    {
     "data": {
      "image/png": "[encoded data removed]",
      "text/plain": [
       "<Figure size 700x300 with 2 Axes>"
      ]
     },
     "metadata": {},
     "output_type": "display_data"
    }
   ],
   "source": [
    "plt.figure(figsize=(7,3))\n",
    "plt.subplot(121)\n",
    "plt.title('FlexZBoost')\n",
    "plt.hist2d(bckgd_galaxy_catalog['z'], bckgd_galaxy_catalog['photoz_mean_flex']- bckgd_galaxy_catalog['z'], cmap='hsv', bins=50, cmin=1)\n",
    "plt.grid(True)\n",
    "plt.ylim(-1.5, 1.5)\n",
    "plt.ylabel(r'$z - \\langle z\\rangle$', fontsize=13)\n",
    "plt.xlabel('z', fontsize=13)\n",
    "plt.tick_params(axis='both', which = 'both', labelsize= 11)\n",
    "plt.subplot(122)\n",
    "plt.title('BPZ')\n",
    "plt.hist2d(bckgd_galaxy_catalog['z'], bckgd_galaxy_catalog['photoz_mean_bpz']- bckgd_galaxy_catalog['z'], cmap='hsv', bins=50, cmin=1)\n",
    "plt.grid(True)\n",
    "plt.ylim(-1.5, 1.5)\n",
    "plt.xlabel('z', fontsize=13)\n",
    "plt.tick_params(axis='both', which = 'both', labelsize= 11)\n",
    "plt.savefig(f'../fig/PZ_on_cosmoDC2.png', bbox_inches='tight', dpi=100)"
   ]
  },
  {
   "cell_type": "code",
   "execution_count": null,
   "id": "1ca8a774-6aad-4892-aec6-0624a597518e",
   "metadata": {},
   "outputs": [],
   "source": []
  },
  {
   "cell_type": "code",
   "execution_count": null,
   "id": "6691b911-deea-48f8-8098-d9478088f811",
   "metadata": {},
   "outputs": [],
   "source": []
  },
  {
   "cell_type": "code",
   "execution_count": null,
   "id": "19840dfa-fd16-425d-bdf7-5f525f84f8cf",
   "metadata": {},
   "outputs": [],
   "source": []
  }
 ],
 "metadata": {
  "kernelspec": {
   "display_name": "myenv",
   "language": "python",
   "name": "myenv"
  },
  "language_info": {
   "codemirror_mode": {
    "name": "ipython",
    "version": 3
   },
   "file_extension": ".py",
   "mimetype": "text/x-python",
   "name": "python",
   "nbconvert_exporter": "python",
   "pygments_lexer": "ipython3",
   "version": "3.10.10"
  }
 },
 "nbformat": 4,
 "nbformat_minor": 5
}
