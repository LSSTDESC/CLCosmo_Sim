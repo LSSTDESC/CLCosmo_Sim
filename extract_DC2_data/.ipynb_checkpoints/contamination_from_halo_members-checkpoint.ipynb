{
 "cells": [
  {
   "cell_type": "markdown",
   "id": "3065d083",
   "metadata": {},
   "source": [
    "# Basic usage of the cosmoDC2 catalog and photoz add-on catalog - Weak gravitational lensing shear by dark matter halo"
   ]
  },
  {
   "cell_type": "markdown",
   "id": "f1ce10ef",
   "metadata": {},
   "source": [
    "Author : Constantin Payerne"
   ]
  },
  {
   "cell_type": "markdown",
   "id": "342aa8a6",
   "metadata": {
    "tags": []
   },
   "source": [
    "**This notebook can be run at NERSC or CC-IN2P3, where the DESC DC2 products are stored. You need to be a DESC member to be able to access those.**"
   ]
  },
  {
   "cell_type": "markdown",
   "id": "c5354a39",
   "metadata": {},
   "source": [
    "This notebook shows how to use the cosmoDC2 catalog and the photometric redshift (photo-z) add-on catalog to estimate the average excess surface density around galaxy clusters (i.e. to produce the data vector needed for WL mass estimation).\n",
    "\n",
    "After going through this notebook, you should be able to:\n",
    "\n",
    "- extract a dark matter halo catalog from cosmoDC2,\n",
    "- load the background galaxy catalog from cosmoDC2 (around a given halo),\n",
    "- access the photo-z of background galaxies from the photoz add-on catalog,\n",
    "- compute the excess surface density estimator using the above."
   ]
  },
  {
   "cell_type": "markdown",
   "id": "fa3dd5e0-fff8-42ad-bfa4-38bc9bfec4b0",
   "metadata": {},
   "source": [
    "Along with standard packages, you need to have the [CLMM](https://github.com/LSSTDESC/CLMM) library installed to run this notebook."
   ]
  },
  {
   "cell_type": "code",
   "execution_count": 1,
   "id": "a2a095c3",
   "metadata": {},
   "outputs": [],
   "source": [
    "import numpy as np\n",
    "import os\n",
    "import matplotlib.pyplot as plt\n",
    "import scipy.integrate\n",
    "from astropy.table import Table, join\n",
    "import healpy"
   ]
  },
  {
   "cell_type": "code",
   "execution_count": 2,
   "id": "54d15d8a",
   "metadata": {},
   "outputs": [],
   "source": [
    "import clmm \n",
    "import GCRCatalogs"
   ]
  },
  {
   "cell_type": "markdown",
   "id": "198155d8",
   "metadata": {},
   "source": [
    "NB: A detailled GitHub repository with multiple example the use of GCRCatalogs is available at https://github.com/LSSTDESC/DC2-analysis/tree/master/tutorials."
   ]
  },
  {
   "cell_type": "markdown",
   "id": "27825437",
   "metadata": {},
   "source": [
    "# 1. Identify a cluster (massive dark matter halo) in cosmoDC2"
   ]
  },
  {
   "cell_type": "markdown",
   "id": "1f56c3d4",
   "metadata": {},
   "source": [
    "Here, we load the cosmoDC2 exctragalactic catalog (small version)"
   ]
  },
  {
   "cell_type": "code",
   "execution_count": 3,
   "id": "6602081c",
   "metadata": {},
   "outputs": [],
   "source": [
    "extragalactic_cat = GCRCatalogs.load_catalog('cosmoDC2_v1.1.4_small')"
   ]
  },
  {
   "cell_type": "markdown",
   "id": "317e4acf",
   "metadata": {},
   "source": [
    "In order to speed up the extraction of cosmoDC2 data, we select a dark matter halo within a specified healpix pixel available in `cosmoDC2_v1.1.4_small`. The user can change the selected healpix pixel by modifying the quantity `index_healpix_pixels_selected` below."
   ]
  },
  {
   "cell_type": "code",
   "execution_count": 4,
   "id": "5798b01c",
   "metadata": {},
   "outputs": [
    {
     "name": "stdout",
     "output_type": "stream",
     "text": [
      "[9559, 9686, 9687, 9814, 9815, 9816, 9942, 9943, 10070, 10071, 10072, 10198, 10199, 10200, 10326, 10327, 10450]\n"
     ]
    }
   ],
   "source": [
    "healpix_pixels = extragalactic_cat.get_catalog_info()['healpix_pixels']\n",
    "print(healpix_pixels)"
   ]
  },
  {
   "cell_type": "code",
   "execution_count": 5,
   "id": "42071961",
   "metadata": {},
   "outputs": [],
   "source": [
    "index_healpix_pixels_selected = 6"
   ]
  },
  {
   "cell_type": "code",
   "execution_count": 6,
   "id": "698651be",
   "metadata": {},
   "outputs": [
    {
     "name": "stdout",
     "output_type": "stream",
     "text": [
      "The selected healpix pixel is 9942\n"
     ]
    }
   ],
   "source": [
    "healpix_selected = healpix_pixels[index_healpix_pixels_selected]\n",
    "print('The selected healpix pixel is ' + str(healpix_selected))"
   ]
  },
  {
   "cell_type": "markdown",
   "id": "825b2767",
   "metadata": {},
   "source": [
    "We extract the dark matter halo catalog for this specified healpix pixel by\n",
    "- asking that the cosmoDC2 galaxy is a central galaxy (of a halo), with the flag `is_central=True`. \n",
    "- applying some property cut (here, mass and redshift range). "
   ]
  },
  {
   "cell_type": "code",
   "execution_count": 7,
   "id": "b31c2c71-9f57-4a23-9b14-bc04a0158099",
   "metadata": {},
   "outputs": [
    {
     "name": "stdout",
     "output_type": "stream",
     "text": [
      "There are 2 clusters in this mass and redshift range, in this healpix pixel\n"
     ]
    }
   ],
   "source": [
    "# get list of massive halos in a given redshift and mass range\n",
    "\n",
    "mmin = 1.e14 # Msun\n",
    "zmin = 0.2\n",
    "zmax = 0.3\n",
    "massive_halos = extragalactic_cat.get_quantities(['halo_mass','redshift','ra', 'dec', 'halo_id'],\n",
    "                                                 filters=[f'halo_mass > {mmin}','is_central==True',\n",
    "                                                          f'redshift>{zmin}', f'redshift<{zmax}'], native_filters=['healpix_pixel == ' + str(healpix_selected)])\n",
    "N_halo = len(massive_halos['halo_mass'])\n",
    "\n",
    "print(f'There are {N_halo} clusters in this mass and redshift range, in this healpix pixel')"
   ]
  },
  {
   "cell_type": "markdown",
   "id": "09ce2982-e432-4f92-b122-c90af2114a3a",
   "metadata": {},
   "source": [
    "We then select the most massive halo in the recovered sample."
   ]
  },
  {
   "cell_type": "code",
   "execution_count": 8,
   "id": "b1e175ae",
   "metadata": {},
   "outputs": [],
   "source": [
    "select = massive_halos['halo_mass'] == np.max(massive_halos['halo_mass'])\n",
    "ra_halo = massive_halos['ra'][select][0]\n",
    "dec_halo = massive_halos['dec'][select][0]\n",
    "z_halo = massive_halos['redshift'][select][0]\n",
    "mass_halo =massive_halos['halo_mass'][select][0]\n",
    "id_halo = massive_halos['halo_id'][select][0]"
   ]
  },
  {
   "cell_type": "code",
   "execution_count": 9,
   "id": "615c7d13",
   "metadata": {},
   "outputs": [
    {
     "name": "stdout",
     "output_type": "stream",
     "text": [
      "The most massive cluster has ID 84200142382\n",
      "the halo is in ra = 63.54 deg, dec = -39.64 deg, with redshift = 0.29 and mass = 2.46e+14 Msun\n"
     ]
    }
   ],
   "source": [
    "print (f'The most massive cluster has ID {id_halo}')\n",
    "print(f'the halo is in ra = {ra_halo:.2f} deg, dec = {dec_halo:.2f} deg, with redshift = {z_halo:.2f} and mass = {mass_halo:.2e} Msun')"
   ]
  },
  {
   "cell_type": "markdown",
   "id": "e18bd649",
   "metadata": {},
   "source": [
    "# 2. Extract the galaxy catalog"
   ]
  },
  {
   "cell_type": "markdown",
   "id": "4e5ac572",
   "metadata": {},
   "source": [
    "The galaxy shapes and true redshifts are available in the cosmoDC2 extragalaxtic catalog, and their photometric redshifts (measured using the BPZ or FlexZboost codes) are available in separate add-on catalog. \n",
    "- We first extract the galaxies within an aperture of 0.6 degrees arround the cluster position, and with magnitude cut `mag_i < 25`.\n",
    "- Then move to the add-on catalog to get the corresponding photoz."
   ]
  },
  {
   "cell_type": "markdown",
   "id": "cbd1f8f6",
   "metadata": {},
   "source": [
    "## 2.1 Select galaxies in the cluster field\n",
    "NB: at this stage, we load all galaxies in the field. Background galaxy selection will come in section 4."
   ]
  },
  {
   "cell_type": "code",
   "execution_count": 10,
   "id": "c31f39c5",
   "metadata": {},
   "outputs": [],
   "source": [
    "# Position and magnitude cuts\n",
    "ra_min, ra_max = ra_halo - 0.3, ra_halo + 0.3\n",
    "dec_min, dec_max = dec_halo - 0.3, dec_halo + 0.3\n",
    "mag_i_max = 25"
   ]
  },
  {
   "cell_type": "markdown",
   "id": "b4490350-4485-4602-81c1-9c31ebbcf072",
   "metadata": {},
   "source": [
    "We indentify the contiguous healix pixels corresponding to the window using the `healpy` package."
   ]
  },
  {
   "cell_type": "code",
   "execution_count": 11,
   "id": "367fd108-221c-47c8-a66a-9b602b458afd",
   "metadata": {},
   "outputs": [
    {
     "name": "stdout",
     "output_type": "stream",
     "text": [
      "The selected contiguou healpix pixels within the window are [9942, 10071]\n"
     ]
    }
   ],
   "source": [
    "n_random = 100000\n",
    "ra_random = np.random.random(n_random)*(ra_max-ra_min) + ra_min\n",
    "dec_random = np.random.random(n_random)*(dec_max-dec_min) + dec_min\n",
    "unique_healpix_in_window = list(np.unique(healpy.ang2pix(32, ra_random, dec_random, nest=False, lonlat=True)))\n",
    "print('The selected contiguou healpix pixels within the window are ' + str(unique_healpix_in_window))"
   ]
  },
  {
   "cell_type": "markdown",
   "id": "0b666a39",
   "metadata": {
    "tags": []
   },
   "source": [
    "Extract the needed quantities for each galaxy:\n",
    "- complex shear components `'shear_1'`, `'shear_2'`\n",
    "- intrinsic ellipticity components `'ellipticity_1_true'`, `'ellipticity_2_true'`\n",
    "- convergence `'convergence'`\n",
    "- `ra`, `dec`, `redshift`"
   ]
  },
  {
   "cell_type": "code",
   "execution_count": 12,
   "id": "7066f81a",
   "metadata": {},
   "outputs": [
    {
     "name": "stdout",
     "output_type": "stream",
     "text": [
      "41316 loaded galaxies\n"
     ]
    }
   ],
   "source": [
    "coord_filters = ['ra >= {}'.format(ra_min),'ra < {}'.format(ra_max),'dec >= {}'.format(dec_min),'dec < {}'.format(dec_max)]\n",
    "z_filters = ['redshift >= 0']\n",
    "mag_filters = ['mag_i < {}'.format(mag_i_max)]\n",
    "extragalactic_cat = GCRCatalogs.load_catalog(\"cosmoDC2_v1.1.4_image\", config_overwrite=dict(healpix_pixels=unique_healpix_in_window))\n",
    "\n",
    "gal_cat = extragalactic_cat.get_quantities(['galaxy_id', \n",
    "                                            'ra', 'dec',\n",
    "                                            'shear_1', 'shear_2', \n",
    "                                            'ellipticity_1_true', 'ellipticity_2_true',\n",
    "                                            'redshift', 'convergence', 'halo_id'],\n",
    "                                            filters=(coord_filters + z_filters + mag_filters), \n",
    "                                          )\n",
    "\n",
    "print(str(len(gal_cat['galaxy_id'])) +' loaded galaxies')"
   ]
  },
  {
   "cell_type": "markdown",
   "id": "43da6b3f",
   "metadata": {},
   "source": [
    "We then compute the obseved ellipticities using the shear, the convergence and the intrinsic ellipticity for each galaxy, using [CLMM](https://github.com/LSSTDESC/CLMM). The lensed ellipticity writes for a single galaxy"
   ]
  },
  {
   "cell_type": "markdown",
   "id": "5d1db3da",
   "metadata": {},
   "source": [
    "$$\n",
    "\\epsilon^{\\rm obs} =\n",
    "        \\frac{\\epsilon^{\\rm int} + g}{1 + g^*\\epsilon^{\\rm int}},$$ where the reduced shear expresses as $$g = \\frac{\\gamma}{1-\\kappa}.$$"
   ]
  },
  {
   "cell_type": "code",
   "execution_count": 13,
   "id": "f6155a9f",
   "metadata": {},
   "outputs": [],
   "source": [
    "gal_cat['e1'] = clmm.utils.compute_lensed_ellipticity(gal_cat['ellipticity_1_true'], \n",
    "                                                      gal_cat['ellipticity_2_true'], \n",
    "                                                      gal_cat['shear_1'], gal_cat['shear_2'], \n",
    "                                                      gal_cat['convergence'])[0]\n",
    "\n",
    "gal_cat['e2'] = clmm.utils.compute_lensed_ellipticity(gal_cat['ellipticity_1_true'], \n",
    "                                                      gal_cat['ellipticity_2_true'], \n",
    "                                                      gal_cat['shear_1'], \n",
    "                                                      gal_cat['shear_2'], \n",
    "                                                      gal_cat['convergence'])[1]"
   ]
  },
  {
   "cell_type": "code",
   "execution_count": 14,
   "id": "e53b60a3",
   "metadata": {},
   "outputs": [],
   "source": [
    "# rename the redshift column\n",
    "gal_cat['z'] = gal_cat['redshift']"
   ]
  },
  {
   "cell_type": "code",
   "execution_count": 15,
   "id": "e7039ce8",
   "metadata": {},
   "outputs": [],
   "source": [
    "# change gal_cat to an Astropy Table for later use with CLMM\n",
    "gal_cat = Table(gal_cat)"
   ]
  },
  {
   "cell_type": "markdown",
   "id": "2eacbf1b",
   "metadata": {},
   "source": [
    "## 2.2 Member galaxy identification for the selected cluster"
   ]
  },
  {
   "cell_type": "markdown",
   "id": "36dc4109-b197-4206-a790-353061fd6e01",
   "metadata": {},
   "source": [
    "From the galaxy catalog `gal_cat` (that contains all galaxies in the field, independent of redshift), the galaxies belonging to the dark matter halo (cluster) can be identified from the `halo_id` field."
   ]
  },
  {
   "cell_type": "code",
   "execution_count": 16,
   "id": "456d9fca",
   "metadata": {},
   "outputs": [
    {
     "name": "stdout",
     "output_type": "stream",
     "text": [
      "There are 126 member galaxies in that halo\n"
     ]
    }
   ],
   "source": [
    "member_gal_catalog = gal_cat[gal_cat['halo_id'] == id_halo]\n",
    "print(f\"There are {len(member_gal_catalog)} member galaxies in that halo\")"
   ]
  },
  {
   "cell_type": "markdown",
   "id": "49c196be",
   "metadata": {},
   "source": [
    "# 3. Extract photoz information"
   ]
  },
  {
   "cell_type": "markdown",
   "id": "c996b76a",
   "metadata": {},
   "source": [
    "The full details of the photo-z add-on catalog `'cosmoDC2_v1.1.4_small_with_photozs_v1'` are given in the [photoz catalog notebook](https://github.com/LSSTDESC/DC2-analysis/blob/master/tutorials/extragalactic_gcr_photoz_catalogs.ipynb). This catalog contains photometric redshifts that were computed with the [BPZ template-based code](https://ui.adsabs.harvard.edu/abs/2000ApJ...536..571B/abstract) and is the one we use. Note that the catalog `'cosmoDC2_v1.1.4_small_with_photozs_flexzboost_v1'` contains photozs from [FleXZBoost machine learning code](https://arxiv.org/abs/2001.03621) and could be used instead.\n",
    "\n",
    "## 3.1 Load photoz quantities for each galaxy\n",
    "The quantities of interest are\n",
    "- the probability density function `'photoz_pdf'`,\n",
    "- the mean photometric redshift `'photoz_mean'`.\n",
    "\n",
    "NB: The add-on catalog does not support geometrical cut (in `ra`, `dec`, `redshift`). We first extract the photo-z informations in the corresponding healpix pixel, we then match with the cosmoDC2 galaxy sample.\n",
    "\n"
   ]
  },
  {
   "cell_type": "code",
   "execution_count": 17,
   "id": "9d4a4836",
   "metadata": {
    "tags": []
   },
   "outputs": [],
   "source": [
    "# Load the photoz catalog\n",
    "extragalactic_photoz_cat = GCRCatalogs.load_catalog('cosmoDC2_v1.1.4_small_with_photozs_v1')\n",
    "z_bins = extragalactic_photoz_cat.photoz_pdf_bin_centers"
   ]
  },
  {
   "cell_type": "code",
   "execution_count": 30,
   "id": "6ed4a9ca",
   "metadata": {},
   "outputs": [],
   "source": [
    "# Get the redshift information\n",
    "photoz_cat = extragalactic_photoz_cat.get_quantities(['photoz_pdf','photoz_mean','redshift', 'galaxy_id', 'photoz_odds'], \n",
    "                                                     native_filters=[(lambda p: np.isin(p, [unique_healpix_in_window]), \"healpix_pixel\")])"
   ]
  },
  {
   "cell_type": "code",
   "execution_count": 31,
   "id": "0fc8be0c-0b2b-4292-bc74-745be939360e",
   "metadata": {},
   "outputs": [
    {
     "data": {
      "text/plain": [
       "<matplotlib.legend.Legend at 0x7f5f8eadf7f0>"
      ]
     },
     "execution_count": 31,
     "metadata": {},
     "output_type": "execute_result"
    },
    {
     "data": {
      "image/png": "[encoded data removed]",
      "text/plain": [
       "<Figure size 640x480 with 1 Axes>"
      ]
     },
     "metadata": {},
     "output_type": "display_data"
    }
   ],
   "source": [
    "index = 100010\n",
    "plt.rcParams['axes.linewidth'] = 1\n",
    "plt.tick_params(axis='both', which = 'both', labelsize= 12)\n",
    "plt.plot(z_bins, photoz_cat['photoz_pdf'][index], label = 'BPZ p(z)')\n",
    "plt.vlines(photoz_cat['redshift'][index], 0, 1, ls = '--', label = 'true')\n",
    "plt.ylim(0, .05)\n",
    "plt.xlim(0, 1)\n",
    "plt.xlabel('z', fontsize = 20)\n",
    "plt.legend(fontsize = 15)"
   ]
  },
  {
   "cell_type": "code",
   "execution_count": 34,
   "id": "9d455e47-765b-4fad-bbab-496aca67513e",
   "metadata": {},
   "outputs": [
    {
     "data": {
      "text/plain": [
       "3185685"
      ]
     },
     "execution_count": 34,
     "metadata": {},
     "output_type": "execute_result"
    }
   ],
   "source": [
    "len(photoz_cat['photoz_mean'])"
   ]
  },
  {
   "cell_type": "code",
   "execution_count": 33,
   "id": "7f350b53-3148-4282-b92d-ba1beb6bcac3",
   "metadata": {},
   "outputs": [
    {
     "data": {
      "text/plain": [
       "3185685"
      ]
     },
     "execution_count": 33,
     "metadata": {},
     "output_type": "execute_result"
    }
   ],
   "source": [
    "len(photoz_cat['galaxy_id'])"
   ]
  },
  {
   "cell_type": "code",
   "execution_count": 25,
   "id": "b8e5becf",
   "metadata": {},
   "outputs": [
    {
     "ename": "ValueError",
     "evalue": "Inconsistent data column lengths",
     "output_type": "error",
     "traceback": [
      "\u001b[0;31m---------------------------------------------------------------------------\u001b[0m",
      "\u001b[0;31mValueError\u001b[0m                                Traceback (most recent call last)",
      "Cell \u001b[0;32mIn[36], line 6\u001b[0m\n\u001b[1;32m      3\u001b[0m photoz_cat_astropy[\u001b[38;5;124m'\u001b[39m\u001b[38;5;124mredshift\u001b[39m\u001b[38;5;124m'\u001b[39m] \u001b[38;5;241m=\u001b[39m photoz_cat[\u001b[38;5;124m'\u001b[39m\u001b[38;5;124mredshift\u001b[39m\u001b[38;5;124m'\u001b[39m]\n\u001b[1;32m      4\u001b[0m \u001b[38;5;66;03m#photoz_cat_astropy['galaxy_id'] = photoz_cat['galaxy_id']\u001b[39;00m\n\u001b[1;32m      5\u001b[0m \u001b[38;5;66;03m#photoz_cat_astropy['photoz_pdf'] =  photoz_cat['photoz_pdf']\u001b[39;00m\n\u001b[0;32m----> 6\u001b[0m \u001b[43mphotoz_cat_astropy\u001b[49m\u001b[43m[\u001b[49m\u001b[38;5;124;43m'\u001b[39;49m\u001b[38;5;124;43mphotoz_mean\u001b[39;49m\u001b[38;5;124;43m'\u001b[39;49m\u001b[43m]\u001b[49m \u001b[38;5;241m=\u001b[39m  photoz_cat[\u001b[38;5;124m'\u001b[39m\u001b[38;5;124mphotoz_mean\u001b[39m\u001b[38;5;124m'\u001b[39m]\n\u001b[1;32m      7\u001b[0m photoz_cat_astropy[\u001b[38;5;124m'\u001b[39m\u001b[38;5;124mphotoz_odds\u001b[39m\u001b[38;5;124m'\u001b[39m] \u001b[38;5;241m=\u001b[39m  photoz_cat[\u001b[38;5;124m'\u001b[39m\u001b[38;5;124mphotoz_odds\u001b[39m\u001b[38;5;124m'\u001b[39m]\n",
      "File \u001b[0;32m~/.conda/envs/myenv/lib/python3.10/site-packages/astropy/table/table.py:2114\u001b[0m, in \u001b[0;36mTable.__setitem__\u001b[0;34m(self, item, value)\u001b[0m\n\u001b[1;32m   2110\u001b[0m \u001b[38;5;28;01mdef\u001b[39;00m \u001b[38;5;21m__setitem__\u001b[39m(\u001b[38;5;28mself\u001b[39m, item, value):\n\u001b[1;32m   2111\u001b[0m     \u001b[38;5;66;03m# If the item is a string then it must be the name of a column.\u001b[39;00m\n\u001b[1;32m   2112\u001b[0m     \u001b[38;5;66;03m# If that column doesn't already exist then create it now.\u001b[39;00m\n\u001b[1;32m   2113\u001b[0m     \u001b[38;5;28;01mif\u001b[39;00m \u001b[38;5;28misinstance\u001b[39m(item, \u001b[38;5;28mstr\u001b[39m) \u001b[38;5;129;01mand\u001b[39;00m item \u001b[38;5;129;01mnot\u001b[39;00m \u001b[38;5;129;01min\u001b[39;00m \u001b[38;5;28mself\u001b[39m\u001b[38;5;241m.\u001b[39mcolnames:\n\u001b[0;32m-> 2114\u001b[0m         \u001b[38;5;28;43mself\u001b[39;49m\u001b[38;5;241;43m.\u001b[39;49m\u001b[43madd_column\u001b[49m\u001b[43m(\u001b[49m\u001b[43mvalue\u001b[49m\u001b[43m,\u001b[49m\u001b[43m \u001b[49m\u001b[43mname\u001b[49m\u001b[38;5;241;43m=\u001b[39;49m\u001b[43mitem\u001b[49m\u001b[43m,\u001b[49m\u001b[43m \u001b[49m\u001b[43mcopy\u001b[49m\u001b[38;5;241;43m=\u001b[39;49m\u001b[38;5;28;43;01mTrue\u001b[39;49;00m\u001b[43m)\u001b[49m\n\u001b[1;32m   2116\u001b[0m     \u001b[38;5;28;01melse\u001b[39;00m:\n\u001b[1;32m   2117\u001b[0m         n_cols \u001b[38;5;241m=\u001b[39m \u001b[38;5;28mlen\u001b[39m(\u001b[38;5;28mself\u001b[39m\u001b[38;5;241m.\u001b[39mcolumns)\n",
      "File \u001b[0;32m~/.conda/envs/myenv/lib/python3.10/site-packages/astropy/table/table.py:2424\u001b[0m, in \u001b[0;36mTable.add_column\u001b[0;34m(self, col, index, name, rename_duplicate, copy, default_name)\u001b[0m\n\u001b[1;32m   2422\u001b[0m \u001b[38;5;66;03m# Ensure that new column is the right length\u001b[39;00m\n\u001b[1;32m   2423\u001b[0m \u001b[38;5;28;01mif\u001b[39;00m \u001b[38;5;28mlen\u001b[39m(\u001b[38;5;28mself\u001b[39m\u001b[38;5;241m.\u001b[39mcolumns) \u001b[38;5;241m>\u001b[39m \u001b[38;5;241m0\u001b[39m \u001b[38;5;129;01mand\u001b[39;00m \u001b[38;5;28mlen\u001b[39m(col) \u001b[38;5;241m!=\u001b[39m \u001b[38;5;28mlen\u001b[39m(\u001b[38;5;28mself\u001b[39m):\n\u001b[0;32m-> 2424\u001b[0m     \u001b[38;5;28;01mraise\u001b[39;00m \u001b[38;5;167;01mValueError\u001b[39;00m(\u001b[38;5;124m\"\u001b[39m\u001b[38;5;124mInconsistent data column lengths\u001b[39m\u001b[38;5;124m\"\u001b[39m)\n\u001b[1;32m   2426\u001b[0m \u001b[38;5;28;01mif\u001b[39;00m rename_duplicate:\n\u001b[1;32m   2427\u001b[0m     orig_name \u001b[38;5;241m=\u001b[39m name\n",
      "\u001b[0;31mValueError\u001b[0m: Inconsistent data column lengths"
     ]
    }
   ],
   "source": [
    "# Convert to astropy table\n",
    "photoz_cat_astropy = Table()\n",
    "photoz_cat_astropy['redshift'] = photoz_cat['redshift']\n",
    "photoz_cat_astropy['galaxy_id'] = photoz_cat['galaxy_id']\n",
    "photoz_cat_astropy['photoz_pdf'] =  photoz_cat['photoz_pdf']\n",
    "photoz_cat_astropy['photoz_mean'] =  photoz_cat['photoz_mean']\n",
    "photoz_cat_astropy['photoz_odds'] =  photoz_cat['photoz_odds']"
   ]
  },
  {
   "cell_type": "code",
   "execution_count": null,
   "id": "e9314acd-692a-4218-a233-f4932984327a",
   "metadata": {},
   "outputs": [
    {
     "ename": "ValueError",
     "evalue": "x and y must have the same length.",
     "output_type": "error",
     "traceback": [
      "\u001b[0;31m---------------------------------------------------------------------------\u001b[0m",
      "\u001b[0;31mValueError\u001b[0m                                Traceback (most recent call last)",
      "Cell \u001b[0;32mIn[24], line 1\u001b[0m\n\u001b[0;32m----> 1\u001b[0m \u001b[43mplt\u001b[49m\u001b[38;5;241;43m.\u001b[39;49m\u001b[43mhist2d\u001b[49m\u001b[43m(\u001b[49m\u001b[43mphotoz_cat_astropy\u001b[49m\u001b[43m[\u001b[49m\u001b[38;5;124;43m'\u001b[39;49m\u001b[38;5;124;43mredshift\u001b[39;49m\u001b[38;5;124;43m'\u001b[39;49m\u001b[43m]\u001b[49m\u001b[43m,\u001b[49m\u001b[43m \u001b[49m\u001b[43mphotoz_cat_astropy\u001b[49m\u001b[43m[\u001b[49m\u001b[38;5;124;43m'\u001b[39;49m\u001b[38;5;124;43mphotoz_mean\u001b[39;49m\u001b[38;5;124;43m'\u001b[39;49m\u001b[43m]\u001b[49m\u001b[43m)\u001b[49m\n",
      "File \u001b[0;32m~/.conda/envs/myenv/lib/python3.10/site-packages/matplotlib/pyplot.py:2669\u001b[0m, in \u001b[0;36mhist2d\u001b[0;34m(x, y, bins, range, density, weights, cmin, cmax, data, **kwargs)\u001b[0m\n\u001b[1;32m   2665\u001b[0m \u001b[38;5;129m@_copy_docstring_and_deprecators\u001b[39m(Axes\u001b[38;5;241m.\u001b[39mhist2d)\n\u001b[1;32m   2666\u001b[0m \u001b[38;5;28;01mdef\u001b[39;00m \u001b[38;5;21mhist2d\u001b[39m(\n\u001b[1;32m   2667\u001b[0m         x, y, bins\u001b[38;5;241m=\u001b[39m\u001b[38;5;241m10\u001b[39m, \u001b[38;5;28mrange\u001b[39m\u001b[38;5;241m=\u001b[39m\u001b[38;5;28;01mNone\u001b[39;00m, density\u001b[38;5;241m=\u001b[39m\u001b[38;5;28;01mFalse\u001b[39;00m, weights\u001b[38;5;241m=\u001b[39m\u001b[38;5;28;01mNone\u001b[39;00m,\n\u001b[1;32m   2668\u001b[0m         cmin\u001b[38;5;241m=\u001b[39m\u001b[38;5;28;01mNone\u001b[39;00m, cmax\u001b[38;5;241m=\u001b[39m\u001b[38;5;28;01mNone\u001b[39;00m, \u001b[38;5;241m*\u001b[39m, data\u001b[38;5;241m=\u001b[39m\u001b[38;5;28;01mNone\u001b[39;00m, \u001b[38;5;241m*\u001b[39m\u001b[38;5;241m*\u001b[39mkwargs):\n\u001b[0;32m-> 2669\u001b[0m     __ret \u001b[38;5;241m=\u001b[39m \u001b[43mgca\u001b[49m\u001b[43m(\u001b[49m\u001b[43m)\u001b[49m\u001b[38;5;241;43m.\u001b[39;49m\u001b[43mhist2d\u001b[49m\u001b[43m(\u001b[49m\n\u001b[1;32m   2670\u001b[0m \u001b[43m        \u001b[49m\u001b[43mx\u001b[49m\u001b[43m,\u001b[49m\u001b[43m \u001b[49m\u001b[43my\u001b[49m\u001b[43m,\u001b[49m\u001b[43m \u001b[49m\u001b[43mbins\u001b[49m\u001b[38;5;241;43m=\u001b[39;49m\u001b[43mbins\u001b[49m\u001b[43m,\u001b[49m\u001b[43m \u001b[49m\u001b[38;5;28;43mrange\u001b[39;49m\u001b[38;5;241;43m=\u001b[39;49m\u001b[38;5;28;43mrange\u001b[39;49m\u001b[43m,\u001b[49m\u001b[43m \u001b[49m\u001b[43mdensity\u001b[49m\u001b[38;5;241;43m=\u001b[39;49m\u001b[43mdensity\u001b[49m\u001b[43m,\u001b[49m\n\u001b[1;32m   2671\u001b[0m \u001b[43m        \u001b[49m\u001b[43mweights\u001b[49m\u001b[38;5;241;43m=\u001b[39;49m\u001b[43mweights\u001b[49m\u001b[43m,\u001b[49m\u001b[43m \u001b[49m\u001b[43mcmin\u001b[49m\u001b[38;5;241;43m=\u001b[39;49m\u001b[43mcmin\u001b[49m\u001b[43m,\u001b[49m\u001b[43m \u001b[49m\u001b[43mcmax\u001b[49m\u001b[38;5;241;43m=\u001b[39;49m\u001b[43mcmax\u001b[49m\u001b[43m,\u001b[49m\n\u001b[1;32m   2672\u001b[0m \u001b[43m        \u001b[49m\u001b[38;5;241;43m*\u001b[39;49m\u001b[38;5;241;43m*\u001b[39;49m\u001b[43m(\u001b[49m\u001b[43m{\u001b[49m\u001b[38;5;124;43m\"\u001b[39;49m\u001b[38;5;124;43mdata\u001b[39;49m\u001b[38;5;124;43m\"\u001b[39;49m\u001b[43m:\u001b[49m\u001b[43m \u001b[49m\u001b[43mdata\u001b[49m\u001b[43m}\u001b[49m\u001b[43m \u001b[49m\u001b[38;5;28;43;01mif\u001b[39;49;00m\u001b[43m \u001b[49m\u001b[43mdata\u001b[49m\u001b[43m \u001b[49m\u001b[38;5;129;43;01mis\u001b[39;49;00m\u001b[43m \u001b[49m\u001b[38;5;129;43;01mnot\u001b[39;49;00m\u001b[43m \u001b[49m\u001b[38;5;28;43;01mNone\u001b[39;49;00m\u001b[43m \u001b[49m\u001b[38;5;28;43;01melse\u001b[39;49;00m\u001b[43m \u001b[49m\u001b[43m{\u001b[49m\u001b[43m}\u001b[49m\u001b[43m)\u001b[49m\u001b[43m,\u001b[49m\u001b[43m \u001b[49m\u001b[38;5;241;43m*\u001b[39;49m\u001b[38;5;241;43m*\u001b[39;49m\u001b[43mkwargs\u001b[49m\u001b[43m)\u001b[49m\n\u001b[1;32m   2673\u001b[0m     sci(__ret[\u001b[38;5;241m-\u001b[39m\u001b[38;5;241m1\u001b[39m])\n\u001b[1;32m   2674\u001b[0m     \u001b[38;5;28;01mreturn\u001b[39;00m __ret\n",
      "File \u001b[0;32m~/.conda/envs/myenv/lib/python3.10/site-packages/matplotlib/__init__.py:1442\u001b[0m, in \u001b[0;36m_preprocess_data.<locals>.inner\u001b[0;34m(ax, data, *args, **kwargs)\u001b[0m\n\u001b[1;32m   1439\u001b[0m \u001b[38;5;129m@functools\u001b[39m\u001b[38;5;241m.\u001b[39mwraps(func)\n\u001b[1;32m   1440\u001b[0m \u001b[38;5;28;01mdef\u001b[39;00m \u001b[38;5;21minner\u001b[39m(ax, \u001b[38;5;241m*\u001b[39margs, data\u001b[38;5;241m=\u001b[39m\u001b[38;5;28;01mNone\u001b[39;00m, \u001b[38;5;241m*\u001b[39m\u001b[38;5;241m*\u001b[39mkwargs):\n\u001b[1;32m   1441\u001b[0m     \u001b[38;5;28;01mif\u001b[39;00m data \u001b[38;5;129;01mis\u001b[39;00m \u001b[38;5;28;01mNone\u001b[39;00m:\n\u001b[0;32m-> 1442\u001b[0m         \u001b[38;5;28;01mreturn\u001b[39;00m \u001b[43mfunc\u001b[49m\u001b[43m(\u001b[49m\u001b[43max\u001b[49m\u001b[43m,\u001b[49m\u001b[43m \u001b[49m\u001b[38;5;241;43m*\u001b[39;49m\u001b[38;5;28;43mmap\u001b[39;49m\u001b[43m(\u001b[49m\u001b[43msanitize_sequence\u001b[49m\u001b[43m,\u001b[49m\u001b[43m \u001b[49m\u001b[43margs\u001b[49m\u001b[43m)\u001b[49m\u001b[43m,\u001b[49m\u001b[43m \u001b[49m\u001b[38;5;241;43m*\u001b[39;49m\u001b[38;5;241;43m*\u001b[39;49m\u001b[43mkwargs\u001b[49m\u001b[43m)\u001b[49m\n\u001b[1;32m   1444\u001b[0m     bound \u001b[38;5;241m=\u001b[39m new_sig\u001b[38;5;241m.\u001b[39mbind(ax, \u001b[38;5;241m*\u001b[39margs, \u001b[38;5;241m*\u001b[39m\u001b[38;5;241m*\u001b[39mkwargs)\n\u001b[1;32m   1445\u001b[0m     auto_label \u001b[38;5;241m=\u001b[39m (bound\u001b[38;5;241m.\u001b[39marguments\u001b[38;5;241m.\u001b[39mget(label_namer)\n\u001b[1;32m   1446\u001b[0m                   \u001b[38;5;129;01mor\u001b[39;00m bound\u001b[38;5;241m.\u001b[39mkwargs\u001b[38;5;241m.\u001b[39mget(label_namer))\n",
      "File \u001b[0;32m~/.conda/envs/myenv/lib/python3.10/site-packages/matplotlib/axes/_axes.py:7127\u001b[0m, in \u001b[0;36mAxes.hist2d\u001b[0;34m(self, x, y, bins, range, density, weights, cmin, cmax, **kwargs)\u001b[0m\n\u001b[1;32m   7034\u001b[0m \u001b[38;5;129m@_preprocess_data\u001b[39m(replace_names\u001b[38;5;241m=\u001b[39m[\u001b[38;5;124m\"\u001b[39m\u001b[38;5;124mx\u001b[39m\u001b[38;5;124m\"\u001b[39m, \u001b[38;5;124m\"\u001b[39m\u001b[38;5;124my\u001b[39m\u001b[38;5;124m\"\u001b[39m, \u001b[38;5;124m\"\u001b[39m\u001b[38;5;124mweights\u001b[39m\u001b[38;5;124m\"\u001b[39m])\n\u001b[1;32m   7035\u001b[0m \u001b[38;5;129m@_docstring\u001b[39m\u001b[38;5;241m.\u001b[39mdedent_interpd\n\u001b[1;32m   7036\u001b[0m \u001b[38;5;28;01mdef\u001b[39;00m \u001b[38;5;21mhist2d\u001b[39m(\u001b[38;5;28mself\u001b[39m, x, y, bins\u001b[38;5;241m=\u001b[39m\u001b[38;5;241m10\u001b[39m, \u001b[38;5;28mrange\u001b[39m\u001b[38;5;241m=\u001b[39m\u001b[38;5;28;01mNone\u001b[39;00m, density\u001b[38;5;241m=\u001b[39m\u001b[38;5;28;01mFalse\u001b[39;00m, weights\u001b[38;5;241m=\u001b[39m\u001b[38;5;28;01mNone\u001b[39;00m,\n\u001b[1;32m   7037\u001b[0m            cmin\u001b[38;5;241m=\u001b[39m\u001b[38;5;28;01mNone\u001b[39;00m, cmax\u001b[38;5;241m=\u001b[39m\u001b[38;5;28;01mNone\u001b[39;00m, \u001b[38;5;241m*\u001b[39m\u001b[38;5;241m*\u001b[39mkwargs):\n\u001b[1;32m   7038\u001b[0m \u001b[38;5;250m    \u001b[39m\u001b[38;5;124;03m\"\"\"\u001b[39;00m\n\u001b[1;32m   7039\u001b[0m \u001b[38;5;124;03m    Make a 2D histogram plot.\u001b[39;00m\n\u001b[1;32m   7040\u001b[0m \n\u001b[0;32m   (...)\u001b[0m\n\u001b[1;32m   7124\u001b[0m \u001b[38;5;124;03m      `.colors.PowerNorm`.\u001b[39;00m\n\u001b[1;32m   7125\u001b[0m \u001b[38;5;124;03m    \"\"\"\u001b[39;00m\n\u001b[0;32m-> 7127\u001b[0m     h, xedges, yedges \u001b[38;5;241m=\u001b[39m \u001b[43mnp\u001b[49m\u001b[38;5;241;43m.\u001b[39;49m\u001b[43mhistogram2d\u001b[49m\u001b[43m(\u001b[49m\u001b[43mx\u001b[49m\u001b[43m,\u001b[49m\u001b[43m \u001b[49m\u001b[43my\u001b[49m\u001b[43m,\u001b[49m\u001b[43m \u001b[49m\u001b[43mbins\u001b[49m\u001b[38;5;241;43m=\u001b[39;49m\u001b[43mbins\u001b[49m\u001b[43m,\u001b[49m\u001b[43m \u001b[49m\u001b[38;5;28;43mrange\u001b[39;49m\u001b[38;5;241;43m=\u001b[39;49m\u001b[38;5;28;43mrange\u001b[39;49m\u001b[43m,\u001b[49m\n\u001b[1;32m   7128\u001b[0m \u001b[43m                                       \u001b[49m\u001b[43mdensity\u001b[49m\u001b[38;5;241;43m=\u001b[39;49m\u001b[43mdensity\u001b[49m\u001b[43m,\u001b[49m\u001b[43m \u001b[49m\u001b[43mweights\u001b[49m\u001b[38;5;241;43m=\u001b[39;49m\u001b[43mweights\u001b[49m\u001b[43m)\u001b[49m\n\u001b[1;32m   7130\u001b[0m     \u001b[38;5;28;01mif\u001b[39;00m cmin \u001b[38;5;129;01mis\u001b[39;00m \u001b[38;5;129;01mnot\u001b[39;00m \u001b[38;5;28;01mNone\u001b[39;00m:\n\u001b[1;32m   7131\u001b[0m         h[h \u001b[38;5;241m<\u001b[39m cmin] \u001b[38;5;241m=\u001b[39m \u001b[38;5;28;01mNone\u001b[39;00m\n",
      "File \u001b[0;32m<__array_function__ internals>:200\u001b[0m, in \u001b[0;36mhistogram2d\u001b[0;34m(*args, **kwargs)\u001b[0m\n",
      "File \u001b[0;32m~/.conda/envs/myenv/lib/python3.10/site-packages/numpy/lib/twodim_base.py:810\u001b[0m, in \u001b[0;36mhistogram2d\u001b[0;34m(x, y, bins, range, density, weights)\u001b[0m\n\u001b[1;32m    807\u001b[0m \u001b[38;5;28;01mfrom\u001b[39;00m \u001b[38;5;21;01mnumpy\u001b[39;00m \u001b[38;5;28;01mimport\u001b[39;00m histogramdd\n\u001b[1;32m    809\u001b[0m \u001b[38;5;28;01mif\u001b[39;00m \u001b[38;5;28mlen\u001b[39m(x) \u001b[38;5;241m!=\u001b[39m \u001b[38;5;28mlen\u001b[39m(y):\n\u001b[0;32m--> 810\u001b[0m     \u001b[38;5;28;01mraise\u001b[39;00m \u001b[38;5;167;01mValueError\u001b[39;00m(\u001b[38;5;124m'\u001b[39m\u001b[38;5;124mx and y must have the same length.\u001b[39m\u001b[38;5;124m'\u001b[39m)\n\u001b[1;32m    812\u001b[0m \u001b[38;5;28;01mtry\u001b[39;00m:\n\u001b[1;32m    813\u001b[0m     N \u001b[38;5;241m=\u001b[39m \u001b[38;5;28mlen\u001b[39m(bins)\n",
      "\u001b[0;31mValueError\u001b[0m: x and y must have the same length."
     ]
    },
    {
     "data": {
      "image/png": "[encoded data removed]",
      "text/plain": [
       "<Figure size 640x480 with 1 Axes>"
      ]
     },
     "metadata": {},
     "output_type": "display_data"
    }
   ],
   "source": [
    "plt.hist2d(photoz_cat_astropy['redshift'], photoz_cat_astropy['photoz_mean'])"
   ]
  },
  {
   "cell_type": "code",
   "execution_count": null,
   "id": "c5df141e",
   "metadata": {},
   "outputs": [],
   "source": [
    "# Match the galaxy catalog and photoz catalog (using `galaxy_id`) and store in a new astropy table `cat_complete`\n",
    "cat_complete = join(photoz_cat_astropy, gal_cat, keys = 'galaxy_id')"
   ]
  },
  {
   "cell_type": "markdown",
   "id": "13154b6a-f6cc-4cc1-896a-a91b52b62cba",
   "metadata": {},
   "source": [
    "## 3.2 Add derived photoz information to the table"
   ]
  },
  {
   "cell_type": "markdown",
   "id": "09108e9c",
   "metadata": {},
   "source": [
    "For each galaxy, we calculate the probability of being in the background of the cluster, i.e. of having a redshift $>z_{\\rm halo} + \\delta$, where delta is a positive value (in this notebook, we choose $\\delta = 0.$, which can be different for other analysis, depending on uncertaintiy on cluster redshift).\n",
    "\n",
    "$$p_i = \\int_{z_{\\rm halo} + \\delta}^{+\\infty} dz\\ p_{\\rm photoz, i}(z)$$ where $p_{\\rm photoz, i}$ is the photometric redshift probability density function for the galaxy $i$."
   ]
  },
  {
   "cell_type": "code",
   "execution_count": null,
   "id": "7ec900a7",
   "metadata": {},
   "outputs": [],
   "source": [
    "delta = 0.\n",
    "z_min = z_halo + delta"
   ]
  },
  {
   "cell_type": "code",
   "execution_count": null,
   "id": "2066f3bf",
   "metadata": {},
   "outputs": [],
   "source": [
    "axis_select_background = [0 if z_bins[i] < z_min else 1 for i in range(len(z_bins))]"
   ]
  },
  {
   "cell_type": "code",
   "execution_count": null,
   "id": "078c94ce",
   "metadata": {},
   "outputs": [],
   "source": [
    "m = np.zeros([len(cat_complete), len(z_bins)])\n",
    "for i in range(len(cat_complete)):\n",
    "    m[i,:] = np.array(cat_complete['photoz_pdf'][i])"
   ]
  },
  {
   "cell_type": "code",
   "execution_count": null,
   "id": "bca36ce4",
   "metadata": {},
   "outputs": [],
   "source": [
    "integral_pdf_behind = scipy.integrate.simps(m * axis_select_background, x = z_bins, axis = 1)\n",
    "norm_pdf = scipy.integrate.simps(m, x = z_bins, axis = 1)"
   ]
  },
  {
   "cell_type": "code",
   "execution_count": null,
   "id": "0d2f325f",
   "metadata": {},
   "outputs": [],
   "source": [
    "# add the probability to be a background galaxy and the normalisation of the photoz pdf to the table.\n",
    "cat_complete['background_probability'] = integral_pdf_behind / norm_pdf\n",
    "cat_complete['photoz_pdf_norm'] = norm_pdf"
   ]
  },
  {
   "cell_type": "markdown",
   "id": "e02ac09e",
   "metadata": {},
   "source": [
    "# 4. Background source selection and contamination estimation\n",
    "\n",
    "We discuss briefly the effect of redhsift selection of background galaxies, that is affected by the contamination of 'fake' background galaxies i.e. galaxies with true redshift below the halo redshift, but identified as background redshift due to specific cut on photometric information. In the same way, member galaxies can be identified as background galaxies. To test 2 different selection cuts, we consider 3 different cases:\n",
    "- `cat_true`: cut on true galaxy redshift $z_{\\rm cosmoDC2} > z_{\\rm l} + \\delta$ (identifying true background galaxies).\n",
    "- `cat_photoz`: cut on mean photoz galaxy redshift $\\langle z \\rangle_{\\rm photoz} > z_{\\rm l} + \\delta$,\n",
    "- `cat_probability`: cut on background probability $\\int_{z_{\\rm halo} + \\delta}^{+\\infty} dz\\ p_{\\rm photoz, i}(z)  > 0.9$."
   ]
  },
  {
   "cell_type": "code",
   "execution_count": null,
   "id": "15453264",
   "metadata": {},
   "outputs": [],
   "source": [
    "cat_true = cat_complete[cat_complete['redshift'] > z_min]\n",
    "cat_photoz = cat_complete[cat_complete['photoz_mean'] > z_min]\n",
    "cat_probability = cat_complete[cat_complete['background_probability'] > 0.9]"
   ]
  },
  {
   "cell_type": "markdown",
   "id": "51b2e148-71f6-494d-a6fd-8160e9224f00",
   "metadata": {},
   "source": [
    "We can plot the background probability as a function of true redshift. We see that the majority of 'true' background galaxies are well labelled as observed background galaxies. However, we see that few galaxies have non-zero probability to be in the foreground of the cluster."
   ]
  },
  {
   "cell_type": "code",
   "execution_count": null,
   "id": "2d8bd319-5f2c-4dec-b336-7b9be48b11d0",
   "metadata": {},
   "outputs": [],
   "source": [
    "fig, ax = plt.subplots(1,1, figsize = (7,5))\n",
    "plt.hist2d(cat_complete['redshift'] ,cat_complete['background_probability'], cmin = 1, bins = [np.linspace(0,3,30), np.linspace(0,1,30)], cmap = 'PuRd')\n",
    "plt.hist(cat_complete['redshift'], density = True, histtype = 'step', bins = 30, label = r'$n_{\\rm gal}(z_{\\rm true})$')\n",
    "plt.colorbar()\n",
    "plt.vlines(z_halo, 0, 1, color = 'k', linestyle = '--', zorder = 1000, linewidth = 3)\n",
    "plt.ylabel(r'$P(z_s > z_l)$', fontsize = 25)\n",
    "plt.xlabel(r'$z_{\\rm cosmoDC2}$', fontsize = 25)\n",
    "plt.tick_params(axis='both', which = 'major', labelsize= 15, zorder = 0)\n",
    "plt.legend(fontsize = 20, loc = 'lower right', frameon = False, framealpha = 1)\n",
    "plt.ylim(0.05,1.05)\n",
    "plt.xlim(0,3)"
   ]
  },
  {
   "cell_type": "markdown",
   "id": "9e2b9f52",
   "metadata": {},
   "source": [
    "We check the contamination of member galaxies by counting the member galaxies and also the foreground galaxies in each dataset:"
   ]
  },
  {
   "cell_type": "code",
   "execution_count": null,
   "id": "180b15b0",
   "metadata": {},
   "outputs": [],
   "source": [
    "print('====cat_true====')\n",
    "member_gal_true = len(cat_true[np.isin(cat_true['galaxy_id'],member_gal_catalog['galaxy_id'])])\n",
    "fraction_member_true = 100*member_gal_true/len(cat_true)\n",
    "print(f'member : {member_gal_true} ({fraction_member_true:.2f} %)')\n",
    "foreground_gal_true = len(cat_true['redshift'][cat_true['redshift'] < z_halo])\n",
    "fraction_foreground_true = 100*foreground_gal_true/len(cat_true)\n",
    "print(f'foreground : {foreground_gal_true} (fraction {fraction_foreground_true:.2f} %)')\n",
    "\n",
    "print('\\n====cat_photoz====')\n",
    "member_gal_photoz = len(cat_photoz[np.isin(cat_photoz['galaxy_id'],member_gal_catalog['galaxy_id'])])\n",
    "fraction_member_photoz = 100*member_gal_photoz/len(cat_photoz)\n",
    "print(f'member : {member_gal_photoz} ({fraction_member_photoz:.2f} %)')\n",
    "foreground_gal_photoz = len(cat_photoz['redshift'][cat_photoz['redshift'] < z_halo])\n",
    "fraction_foreground_photoz = 100*foreground_gal_photoz/len(cat_photoz)\n",
    "print(f'foreground : {foreground_gal_photoz} (fraction {fraction_foreground_photoz:.2f} %)')\n",
    "\n",
    "print('\\n====cat_probability====')\n",
    "member_gal_probability = len(cat_probability[np.isin(cat_probability['galaxy_id'],member_gal_catalog['galaxy_id'])])\n",
    "fraction_member_probability = 100*member_gal_probability/len(cat_probability)\n",
    "print(f'member : {member_gal_probability} ({fraction_member_probability:.2f} %)')\n",
    "foreground_gal_probability = len(cat_probability['redshift'][cat_probability['redshift'] < z_halo])\n",
    "fraction_foreground_probability = 100*foreground_gal_probability/len(cat_probability)\n",
    "print(f'foreground : {foreground_gal_probability} (fraction {fraction_foreground_probability:.2f} %)')"
   ]
  },
  {
   "cell_type": "markdown",
   "id": "bde26905",
   "metadata": {},
   "source": [
    "**From the count of contamination in each data set, we can see that the background galaxy selection based on mean photometric redshift induces a larger fraction of true foreground galaxies and halo member galaxies in the galaxy sample.** "
   ]
  },
  {
   "cell_type": "markdown",
   "id": "c3cadb4e",
   "metadata": {},
   "source": [
    "As a recap, we show in the figure below the different true redshifts histograms of the datasets obtained with the different redshift cuts:\n",
    "- the true redshift histogram in the selected healpix (orange)\n",
    "- the true redshift histogram in the `cat_photoz` dataset (blue)\n",
    "- the true redshift histogram in the `cat_photoz` dataset and applying on the quality criteria `photoz_odds` > 0.8, where `photoz_odds` is the integral of the photoz pdf over a fixed redshift range arround the maximum of the pdf, see [photoz catalog notebook](https://github.com/LSSTDESC/DC2-analysis/blob/master/tutorials/extragalactic_gcr_photoz_catalogs.ipynb) for more details (shaded blue)\n",
    "- the true redshift histogram in the `cat_probability` dataset (red dashed)\n",
    "- the average photoz-pdf of each member galaxies (cyan)"
   ]
  },
  {
   "cell_type": "code",
   "execution_count": null,
   "id": "1aaa5ba2",
   "metadata": {
    "tags": []
   },
   "outputs": [],
   "source": [
    "# catalog of member galaxies containing all photoz information\n",
    "member_gal_photoz_catalog = cat_complete[np.isin(cat_complete['galaxy_id'],member_gal_catalog['galaxy_id'])]"
   ]
  },
  {
   "cell_type": "code",
   "execution_count": null,
   "id": "abd51c13",
   "metadata": {},
   "outputs": [],
   "source": [
    "pdf_member_galaxy_average = 0\n",
    "for i, pdf in enumerate(member_gal_photoz_catalog['photoz_pdf']):\n",
    "    pdf_member_galaxy_average = pdf_member_galaxy_average + pdf/member_gal_photoz_catalog['photoz_pdf_norm'][i]"
   ]
  },
  {
   "cell_type": "code",
   "execution_count": null,
   "id": "aa8e7f65",
   "metadata": {},
   "outputs": [],
   "source": [
    "plt.figure(figsize = (7,5))\n",
    "plt.rcParams['axes.linewidth'] = 2\n",
    "bins = np.linspace(0, 3, 56)\n",
    "plt.tick_params(axis='both', which = 'both', labelsize= 15)\n",
    "hist = plt.hist(gal_cat['redshift'], bins = bins, linewidth = 0, label = r'$z_{\\rm cosmoDC2}$ distribution',  color = 'orange', alpha = 0.5)\n",
    "plt.hist(cat_photoz['redshift'], bins = bins, histtype = 'step', linewidth = 2, label = r'cut $: \\langle z \\rangle_{\\rm photoz} > z_{\\rm halo}$', color = 'b');\n",
    "mask_odds = cat_photoz['photoz_odds'] > 0.8\n",
    "plt.hist(cat_photoz['redshift'][mask_odds], bins = bins, alpha = 0.1, linewidth =0, label = r'cut $: \\langle z \\rangle_{\\rm photoz} > z_{\\rm halo}$ , odds > 0.8', color = 'b', linestyle = '-.');\n",
    "plt.hist(cat_probability['redshift'], bins = bins, linewidth = 2, histtype = 'step', label = r'cut $: P(z > z_{\\rm halo})  > 0.9$',color = 'r', linestyle = '--');\n",
    "plt.axvline(z_halo, color = 'k', linestyle = '-', label = 'halo redshift', zorder = 1000)\n",
    "pdf = pdf_member_galaxy_average/len(member_gal_photoz_catalog)\n",
    "plt.plot(z_bins, max(hist[0].flatten())*pdf/max(pdf), 'cyan', label = 'average member galaxy photoz pdf', linewidth = 3)\n",
    "plt.ylim(0, max(hist[0].flatten())+ 100)\n",
    "plt.legend(frameon = False, fontsize = 12)\n",
    "plt.xlabel(r'$z_{\\rm cosmoDC2}$', fontsize = 30)\n",
    "plt.ylabel(r'Histogram', fontsize = 30)\n",
    "plt.title('Selection effect on background galaxies', fontsize = 20)\n",
    "plt.show()"
   ]
  },
  {
   "cell_type": "markdown",
   "id": "426082c3-9bfd-46e9-a2b3-9178800669e6",
   "metadata": {},
   "source": [
    "We note that the combination of the redshift cut based on the mean photometric redshift and the odds cut has reduced the proportion of foreground galaxies, but has significantly reduced the size of the sample. "
   ]
  },
  {
   "cell_type": "markdown",
   "id": "efc4e16e",
   "metadata": {},
   "source": [
    "# 5. Compute the excess surface density profile of the cluster"
   ]
  },
  {
   "cell_type": "markdown",
   "id": "d59bc9c4",
   "metadata": {},
   "source": [
    "### Estimator of the excess surface density\n",
    "\n",
    "- The maximum likelihood estimator of the excess surface density in the radial bin $[R, R + \\Delta R[$ is defined by\n",
    "\n",
    "$$\\widehat{\\Delta\\Sigma}_+(R) = \\frac{1}{\\sum\\limits_{s = 1} w_{s}}\n",
    "     \\sum\\limits_{s= 1}w_{s}\\langle\\Sigma_{{\\rm crit}}(z_s, z_l)^{-1}\\rangle^{-1}\\epsilon_+^{s},$$ where $\\epsilon_+^{s}$ is the tangential ellipticity of the background galaxy with index $s$ (as source) relative to the dark matter halo position with index $l$ (as lens).\n",
    "     \n",
    "- The critical surface mass density expresses as $\\Sigma_{{\\rm crit}}(z_s, z_l) = \\frac{c^2}{4 \\pi G} \\frac{D_A(z_s)}{D_A(z_l) D_A(z_s, z_l)}$, where $D_A(z_l), D_A(z_s)$ are respectively the angular diameter distance to the lens and to the source in physical units, and $D_A(z_s, z_l)$ is the angular diameter distance between the lens and the source.\n",
    "\n",
    "\n",
    "- The average $\\langle\\Sigma_{\\rm crit}(z_s,z_l)^{-1}\\rangle$ is defined as $\\langle\\Sigma_{\\rm crit}(z_s,z_l)^{-1}\\rangle = \\int_{z_l + \\delta}^{+\\infty} d z_s\\ p_{\\rm photoz,s}(z_s)\\ \\Sigma_{\\rm crit}(z_s,z_l)^{-1}$, where $p_{\\rm photoz,s}$ is the photometric probability density function for the background galaxy with index $s$.\n",
    "\n",
    "### Weights $w_s$\n",
    "\n",
    "The quantities $w_{s}$ are the weights that maximise the sigmnal-to-noise ratio of the excess surface density estimator. They downweight the galaxies that are close in redshift to the cluster (where the lensing signal is weak). They include the lack of informations on both redshift and shape reconstruction for each background galaxies. \n",
    "\n",
    "- In the case where there is no error on the shape measurement (for the purpose of cosmoDC2 galaxies), the weight writes $w_{s} = \\langle\\Sigma_{\\rm crit}(z_s,z_l)^{-1}\\rangle^{2}$,\n",
    "\n",
    "- In the case of true redshift $z_s$, the PDF reduces to a Dirac function centered at $z_s$, giving the average $\\langle\\Sigma_{\\rm crit}(z_l,z_s)^{-1}\\rangle = \\Sigma_{\\rm crit}(z_l,z_s)^{-1} $ and the weight $w_{s} = \\Sigma_{\\rm crit}(z_s,z_l)^{-2}$,\n"
   ]
  },
  {
   "cell_type": "code",
   "execution_count": null,
   "id": "80eeb945",
   "metadata": {},
   "outputs": [],
   "source": [
    "# Define a CLMM cosmology object; used to compute the critical surface density\n",
    "cosmo = clmm.Cosmology(H0 = 71.0, Omega_dm0 = 0.265 - 0.0448, Omega_b0 = 0.0448, Omega_k0 = 0.0)"
   ]
  },
  {
   "cell_type": "code",
   "execution_count": null,
   "id": "ca9306ff",
   "metadata": {},
   "outputs": [],
   "source": [
    "# Inverse critical surface density. Recall that z_bins are the bin centers of the photoz pdf.\n",
    "sigma_crit_1 = np.array(1/cosmo.eval_sigma_crit(z_halo, z_bins))"
   ]
  },
  {
   "cell_type": "code",
   "execution_count": null,
   "id": "c2ee596e",
   "metadata": {},
   "outputs": [],
   "source": [
    "m = np.zeros([len(cat_complete), len(z_bins)])\n",
    "for i in range(len(cat_complete)):\n",
    "    m[i,:] = np.array(cat_complete['photoz_pdf'][i])"
   ]
  },
  {
   "cell_type": "code",
   "execution_count": null,
   "id": "6d6461f0",
   "metadata": {},
   "outputs": [],
   "source": [
    "# compute the average inverse critical surface density\n",
    "unormed_integral = scipy.integrate.simps(m * sigma_crit_1, x = z_bins, axis = 1)\n",
    "norm = scipy.integrate.simps(m, x = z_bins, axis = 1)"
   ]
  },
  {
   "cell_type": "markdown",
   "id": "8ef97206-968f-405a-a2ff-b2f6291a090e",
   "metadata": {},
   "source": [
    "**We compute the excess surface density in 3 different cases:**\n",
    "\n",
    "- using true backgroud galaxy redshift : $w_{ls}^{\\rm true} = \\Sigma_{\\rm crit}(z_{\\rm cosmoDC2},z_l)^{-2}$\n",
    "- using photometric probability density function : $w_{ls}^{\\rm pdf} = \\langle\\Sigma_{\\rm crit}(z_s,z_l)^{-1}\\rangle^{2}$\n",
    "- using mean photometric redshift $w_{ls}^{\\rm mean} = \\Sigma_{\\rm crit}(\\langle z \\rangle_{\\rm photoz},z_l)^{-2}$ \n",
    "- using random sample redshift from the photoz pdf : $w_{ls}^{\\rm mean} = \\Sigma_{\\rm crit}( z_{\\rm random},z_l)^{-2}$"
   ]
  },
  {
   "cell_type": "code",
   "execution_count": null,
   "id": "947165c7",
   "metadata": {},
   "outputs": [],
   "source": [
    "# define the various weights, depending of the case considered\n",
    "ws_pdf = (unormed_integral/norm)**2\n",
    "ws_true = ( 1. /cosmo.eval_sigma_crit(z_halo, cat_complete['redshift']) )**2 \n",
    "ws_mean = ( 1. /cosmo.eval_sigma_crit(z_halo, cat_complete['photoz_mean']) )**2 "
   ]
  },
  {
   "cell_type": "code",
   "execution_count": null,
   "id": "f650a309",
   "metadata": {},
   "outputs": [],
   "source": [
    "ws_random = []\n",
    "for pdf in cat_complete['photoz_pdf']:\n",
    "    ws_random.append(np.random.choice(1./cosmo.eval_sigma_crit(z_halo, z_bins), p = pdf/np.sum(pdf))**2) \n",
    "ws_random = np.array(ws_random)"
   ]
  },
  {
   "cell_type": "markdown",
   "id": "c5467fee",
   "metadata": {},
   "source": [
    "#### We plot the probability $p_{s} = \\frac{w_{s}}{\\sum_{s'} w_{s'}}$ in each case."
   ]
  },
  {
   "cell_type": "code",
   "execution_count": null,
   "id": "37822179",
   "metadata": {},
   "outputs": [],
   "source": [
    "ws_with_photozs = [ws_pdf, ws_mean, ws_random]\n",
    "label = [r'$p_{s}^{\\rm pdf}$', \n",
    "         r'$p_{s}^{\\rm mean}$', \n",
    "         r'$p_{s}^{\\rm random}$']\n",
    "title = []\n",
    "\n",
    "x = np.linspace(0, 7, 100)\n",
    "fig, axs = plt.subplots(1, 3, figsize = (25,6))\n",
    "for i in range(3):\n",
    "    axs[i].hist2d(cat_complete['redshift'], ws_with_photozs[i]/np.sum(ws_with_photozs[i]), cmin = 1, bins = [np.linspace(0,3,30), np.linspace(0,5e-5,30)], cmap = 'PuRd', label = label[i])\n",
    "    axs[i].scatter(cat_complete['redshift'], ws_true/np.sum(ws_true), s = 1, c = 'k', label = r'$p_{s}^{\\rm true}$')\n",
    "    axs[i].vlines(z_halo, 0, 1, color = 'magenta', linestyle = '--', zorder = 1000, linewidth = 3)\n",
    "    axs[i].set_ylabel(label[i], fontsize = 25)\n",
    "    axs[i].set_xlabel(r'$z_{\\rm cosmoDC2}$', fontsize = 25)\n",
    "    axs[i].tick_params(axis='both', which = 'major', labelsize= 15, zorder = 0)\n",
    "    axs[i].legend(fontsize = 20, loc = 'lower right', frameon = True, framealpha = 1)\n",
    "    axs[i].set_ylim(0,max(ws_with_photozs[0]/np.sum(ws_with_photozs[0])))"
   ]
  },
  {
   "cell_type": "markdown",
   "id": "63a60f3d",
   "metadata": {},
   "source": [
    "For the thee cases using photoz, the weights $p_s$ scatter arround the black curves below $z \\approx 1.5$, beyond this redshift, the occurences of catastrophic photometric redshift reconstruction increases and the deviation to the black lines is larger. Additive quality cut cat be applied to remove catastrophic redshift reconstruction from the data set"
   ]
  },
  {
   "cell_type": "code",
   "execution_count": null,
   "id": "9514ed76-0586-4d60-9199-a0a2807323ec",
   "metadata": {},
   "outputs": [],
   "source": [
    "#plt.figure(figsize = (7,5))\n",
    "#mask = cat_complete['background_probability'] > 0.9\n",
    "#plt.hist2d(cat_complete['redshift'][mask], ws_pdf[mask]/np.sum(ws_pdf[mask]), cmin = 1, bins = [np.linspace(0,3,30), np.linspace(0,5e-5,30)], cmap = 'PuRd', label = r'$w_s^{photoz}$')\n",
    "#plt.colorbar()\n",
    "#plt.scatter(cat_complete['redshift'], ws_true/np.sum(ws_true), s = 3, c = 'k')\n",
    "#plt.plot([],[],'k' , label = r'$w_s^{true}$')\n",
    "#plt.vlines(z_halo, 0, 1, color = 'magenta', linestyle = '--', zorder = 1000, linewidth = 3)\n",
    "#plt.ylabel(r'$w_s$', fontsize = 25)\n",
    "#plt.xlabel(r'$z_{\\rm cosmoDC2}$', fontsize = 25)\n",
    "#plt.tick_params(axis='both', which = 'major', labelsize= 15, zorder = 0)\n",
    "#plt.legend(fontsize = 20, loc = 'lower right', frameon = True, framealpha = 1)\n",
    "#plt.ylim(0,max(ws_with_photozs[0]/np.sum(ws_with_photozs[0])))"
   ]
  },
  {
   "cell_type": "code",
   "execution_count": null,
   "id": "d21f85ed",
   "metadata": {},
   "outputs": [],
   "source": [
    "cat_complete['ws_true'] = np.array(ws_true)\n",
    "cat_complete['ws_pdf'] = np.array(ws_pdf)\n",
    "cat_complete['ws_mean'] = np.array(ws_mean)\n",
    "cat_complete['ws_random'] = np.array(ws_random)"
   ]
  },
  {
   "cell_type": "code",
   "execution_count": null,
   "id": "87eb6cca",
   "metadata": {},
   "outputs": [],
   "source": [
    "data_complete = clmm.GCData(cat_complete)\n",
    "cl_complete = clmm.GalaxyCluster('DM_halo', ra_halo, dec_halo, z_halo, data_complete)"
   ]
  },
  {
   "cell_type": "markdown",
   "id": "c331a714",
   "metadata": {},
   "source": [
    "We compute the tangential ellipticity for each background galaxy relative to the dark matter halo center (we use the `CLMM` package)"
   ]
  },
  {
   "cell_type": "code",
   "execution_count": null,
   "id": "152f017b",
   "metadata": {},
   "outputs": [],
   "source": [
    "cl_complete.compute_tangential_and_cross_components(\n",
    "                                    shape_component1='e1', shape_component2='e2', \n",
    "                                    tan_component='shear_t', cross_component='shear_x',\n",
    "                                    geometry=\"flat\")\n",
    "\n",
    "# add projected radial distance of the galaxy to the cluster center to the table\n",
    "cl_complete.galcat['r'] = cosmo.eval_da(cl_complete.z)*cl_complete.galcat['theta']"
   ]
  },
  {
   "cell_type": "markdown",
   "id": "bbe1d62c",
   "metadata": {},
   "source": [
    "We create a galaxy catalog `cl_true` with background selection on the true redshift. This is the ideal situation where there is no mis-identification of background gaalxies."
   ]
  },
  {
   "cell_type": "code",
   "execution_count": null,
   "id": "09a28f6c",
   "metadata": {},
   "outputs": [],
   "source": [
    "data_true = clmm.GCData(cl_complete.galcat[cl_complete.galcat['redshift'] > z_min])\n",
    "cl_true = clmm.GalaxyCluster('DM_halo', ra_halo, dec_halo, z_halo, data_true)"
   ]
  },
  {
   "cell_type": "markdown",
   "id": "8b2471b6",
   "metadata": {},
   "source": [
    "#### To compute the excess surface density,\n",
    "\n",
    "- We define a set of bin edges,\n",
    "\n",
    "- We compute the average excess surface density in each bins as described above,\n",
    "\n",
    "- We compute the errorbars as the standard deviation in each bin."
   ]
  },
  {
   "cell_type": "code",
   "execution_count": null,
   "id": "667a5970",
   "metadata": {},
   "outputs": [],
   "source": [
    "bin_edges = clmm.make_bins(.5,  5, nbins=10, method='evenlog10width')\n",
    "radial_bins = [[bin_edges[i], bin_edges[i + 1]] for i in range(len(bin_edges)-1)]"
   ]
  },
  {
   "cell_type": "code",
   "execution_count": null,
   "id": "2e061182",
   "metadata": {},
   "outputs": [],
   "source": [
    "def make_radial_profile(catalog, radial_bins, radius='r', tangential_component='shear_t', weight = 'ws_true'):\n",
    "    '''\n",
    "    Evaluates the contamination from member galaxies and foreground galaxies\n",
    "    in each radial bin of the profile\n",
    "    \n",
    "    Parameters:\n",
    "    -----------\n",
    "        catalog: CLMM galaxy cluster object\n",
    "            Contains the galcat table\n",
    "        radial_bin: array-like\n",
    "            Radial binning of the profile\n",
    "        radius: str\n",
    "            Name of the radius column in the galcat table\n",
    "        tangential_component: str\n",
    "            Name of the tangential shear component column in the galcat table\n",
    "        weights: str\n",
    "            Name of the weights column in the galcat table\n",
    "                \n",
    "    Returns:\n",
    "    --------\n",
    "        profile: astropy table\n",
    "            Excess surface density profile and corresponding errors\n",
    "    ''' \n",
    "\n",
    "    profile = Table(names=['r', 'DS', 'DS_err'])\n",
    "    \n",
    "    for i, r_bin in enumerate(radial_bins):     \n",
    "        mask = (catalog.galcat[radius] > r_bin[0])*(catalog.galcat[radius] <= r_bin[1])*(catalog.galcat[weight] != 0)\n",
    "        data_cut = catalog.galcat[mask]\n",
    "        \n",
    "        if len(data_cut) == 0:          \n",
    "            profile.add_row([r_mean, None, None])\n",
    "            continue\n",
    "        \n",
    "        r_mean = np.mean(data_cut['r'])\n",
    "        ds = np.average(data_cut[tangential_component]*data_cut[weight]**(-0.5), \n",
    "                             weights = data_cut[weight])\n",
    "        \n",
    "        # Standard deviation of the excess surface density        \n",
    "        ds_rms = np.sqrt(np.average((data_cut[tangential_component]*data_cut[weight]**(-0.5) - ds)**2, \n",
    "                                         weights = data_cut[weight]))/np.sqrt(len(data_cut))\n",
    "\n",
    "        profile.add_row([r_mean, ds, ds_rms])\n",
    "        \n",
    "    return profile"
   ]
  },
  {
   "cell_type": "markdown",
   "id": "7a1ba59b",
   "metadata": {},
   "source": [
    "## Contamination effect"
   ]
  },
  {
   "cell_type": "markdown",
   "id": "3c333a53",
   "metadata": {},
   "source": [
    "We create two CLMM galaxy cluster objects, based on the 2 different background galaxy selection criteria:\n",
    "- `cl_photoz_mean` with cut :  $\\langle z \\rangle > z_{\\rm halo} + \\delta$\n",
    "- `cl_photoz_prob` with cut : $P(z > z_{\\rm halo} + \\delta)  > 0.9$"
   ]
  },
  {
   "cell_type": "code",
   "execution_count": null,
   "id": "9153794e",
   "metadata": {},
   "outputs": [],
   "source": [
    "data_photoz_mean = clmm.GCData(cl_complete.galcat[cl_complete.galcat['photoz_mean'] > z_min])\n",
    "cl_photoz_mean = clmm.GalaxyCluster('DM_halo', ra_halo, dec_halo, z_halo, data_photoz_mean)"
   ]
  },
  {
   "cell_type": "code",
   "execution_count": null,
   "id": "91911a8b-1524-424e-a01c-fcc0a4246d8f",
   "metadata": {},
   "outputs": [],
   "source": [
    "data_photoz_mean_odds = clmm.GCData(cl_complete.galcat[(cl_complete.galcat['photoz_mean'] > z_min)*(cl_complete.galcat['photoz_odds'] > .95)])\n",
    "cl_photoz_mean_odds = clmm.GalaxyCluster('DM_halo', ra_halo, dec_halo, z_halo, data_photoz_mean)"
   ]
  },
  {
   "cell_type": "code",
   "execution_count": null,
   "id": "11bb04fe",
   "metadata": {},
   "outputs": [],
   "source": [
    "data_photoz_prob = clmm.GCData(cl_complete.galcat[cl_complete.galcat['background_probability'] > 0.9])\n",
    "cl_photoz_prob = clmm.GalaxyCluster('DM_halo', ra_halo, dec_halo, z_halo, data_photoz_prob)"
   ]
  },
  {
   "cell_type": "code",
   "execution_count": null,
   "id": "35f8e911",
   "metadata": {},
   "outputs": [],
   "source": [
    "def contamination_profile(catalog, radial_bin, radius='r'):\n",
    "    '''\n",
    "    Evaluates the contamination from member galaxies and foreground galaxies\n",
    "    in each radial bin of the profile\n",
    "    \n",
    "    Parameters:\n",
    "    -----------\n",
    "        catalog: CLMM galaxy cluster object\n",
    "            Contains the galcat table\n",
    "        radius: str\n",
    "            Name of the radius column in the galcat table\n",
    "        radial_bin: array-like\n",
    "            Radial binning of the profile\n",
    "            \n",
    "    Returns:\n",
    "    --------\n",
    "        profile: astropy table\n",
    "            Contamination profile\n",
    "    ''' \n",
    "\n",
    "    profile = Table(names=['r', 'count_foreground', 'count_member'])\n",
    "    \n",
    "    for i, r_bin in enumerate(radial_bin):       \n",
    "        mask_foreground = (catalog.galcat['redshift'] < z_halo)\n",
    "        mask_radius = (catalog.galcat[radius] > r_bin[0])*(catalog.galcat[radius] <= r_bin[1])\n",
    "        data_cut = catalog.galcat[mask_radius]\n",
    "        if len(data_cut) == 0:            \n",
    "            continue\n",
    "        r_mean = np.mean(data_cut['r'])      \n",
    "        data_cut_foreground = catalog.galcat[mask_radius*mask_foreground]\n",
    "        data_member = catalog.galcat['galaxy_id'][mask_radius][np.isin(catalog.galcat['galaxy_id'][mask_radius],member_gal_catalog['galaxy_id'])]\n",
    "        profile.add_row([r_mean, len(data_cut_foreground)/len(data_cut), len(data_member)/len(data_cut)])\n",
    "    return profile"
   ]
  },
  {
   "cell_type": "markdown",
   "id": "4b5a5158",
   "metadata": {},
   "source": [
    "We check the contamination of member galaxies and foreground galaxies in each dataset"
   ]
  },
  {
   "cell_type": "code",
   "execution_count": null,
   "id": "4e0246bf",
   "metadata": {},
   "outputs": [],
   "source": [
    "bin_centers = np.mean(radial_bins, axis = 1)\n",
    "\n",
    "contamination_photoz_mean = contamination_profile(cl_photoz_mean, radial_bins, radius = 'r')\n",
    "contamination_photoz_mean_odds = contamination_profile(cl_photoz_mean_odds, radial_bins, radius = 'r')\n",
    "contamination_photoz_prob = contamination_profile(cl_photoz_prob, radial_bins, radius = 'r')"
   ]
  },
  {
   "cell_type": "code",
   "execution_count": null,
   "id": "5cc0b0ce",
   "metadata": {},
   "outputs": [],
   "source": [
    "plt.figure(figsize = (7,5))\n",
    "plt.rcParams['axes.linewidth'] = 2\n",
    "plt.tick_params(axis='both', which = 'both', labelsize= 15)\n",
    "#plt.plot(contamination_photoz_mean['r'], 100*contamination_photoz_mean['count_foreground'],\\\n",
    "#         'b', label = 'photoz mean : foreground galaxies', linewidth = 3)\n",
    "#plt.plot(contamination_photoz_mean['r'], 100*contamination_photoz_mean['count_member'],\\\n",
    "#         '-b', label = r'$\\langle z \\rangle_{\\rm photoz} > z_{\\rm halo}$', linewidth = 3)\n",
    "plt.plot(contamination_photoz_mean['r'], 100*contamination_photoz_mean_odds['count_member'],\\\n",
    "         '-b', label = r'$\\langle z \\rangle_{\\rm photoz} > z_{\\rm halo}$', linewidth = 3)\n",
    "#plt.plot(contamination_photoz_prob['r'], 100*contamination_photoz_prob['count_foreground'],'r', \\\n",
    "#         label = 'photoz prob. : foreground galaxies', linewidth = 3)\n",
    "plt.plot(contamination_photoz_prob['r'], 100*contamination_photoz_prob['count_member'],'-r', \\\n",
    "         label = r'$P(z_{\\rm gal} > z_{\\rm halo})  > 0.9$', linewidth = 3)\n",
    "#plt.xlim(min(bin_centers),max(bin_centers))\n",
    "plt.xlabel('R [Mpc]', fontsize = 20)\n",
    "plt.xscale('log')\n",
    "plt.grid(True, which='both')\n",
    "plt.ylabel(f'Contamination (%)', fontsize = 20)\n",
    "plt.legend(frameon = True, framealpha = 1, fontsize = 17, loc = 'best')"
   ]
  },
  {
   "cell_type": "code",
   "execution_count": null,
   "id": "18ab5e66-b518-4d9f-a993-66e54b08eaa1",
   "metadata": {},
   "outputs": [],
   "source": [
    "plt.figure(figsize = (7,5))\n",
    "plt.grid(True, which='both')\n",
    "plt.rcParams['axes.linewidth'] = 2\n",
    "plt.tick_params(axis='both', which = 'both', labelsize= 15)\n",
    "plt.plot(contamination_photoz_mean['r'], 100*contamination_photoz_mean['count_foreground'],\\\n",
    "         'b', label = 'photoz mean : foreground galaxies', linewidth = 3)\n",
    "plt.plot(contamination_photoz_prob['r'], 100*contamination_photoz_prob['count_foreground'],'r', \\\n",
    "         label = 'photoz prob. : foreground galaxies', linewidth = 3)\n",
    "plt.xlim(min(bin_centers),max(bin_centers))\n",
    "plt.xlabel('R [Mpc]', fontsize = 20)\n",
    "plt.ylabel(f'Contamination (%)', fontsize = 15)\n",
    "plt.legend(frameon = False, fontsize = 17, loc = 'best')"
   ]
  },
  {
   "cell_type": "markdown",
   "id": "5247d8ae",
   "metadata": {},
   "source": [
    "As mentionned in section 4, the background galaxy selection is more efficient when selecting galaxies on their probabilities to be in the background of the halo. As expected, the contamination from member galaxies decreases with the radius, since the contamination of foreground galaxies is roughly constant with R.\n",
    "\n",
    "We now plot the excess surface density profile for the 3 galaxy catalogs, using the weight $w^{\\rm pdf}_{ls}$ for each galaxy."
   ]
  },
  {
   "cell_type": "code",
   "execution_count": null,
   "id": "2756e97c",
   "metadata": {},
   "outputs": [],
   "source": [
    "weight_name = 'ws_pdf'"
   ]
  },
  {
   "cell_type": "code",
   "execution_count": null,
   "id": "3923ca68",
   "metadata": {},
   "outputs": [],
   "source": [
    "#true redhift\n",
    "profile_true = make_radial_profile(cl_true, radial_bins, radius = 'r', \n",
    "                                   tangential_component = 'shear_t', \n",
    "                                   weight = weight_name\n",
    "                                   )\n",
    "\n",
    "profile_photoz = make_radial_profile(cl_photoz_mean, radial_bins, radius = 'r', \n",
    "                                  tangential_component = 'shear_t', \n",
    "                                  weight = weight_name\n",
    "                                  )\n",
    "\n",
    "profile_probability = make_radial_profile(cl_photoz_prob, radial_bins, radius = 'r', \n",
    "                                  tangential_component = 'shear_t', \n",
    "                                  weight = weight_name\n",
    "                                  )"
   ]
  },
  {
   "cell_type": "markdown",
   "id": "0eed46e9",
   "metadata": {},
   "source": [
    "We use the CLMM DESC code to compute the 'fiducial' excess surface mass density, by using a NFW profile with halo mass of 1e14 M_sun. We choose a concentration of 5."
   ]
  },
  {
   "cell_type": "code",
   "execution_count": null,
   "id": "87658f39",
   "metadata": {},
   "outputs": [],
   "source": [
    "moo = clmm.Modeling(massdef='mean', delta_mdef=200, halo_profile_model='nfw')\n",
    "moo.set_cosmo(cosmo)\n",
    "moo.set_concentration(5)\n",
    "moo.set_mass(1e14)\n",
    "r = np.logspace(np.log10(0.5), np.log10(6), 100)\n",
    "DeltaSigma = moo.eval_excess_surface_density(r, z_halo)"
   ]
  },
  {
   "cell_type": "code",
   "execution_count": null,
   "id": "d4c86c92-283f-45e4-b680-0c94b19f37af",
   "metadata": {},
   "outputs": [],
   "source": [
    "ylabel = r'$\\Delta\\Sigma$ ' +'$[$' + r'${\\rm M}$' + r'$_\\odot\\;$'+ r'${\\rm Mpc}$'+r'$^{-2}$'r'$]$'\n",
    "xlabel = r'$R\\ [$' + r'${\\rm Mpc}$' + r'$]$'\n",
    "plt.figure(figsize = (10,7))\n",
    "plt.grid(True, which=\"both\", ls=\"-\")\n",
    "plt.rcParams['axes.linewidth'] = 2\n",
    "plt.tick_params(axis='both', which = 'both', labelsize= 15)\n",
    "deltalogr = 0.03\n",
    "dr = deltalogr*profile_true['r']\n",
    "\n",
    "plt.errorbar(profile_true['r']   + -1*dr, profile_true['DS']   , profile_true['DS_err'], label = r'true - z',\n",
    "            capsize = 8,\n",
    "             fmt = ' ', marker = '^', \n",
    "             markersize = 10, \n",
    "             markerfacecolor = 'w',\n",
    "            )\n",
    "plt.errorbar(profile_probability['r']   +1*dr, profile_probability['DS']   , profile_probability['DS_err'], label = r'BPZ photoz',\n",
    "             capsize = 8,\n",
    "             fmt = ' ', marker = 'o', markersize = 10, markerfacecolor = 'w'\n",
    "            \n",
    "            )\n",
    "plt.plot(r, DeltaSigma,'-k', label = 'NFW 1-halo term')\n",
    "plt.xscale('log')\n",
    "plt.xlim(min(r),max(r))\n",
    "#plt.ylim(-0.2e14,0.8e14)\n",
    "plt.xlabel(xlabel, fontsize = 20)\n",
    "plt.ylabel(ylabel, fontsize = 20)\n",
    "plt.legend(frameon = True, fontsize = 20, loc = 'upper right', framealpha = 1)\n",
    "plt.title('Excess surface density', fontsize = 20)\n",
    "plt.show()"
   ]
  },
  {
   "cell_type": "code",
   "execution_count": null,
   "id": "cdd0b6bf-1874-43ac-bdeb-704a9dbe0c1e",
   "metadata": {},
   "outputs": [],
   "source": []
  },
  {
   "cell_type": "code",
   "execution_count": null,
   "id": "5dd2be95-2fa6-4ce7-9b73-b311885f757a",
   "metadata": {},
   "outputs": [],
   "source": []
  },
  {
   "cell_type": "code",
   "execution_count": null,
   "id": "318ea0bf-cab4-4583-8e45-7c8ced0ee368",
   "metadata": {},
   "outputs": [],
   "source": []
  },
  {
   "cell_type": "code",
   "execution_count": null,
   "id": "e0517331-cfd1-4308-aeff-18de0889676b",
   "metadata": {},
   "outputs": [],
   "source": []
  }
 ],
 "metadata": {
  "kernelspec": {
   "display_name": "myenv",
   "language": "python",
   "name": "myenv"
  },
  "language_info": {
   "codemirror_mode": {
    "name": "ipython",
    "version": 3
   },
   "file_extension": ".py",
   "mimetype": "text/x-python",
   "name": "python",
   "nbconvert_exporter": "python",
   "pygments_lexer": "ipython3",
   "version": "3.10.10"
  },
  "toc-autonumbering": false,
  "toc-showmarkdowntxt": false
 },
 "nbformat": 4,
 "nbformat_minor": 5
}
