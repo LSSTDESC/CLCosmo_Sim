{
 "cells": [
  {
   "cell_type": "markdown",
   "id": "3065d083",
   "metadata": {},
   "source": [
    "# Basic usage of the cosmoDC2 catalog and photoz add-on catalog - Weak gravitational lensing shear by dark matter halo"
   ]
  },
  {
   "cell_type": "markdown",
   "id": "f1ce10ef",
   "metadata": {},
   "source": [
    "Author : Constantin Payerne"
   ]
  },
  {
   "cell_type": "markdown",
   "id": "342aa8a6",
   "metadata": {
    "tags": []
   },
   "source": [
    "**This notebook can be run at NERSC or CC-IN2P3, where the DESC DC2 products are stored. You need to be a DESC member to be able to access those.**"
   ]
  },
  {
   "cell_type": "markdown",
   "id": "c5354a39",
   "metadata": {},
   "source": [
    "This notebook shows how to use the cosmoDC2 catalog and the photometric redshift (photo-z) add-on catalog to estimate the average excess surface density around galaxy clusters (i.e. to produce the data vector needed for WL mass estimation).\n",
    "\n",
    "After going through this notebook, you should be able to:\n",
    "\n",
    "- extract a dark matter halo catalog from cosmoDC2,\n",
    "- load the background galaxy catalog from cosmoDC2 (around a given halo),\n",
    "- access the photo-z of background galaxies from the photoz add-on catalog,\n",
    "- compute the excess surface density estimator using the above."
   ]
  },
  {
   "cell_type": "markdown",
   "id": "fa3dd5e0-fff8-42ad-bfa4-38bc9bfec4b0",
   "metadata": {},
   "source": [
    "Along with standard packages, you need to have the [CLMM](https://github.com/LSSTDESC/CLMM) library installed to run this notebook."
   ]
  },
  {
   "cell_type": "code",
   "execution_count": 1,
   "id": "a2a095c3",
   "metadata": {},
   "outputs": [],
   "source": [
    "import numpy as np\n",
    "import os\n",
    "import matplotlib.pyplot as plt\n",
    "import scipy.integrate\n",
    "from astropy.table import Table, join\n",
    "import healpy"
   ]
  },
  {
   "cell_type": "code",
   "execution_count": 2,
   "id": "54d15d8a",
   "metadata": {},
   "outputs": [],
   "source": [
    "import clmm \n",
    "import GCRCatalogs\n",
    "GCRCatalogs.set_root_dir_by_site('in2p3')"
   ]
  },
  {
   "cell_type": "markdown",
   "id": "198155d8",
   "metadata": {},
   "source": [
    "NB: A detailled GitHub repository with multiple example the use of GCRCatalogs is available at https://github.com/LSSTDESC/DC2-analysis/tree/master/tutorials."
   ]
  },
  {
   "cell_type": "markdown",
   "id": "27825437",
   "metadata": {},
   "source": [
    "# 1. Identify a cluster (massive dark matter halo) in cosmoDC2"
   ]
  },
  {
   "cell_type": "markdown",
   "id": "1f56c3d4",
   "metadata": {},
   "source": [
    "Here, we load the cosmoDC2 exctragalactic catalog (small version)"
   ]
  },
  {
   "cell_type": "code",
   "execution_count": 3,
   "id": "6602081c",
   "metadata": {},
   "outputs": [],
   "source": [
    "extragalactic_cat = GCRCatalogs.load_catalog('cosmoDC2_v1.1.4_small')"
   ]
  },
  {
   "cell_type": "markdown",
   "id": "317e4acf",
   "metadata": {},
   "source": [
    "In order to speed up the extraction of cosmoDC2 data, we select a dark matter halo within a specified healpix pixel available in `cosmoDC2_v1.1.4_small`. The user can change the selected healpix pixel by modifying the quantity `index_healpix_pixels_selected` below."
   ]
  },
  {
   "cell_type": "code",
   "execution_count": 4,
   "id": "5798b01c",
   "metadata": {},
   "outputs": [
    {
     "name": "stdout",
     "output_type": "stream",
     "text": [
      "[9559, 9686, 9687, 9814, 9815, 9816, 9942, 9943, 10070, 10071, 10072, 10198, 10199, 10200, 10326, 10327, 10450]\n"
     ]
    }
   ],
   "source": [
    "healpix_pixels = extragalactic_cat.get_catalog_info()['healpix_pixels']\n",
    "print(healpix_pixels)"
   ]
  },
  {
   "cell_type": "code",
   "execution_count": 5,
   "id": "42071961",
   "metadata": {},
   "outputs": [],
   "source": [
    "index_healpix_pixels_selected = 6"
   ]
  },
  {
   "cell_type": "code",
   "execution_count": 6,
   "id": "698651be",
   "metadata": {},
   "outputs": [
    {
     "name": "stdout",
     "output_type": "stream",
     "text": [
      "The selected healpix pixel is 9942\n"
     ]
    }
   ],
   "source": [
    "healpix_selected = healpix_pixels[index_healpix_pixels_selected]\n",
    "print('The selected healpix pixel is ' + str(healpix_selected))"
   ]
  },
  {
   "cell_type": "markdown",
   "id": "825b2767",
   "metadata": {},
   "source": [
    "We extract the dark matter halo catalog for this specified healpix pixel by\n",
    "- asking that the cosmoDC2 galaxy is a central galaxy (of a halo), with the flag `is_central=True`. \n",
    "- applying some property cut (here, mass and redshift range). "
   ]
  },
  {
   "cell_type": "code",
   "execution_count": 7,
   "id": "b31c2c71-9f57-4a23-9b14-bc04a0158099",
   "metadata": {},
   "outputs": [
    {
     "name": "stdout",
     "output_type": "stream",
     "text": [
      "There are 35 clusters in this mass and redshift range, in this healpix pixel\n"
     ]
    }
   ],
   "source": [
    "# get list of massive halos in a given redshift and mass range\n",
    "\n",
    "mmin = 1.1*1.e14 # Msun\n",
    "zmin = 0.2\n",
    "zmax = 0.9\n",
    "massive_halos = extragalactic_cat.get_quantities(['halo_mass','redshift','ra', 'dec', 'halo_id'],\n",
    "                                                 filters=[f'halo_mass > {mmin}','is_central==True',\n",
    "                                                          f'redshift>{zmin}', \n",
    "                                                          f'redshift<{zmax}'\n",
    "                                                         ], native_filters=['healpix_pixel == ' + str(healpix_selected)])\n",
    "N_halo = len(massive_halos['halo_mass'])\n",
    "\n",
    "print(f'There are {N_halo} clusters in this mass and redshift range, in this healpix pixel')"
   ]
  },
  {
   "cell_type": "code",
   "execution_count": 8,
   "id": "10197b32-306c-401d-adcb-c9390d31d49c",
   "metadata": {},
   "outputs": [
    {
     "data": {
      "text/plain": [
       "array([1.62517701e+14, 2.45585715e+14, 1.99243027e+14, 2.93007107e+14,\n",
       "       1.29275420e+14, 1.36834147e+14, 1.13029876e+14, 1.15746131e+14,\n",
       "       2.05034239e+14, 7.12337103e+14, 1.18711918e+14, 1.21552938e+14,\n",
       "       1.71149933e+14, 1.18639138e+14, 1.21368389e+14, 1.77622158e+14,\n",
       "       1.16876821e+14, 1.17017183e+14, 1.27861408e+14, 1.32386767e+14,\n",
       "       2.63297256e+14, 1.28521627e+14, 1.69722925e+14, 2.38416881e+14,\n",
       "       1.43748250e+14, 2.85126068e+14, 1.50386829e+14, 4.75237942e+14,\n",
       "       1.34531178e+14, 1.23772730e+14, 1.19182389e+14, 1.63617200e+14,\n",
       "       2.35071599e+14, 1.23577783e+14, 4.70450056e+14])"
      ]
     },
     "execution_count": 8,
     "metadata": {},
     "output_type": "execute_result"
    }
   ],
   "source": [
    "massive_halos['halo_mass']"
   ]
  },
  {
   "cell_type": "markdown",
   "id": "09ce2982-e432-4f92-b122-c90af2114a3a",
   "metadata": {},
   "source": [
    "We then select the most massive halo in the recovered sample."
   ]
  },
  {
   "cell_type": "code",
   "execution_count": 9,
   "id": "b1e175ae",
   "metadata": {},
   "outputs": [],
   "source": [
    "select = massive_halos['halo_mass'] == np.min(massive_halos['halo_mass'])\n",
    "ra_halo = massive_halos['ra'][select][0]\n",
    "dec_halo = massive_halos['dec'][select][0]\n",
    "z_halo = massive_halos['redshift'][select][0]\n",
    "mass_halo =massive_halos['halo_mass'][select][0]\n",
    "id_halo = massive_halos['halo_id'][select][0]"
   ]
  },
  {
   "cell_type": "code",
   "execution_count": 10,
   "id": "615c7d13",
   "metadata": {},
   "outputs": [
    {
     "name": "stdout",
     "output_type": "stream",
     "text": [
      "The most massive cluster has ID 10800142355\n",
      "the halo is in ra = 63.32 deg, dec = -37.76 deg, with redshift = 0.37 and mass = 1.13e+14 Msun\n"
     ]
    }
   ],
   "source": [
    "print (f'The most massive cluster has ID {id_halo}')\n",
    "print(f'the halo is in ra = {ra_halo:.2f} deg, dec = {dec_halo:.2f} deg, with redshift = {z_halo:.2f} and mass = {mass_halo:.2e} Msun')"
   ]
  },
  {
   "cell_type": "markdown",
   "id": "e18bd649",
   "metadata": {},
   "source": [
    "# 2. Extract the galaxy catalog"
   ]
  },
  {
   "cell_type": "markdown",
   "id": "4e5ac572",
   "metadata": {},
   "source": [
    "The galaxy shapes and true redshifts are available in the cosmoDC2 extragalaxtic catalog, and their photometric redshifts (measured using the BPZ or FlexZboost codes) are available in separate add-on catalog. \n",
    "- We first extract the galaxies within an aperture of 0.6 degrees arround the cluster position, and with magnitude cut `mag_i < 25`.\n",
    "- Then move to the add-on catalog to get the corresponding photoz."
   ]
  },
  {
   "cell_type": "markdown",
   "id": "cbd1f8f6",
   "metadata": {},
   "source": [
    "## 2.1 Select galaxies in the cluster field\n",
    "NB: at this stage, we load all galaxies in the field. Background galaxy selection will come in section 4."
   ]
  },
  {
   "cell_type": "code",
   "execution_count": 11,
   "id": "c31f39c5",
   "metadata": {},
   "outputs": [],
   "source": [
    "# Position and magnitude cuts\n",
    "ra_min, ra_max = ra_halo - 0.4, ra_halo + 0.4\n",
    "dec_min, dec_max = dec_halo - 0.4, dec_halo + 0.4\n",
    "mag_i_max = 24.25\n",
    "mag_r_max = 28"
   ]
  },
  {
   "cell_type": "markdown",
   "id": "b4490350-4485-4602-81c1-9c31ebbcf072",
   "metadata": {},
   "source": [
    "We indentify the contiguous healix pixels corresponding to the window using the `healpy` package."
   ]
  },
  {
   "cell_type": "code",
   "execution_count": 12,
   "id": "367fd108-221c-47c8-a66a-9b602b458afd",
   "metadata": {},
   "outputs": [
    {
     "name": "stdout",
     "output_type": "stream",
     "text": [
      "The selected contiguou healpix pixels within the window are [9814, 9815, 9942]\n"
     ]
    }
   ],
   "source": [
    "n_random = 100000\n",
    "ra_random = np.random.random(n_random)*(ra_max-ra_min) + ra_min\n",
    "dec_random = np.random.random(n_random)*(dec_max-dec_min) + dec_min\n",
    "unique_healpix_in_window = list(np.unique(healpy.ang2pix(32, ra_random, dec_random, nest=False, lonlat=True)))\n",
    "print('The selected contiguou healpix pixels within the window are ' + str(unique_healpix_in_window))"
   ]
  },
  {
   "cell_type": "markdown",
   "id": "0b666a39",
   "metadata": {
    "tags": []
   },
   "source": [
    "Extract the needed quantities for each galaxy:\n",
    "- complex shear components `'shear_1'`, `'shear_2'`\n",
    "- intrinsic ellipticity components `'ellipticity_1_true'`, `'ellipticity_2_true'`\n",
    "- convergence `'convergence'`\n",
    "- `ra`, `dec`, `redshift`"
   ]
  },
  {
   "cell_type": "code",
   "execution_count": 13,
   "id": "7066f81a",
   "metadata": {},
   "outputs": [
    {
     "name": "stdout",
     "output_type": "stream",
     "text": [
      "41819 loaded galaxies\n"
     ]
    }
   ],
   "source": [
    "coord_filters = ['ra >= {}'.format(ra_min),'ra < {}'.format(ra_max),'dec >= {}'.format(dec_min),'dec < {}'.format(dec_max)]\n",
    "z_filters = ['redshift >= 0']\n",
    "mag_filters = ['mag_i < {}'.format(mag_i_max),'mag_r < {}'.format(mag_r_max),]\n",
    "extragalactic_cat = GCRCatalogs.load_catalog(\"cosmoDC2_v1.1.4_image\", config_overwrite=dict(healpix_pixels=unique_healpix_in_window))\n",
    "\n",
    "gal_cat = extragalactic_cat.get_quantities(['galaxy_id', \n",
    "                                            'ra', 'dec',\n",
    "                                            'shear_1', 'shear_2', \n",
    "                                            'ellipticity_1_true', 'ellipticity_2_true',\n",
    "                                            'redshift', 'convergence', 'halo_id'],\n",
    "                                            filters=(coord_filters + z_filters + mag_filters), \n",
    "                                          )\n",
    "\n",
    "print(str(len(gal_cat['galaxy_id'])) +' loaded galaxies')"
   ]
  },
  {
   "cell_type": "markdown",
   "id": "2eacbf1b",
   "metadata": {},
   "source": [
    "## 2.2 Member galaxy identification for the selected cluster"
   ]
  },
  {
   "cell_type": "markdown",
   "id": "36dc4109-b197-4206-a790-353061fd6e01",
   "metadata": {},
   "source": [
    "From the galaxy catalog `gal_cat` (that contains all galaxies in the field, independent of redshift), the galaxies belonging to the dark matter halo (cluster) can be identified from the `halo_id` field."
   ]
  },
  {
   "cell_type": "code",
   "execution_count": 14,
   "id": "456d9fca",
   "metadata": {},
   "outputs": [
    {
     "name": "stdout",
     "output_type": "stream",
     "text": [
      "There are 44 member galaxies in that halo\n"
     ]
    }
   ],
   "source": [
    "member_gal_catalog = Table(gal_cat)[gal_cat['halo_id'] == id_halo]\n",
    "print(f\"There are {len(member_gal_catalog)} member galaxies in that halo\")"
   ]
  },
  {
   "cell_type": "markdown",
   "id": "49c196be",
   "metadata": {},
   "source": [
    "# 3. Extract photoz information"
   ]
  },
  {
   "cell_type": "markdown",
   "id": "c996b76a",
   "metadata": {},
   "source": [
    "The full details of the photo-z add-on catalog `'cosmoDC2_v1.1.4_small_with_photozs_v1'` are given in the [photoz catalog notebook](https://github.com/LSSTDESC/DC2-analysis/blob/master/tutorials/extragalactic_gcr_photoz_catalogs.ipynb). This catalog contains photometric redshifts that were computed with the [BPZ template-based code](https://ui.adsabs.harvard.edu/abs/2000ApJ...536..571B/abstract) and is the one we use. Note that the catalog `'cosmoDC2_v1.1.4_small_with_photozs_flexzboost_v1'` contains photozs from [FleXZBoost machine learning code](https://arxiv.org/abs/2001.03621) and could be used instead.\n",
    "\n",
    "## 3.1 Load photoz quantities for each galaxy\n",
    "The quantities of interest are\n",
    "- the probability density function `'photoz_pdf'`,\n",
    "- the mean photometric redshift `'photoz_mean'`.\n",
    "\n",
    "NB: The add-on catalog does not support geometrical cut (in `ra`, `dec`, `redshift`). We first extract the photo-z informations in the corresponding healpix pixel, we then match with the cosmoDC2 galaxy sample.\n",
    "\n"
   ]
  },
  {
   "cell_type": "code",
   "execution_count": 15,
   "id": "9d4a4836",
   "metadata": {
    "tags": []
   },
   "outputs": [],
   "source": [
    "# Load the photoz catalog\n",
    "extragalactic_photoz_cat = GCRCatalogs.load_catalog('cosmoDC2_v1.1.4_small_with_photozs_v1')\n",
    "z_bins = extragalactic_photoz_cat.photoz_pdf_bin_centers"
   ]
  },
  {
   "cell_type": "code",
   "execution_count": 16,
   "id": "6ed4a9ca",
   "metadata": {},
   "outputs": [],
   "source": [
    "# Get the redshift information\n",
    "photoz_cat = extragalactic_photoz_cat.get_quantities(['photoz_pdf','photoz_mean','redshift', 'galaxy_id', 'photoz_odds'], \n",
    "                                                     native_filters=[(lambda p: np.isin(p, [unique_healpix_in_window]), \"healpix_pixel\")])"
   ]
  },
  {
   "cell_type": "code",
   "execution_count": 17,
   "id": "0fc8be0c-0b2b-4292-bc74-745be939360e",
   "metadata": {},
   "outputs": [
    {
     "data": {
      "text/plain": [
       "<matplotlib.legend.Legend at 0x7f0b3be94520>"
      ]
     },
     "execution_count": 17,
     "metadata": {},
     "output_type": "execute_result"
    },
    {
     "data": {
      "image/png": "[encoded data removed]",
      "text/plain": [
       "<Figure size 640x480 with 1 Axes>"
      ]
     },
     "metadata": {},
     "output_type": "display_data"
    }
   ],
   "source": [
    "index = 1007\n",
    "\n",
    "plt.rcParams['axes.linewidth'] = 1\n",
    "plt.tick_params(axis='both', which = 'both', labelsize= 12)\n",
    "plt.plot(z_bins, photoz_cat['photoz_pdf'][index], label = 'BPZ p(z)')\n",
    "plt.vlines(photoz_cat['redshift'][index], 0, 1, ls = '--', label = 'true')\n",
    "plt.vlines(photoz_cat['photoz_mean'][index], 0, 1, ls = '--', label = 'true')\n",
    "plt.ylim(0, .05)\n",
    "plt.xlim(0, 2)\n",
    "plt.xlabel('z', fontsize = 20)\n",
    "plt.legend(fontsize = 15)"
   ]
  },
  {
   "cell_type": "code",
   "execution_count": 18,
   "id": "9d455e47-765b-4fad-bbab-496aca67513e",
   "metadata": {},
   "outputs": [
    {
     "data": {
      "text/plain": [
       "51714020"
      ]
     },
     "execution_count": 18,
     "metadata": {},
     "output_type": "execute_result"
    }
   ],
   "source": [
    "len(photoz_cat['redshift'])"
   ]
  },
  {
   "cell_type": "code",
   "execution_count": 19,
   "id": "7f350b53-3148-4282-b92d-ba1beb6bcac3",
   "metadata": {},
   "outputs": [
    {
     "data": {
      "text/plain": [
       "4797285"
      ]
     },
     "execution_count": 19,
     "metadata": {},
     "output_type": "execute_result"
    }
   ],
   "source": [
    "len(photoz_cat['galaxy_id'])"
   ]
  },
  {
   "cell_type": "code",
   "execution_count": 20,
   "id": "268575ad-14ba-46af-b025-32e1b5dc82d5",
   "metadata": {},
   "outputs": [
    {
     "data": {
      "text/plain": [
       "4797285"
      ]
     },
     "execution_count": 20,
     "metadata": {},
     "output_type": "execute_result"
    }
   ],
   "source": [
    "len(photoz_cat['galaxy_id'])"
   ]
  },
  {
   "cell_type": "code",
   "execution_count": 21,
   "id": "b8e5becf",
   "metadata": {},
   "outputs": [],
   "source": [
    "# Convert to astropy table\n",
    "photoz_cat_astropy = Table()\n",
    "#photoz_cat_astropy['redshift'] = photoz_cat['redshift']\n",
    "photoz_cat_astropy['galaxy_id'] = photoz_cat['galaxy_id']\n",
    "photoz_cat_astropy['photoz_pdf'] =  photoz_cat['photoz_pdf']\n",
    "photoz_cat_astropy['photoz_mean'] =  photoz_cat['photoz_mean']\n",
    "photoz_cat_astropy['photoz_odds'] =  photoz_cat['photoz_odds']"
   ]
  },
  {
   "cell_type": "code",
   "execution_count": 22,
   "id": "c5df141e",
   "metadata": {},
   "outputs": [],
   "source": [
    "# Match the galaxy catalog and photoz catalog (using `galaxy_id`) and store in a new astropy table `cat_complete`\n",
    "cat_complete = join(photoz_cat_astropy, gal_cat, keys = 'galaxy_id')"
   ]
  },
  {
   "cell_type": "code",
   "execution_count": 23,
   "id": "c255036c-3ce3-4587-90b0-31dccf0711c3",
   "metadata": {},
   "outputs": [
    {
     "data": {
      "image/png": "[encoded data removed]",
      "text/plain": [
       "<Figure size 640x480 with 1 Axes>"
      ]
     },
     "metadata": {},
     "output_type": "display_data"
    }
   ],
   "source": [
    "c=plt.hist2d(cat_complete['redshift'], cat_complete['photoz_mean'],cmin=1, bins=100)"
   ]
  },
  {
   "cell_type": "markdown",
   "id": "13154b6a-f6cc-4cc1-896a-a91b52b62cba",
   "metadata": {},
   "source": [
    "## 3.2 Add derived photoz information to the table"
   ]
  },
  {
   "cell_type": "markdown",
   "id": "09108e9c",
   "metadata": {},
   "source": [
    "For each galaxy, we calculate the probability of being in the background of the cluster, i.e. of having a redshift $>z_{\\rm halo} + \\delta$, where delta is a positive value (in this notebook, we choose $\\delta = 0.$, which can be different for other analysis, depending on uncertaintiy on cluster redshift).\n",
    "\n",
    "$$p_i = \\int_{z_{\\rm halo} + \\delta}^{+\\infty} dz\\ p_{\\rm photoz, i}(z)$$ where $p_{\\rm photoz, i}$ is the photometric redshift probability density function for the galaxy $i$."
   ]
  },
  {
   "cell_type": "code",
   "execution_count": 24,
   "id": "7ec900a7",
   "metadata": {},
   "outputs": [],
   "source": [
    "delta = 0.\n",
    "z_min = z_halo + delta"
   ]
  },
  {
   "cell_type": "code",
   "execution_count": 25,
   "id": "2066f3bf",
   "metadata": {},
   "outputs": [],
   "source": [
    "axis_select_background = [0 if z_bins[i] < z_min else 1 for i in range(len(z_bins))]"
   ]
  },
  {
   "cell_type": "code",
   "execution_count": 26,
   "id": "078c94ce",
   "metadata": {},
   "outputs": [],
   "source": [
    "m = np.zeros([len(cat_complete), len(z_bins)])\n",
    "for i in range(len(cat_complete)):\n",
    "    m[i,:] = np.array(cat_complete['photoz_pdf'][i])"
   ]
  },
  {
   "cell_type": "code",
   "execution_count": 27,
   "id": "bca36ce4",
   "metadata": {},
   "outputs": [],
   "source": [
    "integral_pdf_behind = scipy.integrate.simps(m * axis_select_background, x = z_bins, axis = 1)\n",
    "norm_pdf = scipy.integrate.simps(m, x = z_bins, axis = 1)"
   ]
  },
  {
   "cell_type": "code",
   "execution_count": 28,
   "id": "0d2f325f",
   "metadata": {},
   "outputs": [],
   "source": [
    "# add the probability to be a background galaxy and the normalisation of the photoz pdf to the table.\n",
    "cat_complete['background_probability'] = integral_pdf_behind / norm_pdf\n",
    "cat_complete['photoz_pdf_norm'] = norm_pdf"
   ]
  },
  {
   "cell_type": "markdown",
   "id": "e02ac09e",
   "metadata": {},
   "source": [
    "# 4. Background source selection and contamination estimation\n",
    "\n",
    "We discuss briefly the effect of redhsift selection of background galaxies, that is affected by the contamination of 'fake' background galaxies i.e. galaxies with true redshift below the halo redshift, but identified as background redshift due to specific cut on photometric information. In the same way, member galaxies can be identified as background galaxies. To test 2 different selection cuts, we consider 3 different cases:\n",
    "- `cat_true`: cut on true galaxy redshift $z_{\\rm cosmoDC2} > z_{\\rm l} + \\delta$ (identifying true background galaxies).\n",
    "- `cat_photoz`: cut on mean photoz galaxy redshift $\\langle z \\rangle_{\\rm photoz} > z_{\\rm l} + \\delta$,\n",
    "- `cat_probability`: cut on background probability $\\int_{z_{\\rm halo} + \\delta}^{+\\infty} dz\\ p_{\\rm photoz, i}(z)  > 0.9$."
   ]
  },
  {
   "cell_type": "code",
   "execution_count": 29,
   "id": "15453264",
   "metadata": {},
   "outputs": [],
   "source": [
    "cat_true = cat_complete[cat_complete['redshift'] > z_min]\n",
    "cat_photoz = cat_complete[cat_complete['photoz_mean'] > z_min]\n",
    "cat_probability = cat_complete[cat_complete['background_probability'] > 0.9]"
   ]
  },
  {
   "cell_type": "markdown",
   "id": "51b2e148-71f6-494d-a6fd-8160e9224f00",
   "metadata": {},
   "source": [
    "We can plot the background probability as a function of true redshift. We see that the majority of 'true' background galaxies are well labelled as observed background galaxies. However, we see that few galaxies have non-zero probability to be in the foreground of the cluster."
   ]
  },
  {
   "cell_type": "code",
   "execution_count": 30,
   "id": "2d8bd319-5f2c-4dec-b336-7b9be48b11d0",
   "metadata": {},
   "outputs": [
    {
     "data": {
      "text/plain": [
       "(0.0, 3.0)"
      ]
     },
     "execution_count": 30,
     "metadata": {},
     "output_type": "execute_result"
    },
    {
     "data": {
      "image/png": "[encoded data removed]",
      "text/plain": [
       "<Figure size 700x500 with 2 Axes>"
      ]
     },
     "metadata": {},
     "output_type": "display_data"
    }
   ],
   "source": [
    "fig, ax = plt.subplots(1,1, figsize = (7,5))\n",
    "plt.hist2d(cat_complete['redshift'] ,cat_complete['background_probability'], cmin = 1, bins = [np.linspace(0,3,30), np.linspace(0,1,30)], cmap = 'PuRd')\n",
    "plt.hist(cat_complete['redshift'], density = True, histtype = 'step', bins = 30, label = r'$n_{\\rm gal}(z_{\\rm true})$')\n",
    "plt.colorbar()\n",
    "plt.vlines(z_halo, 0, 1, color = 'k', linestyle = '--', zorder = 1000, linewidth = 3)\n",
    "plt.ylabel(r'$P(z_s > z_l)$', fontsize = 25)\n",
    "plt.xlabel(r'$z_{\\rm cosmoDC2}$', fontsize = 25)\n",
    "plt.tick_params(axis='both', which = 'major', labelsize= 15, zorder = 0)\n",
    "plt.legend(fontsize = 20, loc = 'lower right', frameon = False, framealpha = 1)\n",
    "plt.ylim(0.05,1.05)\n",
    "plt.xlim(0,3)"
   ]
  },
  {
   "cell_type": "markdown",
   "id": "9e2b9f52",
   "metadata": {},
   "source": [
    "We check the contamination of member galaxies by counting the member galaxies and also the foreground galaxies in each dataset:"
   ]
  },
  {
   "cell_type": "code",
   "execution_count": 31,
   "id": "1aaa5ba2",
   "metadata": {
    "tags": []
   },
   "outputs": [],
   "source": [
    "# catalog of member galaxies containing all photoz information\n",
    "member_gal_photoz_catalog = cat_complete[np.isin(cat_complete['galaxy_id'],member_gal_catalog['galaxy_id'])]"
   ]
  },
  {
   "cell_type": "code",
   "execution_count": 32,
   "id": "abd51c13",
   "metadata": {},
   "outputs": [],
   "source": [
    "pdf_member_galaxy_average = 0\n",
    "for i, pdf in enumerate(member_gal_photoz_catalog['photoz_pdf']):\n",
    "    pdf_member_galaxy_average = pdf_member_galaxy_average + pdf/member_gal_photoz_catalog['photoz_pdf_norm'][i]"
   ]
  },
  {
   "cell_type": "markdown",
   "id": "426082c3-9bfd-46e9-a2b3-9178800669e6",
   "metadata": {},
   "source": [
    "We note that the combination of the redshift cut based on the mean photometric redshift and the odds cut has reduced the proportion of foreground galaxies, but has significantly reduced the size of the sample. "
   ]
  },
  {
   "cell_type": "markdown",
   "id": "efc4e16e",
   "metadata": {},
   "source": [
    "# 5. Compute the excess surface density profile of the cluster"
   ]
  },
  {
   "cell_type": "markdown",
   "id": "d59bc9c4",
   "metadata": {},
   "source": [
    "### Estimator of the excess surface density\n",
    "\n",
    "- The maximum likelihood estimator of the excess surface density in the radial bin $[R, R + \\Delta R[$ is defined by\n",
    "\n",
    "$$\\widehat{\\Delta\\Sigma}_+(R) = \\frac{1}{\\sum\\limits_{s = 1} w_{s}}\n",
    "     \\sum\\limits_{s= 1}w_{s}\\langle\\Sigma_{{\\rm crit}}(z_s, z_l)^{-1}\\rangle^{-1}\\epsilon_+^{s},$$ where $\\epsilon_+^{s}$ is the tangential ellipticity of the background galaxy with index $s$ (as source) relative to the dark matter halo position with index $l$ (as lens).\n",
    "     \n",
    "- The critical surface mass density expresses as $\\Sigma_{{\\rm crit}}(z_s, z_l) = \\frac{c^2}{4 \\pi G} \\frac{D_A(z_s)}{D_A(z_l) D_A(z_s, z_l)}$, where $D_A(z_l), D_A(z_s)$ are respectively the angular diameter distance to the lens and to the source in physical units, and $D_A(z_s, z_l)$ is the angular diameter distance between the lens and the source.\n",
    "\n",
    "\n",
    "- The average $\\langle\\Sigma_{\\rm crit}(z_s,z_l)^{-1}\\rangle$ is defined as $\\langle\\Sigma_{\\rm crit}(z_s,z_l)^{-1}\\rangle = \\int_{z_l + \\delta}^{+\\infty} d z_s\\ p_{\\rm photoz,s}(z_s)\\ \\Sigma_{\\rm crit}(z_s,z_l)^{-1}$, where $p_{\\rm photoz,s}$ is the photometric probability density function for the background galaxy with index $s$.\n",
    "\n",
    "### Weights $w_s$\n",
    "\n",
    "The quantities $w_{s}$ are the weights that maximise the sigmnal-to-noise ratio of the excess surface density estimator. They downweight the galaxies that are close in redshift to the cluster (where the lensing signal is weak). They include the lack of informations on both redshift and shape reconstruction for each background galaxies. \n",
    "\n",
    "- In the case where there is no error on the shape measurement (for the purpose of cosmoDC2 galaxies), the weight writes $w_{s} = \\langle\\Sigma_{\\rm crit}(z_s,z_l)^{-1}\\rangle^{2}$,\n",
    "\n",
    "- In the case of true redshift $z_s$, the PDF reduces to a Dirac function centered at $z_s$, giving the average $\\langle\\Sigma_{\\rm crit}(z_l,z_s)^{-1}\\rangle = \\Sigma_{\\rm crit}(z_l,z_s)^{-1} $ and the weight $w_{s} = \\Sigma_{\\rm crit}(z_s,z_l)^{-2}$,\n"
   ]
  },
  {
   "cell_type": "code",
   "execution_count": 33,
   "id": "80eeb945",
   "metadata": {},
   "outputs": [],
   "source": [
    "# Define a CLMM cosmology object; used to compute the critical surface density\n",
    "cosmo = clmm.Cosmology(H0 = 71.0, Omega_dm0 = 0.265 - 0.0448, Omega_b0 = 0.0448, Omega_k0 = 0.0)"
   ]
  },
  {
   "cell_type": "code",
   "execution_count": 34,
   "id": "ca9306ff",
   "metadata": {},
   "outputs": [
    {
     "name": "stderr",
     "output_type": "stream",
     "text": [
      "/pbs/home/c/cpayerne/.conda/envs/myenv/lib/python3.10/site-packages/clmm-1.10.0-py3.10.egg/clmm/cosmology/parent_class.py:454: UserWarning: \n",
      "Some source redshifts are lower than the cluster redshift.\n",
      "Sigma_crit = np.inf for those galaxies.\n"
     ]
    }
   ],
   "source": [
    "# Inverse critical surface density. Recall that z_bins are the bin centers of the photoz pdf.\n",
    "sigma_crit_1 = np.array(1/cosmo.eval_sigma_crit(z_halo, z_bins))"
   ]
  },
  {
   "cell_type": "code",
   "execution_count": 35,
   "id": "c2ee596e",
   "metadata": {},
   "outputs": [],
   "source": [
    "m = np.zeros([len(cat_complete), len(z_bins)])\n",
    "for i in range(len(cat_complete)):\n",
    "    m[i,:] = np.array(cat_complete['photoz_pdf'][i])"
   ]
  },
  {
   "cell_type": "code",
   "execution_count": 36,
   "id": "6d6461f0",
   "metadata": {},
   "outputs": [],
   "source": [
    "# compute the average inverse critical surface density\n",
    "unormed_integral = scipy.integrate.simps(m * sigma_crit_1, x = z_bins, axis = 1)\n",
    "norm = scipy.integrate.simps(m, x = z_bins, axis = 1)"
   ]
  },
  {
   "cell_type": "markdown",
   "id": "8ef97206-968f-405a-a2ff-b2f6291a090e",
   "metadata": {},
   "source": [
    "**We compute the excess surface density in 3 different cases:**\n",
    "\n",
    "- using true backgroud galaxy redshift : $w_{ls}^{\\rm true} = \\Sigma_{\\rm crit}(z_{\\rm cosmoDC2},z_l)^{-2}$\n",
    "- using photometric probability density function : $w_{ls}^{\\rm pdf} = \\langle\\Sigma_{\\rm crit}(z_s,z_l)^{-1}\\rangle^{2}$\n",
    "- using mean photometric redshift $w_{ls}^{\\rm mean} = \\Sigma_{\\rm crit}(\\langle z \\rangle_{\\rm photoz},z_l)^{-2}$ \n",
    "- using random sample redshift from the photoz pdf : $w_{ls}^{\\rm mean} = \\Sigma_{\\rm crit}( z_{\\rm random},z_l)^{-2}$"
   ]
  },
  {
   "cell_type": "code",
   "execution_count": 37,
   "id": "947165c7",
   "metadata": {},
   "outputs": [
    {
     "name": "stderr",
     "output_type": "stream",
     "text": [
      "/pbs/home/c/cpayerne/.conda/envs/myenv/lib/python3.10/site-packages/clmm-1.10.0-py3.10.egg/clmm/cosmology/parent_class.py:454: UserWarning: \n",
      "Some source redshifts are lower than the cluster redshift.\n",
      "Sigma_crit = np.inf for those galaxies.\n",
      "/pbs/home/c/cpayerne/.conda/envs/myenv/lib/python3.10/site-packages/clmm-1.10.0-py3.10.egg/clmm/cosmology/parent_class.py:454: UserWarning: \n",
      "Some source redshifts are lower than the cluster redshift.\n",
      "Sigma_crit = np.inf for those galaxies.\n"
     ]
    }
   ],
   "source": [
    "# define the various weights, depending of the case considered\n",
    "ws_pdf = (unormed_integral/norm)**2\n",
    "ws_true = ( 1. /cosmo.eval_sigma_crit(z_halo, cat_complete['redshift']) )**2 \n",
    "ws_mean = ( 1. /cosmo.eval_sigma_crit(z_halo, cat_complete['photoz_mean']) )**2 "
   ]
  },
  {
   "cell_type": "code",
   "execution_count": 38,
   "id": "f650a309",
   "metadata": {},
   "outputs": [],
   "source": [
    "import warnings\n",
    "warnings.filterwarnings('ignore')\n",
    "ws_random = []\n",
    "for pdf in cat_complete['photoz_pdf']:\n",
    "    ws_random.append(np.random.choice(1./cosmo.eval_sigma_crit(z_halo, z_bins), p = pdf/np.sum(pdf))**2) \n",
    "ws_random = np.array(ws_random)"
   ]
  },
  {
   "cell_type": "markdown",
   "id": "63a60f3d",
   "metadata": {},
   "source": [
    "For the thee cases using photoz, the weights $p_s$ scatter arround the black curves below $z \\approx 1.5$, beyond this redshift, the occurences of catastrophic photometric redshift reconstruction increases and the deviation to the black lines is larger. Additive quality cut cat be applied to remove catastrophic redshift reconstruction from the data set"
   ]
  },
  {
   "cell_type": "code",
   "execution_count": 39,
   "id": "d21f85ed",
   "metadata": {},
   "outputs": [],
   "source": [
    "cat_complete['ws_true'] = np.array(ws_true)\n",
    "cat_complete['ws_pdf'] = np.array(ws_pdf)\n",
    "cat_complete['ws_mean'] = np.array(ws_mean)\n",
    "cat_complete['ws_random'] = np.array(ws_random)"
   ]
  },
  {
   "cell_type": "code",
   "execution_count": 40,
   "id": "87eb6cca",
   "metadata": {},
   "outputs": [],
   "source": [
    "data_complete = clmm.GCData(cat_complete)\n",
    "cl_complete = clmm.GalaxyCluster('DM_halo', ra_halo, dec_halo, z_halo, data_complete)"
   ]
  },
  {
   "cell_type": "markdown",
   "id": "c331a714",
   "metadata": {},
   "source": [
    "We compute the tangential ellipticity for each background galaxy relative to the dark matter halo center (we use the `CLMM` package)"
   ]
  },
  {
   "cell_type": "code",
   "execution_count": 41,
   "id": "152f017b",
   "metadata": {},
   "outputs": [],
   "source": [
    "cl_complete.compute_tangential_and_cross_components(\n",
    "                                    shape_component1='ellipticity_1_true', shape_component2='ellipticity_2_true', \n",
    "                                    tan_component='shear_t', cross_component='shear_x',\n",
    "                                    geometry=\"flat\")\n",
    "\n",
    "# add projected radial distance of the galaxy to the cluster center to the table\n",
    "cl_complete.galcat['r'] = cosmo.eval_da(cl_complete.z)*cl_complete.galcat['theta']"
   ]
  },
  {
   "cell_type": "markdown",
   "id": "bbe1d62c",
   "metadata": {},
   "source": [
    "We create a galaxy catalog `cl_true` with background selection on the true redshift. This is the ideal situation where there is no mis-identification of background gaalxies."
   ]
  },
  {
   "cell_type": "code",
   "execution_count": 42,
   "id": "09a28f6c",
   "metadata": {},
   "outputs": [],
   "source": [
    "data_true = clmm.GCData(cl_complete.galcat[cl_complete.galcat['redshift'] > z_min])\n",
    "cl_true = clmm.GalaxyCluster('DM_halo', ra_halo, dec_halo, z_halo, data_true)"
   ]
  },
  {
   "cell_type": "markdown",
   "id": "8b2471b6",
   "metadata": {},
   "source": [
    "#### To compute the excess surface density,\n",
    "\n",
    "- We define a set of bin edges,\n",
    "\n",
    "- We compute the average excess surface density in each bins as described above,\n",
    "\n",
    "- We compute the errorbars as the standard deviation in each bin."
   ]
  },
  {
   "cell_type": "code",
   "execution_count": 43,
   "id": "667a5970",
   "metadata": {},
   "outputs": [],
   "source": [
    "bin_edges = clmm.make_bins(.1,  3, nbins=10, method='evenlog10width')\n",
    "radial_bins = [[bin_edges[i], bin_edges[i + 1]] for i in range(len(bin_edges)-1)]"
   ]
  },
  {
   "cell_type": "code",
   "execution_count": 44,
   "id": "2e061182",
   "metadata": {},
   "outputs": [],
   "source": [
    "def make_radial_profile(catalog, radial_bins, radius='r', tangential_component='shear_t', weight = 'ws_true'):\n",
    "    '''\n",
    "    Evaluates the contamination from member galaxies and foreground galaxies\n",
    "    in each radial bin of the profile\n",
    "    \n",
    "    Parameters:\n",
    "    -----------\n",
    "        catalog: CLMM galaxy cluster object\n",
    "            Contains the galcat table\n",
    "        radial_bin: array-like\n",
    "            Radial binning of the profile\n",
    "        radius: str\n",
    "            Name of the radius column in the galcat table\n",
    "        tangential_component: str\n",
    "            Name of the tangential shear component column in the galcat table\n",
    "        weights: str\n",
    "            Name of the weights column in the galcat table\n",
    "                \n",
    "    Returns:\n",
    "    --------\n",
    "        profile: astropy table\n",
    "            Excess surface density profile and corresponding errors\n",
    "    ''' \n",
    "\n",
    "    profile = Table(names=['r', 'DS', 'DS_err'])\n",
    "    \n",
    "    for i, r_bin in enumerate(radial_bins):     \n",
    "        mask = (catalog.galcat[radius] > r_bin[0])*(catalog.galcat[radius] <= r_bin[1])*(catalog.galcat[weight] != 0)\n",
    "        data_cut = catalog.galcat[mask]\n",
    "        \n",
    "        if len(data_cut) == 0:          \n",
    "            profile.add_row([r_mean, None, None])\n",
    "            continue\n",
    "        \n",
    "        r_mean = np.mean(data_cut['r'])\n",
    "        ds = np.average(data_cut[tangential_component]*data_cut[weight]**(-0.5), \n",
    "                             weights = data_cut[weight])\n",
    "        \n",
    "        # Standard deviation of the excess surface density        \n",
    "        ds_rms = np.sqrt(np.average((data_cut[tangential_component]*data_cut[weight]**(-0.5) - ds)**2, \n",
    "                                         weights = data_cut[weight]))/np.sqrt(len(data_cut))\n",
    "\n",
    "        profile.add_row([r_mean, ds, ds_rms])\n",
    "        \n",
    "    return profile"
   ]
  },
  {
   "cell_type": "markdown",
   "id": "7a1ba59b",
   "metadata": {},
   "source": [
    "## Contamination effect"
   ]
  },
  {
   "cell_type": "markdown",
   "id": "3c333a53",
   "metadata": {},
   "source": [
    "We create two CLMM galaxy cluster objects, based on the 2 different background galaxy selection criteria:\n",
    "- `cl_photoz_mean` with cut :  $\\langle z \\rangle > z_{\\rm halo} + \\delta$\n",
    "- `cl_photoz_prob` with cut : $P(z > z_{\\rm halo} + \\delta)  > 0.9$"
   ]
  },
  {
   "cell_type": "code",
   "execution_count": 45,
   "id": "9153794e",
   "metadata": {},
   "outputs": [],
   "source": [
    "data_photoz_mean = clmm.GCData(cl_complete.galcat[cl_complete.galcat['photoz_mean'] > z_min + 0.2])\n",
    "cl_photoz_mean = clmm.GalaxyCluster('DM_halo', ra_halo, dec_halo, z_halo, data_photoz_mean)"
   ]
  },
  {
   "cell_type": "code",
   "execution_count": 46,
   "id": "11bb04fe",
   "metadata": {},
   "outputs": [],
   "source": [
    "data_photoz_prob = clmm.GCData(cl_complete.galcat[cl_complete.galcat['background_probability'] > 0.8])\n",
    "cl_photoz_prob = clmm.GalaxyCluster('DM_halo', ra_halo, dec_halo, z_halo, data_photoz_prob)"
   ]
  },
  {
   "cell_type": "code",
   "execution_count": 47,
   "id": "a7d6af8c-c44d-4949-869b-29246bb2911e",
   "metadata": {},
   "outputs": [],
   "source": [
    "data_photoz_mean_and_prob = clmm.GCData(cl_complete.galcat[(cl_complete.galcat['background_probability'] > 0.8)&(cl_complete.galcat['photoz_mean'] > z_min + 0.2)])\n",
    "cl_photoz_mean_and_prob = clmm.GalaxyCluster('DM_halo', ra_halo, dec_halo, z_halo, data_photoz_mean_and_prob)"
   ]
  },
  {
   "cell_type": "code",
   "execution_count": 48,
   "id": "35f8e911",
   "metadata": {},
   "outputs": [],
   "source": [
    "def contamination_profile(catalog, radial_bin, radius='r'):\n",
    "    '''\n",
    "    Evaluates the contamination from member galaxies and foreground galaxies\n",
    "    in each radial bin of the profile\n",
    "    \n",
    "    Parameters:\n",
    "    -----------\n",
    "        catalog: CLMM galaxy cluster object\n",
    "            Contains the galcat table\n",
    "        radius: str\n",
    "            Name of the radius column in the galcat table\n",
    "        radial_bin: array-like\n",
    "            Radial binning of the profile\n",
    "            \n",
    "    Returns:\n",
    "    --------\n",
    "        profile: astropy table\n",
    "            Contamination profile\n",
    "    ''' \n",
    "\n",
    "    profile = Table(names=['r', 'count_foreground', 'count_member'])\n",
    "    \n",
    "    for i, r_bin in enumerate(radial_bin):       \n",
    "        mask_foreground = (catalog.galcat['redshift'] < z_halo)\n",
    "        mask_radius = (catalog.galcat[radius] > r_bin[0])*(catalog.galcat[radius] <= r_bin[1])\n",
    "        data_cut = catalog.galcat[mask_radius]\n",
    "        if len(data_cut) == 0:            \n",
    "            continue\n",
    "        r_mean = np.mean(data_cut['r'])      \n",
    "        data_cut_foreground = catalog.galcat[mask_radius * mask_foreground]\n",
    "        data_member = catalog.galcat['galaxy_id'][mask_radius][np.isin(catalog.galcat['galaxy_id'][mask_radius],member_gal_catalog['galaxy_id'])]\n",
    "        profile.add_row([r_mean, len(data_cut_foreground)/len(data_cut), len(data_member)/len(data_cut)])\n",
    "    return profile"
   ]
  },
  {
   "cell_type": "markdown",
   "id": "4b5a5158",
   "metadata": {},
   "source": [
    "We check the contamination of member galaxies and foreground galaxies in each dataset"
   ]
  },
  {
   "cell_type": "code",
   "execution_count": 49,
   "id": "4e0246bf",
   "metadata": {},
   "outputs": [],
   "source": [
    "bin_centers = np.mean(radial_bins, axis = 1)\n",
    "\n",
    "contamination_photoz_mean = contamination_profile(cl_photoz_mean, radial_bins, radius = 'r')\n",
    "contamination_photoz_prob = contamination_profile(cl_photoz_prob, radial_bins, radius = 'r')\n",
    "contamination_photoz_mean_and_prob = contamination_profile(cl_photoz_mean_and_prob, radial_bins, radius = 'r')"
   ]
  },
  {
   "cell_type": "code",
   "execution_count": 50,
   "id": "d6a39884-9494-4d41-b71e-a5338bd880f9",
   "metadata": {},
   "outputs": [
    {
     "data": {
      "text/plain": [
       "<matplotlib.legend.Legend at 0x7f0b393e1cc0>"
      ]
     },
     "execution_count": 50,
     "metadata": {},
     "output_type": "execute_result"
    },
    {
     "data": {
      "image/png": "[encoded data removed]",
      "text/plain": [
       "<Figure size 500x400 with 1 Axes>"
      ]
     },
     "metadata": {},
     "output_type": "display_data"
    }
   ],
   "source": [
    "plt.figure(figsize = (5,4))\n",
    "plt.tick_params(axis='both', which = 'both', labelsize= 15)\n",
    "plt.plot(contamination_photoz_mean['r'], 1-contamination_photoz_mean['count_member'],\\\n",
    "         '-b', label = r'$\\langle z \\rangle_{\\rm photoz} > z_{\\rm halo}$', linewidth = 3)\n",
    "plt.plot(contamination_photoz_prob['r'], 1-contamination_photoz_prob['count_member'],'-g', \\\n",
    "         label = r'$P(z_{\\rm gal} > z_{\\rm halo})  > 0.9$', linewidth = 3)\n",
    "plt.plot(contamination_photoz_prob['r'], 1-contamination_photoz_mean_and_prob['count_member'],'--r', \\\n",
    "         label = r'both', linewidth = 3)\n",
    "plt.xlabel('R [Mpc]', fontsize = 20)\n",
    "plt.grid(True, which='both')\n",
    "plt.ylabel(f'1-f', fontsize = 20)\n",
    "plt.legend(frameon = True, framealpha = 1, fontsize = 17, loc = 'best')"
   ]
  },
  {
   "cell_type": "code",
   "execution_count": null,
   "id": "a34e2a75-e61c-46a3-9373-3632f733ad0c",
   "metadata": {},
   "outputs": [],
   "source": []
  },
  {
   "cell_type": "code",
   "execution_count": null,
   "id": "1909cdd0-9063-4142-88bc-35c4dfed7f27",
   "metadata": {},
   "outputs": [],
   "source": []
  },
  {
   "cell_type": "code",
   "execution_count": null,
   "id": "79089ba1-5726-4e89-b3bb-1e7b54d82782",
   "metadata": {},
   "outputs": [],
   "source": []
  },
  {
   "cell_type": "code",
   "execution_count": null,
   "id": "61e6fa7b-d690-41a0-abf9-3e0390f344d7",
   "metadata": {},
   "outputs": [],
   "source": []
  },
  {
   "cell_type": "code",
   "execution_count": null,
   "id": "0b7f0467-4c0e-472a-9804-fd444a0fad5b",
   "metadata": {},
   "outputs": [],
   "source": []
  }
 ],
 "metadata": {
  "kernelspec": {
   "display_name": "myenv",
   "language": "python",
   "name": "myenv"
  },
  "language_info": {
   "codemirror_mode": {
    "name": "ipython",
    "version": 3
   },
   "file_extension": ".py",
   "mimetype": "text/x-python",
   "name": "python",
   "nbconvert_exporter": "python",
   "pygments_lexer": "ipython3",
   "version": "3.10.10"
  },
  "toc-autonumbering": false,
  "toc-showmarkdowntxt": false
 },
 "nbformat": 4,
 "nbformat_minor": 5
}
