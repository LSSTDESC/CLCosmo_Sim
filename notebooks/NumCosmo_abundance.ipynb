{
 "cells": [
  {
   "cell_type": "code",
   "execution_count": 1,
   "id": "cb84bfc7-0f23-4f6a-a21f-094d2570bc1e",
   "metadata": {},
   "outputs": [],
   "source": [
    "import numpy as np\n",
    "import matplotlib.pyplot as plt\n",
    "import pickle as pkl\n",
    "import scipy.integrate\n",
    "import astropy.units as u\n",
    "import GCRCatalogs\n",
    "\n",
    "%matplotlib inline"
   ]
  },
  {
   "cell_type": "code",
   "execution_count": 2,
   "id": "2577659f-9e1f-4bf1-aa36-572c92f763bd",
   "metadata": {},
   "outputs": [],
   "source": [
    "try:\n",
    "  import gi\n",
    "  gi.require_version('NumCosmo', '1.0')\n",
    "  gi.require_version('NumCosmoMath', '1.0')\n",
    "except:\n",
    "  pass\n",
    "\n",
    "import math\n",
    "import matplotlib.pyplot as plt\n",
    "from gi.repository import GObject\n",
    "from gi.repository import NumCosmo as Nc\n",
    "from gi.repository import NumCosmoMath as Ncm"
   ]
  },
  {
   "cell_type": "markdown",
   "id": "b76c190c-5ccf-4ab6-b73e-d080db63a289",
   "metadata": {
    "tags": []
   },
   "source": [
    "## Extract DM haloes from the catalog in a given mass and redshift range. "
   ]
  },
  {
   "cell_type": "code",
   "execution_count": 3,
   "id": "0f3da917-5275-4039-be05-145afcd338bb",
   "metadata": {
    "tags": []
   },
   "outputs": [],
   "source": [
    "skysim_cat = GCRCatalogs.load_catalog('skysim5000_v1.1.1_small')\n",
    "cosmo_ss  = skysim_cat.cosmology"
   ]
  },
  {
   "cell_type": "code",
   "execution_count": 4,
   "id": "a69f2b7e-a411-4983-adf2-93415fc29864",
   "metadata": {},
   "outputs": [
    {
     "name": "stdout",
     "output_type": "stream",
     "text": [
      "FlatLambdaCDM(H0=71 km / (Mpc s), Om0=0.265, Tcmb0=0 K, Neff=3.04, m_nu=None, Ob0=0.0448)\n",
      "57.071968\n"
     ]
    }
   ],
   "source": [
    "print(cosmo_ss)\n",
    "print(skysim_cat.sky_area)"
   ]
  },
  {
   "cell_type": "code",
   "execution_count": 5,
   "id": "6a39be44-c24a-4499-aba3-b481f8605888",
   "metadata": {},
   "outputs": [
    {
     "name": "stdout",
     "output_type": "stream",
     "text": [
      "There are 300879 halos in this mass (Mfof) and redshift range\n"
     ]
    }
   ],
   "source": [
    "# get list of halos in a given redshift and mass range \n",
    "mmin_extract = 1.e12 # Msun (M_fof)\n",
    "zmin = 0.\n",
    "zmax = 1.\n",
    "\n",
    "dm_halos = skysim_cat.get_quantities(['halo_mass','hostHaloMass','redshift','ra', 'dec', 'halo_id',\n",
    "                                             'baseDC2/sod_halo_mass','baseDC2/sod_halo_radius'],\n",
    "                                            filters=[f'halo_mass > {mmin_extract}','is_central==True',\n",
    "                                            f'redshift>{zmin}', f'redshift<{zmax}'])\n",
    "N_cl = len(dm_halos['halo_mass'])\n",
    "print(f'There are {N_cl} halos in this mass (Mfof) and redshift range')"
   ]
  },
  {
   "cell_type": "markdown",
   "id": "f88c1aa0-0c48-4bd0-9ed6-a15f0b0dc1c0",
   "metadata": {},
   "source": [
    "#### Define a redshift and mass range\n",
    "NB: SkySim5000 M200c masses are in units of Msun/h"
   ]
  },
  {
   "cell_type": "code",
   "execution_count": 6,
   "id": "5c916de0-1def-4823-b174-99fb43da56af",
   "metadata": {},
   "outputs": [],
   "source": [
    "tmp = dm_halos['baseDC2/sod_halo_mass']/cosmo_ss.h # sod_halo_mass = M200,c in Msun/h, needs conversion\n",
    "mmin = 1.e14#np.min(tmp[tmp>0]) # Msun. Filtering are there are some negative masses in the table\n",
    "mmax = 1.e15 # Msun\n",
    "\n",
    "filt3 = tmp >= mmin\n",
    "filt4 = tmp < mmax\n",
    "filt = filt3 * filt4\n",
    "\n",
    "data_m_ss = tmp[filt] # M200,c [Msun]\n",
    "data_z_ss = dm_halos['redshift'][filt]\n"
   ]
  },
  {
   "cell_type": "markdown",
   "id": "9157984f-042f-43e3-887e-456fe8c59faa",
   "metadata": {},
   "source": [
    "## Fill in NumCosmo dataset"
   ]
  },
  {
   "cell_type": "code",
   "execution_count": 7,
   "id": "6b2fc26f-1da4-4823-9a8a-bbae99f85d6e",
   "metadata": {},
   "outputs": [],
   "source": [
    "#  Initializing the library objects, this must be called before \n",
    "#  any other library function.\n",
    "#\n",
    "Ncm.cfg_init ()\n",
    "\n",
    "#  New homogeneous and isotropic cosmological model NcHICosmoDEXcdm \n",
    "#\n",
    "#cosmo = Nc.HICosmo.new_from_name (Nc.HICosmo, \"NcHICosmoDEXcdm\")\n",
    "cosmo = Nc.HICosmoLCDM()\n",
    "#\n",
    "#  New homogeneous and isotropic reionization object.\n",
    "#\n",
    "reion = Nc.HIReionCamb.new () \n",
    "\n",
    "#\n",
    "#  New homogeneous and isotropic primordial object.\n",
    "#\n",
    "prim = Nc.HIPrimPowerLaw.new () \n",
    "#\n",
    "# Adding submodels to the main cosmological model.\n",
    "#\n",
    "cosmo.add_submodel (reion)\n",
    "cosmo.add_submodel (prim)\n",
    "\n",
    "#\n",
    "#  New cosmological distance objects optimizied to perform calculations\n",
    "#  up to redshift 2.0.\n",
    "#\n",
    "dist = Nc.Distance.new (2.0)\n",
    "\n",
    "#\n",
    "# New transfer function 'NcTransferFuncEH' using the Einsenstein, Hu\n",
    "# fitting formula.\n",
    "#\n",
    "tf = Nc.TransferFunc.new_from_name (\"NcTransferFuncEH\")\n",
    "#\n",
    "# New linear matter power spectrum object based of the EH transfer function.\n",
    "# \n",
    "psml = Nc.PowspecMLTransfer.new (tf)\n",
    "psml.require_kmin (1.0e-6)\n",
    "psml.require_kmax (1.0e3)\n",
    "\n",
    "#\n",
    "# Apply a tophat filter to the psml object, set best output interval.\n",
    "#\n",
    "psf = Ncm.PowspecFilter.new (psml, Ncm.PowspecFilterType.TOPHAT)\n",
    "psf.set_best_lnr0 ()"
   ]
  },
  {
   "cell_type": "code",
   "execution_count": 8,
   "id": "ef63e291-43f5-4cee-acad-a69187880ede",
   "metadata": {},
   "outputs": [
    {
     "data": {
      "text/plain": [
       "71.0"
      ]
     },
     "execution_count": 8,
     "metadata": {},
     "output_type": "execute_result"
    }
   ],
   "source": [
    "cosmo_ss.H0.value"
   ]
  },
  {
   "cell_type": "code",
   "execution_count": 9,
   "id": "4a04d1ea-2298-43c3-b429-156e65b19a3f",
   "metadata": {},
   "outputs": [
    {
     "name": "stdout",
     "output_type": "stream",
     "text": [
      "3.179 2.797232334275338\n"
     ]
    }
   ],
   "source": [
    "#\n",
    "#  Setting values for the cosmological model, those not set stay in the\n",
    "#  default values. Remember to use the _orig_ version to set the original\n",
    "#  parameters when a reparametrization is used.\n",
    "#\n",
    "cosmo.props.H0      = cosmo_ss.H0.value\n",
    "cosmo.props.Omegab  = cosmo_ss.Ob0\n",
    "cosmo.props.Omegac  = cosmo_ss.Odm0\n",
    "cosmo.props.Omegax  = cosmo_ss.Ode0\n",
    "old_amplitude = prim.props.ln10e10ASA\n",
    "prim.props.ln10e10ASA = (cosmo_ss.sigma8 / psml.sigma_tophat_R (cosmo, 1.0e-7, 0.0, 8.0 / cosmo.h ()))**2 * old_amplitude\n",
    "print(old_amplitude,prim.props.ln10e10ASA)"
   ]
  },
  {
   "cell_type": "code",
   "execution_count": 10,
   "id": "c6f0a27a-edea-4a4d-bbe3-34f3345b4ad4",
   "metadata": {},
   "outputs": [
    {
     "name": "stdout",
     "output_type": "stream",
     "text": [
      "32.23619130191664 34.538776394910684\n"
     ]
    }
   ],
   "source": [
    "#\n",
    "# New multiplicity function 'NcMultiplicityFuncTinkerMean'\n",
    "#\n",
    "mulf = Nc.MultiplicityFuncTinker.new ()\n",
    "mulf.set_mdef (Nc.MultiplicityFuncMassDef.CRITICAL)\n",
    "mulf.set_Delta (200.0)\n",
    "#\n",
    "# New mass function object using the objects defined above.\n",
    "#\n",
    "mf = Nc.HaloMassFunction.new (dist, psf, mulf)\n",
    "\n",
    "#\n",
    "# New Cluster Mass object using Log normal distribution\n",
    "#\n",
    "lnMobs_min = math.log (mmin)\n",
    "lnMobs_max = math.log (mmax)\n",
    "\n",
    "# cluster_m = Nc.ClusterMass.new_from_name (\"NcClusterMassLnnormal{'lnMobs-min':<%20.15e>, 'lnMobs-max':<%20.15e>}\" % (lnMobs_min, lnMobs_max))\n",
    "cluster_m = Nc.ClusterMassNodist()\n",
    "cluster_m.lnMobs_min = lnMobs_min\n",
    "cluster_m.lnMobs_max = lnMobs_max\n",
    "print(cluster_m.lnMobs_min, cluster_m.lnMobs_max)"
   ]
  },
  {
   "cell_type": "code",
   "execution_count": 11,
   "id": "1bbdf801-6a11-4f5d-a57f-5c6a146baad0",
   "metadata": {},
   "outputs": [
    {
     "name": "stdout",
     "output_type": "stream",
     "text": [
      "0.0 1.0\n"
     ]
    }
   ],
   "source": [
    "#\n",
    "# New Cluster Redshift object using a global gaussian distribution\n",
    "#\n",
    "#cluster_z = Nc.ClusterRedshift.new_from_name (\"NcClusterPhotozGaussGlobal{'pz-min':<%20.15e>, 'pz-max':<%20.15e>, 'z-bias':<0.0>, 'sigma0':<0.03>}\" % (zmin, zmax))\n",
    "cluster_z = Nc.ClusterRedshiftNodist()\n",
    "print(cluster_z.z_min, cluster_z.z_max)"
   ]
  },
  {
   "cell_type": "code",
   "execution_count": 12,
   "id": "a36fdc5d-9475-4795-a4f8-9a5b1756a971",
   "metadata": {},
   "outputs": [],
   "source": [
    "#\n",
    "# New Cluster abundance object that uses all objects above\n",
    "#\n",
    "cad = Nc.ClusterAbundance.new (mf, None)\n",
    "\n",
    "#\n",
    "# New NcmData object for number count calculations\n",
    "#\n",
    "ncdata = Nc.DataClusterNCount.new (cad)\n",
    "\n",
    "#\n",
    "#  Creating a new Modelset and set cosmo as the HICosmo model to be used\n",
    "#  and cluster_m as the distribution of the mass-observable relation\n",
    "#\n",
    "mset = Ncm.MSet.new_array ([cosmo, cluster_z, cluster_m])"
   ]
  },
  {
   "cell_type": "code",
   "execution_count": 232,
   "id": "3f78e8d0-72b7-4d8e-8f92-72948563b2a7",
   "metadata": {},
   "outputs": [],
   "source": [
    "#\n",
    "#  Setting values for the mass distribution model\n",
    "#\n",
    "# cluster_m.props.bias       = 0.0\n",
    "# cluster_m.props.sigma      = 0.0"
   ]
  },
  {
   "cell_type": "code",
   "execution_count": 13,
   "id": "df0b29b8-7482-42a7-97be-a9e2436029f5",
   "metadata": {},
   "outputs": [],
   "source": [
    "#\n",
    "#  Printing the parameters used.\n",
    "#\n",
    "mset.pretty_log ()"
   ]
  },
  {
   "cell_type": "code",
   "execution_count": null,
   "id": "888fecf6-b907-4895-9c32-563a24871988",
   "metadata": {},
   "outputs": [],
   "source": [
    "#\n",
    "# Since ncdata is currently empty, run init_from_sampling\n",
    "# using the objects above and an survey area of 300deg^2\n",
    "#\n",
    "#ncdata.init_from_sampling (mset, skysim_cat.sky_area * (math.pi / 180.0)**2, rng)\n",
    "\n",
    "ncdata.set_n_z_obs (1)\n",
    "ncdata.set_n_z_obs_params (0)\n",
    "ncdata.set_n_M_obs (1)\n",
    "ncdata.set_n_M_obs_params (0)\n",
    "\n",
    "ncdata.set_lnM_true(Ncm.Vector.new_array(data_m_ss))\n",
    "ncdata.set_z_true(Ncm.Vector.new_array(data_z_ss))\n",
    "ncdata.true_data (True)\n",
    "\n",
    "print('bou')\n",
    "# if complains about missing observed quanitities, replicate true ones in matrix with one column\n",
    "#ncdata.set_lnM_obs(Ncm.Vector.new_array(mass_vector))\n",
    "#ncdata.set_lnz_obs(Ncm.Vector.new_array(z_vector))\n",
    "ncdata.set_init(True)\n",
    "\n",
    "#\n",
    "# Save to a fits file\n",
    "#\n",
    "ncdata.catalog_save (\"ca_data.fits\", True)"
   ]
  },
  {
   "cell_type": "code",
   "execution_count": 236,
   "id": "90a9acb6-b709-4806-9e44-3f247e676f2b",
   "metadata": {},
   "outputs": [],
   "source": [
    "cosmo.props.Omegac        = 0.2\n",
    "cosmo.props.Omegac_fit    = True\n",
    "cosmo.props.Omegab_fit    = False\n",
    "prim.props.ln10e10ASA_fit = True\n",
    "\n",
    "dset = Ncm.Dataset.new ()\n",
    "dset.append_data (ncdata)"
   ]
  },
  {
   "cell_type": "code",
   "execution_count": 237,
   "id": "31f95eda-1c10-453f-ae54-d45fbeedbf07",
   "metadata": {},
   "outputs": [],
   "source": [
    "data = []\n",
    "mass_vec = ncdata.get_lnM_true ()\n",
    "z_vec = ncdata.get_z_true ()\n",
    "for i in range (mass_vec.len ()):\n",
    "    data.append ([z_vec.get (i), mass_vec.get (i)])"
   ]
  },
  {
   "cell_type": "code",
   "execution_count": 238,
   "id": "fc180351-2b81-4aaf-b1ed-aacbcaa3fc07",
   "metadata": {},
   "outputs": [
    {
     "data": {
      "text/plain": [
       "<NumCosmoMath.Vector object at 0x7f95edcf3a80 (NcmVector at 0x5642584b3d20)>"
      ]
     },
     "execution_count": 238,
     "metadata": {},
     "output_type": "execute_result"
    }
   ],
   "source": [
    "mass_vec"
   ]
  },
  {
   "cell_type": "code",
   "execution_count": 239,
   "id": "afc18963-7da3-47d4-9417-c76ad082a789",
   "metadata": {},
   "outputs": [
    {
     "data": {
      "text/plain": [
       "1000"
      ]
     },
     "execution_count": 239,
     "metadata": {},
     "output_type": "execute_result"
    }
   ],
   "source": [
    "mass_vec.len()"
   ]
  },
  {
   "cell_type": "code",
   "execution_count": 240,
   "id": "e06ce9cf-b3e8-43d7-9774-029affdaae82",
   "metadata": {},
   "outputs": [
    {
     "data": {
      "image/png": "[encoded data removed]",
      "text/plain": [
       "<Figure size 432x288 with 1 Axes>"
      ]
     },
     "metadata": {
      "needs_background": "light"
     },
     "output_type": "display_data"
    }
   ],
   "source": [
    "plt.hist(np.array(data).T[0], bins=30, alpha=0.2);\n",
    "plt.hist(data_z_ss, bins=30, alpha=0.2);\n"
   ]
  },
  {
   "cell_type": "code",
   "execution_count": 241,
   "id": "43dcdb58-5526-4307-a2bb-172045fa23ed",
   "metadata": {},
   "outputs": [
    {
     "data": {
      "text/plain": [
       "Text(0.5, 0, 'log10(M)')"
      ]
     },
     "execution_count": 241,
     "metadata": {},
     "output_type": "execute_result"
    },
    {
     "data": {
      "image/png": "[encoded data removed]",
      "text/plain": [
       "<Figure size 432x288 with 1 Axes>"
      ]
     },
     "metadata": {
      "needs_background": "light"
     },
     "output_type": "display_data"
    }
   ],
   "source": [
    "plt.hist(np.log10(np.exp(np.array(data).T[1])), bins=30, alpha=0.2, label='NC-generated, Skysim small area');\n",
    "plt.hist(np.log10(data_m_ss),bins=30, alpha=0.2, label='SkySim small area')\n",
    "plt.yscale('log')\n",
    "plt.legend()\n",
    "plt.xlabel('log10(M)')"
   ]
  },
  {
   "cell_type": "code",
   "execution_count": 163,
   "id": "eede609b-a869-4582-acb5-b54d29a0fd1e",
   "metadata": {},
   "outputs": [],
   "source": [
    "#\n",
    "# New likelihood object using dset\n",
    "#\n",
    "lh = Ncm.Likelihood.new (dset)\n",
    "\n",
    "#\n",
    "#  Creating a Fit object of type NLOPT using the fitting algorithm ln-neldermead to\n",
    "#  fit the Modelset mset using the Likelihood lh and using a numerical differentiation\n",
    "#  algorithm (NUMDIFF_FORWARD) to obtain the gradient (if needed).\n",
    "#\n",
    "fit = Ncm.Fit.new (Ncm.FitType.NLOPT, \"ln-neldermead\", lh, mset, Ncm.FitGradType.NUMDIFF_FORWARD)\n",
    "\n",
    "fit.run (Ncm.FitRunMsgs.FULL)\n",
    "\n",
    "#\n",
    "# Printing fitting informations.\n",
    "#\n",
    "fit.log_info ()"
   ]
  },
  {
   "cell_type": "code",
   "execution_count": null,
   "id": "bf25f086-ef71-4b78-af9f-352a4da3c625",
   "metadata": {},
   "outputs": [],
   "source": [
    "#\n",
    "# Setting single thread calculation.\n",
    "#\n",
    "Ncm.func_eval_set_max_threads (5)\n",
    "Ncm.func_eval_log_pool_stats ()\n",
    "\n",
    "#\n",
    "# Additional functions\n",
    "#\n",
    "mfunc_oa = Ncm.ObjArray.new ()\n",
    "\n",
    "mfunc_sigma8 = Ncm.MSetFuncList.new (\"NcHICosmo:sigma8\", psf)\n",
    "mfunc_Omegam = Ncm.MSetFuncList.new (\"NcHICosmo:Omega_m0\", None)\n",
    "\n",
    "mfunc_oa.add (mfunc_sigma8)\n",
    "mfunc_oa.add (mfunc_Omegam)\n",
    "\n",
    "print (mfunc_sigma8.eval0 (mset))\n",
    "print (mfunc_Omegam.eval0 (mset))\n",
    "\n",
    "#\n",
    "# New Gaussian prior to provide the initial points for the chain.\n",
    "# It was created with size 0 (number of parameters), but once \n",
    "# initialized with mset the correct size is assigned. \n",
    "#\n",
    "# The initial sampler will use a diagonal covariance with the\n",
    "# diagonal terms being the parameters scale set by each model.\n",
    "#\n",
    "init_sampler = Ncm.MSetTransKernGauss.new (0)\n",
    "init_sampler.set_mset (mset)\n",
    "init_sampler.set_prior_from_mset ()\n",
    "init_sampler.set_cov_from_rescale (1.0) #1\n",
    "\n",
    "#\n",
    "# Creates the ESMCMC walker object, this object is responsible\n",
    "# for moving the walkers in each interation, the stretch move\n",
    "# is affine invariant and therefore gives good results even for\n",
    "# very correlated parametric space.\n",
    "# \n",
    "sampler = 'apes'\n",
    "#sampler  = 'stretch'\n",
    "nwalkers = int (math.ceil (500)) #500\n",
    "#ssize    = 1000000 #1000000\n",
    "\n",
    "if sampler == 'apes':\n",
    "  walker = Ncm.FitESMCMCWalkerAPES.new (nwalkers, mset.fparams_len ())\n",
    "elif sampler == \"stretch\":\n",
    "  walker = Ncm.FitESMCMCWalkerStretch.new (nwalkers, mset.fparams_len ())\n",
    "#\n",
    "# The methods below set the walk scale, which controls the size of the\n",
    "# step done between two walkers and circumscribe the walkers inside\n",
    "# the box defined by the parameters inside the mset object.\n",
    "#\n",
    "#walker.set_scale (3.0)\n",
    "#walker.set_box_mset (mset)\n",
    "#\n",
    "# Initialize the ESMCMC object using the objects above. It will\n",
    "# use 50 walkers, i.e., each point in the MCMC chain contains\n",
    "# 50 points in the parametric space. Each step uses the last point\n",
    "# in the chain (the last 50 parametric points) to calculate the\n",
    "# proposal points.\n",
    "#\n",
    "esmcmc  = Ncm.FitESMCMC.new_funcs_array (fit, nwalkers, init_sampler, walker, Ncm.FitRunMsgs.SIMPLE, mfunc_oa)\n",
    "\n",
    "#\n",
    "# These methods enable the auto-trim options on ESMCMC. This option \n",
    "# makes the sampler check the chains' health and trim any unnecessary \n",
    "# burn-in part. We set the number of divisions to 100 so we test the\n",
    "# chains in blocks of n/100. The last method asserts that each 2min\n",
    "# the catalog will be checked.\n",
    "#\n",
    "#esmcmc.set_auto_trim (True)\n",
    "#esmcmc.set_auto_trim_div (100)\n",
    "#esmcmc.set_max_runs_time (2.0 * 60.0)\n",
    "#esmcmc.set_nthreads (4)\n",
    "esmcmc.set_data_file (\"Test_NC_%s_st_%d_true.fits\" % (sampler, nwalkers))\n",
    "\n",
    "#\n",
    "# Running the esmcmc, it will first calculate 1000 points, after that\n",
    "# it will estimate the error in the parameters mean. Using the current\n",
    "# errors the algorithm tries to calculated how many extra steps are \n",
    "# necessary to obtain the required error `10^-3' in every parameters,\n",
    "# and it will run such extra steps. It will repeat this procedure\n",
    "# until it attains the required error in every parameter.\n",
    "# \n",
    "#\n",
    "esmcmc.start_run ()\n",
    "#esmcmc.run (ssize / nwalkers)\n",
    "#esmcmc.run (10)\n",
    "esmcmc.run_lre (10, 1.e-3)\n",
    "esmcmc.end_run ()\n",
    "\n",
    "#\n",
    "# Calculates the parameter means and covariance and set it into \n",
    "# the fit object and then print.\n",
    "# \n",
    "esmcmc.mean_covar ()\n",
    "fit.log_covar ()"
   ]
  },
  {
   "cell_type": "code",
   "execution_count": null,
   "id": "f77b0f8b-5b39-4cb1-babc-96167844317c",
   "metadata": {},
   "outputs": [],
   "source": []
  }
 ],
 "metadata": {
  "kernelspec": {
   "display_name": "mydesc",
   "language": "python",
   "name": "mydesc"
  },
  "language_info": {
   "codemirror_mode": {
    "name": "ipython",
    "version": 3
   },
   "file_extension": ".py",
   "mimetype": "text/x-python",
   "name": "python",
   "nbconvert_exporter": "python",
   "pygments_lexer": "ipython3",
   "version": "3.8.8"
  }
 },
 "nbformat": 4,
 "nbformat_minor": 5
}
