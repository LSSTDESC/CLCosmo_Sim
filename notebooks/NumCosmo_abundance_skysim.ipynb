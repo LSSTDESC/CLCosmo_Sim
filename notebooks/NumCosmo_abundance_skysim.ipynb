{
 "cells": [
  {
   "cell_type": "code",
   "execution_count": null,
   "id": "cb84bfc7-0f23-4f6a-a21f-094d2570bc1e",
   "metadata": {},
   "outputs": [],
   "source": [
    "import numpy as np\n",
    "import matplotlib.pyplot as plt\n",
    "import pickle as pkl\n",
    "import scipy.integrate\n",
    "import astropy.units as u\n",
    "import GCRCatalogs\n",
    "\n",
    "%matplotlib inline"
   ]
  },
  {
   "cell_type": "code",
   "execution_count": null,
   "id": "2577659f-9e1f-4bf1-aa36-572c92f763bd",
   "metadata": {},
   "outputs": [],
   "source": [
    "try:\n",
    "  import gi\n",
    "  gi.require_version('NumCosmo', '1.0')\n",
    "  gi.require_version('NumCosmoMath', '1.0')\n",
    "except:\n",
    "  pass\n",
    "\n",
    "import math\n",
    "import matplotlib.pyplot as plt\n",
    "from gi.repository import GObject\n",
    "from gi.repository import NumCosmo as Nc\n",
    "from gi.repository import NumCosmoMath as Ncm"
   ]
  },
  {
   "cell_type": "markdown",
   "id": "b76c190c-5ccf-4ab6-b73e-d080db63a289",
   "metadata": {
    "tags": []
   },
   "source": [
    "# Extract DM haloes from the SkySim catalog in a given mass and redshift range. "
   ]
  },
  {
   "cell_type": "markdown",
   "id": "933dbf76-74c5-4936-8437-e48313289d09",
   "metadata": {
    "tags": []
   },
   "source": [
    "## Get catalog information: cosmology, sky area and define cuts"
   ]
  },
  {
   "cell_type": "code",
   "execution_count": null,
   "id": "0f3da917-5275-4039-be05-145afcd338bb",
   "metadata": {
    "tags": []
   },
   "outputs": [],
   "source": [
    "skysim_cat = GCRCatalogs.load_catalog('skysim5000_v1.1.1_small')\n",
    "cosmo_ss  = skysim_cat.cosmology"
   ]
  },
  {
   "cell_type": "code",
   "execution_count": null,
   "id": "a69f2b7e-a411-4983-adf2-93415fc29864",
   "metadata": {},
   "outputs": [],
   "source": [
    "print(cosmo_ss)\n",
    "print(skysim_cat.sky_area)"
   ]
  },
  {
   "cell_type": "code",
   "execution_count": null,
   "id": "95b07f7b-9cd8-43b9-ab22-72f23bc81d62",
   "metadata": {},
   "outputs": [],
   "source": [
    "zmin = 0.\n",
    "zmax = 1.\n",
    "mmin = 1.e14 # Msun. \n",
    "mmax = 1.e15 # Msun"
   ]
  },
  {
   "cell_type": "markdown",
   "id": "1bb2bb9e-f696-4788-9102-98b8c9243886",
   "metadata": {
    "tags": []
   },
   "source": [
    "## Perform extraction"
   ]
  },
  {
   "cell_type": "code",
   "execution_count": null,
   "id": "6a39be44-c24a-4499-aba3-b481f8605888",
   "metadata": {},
   "outputs": [],
   "source": [
    "# Get list of halos in a given redshift and mass range.\n",
    "# Can only filter on 'halo_mass' which corresponds to the fof mass (in Msun).\n",
    "# Will extract all haloes with halo_mass > mmin_extract now\n",
    "# and refine the mass range on M200c, afterwards\n",
    "\n",
    "mmin_extract = 1.e12 # Msun (M_fof)\n",
    "dm_halos = skysim_cat.get_quantities(['halo_mass','redshift','baseDC2/sod_halo_mass'],\n",
    "                                     filters=[f'halo_mass > {mmin_extract}','is_central==True',\n",
    "                                              f'redshift>{zmin}', f'redshift<{zmax}'])\n",
    "N_cl = len(dm_halos['halo_mass'])\n",
    "print(f'There are {N_cl} halos in this mass (Mfof) and redshift range')"
   ]
  },
  {
   "cell_type": "markdown",
   "id": "f88c1aa0-0c48-4bd0-9ed6-a15f0b0dc1c0",
   "metadata": {},
   "source": [
    "### Define a redshift and mass range\n",
    "NB: SkySim5000 M200c masses are in units of Msun/h"
   ]
  },
  {
   "cell_type": "code",
   "execution_count": null,
   "id": "5c916de0-1def-4823-b174-99fb43da56af",
   "metadata": {},
   "outputs": [],
   "source": [
    "dm_halos['M200c'] = dm_halos['baseDC2/sod_halo_mass']/cosmo_ss.h # sod_halo_mass = M200,c in Msun/h, needs conversion\n",
    "\n",
    "filt3 = dm_halos['M200c'] >= mmin\n",
    "filt4 = dm_halos['M200c'] < mmax\n",
    "filt = filt3 * filt4\n",
    "\n",
    "data_m_ss = dm_halos['M200c'][filt] # M200,c [Msun]\n",
    "data_z_ss = dm_halos['redshift'][filt]"
   ]
  },
  {
   "cell_type": "markdown",
   "id": "9157984f-042f-43e3-887e-456fe8c59faa",
   "metadata": {},
   "source": [
    "# Set up NumCosmo cosmology"
   ]
  },
  {
   "cell_type": "code",
   "execution_count": null,
   "id": "6b2fc26f-1da4-4823-9a8a-bbae99f85d6e",
   "metadata": {},
   "outputs": [],
   "source": [
    "Ncm.cfg_init ()\n",
    "cosmo = Nc.HICosmoLCDM()\n",
    "reion = Nc.HIReionCamb.new () \n",
    "prim = Nc.HIPrimPowerLaw.new () \n",
    "\n",
    "cosmo.add_submodel (reion)\n",
    "cosmo.add_submodel (prim)\n",
    "\n",
    "dist = Nc.Distance.new (2.0)\n",
    "\n",
    "tf = Nc.TransferFunc.new_from_name (\"NcTransferFuncEH\")\n",
    "\n",
    "psml = Nc.PowspecMLTransfer.new (tf)\n",
    "psml.require_kmin (1.0e-6)\n",
    "psml.require_kmax (1.0e3)\n",
    "\n",
    "psf = Ncm.PowspecFilter.new (psml, Ncm.PowspecFilterType.TOPHAT)\n",
    "psf.set_best_lnr0 ()"
   ]
  },
  {
   "cell_type": "code",
   "execution_count": null,
   "id": "4a04d1ea-2298-43c3-b429-156e65b19a3f",
   "metadata": {},
   "outputs": [],
   "source": [
    "cosmo.props.H0      = cosmo_ss.H0.value\n",
    "cosmo.props.Omegab  = cosmo_ss.Ob0\n",
    "cosmo.props.Omegac  = cosmo_ss.Odm0\n",
    "cosmo.props.Omegax  = cosmo_ss.Ode0\n",
    "prim.props.n_SA = cosmo_ss.n_s\n",
    "print(cosmo_ss.sigma8,cosmo.sigma8(psf))\n",
    "\n",
    "# old_amplitude = prim.props.ln10e10ASA\n",
    "# prim.props.ln10e10ASA = (cosmo_ss.sigma8 / psml.sigma_tophat_R (cosmo, 1.0e-7, 0.0, 8.0 / cosmo.h ()))**2 * old_amplitude\n",
    "# #prim.props.ln10e10ASA = (cosmo_ss.sigma8 / cosmo.sigma8(psf))**2 * old_amplitude\n",
    "# print(old_amplitude,prim.props.ln10e10ASA)\n",
    "# print(cosmo_ss.sigma8, cosmo.sigma8(psf))\n"
   ]
  },
  {
   "cell_type": "markdown",
   "id": "69e3086a-b020-43bd-af48-97e020fe2f09",
   "metadata": {},
   "source": [
    "# Set up fit with NumCosmo"
   ]
  },
  {
   "cell_type": "markdown",
   "id": "56f5e2f1-f65a-4350-9329-68125a65a408",
   "metadata": {},
   "source": [
    "## Mass function, mass and redshift distributions"
   ]
  },
  {
   "cell_type": "code",
   "execution_count": null,
   "id": "f2d04fbd-544c-432a-afb3-ded24a5265df",
   "metadata": {},
   "outputs": [],
   "source": [
    "#\n",
    "# New multiplicity function 'NcMultiplicityFuncTinkerMean'\n",
    "#\n",
    "mulf = Nc.MultiplicityFuncTinker.new ()\n",
    "mulf.set_mdef (Nc.MultiplicityFuncMassDef.CRITICAL)\n",
    "mulf.set_Delta (200.0)\n",
    "#\n",
    "# New mass function object using the objects defined above.\n",
    "#\n",
    "mf = Nc.HaloMassFunction.new (dist, psf, mulf)\n",
    "\n",
    "#mf.set_area_sd (skysim_cat.sky_area) # Not sure if this is the way to setup a sky area"
   ]
  },
  {
   "cell_type": "code",
   "execution_count": null,
   "id": "40027059-c947-4796-9fb6-4c696ac5b050",
   "metadata": {},
   "outputs": [],
   "source": [
    "#\n",
    "# New Cluster Mass object\n",
    "#\n",
    "lnM_min = math.log (mmin)\n",
    "lnM_max = math.log (mmax)\n",
    "\n",
    "# using Log normal distribution\n",
    "#cluster_m = Nc.ClusterMass.new_from_name (\"NcClusterMassLnnormal{'lnMobs-min':<%20.15e>, 'lnMobs-max':<%20.15e>}\" % (lnMobs_min, lnMobs_max))\n",
    "#cluster_m.props.bias       = 0.0\n",
    "#cluster_m.props.sigma      = 0.2\n",
    "\n",
    "# no distribution - assumes masses are perfectly known\n",
    "cluster_m = Nc.ClusterMassNodist()\n",
    "print(cluster_m.lnM_min, cluster_m.lnM_max, lnM_min, lnM_max)"
   ]
  },
  {
   "cell_type": "code",
   "execution_count": null,
   "id": "1bbdf801-6a11-4f5d-a57f-5c6a146baad0",
   "metadata": {},
   "outputs": [],
   "source": [
    "#\n",
    "# New Cluster Redshift object\n",
    "#\n",
    "\n",
    "# using a global gaussian distribution\n",
    "#cluster_z = Nc.ClusterRedshift.new_from_name (\"NcClusterPhotozGaussGlobal{'pz-min':<%20.15e>, 'pz-max':<%20.15e>, 'z-bias':<0.0>, 'sigma0':<0.03>}\" % (zmin, zmax))\n",
    "\n",
    "# no distribution - assumes redshifts are perfectly known\n",
    "cluster_z = Nc.ClusterRedshiftNodist()\n",
    "print(cluster_z.z_min, cluster_z.z_max)"
   ]
  },
  {
   "cell_type": "markdown",
   "id": "f17e8091-fd66-40d7-a0f1-6823a3d3b7ab",
   "metadata": {},
   "source": [
    "## Set up objects for the fit"
   ]
  },
  {
   "cell_type": "code",
   "execution_count": null,
   "id": "a36fdc5d-9475-4795-a4f8-9a5b1756a971",
   "metadata": {},
   "outputs": [],
   "source": [
    "#\n",
    "# New Cluster abundance object that uses all objects above\n",
    "#\n",
    "cad = Nc.ClusterAbundance.new (mf, None)\n",
    "\n",
    "#\n",
    "# New NcmData object for number count calculations\n",
    "#\n",
    "ncdata = Nc.DataClusterNCount.new (cad)\n",
    "\n",
    "#\n",
    "#  Creating a new Modelset and set cosmo as the HICosmo model to be used\n",
    "#  and cluster_m as the distribution of the mass-observable relation\n",
    "#\n",
    "mset = Ncm.MSet.new_array ([cosmo, cluster_z, cluster_m])"
   ]
  },
  {
   "cell_type": "code",
   "execution_count": null,
   "id": "888fecf6-b907-4895-9c32-563a24871988",
   "metadata": {},
   "outputs": [],
   "source": [
    "#\n",
    "# Fill ncdata with SkySim masses and redshifts\n",
    "#\n",
    "\n",
    "ncdata.set_n_z_obs (1)\n",
    "ncdata.set_n_z_obs_params (0)\n",
    "ncdata.set_n_M_obs (1)\n",
    "ncdata.set_n_M_obs_params (0)\n",
    "\n",
    "ncdata.set_lnM_true(Ncm.Vector.new_array(data_m_ss))\n",
    "ncdata.set_z_true(Ncm.Vector.new_array(data_z_ss))\n",
    "\n",
    "# Because we are using true masses and redshifts in this example,\n",
    "# we replicate the true data in the 'observed' masses and redshift attributes\n",
    "ncdata.set_lnM_obs (Ncm.Matrix.new_array (data_m_ss,1))\n",
    "ncdata.set_z_obs (Ncm.Matrix.new_array (data_z_ss,1))\n",
    "\n",
    "ncdata.true_data (True)\n",
    "ncdata.set_init(True)\n",
    "\n",
    "# #\n",
    "# # Save to a fits file\n",
    "# #\n",
    "ncdata.catalog_save (\"skysim5000_data.fits\", True)"
   ]
  },
  {
   "cell_type": "code",
   "execution_count": null,
   "id": "26e27c9b-fe03-45ac-a985-b75f115ef329",
   "metadata": {},
   "outputs": [],
   "source": [
    "# If the catalog already exists, skip previous step and load it directly\n",
    "\n",
    "ncdata.catalog_load(\"../data/skysim5000_data.fits\")"
   ]
  },
  {
   "cell_type": "markdown",
   "id": "473806cc-1391-4df1-8e6f-608419b01984",
   "metadata": {},
   "source": [
    "## Define free parameters and prepare likelihood"
   ]
  },
  {
   "cell_type": "code",
   "execution_count": null,
   "id": "90a9acb6-b709-4806-9e44-3f247e676f2b",
   "metadata": {},
   "outputs": [],
   "source": [
    "cosmo.props.Omegac_fit    = True\n",
    "cosmo.props.Omegab_fit    = False\n",
    "prim.props.ln10e10ASA_fit = True\n",
    "\n",
    "# data set\n",
    "dset = Ncm.Dataset.new ()\n",
    "dset.append_data (ncdata)\n",
    "\n",
    "\n",
    "# New likelihood object using dset\n",
    "lh = Ncm.Likelihood.new (dset)\n"
   ]
  },
  {
   "cell_type": "markdown",
   "id": "10bf1bdd-1718-4f15-ac56-080f5e64f4f0",
   "metadata": {},
   "source": [
    "## Fit for parameters (Omegac, ln10e10ASA) --> (Omegam, sigma8)"
   ]
  },
  {
   "cell_type": "markdown",
   "id": "3d505651-aa91-49ae-af25-91e02e0b0629",
   "metadata": {},
   "source": [
    "### Simple fit"
   ]
  },
  {
   "cell_type": "code",
   "execution_count": null,
   "id": "eede609b-a869-4582-acb5-b54d29a0fd1e",
   "metadata": {},
   "outputs": [],
   "source": [
    "#\n",
    "#  Creating a Fit object of type NLOPT using the fitting algorithm ln-neldermead to\n",
    "#  fit the Modelset mset using the Likelihood lh and using a numerical differentiation\n",
    "#  algorithm (NUMDIFF_FORWARD) to obtain the gradient (if needed).\n",
    "#\n",
    "fit = Ncm.Fit.new (Ncm.FitType.NLOPT, \"ln-neldermead\", lh, mset, Ncm.FitGradType.NUMDIFF_FORWARD)\n",
    "\n",
    "fit.run (Ncm.FitRunMsgs.FULL)\n",
    "\n",
    "#\n",
    "# Printing fitting informations.\n",
    "#\n",
    "fit.log_info ()"
   ]
  },
  {
   "cell_type": "markdown",
   "id": "3a0b2fcf-998e-4a93-b31e-db3cae1b883d",
   "metadata": {},
   "source": [
    "### MCMC"
   ]
  },
  {
   "cell_type": "code",
   "execution_count": null,
   "id": "bf25f086-ef71-4b78-af9f-352a4da3c625",
   "metadata": {},
   "outputs": [],
   "source": [
    "#\n",
    "# Setting single thread calculation.\n",
    "#\n",
    "Ncm.func_eval_set_max_threads (5)\n",
    "Ncm.func_eval_log_pool_stats ()\n",
    "\n",
    "#\n",
    "# Additional functions as we want the chains for sigma8 and Omegam, which are derived parameters\n",
    "#\n",
    "mfunc_oa = Ncm.ObjArray.new ()\n",
    "\n",
    "mfunc_sigma8 = Ncm.MSetFuncList.new (\"NcHICosmo:sigma8\", psf)\n",
    "mfunc_Omegam = Ncm.MSetFuncList.new (\"NcHICosmo:Omega_m0\", None)\n",
    "\n",
    "mfunc_oa.add (mfunc_sigma8)\n",
    "mfunc_oa.add (mfunc_Omegam)\n",
    "\n",
    "print (mfunc_sigma8.eval0 (mset))\n",
    "print (mfunc_Omegam.eval0 (mset))\n",
    "\n",
    "#\n",
    "# New Gaussian prior to provide the initial points for the chain.\n",
    "# It was created with size 0 (number of parameters), but once \n",
    "# initialized with mset the correct size is assigned. \n",
    "#\n",
    "# The initial sampler will use a diagonal covariance with the\n",
    "# diagonal terms being the parameters scale set by each model.\n",
    "#\n",
    "init_sampler = Ncm.MSetTransKernGauss.new (0)\n",
    "init_sampler.set_mset (mset)\n",
    "init_sampler.set_prior_from_mset ()\n",
    "init_sampler.set_cov_from_rescale (1.0) #1\n",
    "\n",
    "#\n",
    "# Creates the ESMCMC walker object, this object is responsible\n",
    "# for moving the walkers in each interation, the stretch move\n",
    "# is affine invariant and therefore gives good results even for\n",
    "# very correlated parametric space.\n",
    "# \n",
    "sampler = 'apes'\n",
    "#sampler  = 'stretch'\n",
    "nwalkers = int (math.ceil (500)) #500\n",
    "#ssize    = 1000000 #1000000\n",
    "\n",
    "if sampler == 'apes':\n",
    "  walker = Ncm.FitESMCMCWalkerAPES.new (nwalkers, mset.fparams_len ())\n",
    "elif sampler == \"stretch\":\n",
    "  walker = Ncm.FitESMCMCWalkerStretch.new (nwalkers, mset.fparams_len ())\n",
    "#\n",
    "# The methods below set the walk scale, which controls the size of the\n",
    "# step done between two walkers and circumscribe the walkers inside\n",
    "# the box defined by the parameters inside the mset object.\n",
    "#\n",
    "#walker.set_scale (3.0)\n",
    "#walker.set_box_mset (mset)\n",
    "#\n",
    "# Initialize the ESMCMC object using the objects above. It will\n",
    "# use 50 walkers, i.e., each point in the MCMC chain contains\n",
    "# 50 points in the parametric space. Each step uses the last point\n",
    "# in the chain (the last 50 parametric points) to calculate the\n",
    "# proposal points.\n",
    "#\n",
    "esmcmc  = Ncm.FitESMCMC.new_funcs_array (fit, nwalkers, init_sampler, walker, Ncm.FitRunMsgs.SIMPLE, mfunc_oa)\n",
    "\n",
    "#\n",
    "# These methods enable the auto-trim options on ESMCMC. This option \n",
    "# makes the sampler check the chains' health and trim any unnecessary \n",
    "# burn-in part. We set the number of divisions to 100 so we test the\n",
    "# chains in blocks of n/100. The last method asserts that each 2min\n",
    "# the catalog will be checked.\n",
    "#\n",
    "#esmcmc.set_auto_trim (True)\n",
    "#esmcmc.set_auto_trim_div (100)\n",
    "#esmcmc.set_max_runs_time (2.0 * 60.0)\n",
    "#esmcmc.set_nthreads (4)\n",
    "esmcmc.set_data_file (\"Test_NC_%s_st_%d_true.fits\" % (sampler, nwalkers))\n",
    "\n",
    "#\n",
    "# Running the esmcmc, it will first calculate 1000 points, after that\n",
    "# it will estimate the error in the parameters mean. Using the current\n",
    "# errors the algorithm tries to calculated how many extra steps are \n",
    "# necessary to obtain the required error `10^-3' in every parameters,\n",
    "# and it will run such extra steps. It will repeat this procedure\n",
    "# until it attains the required error in every parameter.\n",
    "# \n",
    "#\n",
    "esmcmc.start_run ()\n",
    "#esmcmc.run (ssize / nwalkers)\n",
    "#esmcmc.run (10)\n",
    "esmcmc.run_lre (10, 1.e-3)\n",
    "esmcmc.end_run ()\n",
    "\n",
    "#\n",
    "# Calculates the parameter means and covariance and set it into \n",
    "# the fit object and then print.\n",
    "# \n",
    "esmcmc.mean_covar ()\n",
    "fit.log_covar ()"
   ]
  }
 ],
 "metadata": {
  "kernelspec": {
   "display_name": "mydesc",
   "language": "python",
   "name": "mydesc"
  },
  "language_info": {
   "codemirror_mode": {
    "name": "ipython",
    "version": 3
   },
   "file_extension": ".py",
   "mimetype": "text/x-python",
   "name": "python",
   "nbconvert_exporter": "python",
   "pygments_lexer": "ipython3",
   "version": "3.8.8"
  },
  "toc-autonumbering": true
 },
 "nbformat": 4,
 "nbformat_minor": 5
}
