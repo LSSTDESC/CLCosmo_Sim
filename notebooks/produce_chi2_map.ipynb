{
 "cells": [
  {
   "cell_type": "markdown",
   "metadata": {},
   "source": [
    "# Compute $\\chi^2$ map on $\\sigma_8/\\Omega_m$ parameter space for cluster count with SkySim5000 dark matter halo data"
   ]
  },
  {
   "cell_type": "markdown",
   "metadata": {},
   "source": [
    "## 1. Extract DM haloes from the catalog in a given mass and redshift range."
   ]
  },
  {
   "cell_type": "markdown",
   "metadata": {},
   "source": [
    "Authors : Constantin Payerne, Céline Combet"
   ]
  },
  {
   "cell_type": "code",
   "execution_count": null,
   "metadata": {},
   "outputs": [],
   "source": [
    "import numpy as np\n",
    "import pyccl as ccl\n",
    "import matplotlib.pyplot as plt\n",
    "import pickle as pkl\n",
    "import scipy.integrate\n",
    "import astropy.units as u\n",
    "import GCRCatalogs\n",
    "from scipy import interpolate\n",
    "%matplotlib inline\n",
    "skysim_cat = GCRCatalogs.load_catalog('skysim5000_v1.1.1_small')"
   ]
  },
  {
   "cell_type": "code",
   "execution_count": null,
   "metadata": {},
   "outputs": [],
   "source": [
    "%%time\n",
    "# get list of halos in a given redshift and mass range \n",
    "mmin_extract = 1.e12 # Msun (M_fof)\n",
    "zmin_extract = 0.4\n",
    "zmax_extract = 1.0\n",
    "\n",
    "dm_halos = skysim_cat.get_quantities(['halo_mass','hostHaloMass','redshift','ra', 'dec', 'halo_id',\n",
    "                                             'baseDC2/sod_halo_mass','baseDC2/sod_halo_radius'],\n",
    "                                            filters=[f'halo_mass > {mmin_extract}','is_central==True',\n",
    "                                            f'redshift>{zmin_extract}', f'redshift<{zmax_extract}'])"
   ]
  },
  {
   "cell_type": "markdown",
   "metadata": {},
   "source": [
    "NB: SkySim5000 M200c masses are in units of Msun/h"
   ]
  },
  {
   "cell_type": "code",
   "execution_count": null,
   "metadata": {},
   "outputs": [],
   "source": [
    "dm_halos['M200c'] = dm_halos['baseDC2/sod_halo_mass']/0.71 # conversion M200c/h -> M200c"
   ]
  },
  {
   "cell_type": "code",
   "execution_count": null,
   "metadata": {},
   "outputs": [],
   "source": [
    "N_cl = len(dm_halos['halo_mass'])\n",
    "print(f'There are {N_cl} halos in this mass (Mfof) and redshift range')"
   ]
  },
  {
   "cell_type": "code",
   "execution_count": null,
   "metadata": {},
   "outputs": [],
   "source": [
    "plt.scatter(dm_halos['ra'], dm_halos['dec'], marker='.', s=0.001)\n",
    "plt.xlabel('ra [deg]')\n",
    "plt.ylabel('dec [deg]')"
   ]
  },
  {
   "cell_type": "markdown",
   "metadata": {},
   "source": [
    "## 2. 2D binning of the dark matter halo catalog in the $M_{\\rm 200c}-z$ plan"
   ]
  },
  {
   "cell_type": "code",
   "execution_count": null,
   "metadata": {},
   "outputs": [],
   "source": [
    "def binning(corner): return [[corner[i],corner[i+1]] for i in range(len(corner)-1)]\n",
    "z_corner = np.linspace(0.2, 1, 3)\n",
    "Z_bin = binning(z_corner)\n",
    "m_corner = np.logspace(14,14.5, 7)\n",
    "Mass_bin = binning(m_corner)"
   ]
  },
  {
   "cell_type": "code",
   "execution_count": null,
   "metadata": {},
   "outputs": [],
   "source": [
    "data, mass_edges, z_edges, im  = plt.hist2d(np.log10(dm_halos['M200c']),dm_halos['redshift'], \n",
    "                                       bins=[np.log10(m_corner),z_corner], cmin=0);\n",
    "where_are_NaNs = np.isnan(data)\n",
    "data[where_are_NaNs] = 0\n",
    "plt.colorbar()\n",
    "plt.xlabel(r'$\\log_{10}(M_{\\rm 200c})$', fontsize = 20)\n",
    "plt.ylabel(r'$z$', fontsize = 20)\n",
    "plt.show()"
   ]
  },
  {
   "cell_type": "markdown",
   "metadata": {},
   "source": [
    "## 3. Computation of the Loglikelihood using CCL Bocquet16 mass functions - ($\\Omega_m-\\sigma_8$) -plan"
   ]
  },
  {
   "cell_type": "markdown",
   "metadata": {},
   "source": [
    "The cluster count prediction in redshift bin $i$ and mass bin $j$ is given by :\n",
    "## $$N_{ij}^{\\rm th} = \\Omega_{\\rm SkySim}\\int_{z_i}^{z_{i+1}} dz \\frac{dV(z)}{dz d\\Omega}\\int_{\\log_{10}M_j}^{\\log_{10}M_{j + 1}}\\frac{dn(M,z)}{d\\log_{10}M}d\\log_{10}M$$"
   ]
  },
  {
   "cell_type": "markdown",
   "metadata": {},
   "source": [
    "We use the Poissonian Log-Likelihood defined as the sum over all the redshift and mass bins :"
   ]
  },
  {
   "cell_type": "markdown",
   "metadata": {},
   "source": [
    "## $$Log(L)(\\Omega_m,\\sigma_8) \\propto  \\sum_{i,j} N_{ij}^{\\rm obs}\\log( N_{ij}^{\\rm th}) -  N_{ij}^{\\rm th}$$"
   ]
  },
  {
   "cell_type": "markdown",
   "metadata": {},
   "source": [
    "### Differential comoving volume"
   ]
  },
  {
   "cell_type": "code",
   "execution_count": null,
   "metadata": {},
   "outputs": [],
   "source": [
    "hmd_200c = ccl.halos.MassDef200c()\n",
    "\n",
    "def dV_over_dOmega_dz(z, cosmo):\n",
    "    a = 1./(1. + z)\n",
    "    da = ccl.background.angular_diameter_distance(cosmo, a) \n",
    "    E = ccl.background.h_over_h0(cosmo, a)\n",
    "    return ((1+z)**2)*(da**2)*ccl.physical_constants.CLIGHT_HMPC/cosmo['h']/E"
   ]
  },
  {
   "cell_type": "markdown",
   "metadata": {},
   "source": [
    "### CCL mass functions"
   ]
  },
  {
   "cell_type": "code",
   "execution_count": null,
   "metadata": {},
   "outputs": [],
   "source": [
    "def bocquet16(logm, z, cosmo):\n",
    "    mass = 10**(logm)\n",
    "    hmf_200c = ccl.halos.MassFuncBocquet16(cosmo, mass_def=hmd_200c)\n",
    "    nm = hmf_200c.get_mass_function(cosmo, mass, 1./(1+z))\n",
    "    return nm # dn/dlog10M"
   ]
  },
  {
   "cell_type": "markdown",
   "metadata": {},
   "source": [
    "### Poissonian Log-Likelihood"
   ]
  },
  {
   "cell_type": "code",
   "execution_count": null,
   "metadata": {},
   "outputs": [],
   "source": [
    "def logLikelihood_dbquad(Omegam, sigma8):\n",
    "    \n",
    "    cosmo = ccl.Cosmology(Omega_c=Omegam - 0.0448, Omega_b=0.0448, h=0.71, sigma8 = sigma8, n_s=0.96)\n",
    "    \n",
    "    logL_poissonian = 0\n",
    "    \n",
    "    cluster_abundance_obs = np.zeros([len(Mass_bin), len(Z_bin)])\n",
    "    cluster_abundance_th = np.zeros([len(Mass_bin), len(Z_bin)])\n",
    "    \n",
    "    def integrand_bocquet16(logm,z):\n",
    "        DeltaOmega = 50 * np.pi**2/180**2\n",
    "        return DeltaOmega * bocquet16(logm, z, cosmo)*dV_over_dOmega_dz(z, cosmo)\n",
    "    \n",
    "    for i, m_bin in enumerate(Mass_bin):\n",
    "        \n",
    "        for j, z_bin in enumerate(Z_bin):\n",
    "            \n",
    "            logm_down, logm_up = np.log10(m_bin)[0], np.log10(m_bin)[1]\n",
    "            z_down, z_up = z_bin[0], z_bin[1]\n",
    "\n",
    "            th = scipy.integrate.dblquad(integrand_bocquet16, z_down, z_up, lambda x:logm_down, lambda x:logm_up, epsabs=1.e-4, epsrel=1.e-4)[0]\n",
    "            \n",
    "            obs = data[i,j]\n",
    "            logL_poissonian = logL_poissonian + obs*np.log(th) - th\n",
    "            \n",
    "    return logL_poissonian"
   ]
  },
  {
   "cell_type": "code",
   "execution_count": null,
   "metadata": {},
   "outputs": [],
   "source": [
    "N_points_Omegam = 10\n",
    "N_points_sigma8 = 10\n",
    "\n",
    "Omegam_random = np.linspace(0.2, 0.3, N_points_Omegam)\n",
    "sigma8_random = np.linspace(0.68, 0.9, N_points_sigma8)\n",
    "\n",
    "lnL_map = np.zeros([N_points_Omegam, N_points_sigma8])"
   ]
  },
  {
   "cell_type": "code",
   "execution_count": null,
   "metadata": {},
   "outputs": [],
   "source": [
    "%%time\n",
    "\n",
    "print('computing logLikelihood map ...')\n",
    "\n",
    "for i, Om in enumerate(Omegam_random):\n",
    "    \n",
    "    for j, s8 in enumerate(sigma8_random):\n",
    "        \n",
    "        lnL_map[i,j] = logLikelihood_dbquad(Om, s8)"
   ]
  },
  {
   "cell_type": "code",
   "execution_count": null,
   "metadata": {},
   "outputs": [],
   "source": [
    "logLikelihood_data = {'lnL_map': lnL_map, \n",
    "                    'Omegam' : Omegam_random, \n",
    "                    'sigma8' : sigma8_random, \n",
    "                    'cluster_abundance' : data,\n",
    "                    'redshift_bin' : Z_bin,\n",
    "                    'Mass_bin' : Mass_bin,}"
   ]
  },
  {
   "cell_type": "markdown",
   "metadata": {},
   "source": [
    "## 4. Plot $\\chi^2 - \\chi^2_{\\rm min}$ map"
   ]
  },
  {
   "cell_type": "markdown",
   "metadata": {},
   "source": [
    "Make a 2d interpolation of the $\\chi^2  = -2\\log(L)$ map. To plot confidence contours on the ($\\Omega_m -\\sigma_8$) plan, we make a 2D interpolation of $\\chi^2 - \\chi^2_{\\rm min}$."
   ]
  },
  {
   "cell_type": "code",
   "execution_count": null,
   "metadata": {},
   "outputs": [],
   "source": [
    "def make_chi2_interpolation(lnL_map = 1):\n",
    "    \n",
    "    x_down, x_up = min(lnL_map['Omegam']), max(lnL_map['Omegam'])\n",
    "    y_down, y_up = min(lnL_map['sigma8']), max(lnL_map['sigma8'])\n",
    "    \n",
    "    r\"plot chi2_map\"\n",
    "    XX, YY = np.meshgrid(lnL_map['Omegam'], lnL_map['sigma8'])\n",
    "\n",
    "    chi2_map = -2*lnL_map['lnL_map'].T\n",
    "    minimum = min(chi2_map.flatten())\n",
    "\n",
    "    r\"plot interpolated chi2_map\"\n",
    "    chi2 = interpolate.interp2d(XX, YY, chi2_map - minimum, kind = 'cubic')\n",
    "    \n",
    "    omegam = np.linspace(x_down, x_up, 100)\n",
    "    s8 = np.linspace(y_down, y_up, 100)\n",
    "    OM, S8 = np.meshgrid(omegam, s8)\n",
    "    chi_interp = chi2(omegam, s8)\n",
    "\n",
    "    m = {'chi2':chi2, \n",
    "         'chi2_map':[XX, YY, chi2_map - minimum],\n",
    "         'chi2_map_interp':[OM, S8, chi_interp]}\n",
    "    \n",
    "    return m"
   ]
  },
  {
   "cell_type": "code",
   "execution_count": null,
   "metadata": {},
   "outputs": [],
   "source": [
    "chi2 = make_chi2_interpolation(lnL_map = logLikelihood_data)"
   ]
  },
  {
   "cell_type": "markdown",
   "metadata": {},
   "source": [
    "## 5. Plot $\\chi^2$ map versus the cosmoDC2 cosmology\n",
    "Background : non-interpolated $\\chi^2$ map"
   ]
  },
  {
   "cell_type": "code",
   "execution_count": null,
   "metadata": {},
   "outputs": [],
   "source": [
    "plt.figure(figsize = (10,10))\n",
    "plt.rcParams['axes.linewidth']= 2\n",
    "plt.tick_params(axis='both', which = 'major', labelsize= 15, zorder = 0)\n",
    "\n",
    "plt.contour(chi2['chi2_map_interp'][0], \n",
    "                       chi2['chi2_map_interp'][1], \n",
    "                       chi2['chi2_map_interp'][2], \n",
    "                       colors = 'r', levels = list(np.arange(1,4)**2), linestyles = 'solid')\n",
    "\n",
    "plt.contourf(chi2['chi2_map'][0], \n",
    "                       chi2['chi2_map'][1], \n",
    "                       chi2['chi2_map'][2]\n",
    "                       , linestyles = 'solid', levels = 10)\n",
    "\n",
    "plt.ylim(min(sigma8_random), max(sigma8_random))\n",
    "plt.xlim(min(Omegam_random), max(Omegam_random))\n",
    "\n",
    "plt.vlines(0.2647, 0,2, linestyle = '--', color = 'r', linewidth = 3)\n",
    "plt.hlines(0.8, 0,2, linestyle = '--', color = 'r', linewidth = 3)\n",
    "\n",
    "plt.plot([], [], 'r', label = r'1, 2, 3$-\\sigma$ contours (interpolation)')\n",
    "plt.plot([], [], '--r', label = r'cosmoDC2 cosmology')\n",
    "plt.plot([], [], 'b', )\n",
    "plt.ylabel(r'$\\sigma_8$', fontsize = 30)\n",
    "plt.xlabel(r'$\\Omega_m$', fontsize = 30)\n",
    "plt.legend(frameon = True, fontsize = 15)\n",
    "plt.show()"
   ]
  },
  {
   "cell_type": "markdown",
   "metadata": {},
   "source": [
    "## 5. Posterior distribution for $\\Omega_m$ and $\\sigma_8$\n",
    "We plot the quantities\n",
    "- ## $P(\\Omega_m) = \\int d \\sigma_8 e^{-0.5\\chi^2(\\Omega_m, \\sigma_8)}$ & $P(\\sigma_8) = \\int d \\Omega_m e^{-0.5\\chi^2(\\Omega_m, \\sigma_8)}$"
   ]
  },
  {
   "cell_type": "code",
   "execution_count": null,
   "metadata": {},
   "outputs": [],
   "source": [
    "from scipy.integrate import simps"
   ]
  },
  {
   "cell_type": "code",
   "execution_count": null,
   "metadata": {},
   "outputs": [],
   "source": [
    "fig, axs = plt.subplots(1,2, figsize = (20,10))\n",
    "plt.rcParams['axes.linewidth']= 2\n",
    "axs[0].tick_params(axis='both', which = 'major', labelsize= 15, zorder = 0)\n",
    "\n",
    "P = np.exp(-0.5*chi2['chi2_map_interp'][2])\n",
    "Omegam_axis = chi2['chi2_map_interp'][1].T[0]\n",
    "sigma8_axis = chi2['chi2_map_interp'][0][0]\n",
    "posterior_Omegam = simps(P, x = sigma8_axis, axis = 0)\n",
    "posterior_sigma8 = simps(P.T, x = Omegam_axis, axis = 0)\n",
    "\n",
    "axs[0].plot(sigma8_axis,posterior_Omegam, 'k', linewidth = 3)\n",
    "axs[0].set_xlabel(r'$\\Omega_m$', fontsize = 30)\n",
    "axs[0].set_ylabel(r'$P(\\Omega_m)$', fontsize = 30)\n",
    "axs[0].tick_params(axis='both', which = 'major', labelsize= 15, zorder = 0)\n",
    "axs[0].vlines(0.2647, 0,0.011, linestyle = '--', color = 'r', linewidth = 3)\n",
    "axs[0].set_ylim(0, 0.011)\n",
    "axs[0].set_xlim(min(Omegam_random), max(Omegam_random))\n",
    "\n",
    "axs[1].plot(Omegam_axis,posterior_sigma8, 'k', linewidth = 3)\n",
    "axs[1].vlines(0.8, 0,0.07, linestyle = '--', color = 'r', linewidth = 3)\n",
    "axs[1].set_xlabel(r'$\\sigma_8$', fontsize = 30)\n",
    "axs[1].set_ylabel(r'$P(\\sigma_8)$', fontsize = 30)\n",
    "axs[1].tick_params(axis='both', which = 'major', labelsize= 15, zorder = 0)\n",
    "axs[1].set_ylim(0, 0.06)\n",
    "axs[1].set_xlim(min(sigma8_random), max(sigma8_random))"
   ]
  },
  {
   "cell_type": "code",
   "execution_count": null,
   "metadata": {},
   "outputs": [],
   "source": []
  }
 ],
 "metadata": {
  "kernelspec": {
   "display_name": "mydesc",
   "language": "python",
   "name": "mydesc"
  },
  "language_info": {
   "codemirror_mode": {
    "name": "ipython",
    "version": 3
   },
   "file_extension": ".py",
   "mimetype": "text/x-python",
   "name": "python",
   "nbconvert_exporter": "python",
   "pygments_lexer": "ipython3",
   "version": "3.7.6"
  }
 },
 "nbformat": 4,
 "nbformat_minor": 4
}
