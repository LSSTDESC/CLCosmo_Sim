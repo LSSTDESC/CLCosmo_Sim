{
 "cells": [
  {
   "cell_type": "markdown",
   "id": "b11fc135",
   "metadata": {},
   "source": [
    "# Estimating covariance on SkySim5000 and using it on Gaussian likelihood\n",
    "\n",
    "(derived from <a href='SkySim500_firstcheck.ipynb'>SkySim500_firstcheck</a> notebook)\n",
    "\n",
    "Author : Michel Aguena"
   ]
  },
  {
   "cell_type": "code",
   "execution_count": null,
   "id": "594582be",
   "metadata": {},
   "outputs": [],
   "source": [
    "import numpy as np\n",
    "import pyccl as ccl\n",
    "import matplotlib.pyplot as plt\n",
    "import scipy.integrate\n",
    "import astropy.units as u\n",
    "import GCRCatalogs\n",
    "\n",
    "%matplotlib inline"
   ]
  },
  {
   "cell_type": "code",
   "execution_count": null,
   "id": "be6c85ce-24e4-49d8-8b44-e6bb6623fd02",
   "metadata": {},
   "outputs": [],
   "source": [
    "skysim_cat = GCRCatalogs.load_catalog('cosmoDC2_v1.1.4_small')\n",
    "%%time\n",
    "# get list of halos in a given redshift and mass range \n",
    "mmin_extract = 1.e13 # Msun (M_fof)\n",
    "zmin_extract = 0.\n",
    "zmax_extract = 1.0\n",
    "\n",
    "dm_halos = skysim_cat.get_quantities(['halo_mass','hostHaloMass','redshift','ra', 'dec', 'halo_id'],\n",
    "                                            filters=[f'halo_mass > {mmin_extract}','is_central==True',\n",
    "                                            f'redshift>{zmin_extract}', f'redshift<{zmax_extract}'])\n",
    "\n",
    "dm_halos['baseDC2/sod_halo_mass'] = dm_halos['halo_mass']"
   ]
  },
  {
   "cell_type": "code",
   "execution_count": null,
   "id": "06cda88c-4bca-42c0-9f9c-048f9027c2db",
   "metadata": {},
   "outputs": [],
   "source": [
    "skysim_cat = GCRCatalogs.load_catalog('skysim5000_v1.1.1_small')"
   ]
  },
  {
   "cell_type": "code",
   "execution_count": null,
   "id": "2d97aaa9",
   "metadata": {},
   "outputs": [],
   "source": [
    "cosmo_ss  = skysim_cat.cosmology"
   ]
  },
  {
   "cell_type": "code",
   "execution_count": null,
   "id": "eb1afdac",
   "metadata": {},
   "outputs": [],
   "source": [
    "cosmo_ss"
   ]
  },
  {
   "cell_type": "markdown",
   "id": "2ad06505",
   "metadata": {},
   "source": [
    "## Extract DM haloes from the catalog in a given mass and redshift range. "
   ]
  },
  {
   "cell_type": "code",
   "execution_count": null,
   "id": "9181dbbb",
   "metadata": {
    "tags": []
   },
   "outputs": [],
   "source": [
    "# get list of halos in a given redshift and mass range \n",
    "mmin_extract = 1.e13 # Msun (M_fof)\n",
    "zmin_extract = 0.\n",
    "zmax_extract = 1.0\n",
    "\n",
    "dm_halos = skysim_cat.get_quantities(['halo_mass','hostHaloMass','redshift','ra', 'dec', 'halo_id',\n",
    "                                             'baseDC2/sod_halo_mass','baseDC2/sod_halo_radius'],\n",
    "                                            filters=[f'halo_mass > {mmin_extract}','is_central==True',\n",
    "                                            f'redshift>{zmin_extract}', f'redshift<{zmax_extract}'])"
   ]
  },
  {
   "cell_type": "code",
   "execution_count": null,
   "id": "00306be6",
   "metadata": {},
   "outputs": [],
   "source": [
    "N_cl = len(dm_halos['halo_mass'])\n",
    "print(f'There are {N_cl:,} halos in this mass (Mfof) and redshift range')"
   ]
  },
  {
   "cell_type": "code",
   "execution_count": null,
   "id": "dff5973b",
   "metadata": {},
   "outputs": [],
   "source": [
    "plt.scatter(dm_halos['ra'], dm_halos['dec'], marker='.', s=0.05)\n",
    "plt.xlabel('ra [deg]')\n",
    "plt.ylabel('dec [deg]')"
   ]
  },
  {
   "cell_type": "markdown",
   "id": "10b04e7c",
   "metadata": {},
   "source": [
    "## Define a redshift and mass range for the comparison of data and prediction, and filter the data accordingly\n",
    "NB: SkySim5000 M200c masses are in units of Msun/h"
   ]
  },
  {
   "cell_type": "code",
   "execution_count": null,
   "id": "4c986067",
   "metadata": {},
   "outputs": [],
   "source": [
    "tmp = dm_halos['baseDC2/sod_halo_mass']/cosmo_ss.h # sod_halo_mass = M200,c in Msun/h, needs conversion\n",
    "zmin = 0.\n",
    "zmax = 1.\n",
    "mmin = np.min(tmp[tmp>0]) # Msun. Filtering are there are some negative masses in the table\n",
    "mmax = 1.e15 # Msun\n",
    "filt1 = dm_halos['redshift'] >= zmin\n",
    "filt2 = dm_halos['redshift'] <= zmax\n",
    " \n",
    "filt3 = tmp >= mmin\n",
    "filt4 = tmp < mmax\n",
    "filt = filt1 * filt2 * filt3 * filt4\n",
    "\n",
    "data = dm_halos['baseDC2/sod_halo_mass'][filt]/cosmo_ss.h # M200,c [Msun]"
   ]
  },
  {
   "cell_type": "code",
   "execution_count": null,
   "id": "2790efd7-a76d-485d-8a3b-7e6270978c96",
   "metadata": {},
   "outputs": [],
   "source": [
    "# Define mass bins\n",
    "nbins = 15\n",
    "nc_meas, logmass_bins = np.histogram(np.log10(data), bins=nbins)\n",
    "mid_logmass = 0.5*(logmass_bins[:-1]+logmass_bins[1:])"
   ]
  },
  {
   "cell_type": "markdown",
   "id": "b13ba0fd-d5bc-4815-9fb2-d75a07991849",
   "metadata": {},
   "source": [
    "Plot number counts"
   ]
  },
  {
   "cell_type": "code",
   "execution_count": null,
   "id": "af14ac8c",
   "metadata": {},
   "outputs": [],
   "source": [
    "plt.figure(figsize=(10,6))\n",
    "plt.plot(10**mid_logmass, nc_meas, marker='*', ls='')\n",
    "plt.xscale('log')\n",
    "plt.yscale('log')\n",
    "plt.xlabel('M200,c [Msun]', size=12)\n",
    "plt.ylabel('Number of halos', size=12)\n",
    "print(f\"Total number of halos in z=[{zmin},{zmax}] and M=[{mmin/1.e14:.2f}, {mmax/1.e15}] x 1e15 Msun: {len(data):,}\")"
   ]
  },
  {
   "cell_type": "markdown",
   "id": "68b8343a-9ef3-4e4f-819c-013104f6e32a",
   "metadata": {},
   "source": [
    "# Measure covariance of clusters"
   ]
  },
  {
   "cell_type": "markdown",
   "id": "98e01803-049b-4250-bb0a-c0fc00cb2cc2",
   "metadata": {},
   "source": [
    "Add pixels and check outliers to define which will be used for covariance computation"
   ]
  },
  {
   "cell_type": "code",
   "execution_count": null,
   "id": "118ebf97-7785-427f-9dd5-2ddb943aad89",
   "metadata": {},
   "outputs": [],
   "source": [
    "import healpy as hp\n",
    "\n",
    "nside = 64\n",
    "dm_halos['pixel'] = hp.ang2pix(nside, dm_halos['ra'], dm_halos['dec'], lonlat=True)\n",
    "\n",
    "\n",
    "f, axes = plt.subplots(1, 2, figsize=(20, 6))\n",
    "map_ = np.histogram(dm_halos['pixel'], np.arange(hp.nside2npix(nside)+1))[0]\n",
    "map_ = np.array(map_, dtype=float)\n",
    "map_[map_==0] = np.nan\n",
    "\n",
    "#plot histogram of counts\n",
    "axes[0].hist(map_)\n",
    "axes[0].set_xlabel('# of clusters in pixels')\n",
    "\n",
    "# plot map\n",
    "hp.cartview(map_, latra=[-50, -30], lonra=[55, 75], \n",
    "            hold=True, cbar=False)\n",
    "\n",
    "hp_ax = f.axes[-1]\n",
    "hp_ax.axis('on')\n",
    "\n",
    "#ax.patch.set_alpha(0.)\n",
    "hp_ax.set_xlabel('RA')\n",
    "hp_ax.set_ylabel('DEC')\n",
    "hp_ax.grid(color='.7')\n",
    "hp_ax.set_xticklabels(-hp_ax.get_xticks()) # RA values in plot are inverted\n",
    "\n",
    "\n",
    "plt.show()"
   ]
  },
  {
   "cell_type": "markdown",
   "id": "375b5b89-ce29-439c-8295-a49295d48639",
   "metadata": {},
   "source": [
    "Define pixels to be used in covariance computation"
   ]
  },
  {
   "cell_type": "code",
   "execution_count": null,
   "id": "bec5263f-939c-447a-9e1b-07d0698e3f0e",
   "metadata": {},
   "outputs": [],
   "source": [
    "pixels_for_cov = np.arange(hp.nside2npix(nside))[map_>200]"
   ]
  },
  {
   "cell_type": "markdown",
   "id": "4f4b2d52-4b13-4b7f-8f24-4cbf5c4a0512",
   "metadata": {},
   "source": [
    "Bin the data in mass and pixels"
   ]
  },
  {
   "cell_type": "code",
   "execution_count": null,
   "id": "1c33a63c-49f5-47de-8586-50f15d6b0817",
   "metadata": {},
   "outputs": [],
   "source": [
    "pixeled_nc = np.transpose([\n",
    "    np.histogram(np.log10(data[dm_halos['pixel'][filt]==p]), bins=logmass_bins)[0]\n",
    "    for p in pixels_for_cov])"
   ]
  },
  {
   "cell_type": "markdown",
   "id": "5b25d3d6-91b9-4bcb-a582-db82b6fb6124",
   "metadata": {},
   "source": [
    "Compute covariance and correlation matrices\n",
    "\\begin{equation}\n",
    "Corr_{ij} = \\frac{Cov_{ij}}{\\sqrt{Cov_{ii}Cov_{jj}}}\n",
    "\\end{equation}"
   ]
  },
  {
   "cell_type": "code",
   "execution_count": null,
   "id": "ec82d6c7-37ef-4226-882e-e5eab59ec8bc",
   "metadata": {},
   "outputs": [],
   "source": [
    "cov = np.cov(pixeled_nc)*(skysim_cat.sky_area/hp.nside2pixarea(nside, degrees=True))"
   ]
  },
  {
   "cell_type": "code",
   "execution_count": null,
   "id": "ca9bc312-ab83-453a-ae71-75aa95c553a6",
   "metadata": {},
   "outputs": [],
   "source": [
    "corr = np.corrcoef(pixeled_nc)"
   ]
  },
  {
   "cell_type": "markdown",
   "id": "d271685c-de48-42c9-8f4e-3d9b4c214286",
   "metadata": {},
   "source": [
    "See how strong correlated the different mass bins are:"
   ]
  },
  {
   "cell_type": "code",
   "execution_count": null,
   "id": "b2bfad4d-087e-4091-bd2a-196aafffbafc",
   "metadata": {},
   "outputs": [],
   "source": [
    "plt.figure(figsize=(6,6))\n",
    "colors = plt.pcolor(corr)\n",
    "plt.colorbar(colors)\n",
    "plt.xlabel('mass bin')\n",
    "plt.ylabel('mass bin')"
   ]
  },
  {
   "cell_type": "markdown",
   "id": "8a2161fe-1ecd-4385-8d3b-0a49d721ce8e",
   "metadata": {},
   "source": [
    "Plot number counts with variance as errorbars"
   ]
  },
  {
   "cell_type": "code",
   "execution_count": null,
   "id": "e71106f3-f149-46c7-81bc-06d13488c11f",
   "metadata": {},
   "outputs": [],
   "source": [
    "plt.figure(figsize=(10,6))\n",
    "plt.errorbar(10**mid_logmass, nc_meas, np.sqrt(np.diag(cov)), ls='', capsize=3)\n",
    "plt.xscale('log')\n",
    "plt.yscale('log')\n",
    "plt.xlabel('M200,c [Msun]', size=12)\n",
    "plt.ylabel('Number of halos', size=12)\n",
    "print(f\"Total number of halos in z=[{zmin},{zmax}] and M=[{mmin/1.e14:.2f}, {mmax/1.e15}] x 1e15 Msun: {len(data):,}\")"
   ]
  },
  {
   "cell_type": "markdown",
   "id": "526d0ab2",
   "metadata": {},
   "source": [
    "## Prediction using CCL and the Tinker08 and Bocquet16 mass functions"
   ]
  },
  {
   "cell_type": "code",
   "execution_count": null,
   "id": "938b6c82",
   "metadata": {},
   "outputs": [],
   "source": [
    "# Define CCL Cosmology from SkySim cosmology\n",
    "cosmo = ccl.Cosmology(Omega_c=cosmo_ss.Om0-cosmo_ss.Ob0, Omega_b=cosmo_ss.Ob0,\n",
    "                      h=cosmo_ss.h, sigma8=cosmo_ss.sigma8, n_s=cosmo_ss.n_s, Neff=3.04)\n",
    "\n",
    "print(cosmo)\n"
   ]
  },
  {
   "cell_type": "markdown",
   "id": "61fdb7d5",
   "metadata": {},
   "source": [
    "### Differential comoving volume"
   ]
  },
  {
   "cell_type": "code",
   "execution_count": null,
   "id": "1421a452",
   "metadata": {},
   "outputs": [],
   "source": [
    "def dV_over_dOmega_dz(z):\n",
    "    a = 1./(1. + z)\n",
    "    da = ccl.background.angular_diameter_distance(cosmo, a) \n",
    "    E = ccl.background.h_over_h0(cosmo, a)\n",
    "    return ((1.+z)**2)*(da**2)*ccl.physical_constants.CLIGHT_HMPC/cosmo['h']/E "
   ]
  },
  {
   "cell_type": "code",
   "execution_count": null,
   "id": "57079b48",
   "metadata": {},
   "outputs": [],
   "source": [
    "### Sanity check - comparison to the volume computed with Astropy\n",
    "dV_over_dOmega_dz(0.3), cosmo_ss.differential_comoving_volume(0.3).value "
   ]
  },
  {
   "cell_type": "markdown",
   "id": "cb346b23",
   "metadata": {},
   "source": [
    "### CCL mass functions"
   ]
  },
  {
   "cell_type": "code",
   "execution_count": null,
   "id": "ff64d0b3",
   "metadata": {},
   "outputs": [],
   "source": [
    "hmd_200c = ccl.halos.MassDef(200, 'critical')\n",
    "def tinker08(logm, z):\n",
    "    mass = 10**(logm)\n",
    "    hmf_200c = ccl.halos.MassFuncTinker08(cosmo, mass_def=hmd_200c)\n",
    "    nm = hmf_200c.get_mass_function(cosmo, mass, 1./(1+z))\n",
    "    return nm # dn/dlog10M\n",
    "\n",
    "hmd_200c = ccl.halos.MassDef200c()\n",
    "\n",
    "def bocquet16(logm, z):\n",
    "    mass = 10**(logm)\n",
    "    hmf_200c = ccl.halos.MassFuncBocquet16(cosmo, mass_def=hmd_200c)\n",
    "    nm = hmf_200c.get_mass_function(cosmo, mass, 1./(1+z))\n",
    "    return nm # dn/dlog10M"
   ]
  },
  {
   "cell_type": "code",
   "execution_count": null,
   "id": "a6b8f83c",
   "metadata": {},
   "outputs": [],
   "source": [
    "def integrand_tinker08(logm,z):\n",
    "    return tinker08(logm, z)*dV_over_dOmega_dz(z)\n",
    "\n",
    "def integrand_bocquet16(logm,z):\n",
    "    return bocquet16(logm, z)*dV_over_dOmega_dz(z)"
   ]
  },
  {
   "cell_type": "markdown",
   "id": "94dfc75a",
   "metadata": {},
   "source": [
    "### Solid angle of the `small` catalog = 50 deg2\n",
    "\n",
    "Need to check if it is exactly 50 deg2 or if this has been rounded"
   ]
  },
  {
   "cell_type": "code",
   "execution_count": null,
   "id": "307bc911",
   "metadata": {},
   "outputs": [],
   "source": [
    "DeltaOmega = skysim_cat.sky_area * np.pi**2/180**2"
   ]
  },
  {
   "cell_type": "code",
   "execution_count": null,
   "id": "d90229ba",
   "metadata": {},
   "outputs": [],
   "source": [
    "# Loop over mass bins defined by plt.hist and predict the corresponding number of haloes\n",
    "# for Tinker 08\n",
    "N_predicted_T08 = np.array([\n",
    "    scipy.integrate.dblquad(integrand_tinker08, zmin, zmax, \n",
    "                            lambda x:logmmin, lambda x:logmmax,\n",
    "                            epsabs=1.e-4, epsrel=1.e-4)[0]\n",
    "    for logmmin, logmmax in zip(logmass_bins, logmass_bins[1:])\n",
    "])"
   ]
  },
  {
   "cell_type": "code",
   "execution_count": null,
   "id": "2b81b5e5",
   "metadata": {},
   "outputs": [],
   "source": [
    "# Loop over mass bins defined by plt.hist and predict the corresponding number of haloes\n",
    "# for Bocquet 16\n",
    "N_predicted_B16 = np.array([\n",
    "    scipy.integrate.dblquad(integrand_bocquet16, zmin, zmax, \n",
    "                            lambda x:logmmin, lambda x:logmmax,\n",
    "                            epsabs=1.e-4, epsrel=1.e-4)[0]\n",
    "    for logmmin, logmmax in zip(logmass_bins, logmass_bins[1:])\n",
    "])"
   ]
  },
  {
   "cell_type": "markdown",
   "id": "b64111c4",
   "metadata": {},
   "source": [
    "## Plot measured versus predicted number of haloes"
   ]
  },
  {
   "cell_type": "code",
   "execution_count": null,
   "id": "ce1024e0",
   "metadata": {},
   "outputs": [],
   "source": [
    "plt.figure(figsize=(10,6))\n",
    "plt.errorbar(10**mid_logmass, nc_meas, np.sqrt(np.diag(cov)), ls='', capsize=3, \n",
    "            label=f'SkySim5000, {skysim_cat.sky_area:.2f} deg2 field, z=[{zmin},{zmax}]')\n",
    "plt.plot(10**mid_logmass, N_predicted_T08*DeltaOmega, label='T08, CCL')\n",
    "plt.plot(10**mid_logmass, N_predicted_B16*DeltaOmega, label='B16, CCL')\n",
    "plt.legend(fontsize=12)\n",
    "plt.xscale('log')\n",
    "plt.yscale('log')\n",
    "plt.xlabel('$M_{200c}$ [M$_\\odot$]', size=14)\n",
    "plt.ylabel('Number of haloes', size=14)"
   ]
  },
  {
   "cell_type": "markdown",
   "id": "934e73ea-2f52-4010-8718-2ec57edd55ff",
   "metadata": {},
   "source": [
    "# Gaussian likelihood\n",
    "\n",
    "\\begin{equation}\n",
    "\\mathcal{L} = \\frac{1}{\\sqrt{det(2\\pi Cov)}}\\exp{\\left[-\\frac{1}{2}(Obs-Theo)Cov^{-1}(Obs-Theo)^T\\right]}\n",
    "\\end{equation}"
   ]
  },
  {
   "cell_type": "code",
   "execution_count": null,
   "id": "88711776-34d0-4e31-9cef-874c1bdd36bb",
   "metadata": {},
   "outputs": [],
   "source": [
    "def lnlike(obs, theo, cov):\n",
    "    diff = obs-theo\n",
    "    icov = np.linalg.inv(cov)\n",
    "    chi2 = np.dot(diff, np.dot(icov, diff))\n",
    "    return -0.5*chi2 - 0.5*np.log(np.linalg.det(cov))"
   ]
  },
  {
   "cell_type": "code",
   "execution_count": null,
   "id": "368f9f42-0e18-4fe1-8fcb-96d0955aa160",
   "metadata": {},
   "outputs": [],
   "source": [
    "lnlike(nc_meas, np.array(N_predicted_T08)*DeltaOmega, cov), lnlike(nc_meas, np.array(N_predicted_B16)*DeltaOmega, cov)"
   ]
  }
 ],
 "metadata": {
  "kernelspec": {
   "display_name": "CLMM-dev",
   "language": "python",
   "name": "clmmenv"
  },
  "language_info": {
   "codemirror_mode": {
    "name": "ipython",
    "version": 3
   },
   "file_extension": ".py",
   "mimetype": "text/x-python",
   "name": "python",
   "nbconvert_exporter": "python",
   "pygments_lexer": "ipython3",
   "version": "3.8.5"
  }
 },
 "nbformat": 4,
 "nbformat_minor": 5
}
