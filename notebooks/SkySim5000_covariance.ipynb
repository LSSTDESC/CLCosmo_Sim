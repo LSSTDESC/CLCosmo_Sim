{
 "cells": [
  {
   "cell_type": "markdown",
   "id": "603fc7fe",
   "metadata": {},
   "source": [
    "# Estimating covariance on SkySim5000 and using it on Gaussian likelihood\n",
    "\n",
    "(derived from <a href='SkySim500_firstcheck.ipynb'>SkySim500_firstcheck</a> notebook)\n",
    "\n",
    "Author : Michel Aguena"
   ]
  },
  {
   "cell_type": "code",
   "execution_count": null,
   "id": "8feea8eb",
   "metadata": {},
   "outputs": [],
   "source": [
    "import numpy as np\n",
    "import pyccl as ccl\n",
    "import matplotlib.pyplot as plt\n",
    "import scipy.integrate\n",
    "import astropy.units as u\n",
    "from astropy.table import Table\n",
    "import GCRCatalogs\n",
    "\n",
    "%matplotlib inline"
   ]
  },
  {
   "cell_type": "code",
   "execution_count": null,
   "id": "c4cdfbad",
   "metadata": {},
   "outputs": [],
   "source": [
    "skysim_cat = GCRCatalogs.load_catalog('skysim5000_v1.1.1_small')"
   ]
  },
  {
   "cell_type": "code",
   "execution_count": null,
   "id": "45e36b87",
   "metadata": {},
   "outputs": [],
   "source": [
    "cosmo_ss  = skysim_cat.cosmology"
   ]
  },
  {
   "cell_type": "code",
   "execution_count": null,
   "id": "77e2d42d",
   "metadata": {},
   "outputs": [],
   "source": [
    "cosmo_ss"
   ]
  },
  {
   "cell_type": "markdown",
   "id": "f926adc9",
   "metadata": {},
   "source": [
    "## Extract DM haloes from the catalog in a given mass and redshift range. "
   ]
  },
  {
   "cell_type": "code",
   "execution_count": null,
   "id": "655d0bc5",
   "metadata": {
    "tags": []
   },
   "outputs": [],
   "source": [
    "%%time\n",
    "# get list of halos in a given redshift and mass range\n",
    "mmin_extract = 1.e12 # Msun (M_fof)\n",
    "zmin_extract = 0.\n",
    "zmax_extract = 1.0\n",
    "dm_halos = Table(skysim_cat.get_quantities(['halo_mass','hostHaloMass','redshift','ra', 'dec', 'halo_id',\n",
    "                                             'baseDC2/sod_halo_mass','baseDC2/sod_halo_radius'],\n",
    "                                            filters=[f'halo_mass > {mmin_extract}','is_central==True',\n",
    "                                            f'redshift>{zmin_extract}', f'redshift<{zmax_extract}']))\n",
    "# NB: SkySim5000 M200c masses are in units of Msun/h\n",
    "dm_halos['m200c'] = dm_halos['baseDC2/sod_halo_mass']/cosmo_ss.h"
   ]
  },
  {
   "cell_type": "code",
   "execution_count": null,
   "id": "73f4dd37",
   "metadata": {},
   "outputs": [],
   "source": [
    "print(f'There are {len(dm_halos):,} halos in this mass (Mfof) and redshift range')"
   ]
  },
  {
   "cell_type": "code",
   "execution_count": null,
   "id": "2208bab2",
   "metadata": {},
   "outputs": [],
   "source": [
    "plt.scatter(dm_halos['ra'], dm_halos['dec'], marker='.', s=0.001)\n",
    "plt.xlabel('ra [deg]')\n",
    "plt.ylabel('dec [deg]')"
   ]
  },
  {
   "cell_type": "markdown",
   "id": "7c1d5dbc",
   "metadata": {},
   "source": [
    "## Define a redshift and mass range for the comparison of data and prediction, and filter the data accordingly"
   ]
  },
  {
   "cell_type": "code",
   "execution_count": null,
   "id": "e3cc9eea",
   "metadata": {},
   "outputs": [],
   "source": [
    "dm_halos = dm_halos[dm_halos['m200c']>1e13]\n",
    "print(f'There are {len(dm_halos):,} halos with M200c > 1e13 Msun')"
   ]
  },
  {
   "cell_type": "code",
   "execution_count": null,
   "id": "00ded388",
   "metadata": {},
   "outputs": [],
   "source": [
    "# Define mass and redshift bins\n",
    "n_mbins, n_zbins = 8, 5\n",
    "nc_meas, logmass_bins, z_bins = np.histogram2d(\n",
    "    np.log10(dm_halos['m200c']), dm_halos['redshift'],\n",
    "    bins=(n_mbins, n_zbins))\n",
    "mid_logmass = 0.5*(logmass_bins[:-1]+logmass_bins[1:])\n",
    "mid_z = 0.5*(z_bins[:-1]+z_bins[1:])"
   ]
  },
  {
   "cell_type": "code",
   "execution_count": null,
   "id": "f49a9333",
   "metadata": {},
   "outputs": [],
   "source": [
    "mid_z, z_bins"
   ]
  },
  {
   "cell_type": "markdown",
   "id": "df95eabc",
   "metadata": {},
   "source": [
    "Plot number counts"
   ]
  },
  {
   "cell_type": "code",
   "execution_count": null,
   "id": "b3bb78e5",
   "metadata": {},
   "outputs": [],
   "source": [
    "plt.figure(figsize=(10,6))\n",
    "plt.plot(10**mid_logmass, nc_meas, marker='*', ls='', label=[f'z={z:.2f}' for z in mid_z])\n",
    "plt.xscale('log')\n",
    "plt.yscale('log')\n",
    "plt.xlabel('M200,c [Msun]', size=12)\n",
    "plt.ylabel('Number of halos', size=12)\n",
    "plt.legend()\n",
    "#print(f\"Total number of halos in z=[{zmin},{zmax}] and M=[{mmin/1.e14:.2f}, {mmax/1.e15}] x 1e15 Msun: {len(data):,}\")"
   ]
  },
  {
   "cell_type": "markdown",
   "id": "9a895666",
   "metadata": {},
   "source": [
    "# Measure covariance of clusters"
   ]
  },
  {
   "cell_type": "markdown",
   "id": "1d059f9c",
   "metadata": {},
   "source": [
    "Add pixels and check outliers to define which will be used for covariance computation"
   ]
  },
  {
   "cell_type": "code",
   "execution_count": null,
   "id": "ac14339e",
   "metadata": {},
   "outputs": [],
   "source": [
    "import healpy as hp\n",
    "\n",
    "nside = 64\n",
    "dm_halos['pixel'] = hp.ang2pix(nside, dm_halos['ra'], dm_halos['dec'], lonlat=True)\n",
    "\n",
    "\n",
    "f, axes = plt.subplots(1, 2, figsize=(20, 6))\n",
    "map_ = np.histogram(dm_halos['pixel'], np.arange(hp.nside2npix(nside)+1))[0]\n",
    "map_ = np.array(map_, dtype=float)\n",
    "map_[map_==0] = np.nan\n",
    "\n",
    "#plot histogram of counts\n",
    "axes[0].hist(map_)\n",
    "axes[0].set_xlabel('# of clusters in pixels')\n",
    "\n",
    "# plot map\n",
    "hp.cartview(map_, latra=[-50, -30], lonra=[55, 75], \n",
    "            hold=True, cbar=False)\n",
    "\n",
    "hp_ax = f.axes[-1]\n",
    "hp_ax.axis('on')\n",
    "\n",
    "#ax.patch.set_alpha(0.)\n",
    "hp_ax.set_xlabel('RA')\n",
    "hp_ax.set_ylabel('DEC')\n",
    "hp_ax.grid(color='.7')\n",
    "hp_ax.set_xticklabels(-hp_ax.get_xticks()) # RA values in plot are inverted\n",
    "\n",
    "\n",
    "plt.show()"
   ]
  },
  {
   "cell_type": "markdown",
   "id": "077c9d29",
   "metadata": {},
   "source": [
    "Define pixels to be used in covariance computation"
   ]
  },
  {
   "cell_type": "code",
   "execution_count": null,
   "id": "a5554a60",
   "metadata": {},
   "outputs": [],
   "source": [
    "pixels_for_cov = np.arange(hp.nside2npix(nside))[map_>200]"
   ]
  },
  {
   "cell_type": "markdown",
   "id": "b0cce9c3",
   "metadata": {},
   "source": [
    "Bin the data in mass,redshift and pixels"
   ]
  },
  {
   "cell_type": "code",
   "execution_count": null,
   "id": "41a9b846",
   "metadata": {},
   "outputs": [],
   "source": [
    "pixeled_nc = np.transpose([\n",
    "    np.histogram2d(\n",
    "        np.log10(dm_halos['m200c'])[dm_halos['pixel']==p],\n",
    "        dm_halos['redshift'][dm_halos['pixel']==p],\n",
    "        bins=(logmass_bins, z_bins)\n",
    "    )[0].flatten()\n",
    "    for p in pixels_for_cov])"
   ]
  },
  {
   "cell_type": "code",
   "execution_count": null,
   "id": "f31055da",
   "metadata": {},
   "outputs": [],
   "source": [
    "pixeled_nc = np.transpose([\n",
    "    np.histogram2d(\n",
    "        dm_halos['redshift'][dm_halos['pixel']==p],\n",
    "        np.log10(dm_halos['m200c'])[dm_halos['pixel']==p],\n",
    "        bins=(z_bins, logmass_bins)\n",
    "    )[0].flatten()\n",
    "    for p in pixels_for_cov])"
   ]
  },
  {
   "cell_type": "markdown",
   "id": "b35f5fca",
   "metadata": {},
   "source": [
    "Compute covariance and correlation matrices\n",
    "\\begin{equation}\n",
    "Corr_{ij} = \\frac{Cov_{ij}}{\\sqrt{Cov_{ii}Cov_{jj}}}\n",
    "\\end{equation}"
   ]
  },
  {
   "cell_type": "code",
   "execution_count": null,
   "id": "4c4ab437",
   "metadata": {},
   "outputs": [],
   "source": [
    "cov = np.cov(pixeled_nc)*(skysim_cat.sky_area/hp.nside2pixarea(nside, degrees=True))"
   ]
  },
  {
   "cell_type": "code",
   "execution_count": null,
   "id": "a3fdd95f",
   "metadata": {},
   "outputs": [],
   "source": [
    "corr = np.corrcoef(pixeled_nc)"
   ]
  },
  {
   "cell_type": "markdown",
   "id": "cd2a1140",
   "metadata": {},
   "source": [
    "See how strong correlated the different mass bins are:"
   ]
  },
  {
   "cell_type": "code",
   "execution_count": null,
   "id": "e9228715",
   "metadata": {},
   "outputs": [],
   "source": [
    "f, axes = plt.subplots(\n",
    "    n_zbins, n_zbins, sharex=True, sharey=True,\n",
    "    figsize=(10,10), gridspec_kw={'hspace': 0., 'wspace': 0.,\n",
    "                                 'right':.9, 'top':.9})\n",
    "for i in range(n_zbins):\n",
    "    for j in range(n_zbins):\n",
    "        colors = axes[::-1][i][j].pcolor(\n",
    "            corr[n_mbins*i:n_mbins*(i+1), n_mbins*j:n_mbins*(j+1)],\n",
    "            vmin=-1, vmax=1, cmap='bwr')\n",
    "for ax, z1, z2 in zip(axes[-1], z_bins, z_bins[1:]):\n",
    "    ax.set_xticklabels([])\n",
    "    ax.set_xlabel(f'Mass\\n{z1:.2f}<z<{z2:.2f}')\n",
    "for ax, z1, z2 in zip(axes[::-1,0], z_bins, z_bins[1:]):\n",
    "    ax.set_yticklabels([])\n",
    "    ax.set_ylabel(f'Mass\\n{z1:.2f}<z<{z2:.2f}')\n",
    "for ax in axes.flatten():\n",
    "    ax.set_xticks(np.arange(n_mbins)+.5)\n",
    "    ax.set_yticks(np.arange(n_mbins)+.5)\n",
    "cb_ax = plt.axes([.92, .1, .02, .8])\n",
    "#colors = plt.pcolor(corr)\n",
    "plt.colorbar(colors, cax=cb_ax, label='Corr')\n",
    "#plt.xlabel('mass bin')\n",
    "#plt.ylabel('mass bin')"
   ]
  },
  {
   "cell_type": "markdown",
   "id": "9c348e02",
   "metadata": {},
   "source": [
    "Plot number counts with variance as errorbars"
   ]
  },
  {
   "cell_type": "code",
   "execution_count": null,
   "id": "ab7cf86c",
   "metadata": {},
   "outputs": [],
   "source": [
    "plt.figure(figsize=(10,6))\n",
    "shift, i = .005, 0 # Add shift to see all points\n",
    "i = 0\n",
    "for nc, err, lab in zip(nc_meas.T, np.sqrt(np.diag(cov)).reshape(n_zbins, n_mbins),\n",
    "                        [f'z={z:.2f}' for z in mid_z]):\n",
    "    plt.errorbar(10**(mid_logmass+i*shift), nc, err, ls='', capsize=3, label=lab)\n",
    "    i += 1\n",
    "plt.xscale('log')\n",
    "plt.yscale('log')\n",
    "plt.xlabel('M200,c [Msun]', size=12)\n",
    "plt.ylabel('Number of halos', size=12)\n",
    "plt.legend()\n",
    "#print(f\"Total number of halos in z=[{zmin},{zmax}] and M=[{mmin/1.e14:.2f}, {mmax/1.e15}] x 1e15 Msun: {len(data):,}\")"
   ]
  },
  {
   "cell_type": "markdown",
   "id": "62a0f49e",
   "metadata": {},
   "source": [
    "## Prediction using CCL and the Tinker08 and Bocquet16 mass functions"
   ]
  },
  {
   "cell_type": "code",
   "execution_count": null,
   "id": "c388ac07",
   "metadata": {},
   "outputs": [],
   "source": [
    "# Define CCL Cosmology from SkySim cosmology\n",
    "cosmo = ccl.Cosmology(Omega_c=cosmo_ss.Om0-cosmo_ss.Ob0, Omega_b=cosmo_ss.Ob0,\n",
    "                      h=cosmo_ss.h, sigma8=cosmo_ss.sigma8, n_s=cosmo_ss.n_s, Neff=3.04)\n",
    "\n",
    "print(cosmo)\n"
   ]
  },
  {
   "cell_type": "markdown",
   "id": "4269d5cd",
   "metadata": {},
   "source": [
    "### Differential comoving volume"
   ]
  },
  {
   "cell_type": "code",
   "execution_count": null,
   "id": "acc20777",
   "metadata": {},
   "outputs": [],
   "source": [
    "def dV_over_dOmega_dz(z):\n",
    "    a = 1./(1. + z)\n",
    "    da = ccl.background.angular_diameter_distance(cosmo, a) \n",
    "    E = ccl.background.h_over_h0(cosmo, a)\n",
    "    return ((1.+z)**2)*(da**2)*ccl.physical_constants.CLIGHT_HMPC/cosmo['h']/E "
   ]
  },
  {
   "cell_type": "code",
   "execution_count": null,
   "id": "c9c4e613",
   "metadata": {},
   "outputs": [],
   "source": [
    "### Sanity check - comparison to the volume computed with Astropy\n",
    "dV_over_dOmega_dz(0.3), cosmo_ss.differential_comoving_volume(0.3).value "
   ]
  },
  {
   "cell_type": "markdown",
   "id": "55733207",
   "metadata": {},
   "source": [
    "### CCL mass functions"
   ]
  },
  {
   "cell_type": "code",
   "execution_count": null,
   "id": "0a80099c",
   "metadata": {},
   "outputs": [],
   "source": [
    "hmd_200c = ccl.halos.MassDef(200, 'critical')\n",
    "def tinker08(logm, z):\n",
    "    mass = 10**(logm)\n",
    "    hmf_200c = ccl.halos.MassFuncTinker08(cosmo, mass_def=hmd_200c)\n",
    "    nm = hmf_200c.get_mass_function(cosmo, mass, 1./(1+z))\n",
    "    return nm # dn/dlog10M\n",
    "\n",
    "hmd_200c = ccl.halos.MassDef200c()\n",
    "def bocquet16(logm, z):\n",
    "    mass = 10**(logm)\n",
    "    hmf_200c = ccl.halos.MassFuncBocquet16(cosmo, mass_def=hmd_200c)\n",
    "    nm = hmf_200c.get_mass_function(cosmo, mass, 1./(1+z))\n",
    "    return nm # dn/dlog10M"
   ]
  },
  {
   "cell_type": "code",
   "execution_count": null,
   "id": "4befe031",
   "metadata": {},
   "outputs": [],
   "source": [
    "def integrand_tinker08(logm,z):\n",
    "    return tinker08(logm, z)*dV_over_dOmega_dz(z)\n",
    "\n",
    "def integrand_bocquet16(logm,z):\n",
    "    return bocquet16(logm, z)*dV_over_dOmega_dz(z)"
   ]
  },
  {
   "cell_type": "markdown",
   "id": "cd67f77e",
   "metadata": {},
   "source": [
    "### Solid angle of the `small` catalog = 50 deg2\n",
    "\n",
    "Need to check if it is exactly 50 deg2 or if this has been rounded"
   ]
  },
  {
   "cell_type": "code",
   "execution_count": null,
   "id": "5bfb5e01",
   "metadata": {},
   "outputs": [],
   "source": [
    "DeltaOmega = skysim_cat.sky_area * np.pi**2/180**2"
   ]
  },
  {
   "cell_type": "code",
   "execution_count": null,
   "id": "244a3776",
   "metadata": {},
   "outputs": [],
   "source": [
    "%%time\n",
    "# Loop over mass bins defined by plt.hist and predict the corresponding number of haloes\n",
    "# for Tinker 08\n",
    "N_predicted_T08 = np.array([[\n",
    "        scipy.integrate.dblquad(\n",
    "            integrand_tinker08, zmin, zmax, \n",
    "            lambda x:logmmin, lambda x:logmmax,\n",
    "            epsabs=1.e-4, epsrel=1.e-4)[0]\n",
    "        for zmin, zmax in zip(z_bins, z_bins[1:])]\n",
    "    for logmmin, logmmax in zip(logmass_bins, logmass_bins[1:])\n",
    "])"
   ]
  },
  {
   "cell_type": "code",
   "execution_count": null,
   "id": "954b4fd3",
   "metadata": {},
   "outputs": [],
   "source": [
    "%%time\n",
    "# Loop over mass bins defined by plt.hist and predict the corresponding number of haloes\n",
    "# for Bocquet 16\n",
    "N_predicted_B16  = np.array([[\n",
    "        scipy.integrate.dblquad(\n",
    "            integrand_bocquet16, zmin, zmax, \n",
    "            lambda x:logmmin, lambda x:logmmax,\n",
    "            epsabs=1.e-4, epsrel=1.e-4)[0]\n",
    "        for zmin, zmax in zip(z_bins, z_bins[1:])]\n",
    "    for logmmin, logmmax in zip(logmass_bins, logmass_bins[1:])\n",
    "])"
   ]
  },
  {
   "cell_type": "markdown",
   "id": "426a933c",
   "metadata": {},
   "source": [
    "## Plot measured versus predicted number of haloes"
   ]
  },
  {
   "cell_type": "code",
   "execution_count": null,
   "id": "3503eb47",
   "metadata": {},
   "outputs": [],
   "source": [
    "f, axes = plt.subplots(2, 3, figsize=(10,6), sharex=True)\n",
    "\n",
    "for i in range(n_zbins):\n",
    "    ax = axes.flatten()[i]\n",
    "    ax.errorbar(\n",
    "        10**mid_logmass, nc_meas[:,i],\n",
    "        np.sqrt(np.diag(cov)).reshape(n_zbins, n_mbins)[i],\n",
    "        ls='', capsize=3,\n",
    "        label=f'SkySim5000, {skysim_cat.sky_area:.2f} deg2 field')\n",
    "    ax.plot(10**mid_logmass, N_predicted_T08[:,i]*DeltaOmega, label='T08, CCL')\n",
    "    ax.plot(10**mid_logmass, N_predicted_B16[:,i]*DeltaOmega, label='B16, CCL')\n",
    "    ax.set_xscale('log')\n",
    "    ax.set_yscale('log')\n",
    "    #leg = ax.legend(fontsize=12)\n",
    "    #ax.get_legend().remove()\n",
    "for ax in axes[-1,:]:\n",
    "    ax.set_xlabel('$M_{200c}$ [M$_\\odot$]', size=14)\n",
    "for ax in axes[:,0]:\n",
    "    ax.set_ylabel('Number of haloes', size=14)\n",
    "    \n",
    "leg_info = [l for l in axes[0][0].collections+axes[0][0].lines\n",
    "            if l._label[0]!='_']\n",
    "axes[-1][-1].legend(leg_info, [l._label for l in leg_info])\n",
    "axes[-1][-1].axis('off')"
   ]
  },
  {
   "cell_type": "markdown",
   "id": "9c0a998c",
   "metadata": {},
   "source": [
    "# Gaussian likelihood\n",
    "\n",
    "\\begin{equation}\n",
    "\\mathcal{L} = \\frac{1}{\\sqrt{det(2\\pi Cov)}}\\exp{\\left[-\\frac{1}{2}(Obs-Theo)Cov^{-1}(Obs-Theo)^T\\right]}\n",
    "\\end{equation}"
   ]
  },
  {
   "cell_type": "code",
   "execution_count": null,
   "id": "256a2e22",
   "metadata": {},
   "outputs": [],
   "source": [
    "def lnlike(obs, theo, cov):\n",
    "    diff = obs-theo\n",
    "    icov = np.linalg.inv(cov)\n",
    "    chi2 = np.dot(diff, np.dot(icov, diff))\n",
    "    return -0.5*chi2 - 0.5*np.log(np.linalg.det(cov))"
   ]
  },
  {
   "cell_type": "code",
   "execution_count": null,
   "id": "3a84935d",
   "metadata": {},
   "outputs": [],
   "source": [
    "print(f'''\n",
    "Using full covariance\n",
    "ln(like)[T08]: {lnlike(nc_meas.flatten(), N_predicted_T08.flatten()*DeltaOmega, cov)}\n",
    "ln(like)[B16]: {lnlike(nc_meas.flatten(), N_predicted_B16.flatten()*DeltaOmega, cov)}\n",
    "\n",
    "Using only diagonal\n",
    "ln(like)[T08]: {lnlike(nc_meas.flatten(), N_predicted_T08.flatten()*DeltaOmega, np.diag(np.diag(cov)))}\n",
    "ln(like)[B16]: {lnlike(nc_meas.flatten(), N_predicted_B16.flatten()*DeltaOmega, np.diag(np.diag(cov)))}\n",
    "''')"
   ]
  }
 ],
 "metadata": {
  "kernelspec": {
   "display_name": "nersc",
   "language": "python",
   "name": "nersc"
  },
  "language_info": {
   "codemirror_mode": {
    "name": "ipython",
    "version": 3
   },
   "file_extension": ".py",
   "mimetype": "text/x-python",
   "name": "python",
   "nbconvert_exporter": "python",
   "pygments_lexer": "ipython3",
   "version": "3.8.8"
  }
 },
 "nbformat": 4,
 "nbformat_minor": 5
}
