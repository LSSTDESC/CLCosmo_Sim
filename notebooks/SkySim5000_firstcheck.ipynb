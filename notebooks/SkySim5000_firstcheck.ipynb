{
 "cells": [
  {
   "cell_type": "markdown",
   "id": "27f5a978",
   "metadata": {},
   "source": [
    "# First look at the SkySim5000 mass function"
   ]
  },
  {
   "cell_type": "code",
   "execution_count": null,
   "id": "411964ad",
   "metadata": {},
   "outputs": [],
   "source": [
    "import numpy as np\n",
    "import pyccl as ccl\n",
    "import matplotlib.pyplot as plt\n",
    "import pickle as pkl\n",
    "import scipy.integrate\n",
    "import astropy.units as u\n",
    "import GCRCatalogs\n",
    "\n",
    "%matplotlib inline"
   ]
  },
  {
   "cell_type": "code",
   "execution_count": null,
   "id": "b936def5",
   "metadata": {},
   "outputs": [],
   "source": [
    "skysim_cat = GCRCatalogs.load_catalog('skysim5000_v1.1.1_small')"
   ]
  },
  {
   "cell_type": "code",
   "execution_count": null,
   "id": "af13b08c",
   "metadata": {},
   "outputs": [],
   "source": [
    "cosmo_ss  = skysim_cat.cosmology"
   ]
  },
  {
   "cell_type": "code",
   "execution_count": null,
   "id": "958f2b96",
   "metadata": {},
   "outputs": [],
   "source": [
    "cosmo_ss"
   ]
  },
  {
   "cell_type": "markdown",
   "id": "a4eba900",
   "metadata": {},
   "source": [
    "## Read in catalog of halo masses and redshifts, extracted from SkySim5000\n",
    "NB: to be replaced with code that performs the extraction on the \"small\" catalog"
   ]
  },
  {
   "cell_type": "code",
   "execution_count": null,
   "id": "dc992f8f",
   "metadata": {},
   "outputs": [],
   "source": [
    "f = '/pbs/throng/lsst/users/cpayerne/ThesisAtCCin2p3/Galaxy_Cluster_Catalogs_details/cosmoDC2/SkySim5000_DM_halos_catalog.pkl'\n",
    "#f = '/pbs/throng/lsst/users/cpayerne/ThesisAtCCin2p3/Galaxy_Cluster_Catalogs_details/cosmoDC2/SkySim5000_DM_halos.pkl'\n",
    "\n",
    "data_ref = pkl.load(open(f,'rb'))\n",
    "data = data_ref.copy()"
   ]
  },
  {
   "cell_type": "code",
   "execution_count": null,
   "id": "938ce2e5",
   "metadata": {},
   "outputs": [],
   "source": [
    "#plt.scatter(data['ra'], data['dec'], marker='.')"
   ]
  },
  {
   "cell_type": "markdown",
   "id": "3aad6578",
   "metadata": {},
   "source": [
    "## Define a redshift and mass range for the comparison of data and prediction, and filter the data accordingly\n",
    "NB: SkySim5000 M200c masses are in units of Msun/h"
   ]
  },
  {
   "cell_type": "code",
   "execution_count": null,
   "id": "2abdb45d",
   "metadata": {},
   "outputs": [],
   "source": [
    "zmin=0.2\n",
    "zmax=0.8\n",
    "mmin = 1.e11 # Msun\n",
    "mmax = 1.e15 # Msun\n",
    "filt1 = data['redshift'] > zmin\n",
    "filt2 = data['redshift'] < zmax\n",
    "data['baseDC2/sod_halo_mass'] = data_ref['baseDC2/sod_halo_mass']/cosmo_ss.h # sod_halo_mass in Msun/h, needs conversion\n",
    "filt3 = data['baseDC2/sod_halo_mass'] > mmin\n",
    "filt4 = data['baseDC2/sod_halo_mass'] < mmax\n",
    "filt = filt1 * filt2 * filt3 * filt4\n"
   ]
  },
  {
   "cell_type": "code",
   "execution_count": null,
   "id": "aea37bce",
   "metadata": {},
   "outputs": [],
   "source": [
    "nbins = 30\n",
    "hist = plt.hist(np.log10(data['baseDC2/sod_halo_mass'][filt]), bins=nbins)\n",
    "plt.yscale('log')\n",
    "print(f\"Total number of halos = {len(data['baseDC2/sod_halo_mass'][filt])}\")\n",
    "hist"
   ]
  },
  {
   "cell_type": "markdown",
   "id": "60099cf3",
   "metadata": {},
   "source": [
    "## Prediction using CCL and the Tinker08 and Bocquet16 mass functions"
   ]
  },
  {
   "cell_type": "code",
   "execution_count": null,
   "id": "99c2bd3c",
   "metadata": {},
   "outputs": [],
   "source": [
    "# CCL Cosmology\n",
    "cosmo = ccl.Cosmology(Omega_c=cosmo_ss.Om0-cosmo_ss.Ob0, Omega_b=cosmo_ss.Ob0,\n",
    "                      h=cosmo_ss.h, sigma8=cosmo_ss.sigma8, n_s=cosmo_ss.n_s, Neff=3.04)\n",
    "\n",
    "print(cosmo)\n"
   ]
  },
  {
   "cell_type": "markdown",
   "id": "08648b16",
   "metadata": {},
   "source": [
    "### Differential comoving volume"
   ]
  },
  {
   "cell_type": "code",
   "execution_count": null,
   "id": "21fa42b8",
   "metadata": {},
   "outputs": [],
   "source": [
    "def dV_over_dOmega_dz(z):\n",
    "    a = 1./(1. + z)\n",
    "    da = ccl.background.angular_diameter_distance(cosmo, a) \n",
    "    E = ccl.background.h_over_h0(cosmo, a)\n",
    "    return ((1+z)**2)*(da**2)*ccl.physical_constants.CLIGHT_HMPC/cosmo['h']/E "
   ]
  },
  {
   "cell_type": "code",
   "execution_count": null,
   "id": "14acbe97",
   "metadata": {},
   "outputs": [],
   "source": [
    "### Comparison to the volume computed with Astropy\n",
    "dV_over_dOmega_dz(0.3), cosmo_ss.differential_comoving_volume(0.3).value"
   ]
  },
  {
   "cell_type": "markdown",
   "id": "f60e44a5",
   "metadata": {},
   "source": [
    "### CCL mass functions"
   ]
  },
  {
   "cell_type": "code",
   "execution_count": null,
   "id": "db0c1894",
   "metadata": {},
   "outputs": [],
   "source": [
    "hmd_200c = ccl.halos.MassDef(200, 'critical')\n",
    "def tinker08(logm, z):\n",
    "    mass = 10**(logm)\n",
    "    hmf_200c = ccl.halos.MassFuncTinker08(cosmo, mass_def=hmd_200c)\n",
    "    nm = hmf_200c.get_mass_function(cosmo, mass, 1./(1+z))\n",
    "    return nm # dn/dlog10M\n",
    "\n",
    "hmd_200c = ccl.halos.MassDef200c()\n",
    "\n",
    "def bocquet16(logm, z):\n",
    "    mass = 10**(logm)\n",
    "    hmf_200c = ccl.halos.MassFuncBocquet16(cosmo, mass_def=hmd_200c)\n",
    "    nm = hmf_200c.get_mass_function(cosmo, mass, 1./(1+z))\n",
    "    return nm # dn/dlog10M"
   ]
  },
  {
   "cell_type": "code",
   "execution_count": null,
   "id": "46038547",
   "metadata": {},
   "outputs": [],
   "source": [
    "def integrand_tinker08(logm,z):\n",
    "    return tinker08(logm, z)*dV_over_dOmega_dz(z)\n",
    "\n",
    "def integrand_bocquet16(logm,z):\n",
    "    return bocquet16(logm, z)*dV_over_dOmega_dz(z)"
   ]
  },
  {
   "cell_type": "markdown",
   "id": "a88a044d",
   "metadata": {},
   "source": [
    "### Solid angle of the `image` catalog = 440 deg2"
   ]
  },
  {
   "cell_type": "code",
   "execution_count": null,
   "id": "f1de1b85",
   "metadata": {},
   "outputs": [],
   "source": [
    "DeltaOmega = 440 * np.pi**2/180**2"
   ]
  },
  {
   "cell_type": "code",
   "execution_count": null,
   "id": "6fdee047",
   "metadata": {},
   "outputs": [],
   "source": [
    "N_predicted_T08 = []\n",
    "\n",
    "# Loop over mass bins defined by plt.hist and predict the corresponding number of haloes\n",
    "# for Tinker 08\n",
    "for i in np.arange(len(hist[0])):\n",
    "    logmmin = np.log10(10**hist[1][i]) \n",
    "    logmmax = np.log10(10**hist[1][i+1])\n",
    "    N_T08 = scipy.integrate.dblquad(integrand_tinker08, zmin, zmax, lambda x:logmmin, lambda x:logmmax, epsabs=1.e-4, epsrel=1.e-4)\n",
    "    N_predicted_T08.append(N_T08[0]) "
   ]
  },
  {
   "cell_type": "code",
   "execution_count": null,
   "id": "1daa53c8",
   "metadata": {},
   "outputs": [],
   "source": [
    "N_predicted_B16 = []\n",
    "\n",
    "# Loop over mass bins defined by plt.hist and predict the corresponding number of haloes\n",
    "# for Bocquet 16\n",
    "for i in np.arange(len(hist[0])):\n",
    "    logmmin = np.log10(10**hist[1][i]) # Msun\n",
    "    logmmax = np.log10(10**hist[1][i+1]) # Msun\n",
    "    N_B16 = scipy.integrate.dblquad(integrand_bocquet16, zmin, zmax, lambda x:logmmin, lambda x:logmmax, epsabs=1.e-5, epsrel=1.e-4)\n",
    "    N_predicted_B16.append(N_B16[0]) "
   ]
  },
  {
   "cell_type": "markdown",
   "id": "33a32a4d",
   "metadata": {},
   "source": [
    "## Plot measured versus predicted number of haloes"
   ]
  },
  {
   "cell_type": "code",
   "execution_count": null,
   "id": "cea4ae68",
   "metadata": {},
   "outputs": [],
   "source": [
    "plt.figure(figsize=(10,6))\n",
    "hist = plt.hist(np.log10(data['baseDC2/sod_halo_mass'][filt]), bins=nbins, \n",
    "                label=f'SkySim5000, 440 deg2 field, z=[{zmin},{zmax}]',histtype='bar', alpha=0.5)\n",
    "\n",
    "bin_centers=[(hist[1][i]+hist[1][i+1])/2. for i in np.arange(len(hist[0]))]\n",
    "plt.plot(bin_centers,np.array(N_predicted_T08)*DeltaOmega, 'x-', label='T08, CCL')\n",
    "plt.plot(bin_centers,np.array(N_predicted_B16)*DeltaOmega, '.-', label='B16, CCL')\n",
    "plt.legend()\n",
    "plt.yscale('log')\n",
    "plt.xlabel('$M_{200c}$ [M$_\\odot$]')\n",
    "plt.ylabel('Number of haloes')"
   ]
  }
 ],
 "metadata": {
  "kernelspec": {
   "display_name": "mydesc3",
   "language": "python",
   "name": "mydesc3"
  },
  "language_info": {
   "codemirror_mode": {
    "name": "ipython",
    "version": 3
   },
   "file_extension": ".py",
   "mimetype": "text/x-python",
   "name": "python",
   "nbconvert_exporter": "python",
   "pygments_lexer": "ipython3",
   "version": "3.7.6"
  }
 },
 "nbformat": 4,
 "nbformat_minor": 5
}
