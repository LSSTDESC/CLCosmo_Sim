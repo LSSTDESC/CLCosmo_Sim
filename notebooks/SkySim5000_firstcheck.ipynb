{
 "cells": [
  {
   "cell_type": "markdown",
   "id": "b11fc135",
   "metadata": {},
   "source": [
    "# First look at the SkySim5000 mass function\n",
    "Authors : Constantin Payerne, Céline Combet"
   ]
  },
  {
   "cell_type": "code",
   "execution_count": null,
   "id": "594582be",
   "metadata": {},
   "outputs": [],
   "source": [
    "import numpy as np\n",
    "import pyccl as ccl\n",
    "import matplotlib.pyplot as plt\n",
    "import pickle as pkl\n",
    "import scipy.integrate\n",
    "import astropy.units as u\n",
    "import GCRCatalogs\n",
    "\n",
    "%matplotlib inline"
   ]
  },
  {
   "cell_type": "code",
   "execution_count": null,
   "id": "b4d2c58a",
   "metadata": {},
   "outputs": [],
   "source": [
    "skysim_cat = GCRCatalogs.load_catalog('skysim5000_v1.1.1_small')"
   ]
  },
  {
   "cell_type": "code",
   "execution_count": null,
   "id": "2d97aaa9",
   "metadata": {},
   "outputs": [],
   "source": [
    "cosmo_ss  = skysim_cat.cosmology"
   ]
  },
  {
   "cell_type": "code",
   "execution_count": null,
   "id": "eb1afdac",
   "metadata": {},
   "outputs": [],
   "source": [
    "cosmo_ss"
   ]
  },
  {
   "cell_type": "markdown",
   "id": "2ad06505",
   "metadata": {},
   "source": [
    "## Extract DM haloes from the catalog in a given mass and redshift range. "
   ]
  },
  {
   "cell_type": "code",
   "execution_count": null,
   "id": "9181dbbb",
   "metadata": {},
   "outputs": [],
   "source": [
    "# get list of halos in a given redshift and mass range \n",
    "mmin_extract = 1.e12 # Msun (M_fof)\n",
    "zmin_extract = 0.\n",
    "zmax_extract = 1.0\n",
    "\n",
    "dm_halos = skysim_cat.get_quantities(['halo_mass','hostHaloMass','redshift','ra', 'dec', 'halo_id',\n",
    "                                             'baseDC2/sod_halo_mass','baseDC2/sod_halo_radius'],\n",
    "                                            filters=[f'halo_mass > {mmin_extract}','is_central==True',\n",
    "                                            f'redshift>{zmin_extract}', f'redshift<{zmax_extract}'])"
   ]
  },
  {
   "cell_type": "code",
   "execution_count": null,
   "id": "00306be6",
   "metadata": {},
   "outputs": [],
   "source": [
    "N_cl = len(dm_halos['halo_mass'])\n",
    "print(f'There are {N_cl} halos in this mass (Mfof) and redshift range')"
   ]
  },
  {
   "cell_type": "code",
   "execution_count": null,
   "id": "dff5973b",
   "metadata": {},
   "outputs": [],
   "source": [
    "plt.scatter(dm_halos['ra'], dm_halos['dec'], marker='.', s=0.001)\n",
    "plt.xlabel('ra [deg]')\n",
    "plt.ylabel('dec [deg]')"
   ]
  },
  {
   "cell_type": "markdown",
   "id": "10b04e7c",
   "metadata": {},
   "source": [
    "## Define a redshift and mass range for the comparison of data and prediction, and filter the data accordingly\n",
    "NB: SkySim5000 M200c masses are in units of Msun/h"
   ]
  },
  {
   "cell_type": "code",
   "execution_count": null,
   "id": "4c986067",
   "metadata": {},
   "outputs": [],
   "source": [
    "tmp = dm_halos['baseDC2/sod_halo_mass']/cosmo_ss.h # sod_halo_mass = M200,c in Msun/h, needs conversion\n",
    "zmin = 0.\n",
    "zmax = 1.\n",
    "mmin = np.min(tmp[tmp>0]) # Msun. Filtering are there are some negative masses in the table\n",
    "mmax = 1.e15 # Msun\n",
    "filt1 = dm_halos['redshift'] >= zmin\n",
    "filt2 = dm_halos['redshift'] <= zmax\n",
    " \n",
    "filt3 = tmp >= mmin\n",
    "filt4 = tmp < mmax\n",
    "filt = filt1 * filt2 * filt3 * filt4\n",
    "\n",
    "data = dm_halos['baseDC2/sod_halo_mass'][filt]/cosmo_ss.h # M200,c [Msun]"
   ]
  },
  {
   "cell_type": "code",
   "execution_count": null,
   "id": "af14ac8c",
   "metadata": {},
   "outputs": [],
   "source": [
    "nbins = 15\n",
    "plt.figure(figsize=(10,6))\n",
    "hist = plt.hist(np.log10(data), bins=nbins)\n",
    "plt.yscale('log')\n",
    "plt.xlabel('M200,c [Msun]', size=12)\n",
    "plt.ylabel('Number of halos', size=12)\n",
    "print(f\"Total number of halos in z=[{zmin},{zmax}] and M=[{mmin/1.e14}, {mmax/1.e15}] x 1e15 Msun = {len(data)}\")\n",
    "hist"
   ]
  },
  {
   "cell_type": "markdown",
   "id": "526d0ab2",
   "metadata": {},
   "source": [
    "## Prediction using CCL and the Tinker08 and Bocquet16 mass functions"
   ]
  },
  {
   "cell_type": "code",
   "execution_count": null,
   "id": "938b6c82",
   "metadata": {},
   "outputs": [],
   "source": [
    "# Define CCL Cosmology from SkySim cosmology\n",
    "cosmo = ccl.Cosmology(Omega_c=cosmo_ss.Om0-cosmo_ss.Ob0, Omega_b=cosmo_ss.Ob0,\n",
    "                      h=cosmo_ss.h, sigma8=cosmo_ss.sigma8, n_s=cosmo_ss.n_s, Neff=3.04)\n",
    "\n",
    "print(cosmo)\n"
   ]
  },
  {
   "cell_type": "markdown",
   "id": "61fdb7d5",
   "metadata": {},
   "source": [
    "### Differential comoving volume"
   ]
  },
  {
   "cell_type": "code",
   "execution_count": null,
   "id": "1421a452",
   "metadata": {},
   "outputs": [],
   "source": [
    "def dV_over_dOmega_dz(z):\n",
    "    a = 1./(1. + z)\n",
    "    da = ccl.background.angular_diameter_distance(cosmo, a) \n",
    "    E = ccl.background.h_over_h0(cosmo, a)\n",
    "    return ((1.+z)**2)*(da**2)*ccl.physical_constants.CLIGHT_HMPC/cosmo['h']/E "
   ]
  },
  {
   "cell_type": "code",
   "execution_count": null,
   "id": "57079b48",
   "metadata": {},
   "outputs": [],
   "source": [
    "### Sanity check - comparison to the volume computed with Astropy\n",
    "dV_over_dOmega_dz(0.3), cosmo_ss.differential_comoving_volume(0.3).value "
   ]
  },
  {
   "cell_type": "markdown",
   "id": "cb346b23",
   "metadata": {},
   "source": [
    "### CCL mass functions"
   ]
  },
  {
   "cell_type": "code",
   "execution_count": null,
   "id": "ff64d0b3",
   "metadata": {},
   "outputs": [],
   "source": [
    "hmd_200c = ccl.halos.MassDef(200, 'critical')\n",
    "def tinker08(logm, z):\n",
    "    mass = 10**(logm)\n",
    "    hmf_200c = ccl.halos.MassFuncTinker08(cosmo, mass_def=hmd_200c)\n",
    "    nm = hmf_200c.get_mass_function(cosmo, mass, 1./(1+z))\n",
    "    return nm # dn/dlog10M\n",
    "\n",
    "hmd_200c = ccl.halos.MassDef200c()\n",
    "\n",
    "def bocquet16(logm, z):\n",
    "    mass = 10**(logm)\n",
    "    hmf_200c = ccl.halos.MassFuncBocquet16(cosmo, mass_def=hmd_200c)\n",
    "    nm = hmf_200c.get_mass_function(cosmo, mass, 1./(1+z))\n",
    "    return nm # dn/dlog10M"
   ]
  },
  {
   "cell_type": "code",
   "execution_count": null,
   "id": "a6b8f83c",
   "metadata": {},
   "outputs": [],
   "source": [
    "def integrand_tinker08(logm,z):\n",
    "    return tinker08(logm, z)*dV_over_dOmega_dz(z)\n",
    "\n",
    "def integrand_bocquet16(logm,z):\n",
    "    return bocquet16(logm, z)*dV_over_dOmega_dz(z)"
   ]
  },
  {
   "cell_type": "markdown",
   "id": "94dfc75a",
   "metadata": {},
   "source": [
    "### Solid angle of the `small` catalog = 50 deg2\n",
    "\n",
    "Need to check if it is exactly 50 deg2 or if this has been rounded"
   ]
  },
  {
   "cell_type": "code",
   "execution_count": null,
   "id": "307bc911",
   "metadata": {},
   "outputs": [],
   "source": [
    "DeltaOmega = 50 * np.pi**2/180**2"
   ]
  },
  {
   "cell_type": "code",
   "execution_count": null,
   "id": "d90229ba",
   "metadata": {},
   "outputs": [],
   "source": [
    "N_predicted_T08 = []\n",
    "\n",
    "# Loop over mass bins defined by plt.hist and predict the corresponding number of haloes\n",
    "# for Tinker 08\n",
    "for i in np.arange(len(hist[0])):\n",
    "    logmmin = np.log10(10**hist[1][i]) \n",
    "    logmmax = np.log10(10**hist[1][i+1])\n",
    "    N_T08 = scipy.integrate.dblquad(integrand_tinker08, zmin, zmax, lambda x:logmmin, lambda x:logmmax, epsabs=1.e-4, epsrel=1.e-4)\n",
    "    N_predicted_T08.append(N_T08[0]) "
   ]
  },
  {
   "cell_type": "code",
   "execution_count": null,
   "id": "2b81b5e5",
   "metadata": {},
   "outputs": [],
   "source": [
    "N_predicted_B16 = []\n",
    "\n",
    "# Loop over mass bins defined by plt.hist and predict the corresponding number of haloes\n",
    "# for Bocquet 16\n",
    "for i in np.arange(len(hist[0])):\n",
    "    logmmin = np.log10(10**hist[1][i]) # Msun\n",
    "    logmmax = np.log10(10**hist[1][i+1]) # Msun\n",
    "    N_B16 = scipy.integrate.dblquad(integrand_bocquet16, zmin, zmax, lambda x:logmmin, lambda x:logmmax, epsabs=1.e-5, epsrel=1.e-4)\n",
    "    N_predicted_B16.append(N_B16[0]) "
   ]
  },
  {
   "cell_type": "markdown",
   "id": "b64111c4",
   "metadata": {},
   "source": [
    "## Plot measured versus predicted number of haloes"
   ]
  },
  {
   "cell_type": "code",
   "execution_count": null,
   "id": "ce1024e0",
   "metadata": {},
   "outputs": [],
   "source": [
    "plt.figure(figsize=(10,6))\n",
    "hist = plt.hist(np.log10(data), bins=nbins, \n",
    "                label=f'SkySim5000, 50 deg2 field, z=[{zmin},{zmax}]', histtype='bar', alpha=0.5)\n",
    "bin_centers=[(hist[1][i]+hist[1][i+1])/2. for i in np.arange(len(hist[0]))]\n",
    "plt.plot(bin_centers,np.array(N_predicted_T08)*DeltaOmega, 'x-', label='T08, CCL')\n",
    "plt.plot(bin_centers,np.array(N_predicted_B16)*DeltaOmega, '.-', label='B16, CCL')\n",
    "plt.legend(fontsize=12)\n",
    "plt.yscale('log')\n",
    "plt.xlabel('$M_{200c}$ [M$_\\odot$]', size=14)\n",
    "plt.ylabel('Number of haloes', size=14)"
   ]
  }
 ],
 "metadata": {
  "kernelspec": {
   "display_name": "mydesc",
   "language": "python",
   "name": "mydesc"
  },
  "language_info": {
   "codemirror_mode": {
    "name": "ipython",
    "version": 3
   },
   "file_extension": ".py",
   "mimetype": "text/x-python",
   "name": "python",
   "nbconvert_exporter": "python",
   "pygments_lexer": "ipython3",
   "version": "3.7.6"
  }
 },
 "nbformat": 4,
 "nbformat_minor": 5
}
