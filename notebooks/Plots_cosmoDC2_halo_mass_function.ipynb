{
 "cells": [
  {
   "cell_type": "markdown",
   "id": "b11fc135",
   "metadata": {},
   "source": [
    "# First look at the SkySim5000 mass function\n",
    "Authors : Constantin Payerne, Céline Combet"
   ]
  },
  {
   "cell_type": "code",
   "execution_count": 1,
   "id": "594582be",
   "metadata": {},
   "outputs": [],
   "source": [
    "import numpy as np\n",
    "import pyccl as ccl\n",
    "import matplotlib.pyplot as plt\n",
    "import pickle as pkl\n",
    "import scipy.integrate\n",
    "import astropy.units as u\n",
    "import GCRCatalogs\n",
    "\n",
    "%matplotlib inline"
   ]
  },
  {
   "cell_type": "code",
   "execution_count": 2,
   "id": "b4d2c58a",
   "metadata": {},
   "outputs": [],
   "source": [
    "skysim_cat = GCRCatalogs.load_catalog('skysim5000_v1.1.1_small')"
   ]
  },
  {
   "cell_type": "code",
   "execution_count": 3,
   "id": "2d97aaa9",
   "metadata": {},
   "outputs": [],
   "source": [
    "cosmo_ss  = skysim_cat.cosmology"
   ]
  },
  {
   "cell_type": "code",
   "execution_count": 4,
   "id": "eb1afdac",
   "metadata": {},
   "outputs": [
    {
     "data": {
      "text/plain": [
       "FlatLambdaCDM(H0=71.0 km / (Mpc s), Om0=0.2648, Tcmb0=0.0 K, Neff=3.04, m_nu=None, Ob0=0.0448)"
      ]
     },
     "execution_count": 4,
     "metadata": {},
     "output_type": "execute_result"
    }
   ],
   "source": [
    "cosmo_ss"
   ]
  },
  {
   "cell_type": "markdown",
   "id": "2ad06505",
   "metadata": {},
   "source": [
    "## Extract DM haloes from the catalog in a given mass and redshift range. "
   ]
  },
  {
   "cell_type": "code",
   "execution_count": 5,
   "id": "9181dbbb",
   "metadata": {},
   "outputs": [],
   "source": [
    "# get list of halos in a given redshift and mass range \n",
    "mmin_extract = 1.e12 # Msun (M_fof)\n",
    "zmin_extract = 0.\n",
    "zmax_extract = 1.0\n",
    "\n",
    "dm_halos = skysim_cat.get_quantities(['halo_mass','hostHaloMass','redshift','ra', 'dec', 'halo_id',\n",
    "                                             'baseDC2/sod_halo_mass','baseDC2/sod_halo_radius'],\n",
    "                                            filters=[f'halo_mass > {mmin_extract}','is_central==True',\n",
    "                                            f'redshift>{zmin_extract}', f'redshift<{zmax_extract}'])"
   ]
  },
  {
   "cell_type": "code",
   "execution_count": 6,
   "id": "00306be6",
   "metadata": {},
   "outputs": [
    {
     "name": "stdout",
     "output_type": "stream",
     "text": [
      "There are 300879 halos in this mass (Mfof) and redshift range\n"
     ]
    }
   ],
   "source": [
    "N_cl = len(dm_halos['halo_mass'])\n",
    "print(f'There are {N_cl} halos in this mass (Mfof) and redshift range')"
   ]
  },
  {
   "cell_type": "markdown",
   "id": "10b04e7c",
   "metadata": {},
   "source": [
    "## Define a redshift and mass range for the comparison of data and prediction, and filter the data accordingly\n",
    "NB: SkySim5000 M200c masses are in units of Msun/h"
   ]
  },
  {
   "cell_type": "code",
   "execution_count": 7,
   "id": "4c986067",
   "metadata": {},
   "outputs": [],
   "source": [
    "tmp = dm_halos['baseDC2/sod_halo_mass']/cosmo_ss.h # sod_halo_mass = M200,c in Msun/h, needs conversion\n",
    "zmin = 0.2\n",
    "zmax = 1.\n",
    "mmin = np.min(tmp[tmp>0]) # Msun. Filtering are there are some negative masses in the table\n",
    "mmax = 1.e15 # Msun\n",
    "filt1 = dm_halos['redshift'] >= zmin\n",
    "filt2 = dm_halos['redshift'] <= zmax\n",
    " \n",
    "filt3 = tmp >= mmin\n",
    "filt4 = tmp < mmax\n",
    "filt = filt1 * filt2 * filt3 * filt4\n",
    "\n",
    "data = dm_halos['baseDC2/sod_halo_mass'][filt]/cosmo_ss.h # M200,c [Msun]"
   ]
  },
  {
   "cell_type": "code",
   "execution_count": 15,
   "id": "4bc0dc55-4abd-466d-9bc9-3afd1b892b16",
   "metadata": {},
   "outputs": [
    {
     "name": "stdout",
     "output_type": "stream",
     "text": [
      "Total number of halos in z=[0.2,1.0] and M=[0.02607952137374648, 1.0] x 1e15 Msun = 99948\n"
     ]
    },
    {
     "data": {
      "text/plain": [
       "(array([3.3677e+04, 2.3989e+04, 1.5886e+04, 1.0302e+04, 6.7130e+03,\n",
       "        4.0770e+03, 2.4430e+03, 1.3800e+03, 7.7000e+02, 3.9400e+02,\n",
       "        1.7900e+02, 9.2000e+01, 3.6000e+01, 7.0000e+00, 3.0000e+00]),\n",
       " array([12.41629962, 12.58809836, 12.75989711, 12.93169586, 13.10349461,\n",
       "        13.27529336, 13.4470921 , 13.61889085, 13.7906896 , 13.96248835,\n",
       "        14.1342871 , 14.30608584, 14.47788459, 14.64968334, 14.82148209,\n",
       "        14.99328084]),\n",
       " <BarContainer object of 15 artists>)"
      ]
     },
     "execution_count": 15,
     "metadata": {},
     "output_type": "execute_result"
    },
    {
     "data": {
      "image/png": "[encoded data removed]",
      "text/plain": [
       "<Figure size 1000x600 with 1 Axes>"
      ]
     },
     "metadata": {},
     "output_type": "display_data"
    }
   ],
   "source": [
    "nbins = 15\n",
    "plt.figure(figsize=(10,6))\n",
    "hist = plt.hist(np.log10(data), bins=nbins)\n",
    "plt.yscale('log')\n",
    "plt.xlabel('M200,c [Msun]', size=12)\n",
    "plt.ylabel('Number of halos', size=12)\n",
    "print(f\"Total number of halos in z=[{zmin},{zmax}] and M=[{mmin/1.e14}, {mmax/1.e15}] x 1e15 Msun = {len(data)}\")\n",
    "hist"
   ]
  },
  {
   "cell_type": "markdown",
   "id": "526d0ab2",
   "metadata": {},
   "source": [
    "## Prediction using CCL and the Tinker08 and Bocquet16 mass functions"
   ]
  },
  {
   "cell_type": "code",
   "execution_count": 16,
   "id": "938b6c82",
   "metadata": {},
   "outputs": [
    {
     "name": "stdout",
     "output_type": "stream",
     "text": [
      "<pyccl.cosmology.Cosmology>\n",
      "\tNeff    = 3.04\n",
      "\tOmega_b = 0.0448\n",
      "\tOmega_c = 0.21999999999999997\n",
      "\th       = 0.71\n",
      "\tn_s     = 0.963\n",
      "\tsigma8  = 0.8\n",
      "\textra_parameters =\n",
      "\tHASH_ACCURACY_PARAMS = 0x86c4c026aa62d5ef\n"
     ]
    }
   ],
   "source": [
    "# Define CCL Cosmology from SkySim cosmology\n",
    "cosmo = ccl.Cosmology(Omega_c=cosmo_ss.Om0-cosmo_ss.Ob0, Omega_b=cosmo_ss.Ob0,\n",
    "                      h=cosmo_ss.h, sigma8=cosmo_ss.sigma8, n_s=cosmo_ss.n_s, Neff=3.04)\n",
    "\n",
    "print(cosmo)\n"
   ]
  },
  {
   "cell_type": "markdown",
   "id": "61fdb7d5",
   "metadata": {},
   "source": [
    "### Differential comoving volume"
   ]
  },
  {
   "cell_type": "code",
   "execution_count": 17,
   "id": "1421a452",
   "metadata": {},
   "outputs": [],
   "source": [
    "def dV_over_dOmega_dz(z):\n",
    "    a = 1./(1. + z)\n",
    "    da = ccl.background.angular_diameter_distance(cosmo, a) \n",
    "    E = ccl.background.h_over_h0(cosmo, a)\n",
    "    return ((1.+z)**2)*(da**2)*ccl.physical_constants.CLIGHT_HMPC/cosmo['h']/E "
   ]
  },
  {
   "cell_type": "code",
   "execution_count": 18,
   "id": "57079b48",
   "metadata": {},
   "outputs": [
    {
     "data": {
      "text/plain": [
       "(5181343437.211351, 5181928585.256843)"
      ]
     },
     "execution_count": 18,
     "metadata": {},
     "output_type": "execute_result"
    }
   ],
   "source": [
    "### Sanity check - comparison to the volume computed with Astropy\n",
    "dV_over_dOmega_dz(0.3), cosmo_ss.differential_comoving_volume(0.3).value "
   ]
  },
  {
   "cell_type": "markdown",
   "id": "cb346b23",
   "metadata": {},
   "source": [
    "### CCL mass functions"
   ]
  },
  {
   "cell_type": "code",
   "execution_count": 19,
   "id": "ff64d0b3",
   "metadata": {},
   "outputs": [],
   "source": [
    "massdef = ccl.halos.massdef.MassDef(200, 'critical',)\n",
    "def tinker08(logm, z):\n",
    "    mass = 10**(logm)\n",
    "    hmf_200c = ccl.halos.hmfunc.MassFuncTinker08(mass_def=massdef)\n",
    "    nm = hmf_200c.__call__(cosmo, mass, 1./(1+z))\n",
    "    return nm # dn/dlog10M\n",
    "\n",
    "def bocquet16(logm, z):\n",
    "    mass = 10**(logm)\n",
    "    hmf_200c = ccl.halos.hmfunc.MassFuncBocquet16(mass_def=massdef)\n",
    "    nm = hmf_200c.__call__(cosmo, mass, 1./(1+z))\n",
    "    return nm # dn/dlog10M\n",
    "\n",
    "def despali16(logm, z):\n",
    "    mass = 10**(logm)\n",
    "    hmf_200c = ccl.halos.hmfunc.MassFuncDespali16(mass_def=massdef)\n",
    "    nm = hmf_200c.__call__(cosmo, mass, 1./(1+z))\n",
    "    return nm # dn/dlog10M\n",
    "\n",
    "def watson13(logm, z):\n",
    "    mass = 10**(logm)\n",
    "    hmf_200c = ccl.halos.hmfunc.MassFuncWatson13(mass_def=massdef)\n",
    "    nm = hmf_200c.__call__(cosmo, mass, 1./(1+z))\n",
    "    return nm # dn/dlog10M"
   ]
  },
  {
   "cell_type": "code",
   "execution_count": 20,
   "id": "a6b8f83c",
   "metadata": {},
   "outputs": [],
   "source": [
    "def integrand_tinker08(logm,z):\n",
    "    return tinker08(logm, z)*dV_over_dOmega_dz(z)\n",
    "\n",
    "def integrand_bocquet16(logm,z):\n",
    "    return bocquet16(logm, z)*dV_over_dOmega_dz(z)\n",
    "\n",
    "def integrand_despali16(logm,z):\n",
    "    return despali16(logm, z)*dV_over_dOmega_dz(z)\n",
    "\n",
    "def integrand_watson13(logm,z):\n",
    "    return watson13(logm, z)*dV_over_dOmega_dz(z)"
   ]
  },
  {
   "cell_type": "markdown",
   "id": "94dfc75a",
   "metadata": {},
   "source": [
    "### Solid angle of the `small` catalog = 50 deg2\n",
    "\n",
    "Need to check if it is exactly 50 deg2 or if this has been rounded"
   ]
  },
  {
   "cell_type": "code",
   "execution_count": 21,
   "id": "307bc911",
   "metadata": {},
   "outputs": [],
   "source": [
    "DeltaOmega = 50 * np.pi**2/180**2"
   ]
  },
  {
   "cell_type": "code",
   "execution_count": 22,
   "id": "d90229ba",
   "metadata": {},
   "outputs": [],
   "source": [
    "N_predicted_T08 = []\n",
    "\n",
    "# Loop over mass bins defined by plt.hist and predict the corresponding number of haloes\n",
    "# for Tinker 08\n",
    "for i in np.arange(len(hist[0])):\n",
    "    logmmin = np.log10(10**hist[1][i]) \n",
    "    logmmax = np.log10(10**hist[1][i+1])\n",
    "    N_T08 = scipy.integrate.dblquad(integrand_tinker08, zmin, zmax, lambda x:logmmin, lambda x:logmmax, epsabs=1.e-4, epsrel=1.e-4)\n",
    "    N_predicted_T08.append(N_T08[0]) "
   ]
  },
  {
   "cell_type": "code",
   "execution_count": 23,
   "id": "2b81b5e5",
   "metadata": {},
   "outputs": [],
   "source": [
    "N_predicted_B16 = []\n",
    "\n",
    "# Loop over mass bins defined by plt.hist and predict the corresponding number of haloes\n",
    "# for Bocquet 16\n",
    "for i in np.arange(len(hist[0])):\n",
    "    logmmin = np.log10(10**hist[1][i]) # Msun\n",
    "    logmmax = np.log10(10**hist[1][i+1]) # Msun\n",
    "    N_B16 = scipy.integrate.dblquad(integrand_bocquet16, zmin, zmax, lambda x:logmmin, lambda x:logmmax, epsabs=1.e-5, epsrel=1.e-4)\n",
    "    N_predicted_B16.append(N_B16[0]) "
   ]
  },
  {
   "cell_type": "code",
   "execution_count": 24,
   "id": "756a20de-0733-478a-acbc-271ad771f355",
   "metadata": {},
   "outputs": [],
   "source": [
    "N_predicted_D16 = []\n",
    "\n",
    "# Loop over mass bins defined by plt.hist and predict the corresponding number of haloes\n",
    "# for Bocquet 16\n",
    "for i in np.arange(len(hist[0])):\n",
    "    logmmin = np.log10(10**hist[1][i]) # Msun\n",
    "    logmmax = np.log10(10**hist[1][i+1]) # Msun\n",
    "    N_D16 = scipy.integrate.dblquad(integrand_despali16, zmin, zmax, lambda x:logmmin, lambda x:logmmax, epsabs=1.e-5, epsrel=1.e-4)\n",
    "    N_predicted_D16.append(N_D16[0]) "
   ]
  },
  {
   "cell_type": "code",
   "execution_count": 25,
   "id": "e4051527-d30e-4814-a9b9-c7b34ff8a63d",
   "metadata": {},
   "outputs": [],
   "source": [
    "N_predicted_W13 = []\n",
    "\n",
    "# Loop over mass bins defined by plt.hist and predict the corresponding number of haloes\n",
    "# for Bocquet 16\n",
    "for i in np.arange(len(hist[0])):\n",
    "    logmmin = np.log10(10**hist[1][i]) # Msun\n",
    "    logmmax = np.log10(10**hist[1][i+1]) # Msun\n",
    "    N_W13 = scipy.integrate.dblquad(integrand_watson13, zmin, zmax, lambda x:logmmin, lambda x:logmmax, epsabs=1.e-5, epsrel=1.e-4)\n",
    "    N_predicted_W13.append(N_W13[0]) "
   ]
  },
  {
   "cell_type": "markdown",
   "id": "b64111c4",
   "metadata": {},
   "source": [
    "## Plot measured versus predicted number of haloes"
   ]
  },
  {
   "cell_type": "code",
   "execution_count": 29,
   "id": "ce1024e0",
   "metadata": {},
   "outputs": [
    {
     "data": {
      "text/plain": [
       "<Figure size 1000x600 with 0 Axes>"
      ]
     },
     "metadata": {},
     "output_type": "display_data"
    },
    {
     "data": {
      "image/png": "[encoded data removed]",
      "text/plain": [
       "<Figure size 640x480 with 1 Axes>"
      ]
     },
     "metadata": {},
     "output_type": "display_data"
    }
   ],
   "source": [
    "plt.figure(figsize=(10,6))\n",
    "hist = np.histogram(np.log10(data), bins=nbins)\n",
    "bin_centers=[(hist[1][i]+hist[1][i+1])/2. for i in np.arange(len(hist[0]))]\n",
    "val_hist = hist[0]\n",
    "plt.figure()\n",
    "plt.title('0.2 < z < 1')\n",
    "plt.errorbar(bin_centers,np.array(N_predicted_T08)*DeltaOmega/val_hist, #(np.array(N_predicted_T08)*DeltaOmega)**.5, \n",
    "             marker = '.', label='T08, CCL')\n",
    "plt.errorbar(bin_centers,np.array(N_predicted_B16)*DeltaOmega/val_hist, #(np.array(N_predicted_B16)*DeltaOmega)**.5, \n",
    "             marker = '.', label='B16, CCL')\n",
    "plt.errorbar(bin_centers,np.array(N_predicted_D16)*DeltaOmega/val_hist, #(np.array(N_predicted_B16)*DeltaOmega)**.5, \n",
    "             marker = '.', label='D16, CCL')\n",
    "plt.errorbar(bin_centers,np.array(N_predicted_W13)*DeltaOmega/val_hist, #(np.array(N_predicted_B16)*DeltaOmega)**.5, \n",
    "             marker = '.', label='W13, CCL')\n",
    "plt.legend(fontsize=12)\n",
    "#plt.yscale('log')\n",
    "plt.xlabel('$\\log_{10}M_{200c}$ [M$_\\odot$]', size=14)\n",
    "plt.ylabel(r'$N_{\\rm th}/N_{\\rm obs}$', size=14)\n",
    "plt.savefig(f'../fig/cosmoDC2_hmf.png', dpi = 300,bbox_inches='tight',)"
   ]
  },
  {
   "cell_type": "code",
   "execution_count": null,
   "id": "16ceb37d-9364-461a-b956-fac2dc042f15",
   "metadata": {},
   "outputs": [],
   "source": []
  },
  {
   "cell_type": "code",
   "execution_count": null,
   "id": "345687ed-bde7-4f27-aff2-54ff5c751834",
   "metadata": {},
   "outputs": [],
   "source": []
  }
 ],
 "metadata": {
  "kernelspec": {
   "display_name": "myenv",
   "language": "python",
   "name": "myenv"
  },
  "language_info": {
   "codemirror_mode": {
    "name": "ipython",
    "version": 3
   },
   "file_extension": ".py",
   "mimetype": "text/x-python",
   "name": "python",
   "nbconvert_exporter": "python",
   "pygments_lexer": "ipython3",
   "version": "3.10.10"
  }
 },
 "nbformat": 4,
 "nbformat_minor": 5
}
