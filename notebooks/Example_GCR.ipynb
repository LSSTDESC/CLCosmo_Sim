{
 "cells": [
  {
   "cell_type": "code",
   "execution_count": 1,
   "id": "2dd8ac07-7619-4b58-a68d-a7142d20791e",
   "metadata": {},
   "outputs": [],
   "source": [
    "%load_ext autoreload\n",
    "%autoreload 2\n",
    "import warnings\n",
    "warnings.filterwarnings('ignore')\n",
    "import sys\n",
    "import numpy as np\n",
    "import matplotlib.pyplot as plt\n",
    "import GCRCatalogs\n",
    "import healpy\n",
    "import pickle,sys\n",
    "import clmm\n",
    "from clmm.dataops import compute_galaxy_weights\n",
    "from clmm import Cosmology\n",
    "from scipy.integrate import simps\n",
    "cosmo = Cosmology(H0 = 71.0, Omega_dm0 = 0.265 - 0.0448, Omega_b0 = 0.0448, Omega_k0 = 0.0)"
   ]
  },
  {
   "cell_type": "code",
   "execution_count": 2,
   "id": "d9b6e844-0f30-4e5a-8d11-b48a02101237",
   "metadata": {},
   "outputs": [],
   "source": [
    "sys.path.append('../lensing_profile_measurement')\n",
    "import _utils_lensing_profiles"
   ]
  },
  {
   "cell_type": "code",
   "execution_count": 3,
   "id": "1f53a986-b9c9-4144-9406-af3fb74739ef",
   "metadata": {},
   "outputs": [],
   "source": [
    "sys.path.append('../extract_DC2_data')\n",
    "import _utils_photometric_redshifts\n",
    "import _utils_extract_sources_in_cosmoDC2\n",
    "import _config_lensing_profiles\n",
    "from astropy.table import QTable, Table, vstack, join, hstack"
   ]
  },
  {
   "cell_type": "markdown",
   "id": "3f177a20-1e7e-4989-9c08-47b047ea9c03",
   "metadata": {},
   "source": [
    "## Cosmodc2 with qserv & GCRCatalogs"
   ]
  },
  {
   "cell_type": "code",
   "execution_count": 4,
   "id": "d70627d6-41c7-48b3-8f0d-3fa589fe41e5",
   "metadata": {},
   "outputs": [],
   "source": [
    "#cluster\n",
    "path_to_data = '../../CLCosmo_Sim_database/data/'\n",
    "lens_cat = np.load(path_to_data + 'lens_catalog_cosmoDC2_v1.1.4_redmapper_v0.8.1.pkl', allow_pickle = True)\n",
    "mask = (lens_cat['richness'] > 20)&(lens_cat['redshift'] > .2)&(lens_cat['ra'] > 62)&(lens_cat['ra'] < 66)\n",
    "mask = mask & (lens_cat['dec'] > -46)&(lens_cat['dec'] < -36)\n",
    "index = 3\n",
    "z, ra, dec, richness = lens_cat['redshift'][mask][index], lens_cat['ra'][mask][index], lens_cat['dec'][mask][index], lens_cat['richness'][mask][index]"
   ]
  },
  {
   "cell_type": "code",
   "execution_count": 5,
   "id": "9dd38be3-4ee3-4546-a076-a5ecbf5122ac",
   "metadata": {},
   "outputs": [
    {
     "data": {
      "text/plain": [
       "(0.51097435, 64.8821969106186, -37.97965849236901, 51.901634)"
      ]
     },
     "execution_count": 5,
     "metadata": {},
     "output_type": "execute_result"
    }
   ],
   "source": [
    "z, ra, dec, richness"
   ]
  },
  {
   "cell_type": "code",
   "execution_count": 6,
   "id": "8dbaa158-8c80-4104-ab28-5caa90f7d4ba",
   "metadata": {},
   "outputs": [],
   "source": [
    "def gcr_catalog_quantity(ra, dec, z):\n",
    "    ra_min, ra_max = ra - 0.2, ra + 0.2\n",
    "    dec_min, dec_max = dec - 0.2, dec + 0.2\n",
    "    ra_random = np.random.random(100)*(ra_max - ra_min) + ra_min\n",
    "    dec_random = np.random.random(100)*(dec_max - dec_min) + dec_min\n",
    "    unique_healpix = np.unique(healpy.ang2pix(32, ra_random, dec_random, nest=False, lonlat=True))\n",
    "    z_min = 0\n",
    "    mag_i_max = 25\n",
    "    \n",
    "    coord_filters = [\n",
    "        \"ra >= {}\".format(ra_min),\n",
    "        \"ra < {}\".format(ra_max),\n",
    "        \"dec >= {}\".format(dec_min),\n",
    "        \"dec < {}\".format(dec_max),\n",
    "    ]\n",
    "    z_filters = [\"redshift >= {}\".format(z_min)]\n",
    "    mag_filters = [\"mag_i < {}\".format(mag_i_max)]\n",
    "\n",
    "    filters = (coord_filters + z_filters + mag_filters)\n",
    "\n",
    "    quantity_wanted = [\"galaxy_id\", \"ra\", \"dec\", \"shear_1\", \"shear_2\", \"redshift\", \"convergence\", \"mag_u\", \"mag_g\"]\n",
    "    quantity_wanted += [\"mag_r\", \"mag_i\", \"mag_z\"]\n",
    "    return unique_healpix, filters, quantity_wanted"
   ]
  },
  {
   "cell_type": "code",
   "execution_count": 7,
   "id": "b45b2635-f649-4e33-a587-85c84331ab59",
   "metadata": {},
   "outputs": [],
   "source": [
    "unique_healpix, filters, quantity_wanted = gcr_catalog_quantity(ra, dec, z)\n"
   ]
  },
  {
   "cell_type": "code",
   "execution_count": 8,
   "id": "ba40b269-a281-4b32-92dd-190a96b8f492",
   "metadata": {},
   "outputs": [],
   "source": [
    "extragalactic_cat = GCRCatalogs.load_catalog(\"cosmoDC2_v1.1.4_small\")\n",
    "hp_list = extragalactic_cat.get_catalog_info()['healpix_pixels']"
   ]
  },
  {
   "cell_type": "markdown",
   "id": "b5105140-d77d-4d31-8ece-287da73cdfaa",
   "metadata": {},
   "source": [
    "### true shapes, true redshifts"
   ]
  },
  {
   "cell_type": "code",
   "execution_count": 9,
   "id": "55080e17-9b75-4c1c-995b-3a028ccb1a76",
   "metadata": {},
   "outputs": [
    {
     "name": "stdout",
     "output_type": "stream",
     "text": [
      "20349\n"
     ]
    }
   ],
   "source": [
    "for i, hp in enumerate(unique_healpix):\n",
    "    tab = extragalactic_cat.get_quantities(\n",
    "    quantity_wanted,\n",
    "    filters=filters,native_filters=['healpix_pixel=='+str(hp)])\n",
    "    print(len(tab['shear_1']))\n",
    "    if i==0:\n",
    "        bckgd_galaxy_catalog_truth = tab\n",
    "    else:\n",
    "        bckgd_galaxy_catalog_truth = vstack([bckgd_galaxy_catalog_truth, tab])"
   ]
  },
  {
   "cell_type": "markdown",
   "id": "b90d509e-0807-4e05-b3d8-90945d5a5207",
   "metadata": {},
   "source": [
    "### Photometric redshifts"
   ]
  },
  {
   "cell_type": "code",
   "execution_count": 10,
   "id": "5f1c3d5e-20af-49d0-ae6d-b9337be8ea72",
   "metadata": {},
   "outputs": [],
   "source": [
    "gc_bpz  = \"cosmoDC2_v1.1.4_image_with_photozs_v1\"\n",
    "gc_flex = \"cosmoDC2_v1.1.4_image_with_photozs_flexzboost_v1\"\n",
    "healpix_dc2 = GCRCatalogs.load_catalog(\"cosmoDC2_v1.1.4_image\").get_catalog_info()['healpix_pixels']\n",
    "z_bins  = GCRCatalogs.load_catalog(gc_flex).photoz_pdf_bin_centers\n",
    "z_bins[0] = 1e-7\n",
    "photoz_gc=[gc_bpz, gc_flex]\n",
    "photoz_label=['_bpz', '_flex']"
   ]
  },
  {
   "cell_type": "code",
   "execution_count": 11,
   "id": "5bdf562c-fe12-44f1-91fe-d53a52947747",
   "metadata": {},
   "outputs": [],
   "source": [
    "def query_photoz():\n",
    "    return ['photoz_pdf', 'photoz_mean','photoz_mode','photoz_odds','galaxy_id']"
   ]
  },
  {
   "cell_type": "code",
   "execution_count": 12,
   "id": "2641d2bb-75d5-4ee7-a13a-30a1ae068a08",
   "metadata": {},
   "outputs": [
    {
     "name": "stdout",
     "output_type": "stream",
     "text": [
      "extracting photoz redshift infos (GCRCatalogs)\n",
      "[9815]\n",
      "----> extraction in cosmoDC2_v1.1.4_image_with_photozs_v1\n",
      "-----> heapix pixel = 9815\n",
      "<generator object BaseGenericCatalog._get_quantities_iter at 0x7f90313fb760>\n",
      "chunk = 0\n",
      "full healpix = 824330\n",
      "truncated healpix = 14497\n"
     ]
    },
    {
     "name": "stderr",
     "output_type": "stream",
     "text": [
      "/pbs/home/c/cpayerne/.conda/envs/myenv/lib/python3.10/site-packages/clmm-1.10.0-py3.10.egg/clmm/cosmology/parent_class.py:454: UserWarning: \n",
      "Some source redshifts are lower than the cluster redshift.\n",
      "Sigma_crit = np.inf for those galaxies.\n",
      "/pbs/home/c/cpayerne/.conda/envs/myenv/lib/python3.10/site-packages/clmm-1.10.0-py3.10.egg/clmm/cosmology/parent_class.py:454: UserWarning: \n",
      "Some source redshifts are lower than the cluster redshift.\n",
      "Sigma_crit = np.inf for those galaxies.\n",
      "/pbs/home/c/cpayerne/.conda/envs/myenv/lib/python3.10/site-packages/clmm-1.10.0-py3.10.egg/clmm/cosmology/parent_class.py:454: UserWarning: \n",
      "Some source redshifts are lower than the cluster redshift.\n",
      "Sigma_crit = np.inf for those galaxies.\n",
      "/pbs/home/c/cpayerne/.conda/envs/myenv/lib/python3.10/site-packages/clmm-1.10.0-py3.10.egg/clmm/cosmology/parent_class.py:454: UserWarning: \n",
      "Some source redshifts are lower than the cluster redshift.\n",
      "Sigma_crit = np.inf for those galaxies.\n"
     ]
    },
    {
     "name": "stdout",
     "output_type": "stream",
     "text": [
      "chunk = 1\n",
      "full healpix = 617172\n",
      "truncated healpix = 5445\n"
     ]
    },
    {
     "name": "stderr",
     "output_type": "stream",
     "text": [
      "/pbs/home/c/cpayerne/.conda/envs/myenv/lib/python3.10/site-packages/clmm-1.10.0-py3.10.egg/clmm/cosmology/parent_class.py:454: UserWarning: \n",
      "Some source redshifts are lower than the cluster redshift.\n",
      "Sigma_crit = np.inf for those galaxies.\n",
      "/pbs/home/c/cpayerne/.conda/envs/myenv/lib/python3.10/site-packages/clmm-1.10.0-py3.10.egg/clmm/cosmology/parent_class.py:454: UserWarning: \n",
      "Some source redshifts are lower than the cluster redshift.\n",
      "Sigma_crit = np.inf for those galaxies.\n",
      "/pbs/home/c/cpayerne/.conda/envs/myenv/lib/python3.10/site-packages/clmm-1.10.0-py3.10.egg/clmm/cosmology/parent_class.py:454: UserWarning: \n",
      "Some source redshifts are lower than the cluster redshift.\n",
      "Sigma_crit = np.inf for those galaxies.\n",
      "/pbs/home/c/cpayerne/.conda/envs/myenv/lib/python3.10/site-packages/clmm-1.10.0-py3.10.egg/clmm/cosmology/parent_class.py:454: UserWarning: \n",
      "Some source redshifts are lower than the cluster redshift.\n",
      "Sigma_crit = np.inf for those galaxies.\n"
     ]
    },
    {
     "name": "stdout",
     "output_type": "stream",
     "text": [
      "chunk = 2\n",
      "full healpix = 140978\n",
      "truncated healpix = 407\n",
      "----> extraction in cosmoDC2_v1.1.4_image_with_photozs_flexzboost_v1\n"
     ]
    },
    {
     "name": "stderr",
     "output_type": "stream",
     "text": [
      "/pbs/home/c/cpayerne/.conda/envs/myenv/lib/python3.10/site-packages/clmm-1.10.0-py3.10.egg/clmm/cosmology/parent_class.py:454: UserWarning: \n",
      "Some source redshifts are lower than the cluster redshift.\n",
      "Sigma_crit = np.inf for those galaxies.\n",
      "/pbs/home/c/cpayerne/.conda/envs/myenv/lib/python3.10/site-packages/clmm-1.10.0-py3.10.egg/clmm/cosmology/parent_class.py:454: UserWarning: \n",
      "Some source redshifts are lower than the cluster redshift.\n",
      "Sigma_crit = np.inf for those galaxies.\n",
      "/pbs/home/c/cpayerne/.conda/envs/myenv/lib/python3.10/site-packages/clmm-1.10.0-py3.10.egg/clmm/cosmology/parent_class.py:454: UserWarning: \n",
      "Some source redshifts are lower than the cluster redshift.\n",
      "Sigma_crit = np.inf for those galaxies.\n",
      "/pbs/home/c/cpayerne/.conda/envs/myenv/lib/python3.10/site-packages/clmm-1.10.0-py3.10.egg/clmm/cosmology/parent_class.py:454: UserWarning: \n",
      "Some source redshifts are lower than the cluster redshift.\n",
      "Sigma_crit = np.inf for those galaxies.\n"
     ]
    },
    {
     "name": "stdout",
     "output_type": "stream",
     "text": [
      "-----> heapix pixel = 9815\n",
      "<generator object BaseGenericCatalog._get_quantities_iter at 0x7f9031c27760>\n",
      "chunk = 0\n",
      "full healpix = 824330\n",
      "truncated healpix = 14497\n"
     ]
    },
    {
     "name": "stderr",
     "output_type": "stream",
     "text": [
      "/pbs/home/c/cpayerne/.conda/envs/myenv/lib/python3.10/site-packages/clmm-1.10.0-py3.10.egg/clmm/cosmology/parent_class.py:454: UserWarning: \n",
      "Some source redshifts are lower than the cluster redshift.\n",
      "Sigma_crit = np.inf for those galaxies.\n",
      "/pbs/home/c/cpayerne/.conda/envs/myenv/lib/python3.10/site-packages/clmm-1.10.0-py3.10.egg/clmm/cosmology/parent_class.py:454: UserWarning: \n",
      "Some source redshifts are lower than the cluster redshift.\n",
      "Sigma_crit = np.inf for those galaxies.\n",
      "/pbs/home/c/cpayerne/.conda/envs/myenv/lib/python3.10/site-packages/clmm-1.10.0-py3.10.egg/clmm/cosmology/parent_class.py:454: UserWarning: \n",
      "Some source redshifts are lower than the cluster redshift.\n",
      "Sigma_crit = np.inf for those galaxies.\n",
      "/pbs/home/c/cpayerne/.conda/envs/myenv/lib/python3.10/site-packages/clmm-1.10.0-py3.10.egg/clmm/cosmology/parent_class.py:454: UserWarning: \n",
      "Some source redshifts are lower than the cluster redshift.\n",
      "Sigma_crit = np.inf for those galaxies.\n"
     ]
    },
    {
     "name": "stdout",
     "output_type": "stream",
     "text": [
      "chunk = 1\n",
      "full healpix = 617172\n",
      "truncated healpix = 5445\n"
     ]
    },
    {
     "name": "stderr",
     "output_type": "stream",
     "text": [
      "/pbs/home/c/cpayerne/.conda/envs/myenv/lib/python3.10/site-packages/clmm-1.10.0-py3.10.egg/clmm/cosmology/parent_class.py:454: UserWarning: \n",
      "Some source redshifts are lower than the cluster redshift.\n",
      "Sigma_crit = np.inf for those galaxies.\n",
      "/pbs/home/c/cpayerne/.conda/envs/myenv/lib/python3.10/site-packages/clmm-1.10.0-py3.10.egg/clmm/cosmology/parent_class.py:454: UserWarning: \n",
      "Some source redshifts are lower than the cluster redshift.\n",
      "Sigma_crit = np.inf for those galaxies.\n",
      "/pbs/home/c/cpayerne/.conda/envs/myenv/lib/python3.10/site-packages/clmm-1.10.0-py3.10.egg/clmm/cosmology/parent_class.py:454: UserWarning: \n",
      "Some source redshifts are lower than the cluster redshift.\n",
      "Sigma_crit = np.inf for those galaxies.\n"
     ]
    },
    {
     "name": "stdout",
     "output_type": "stream",
     "text": [
      "chunk = 2\n",
      "full healpix = 140978\n",
      "truncated healpix = 407\n"
     ]
    },
    {
     "name": "stderr",
     "output_type": "stream",
     "text": [
      "/pbs/home/c/cpayerne/.conda/envs/myenv/lib/python3.10/site-packages/clmm-1.10.0-py3.10.egg/clmm/cosmology/parent_class.py:454: UserWarning: \n",
      "Some source redshifts are lower than the cluster redshift.\n",
      "Sigma_crit = np.inf for those galaxies.\n",
      "/pbs/home/c/cpayerne/.conda/envs/myenv/lib/python3.10/site-packages/clmm-1.10.0-py3.10.egg/clmm/cosmology/parent_class.py:454: UserWarning: \n",
      "Some source redshifts are lower than the cluster redshift.\n",
      "Sigma_crit = np.inf for those galaxies.\n",
      "/pbs/home/c/cpayerne/.conda/envs/myenv/lib/python3.10/site-packages/clmm-1.10.0-py3.10.egg/clmm/cosmology/parent_class.py:454: UserWarning: \n",
      "Some source redshifts are lower than the cluster redshift.\n",
      "Sigma_crit = np.inf for those galaxies.\n",
      "/pbs/home/c/cpayerne/.conda/envs/myenv/lib/python3.10/site-packages/clmm-1.10.0-py3.10.egg/clmm/cosmology/parent_class.py:454: UserWarning: \n",
      "Some source redshifts are lower than the cluster redshift.\n",
      "Sigma_crit = np.inf for those galaxies.\n"
     ]
    }
   ],
   "source": [
    "#extract photometric redshifts with GCRCatalogs\n",
    "print('extracting photoz redshift infos (GCRCatalogs)')\n",
    "id_gal=bckgd_galaxy_catalog_truth['galaxy_id']\n",
    "ras=bckgd_galaxy_catalog_truth['ra']\n",
    "decs=bckgd_galaxy_catalog_truth['dec']\n",
    "#find all different healpix pixels\n",
    "healpix = np.array(np.unique(healpy.ang2pix(32, ras, decs, nest=False, lonlat=True)))\n",
    "print(healpix)\n",
    "table_photoz = Table()\n",
    "table_photoz['galaxy_id'] = id_gal\n",
    "for k, gc_ in enumerate(photoz_gc):\n",
    "    print(f'----> extraction in {gc_}')\n",
    "    pz_table = Table(names = ['sigmac_photoz', 'p_background', 'photoz_dispersion', \n",
    "                          'sigmac_estimate_0', 'sigmac_estimate_1', 'sigmac_estimate_2', \n",
    "                          'z_estimate_0', 'z_estimate_1', 'z_estimate_2', \n",
    "                          'galaxy_id', 'photoz_mean', 'photoz_mode', 'photoz_odds'])\n",
    "    photoz_gc_ = GCRCatalogs.load_catalog(gc_)\n",
    "    for i, hp in enumerate(healpix):\n",
    "        #browse healpix pixels\n",
    "        print(f'-----> heapix pixel = ' + str(hp))\n",
    "        chunk = photoz_gc_.get_quantities(query_photoz(), native_filters=[f'healpix_pixel=={hp}'], return_iterator=True)\n",
    "        print(chunk)\n",
    "        for j in range(3):\n",
    "            #browse chunk data\n",
    "            print('chunk = ' + str(j))\n",
    "            try: \n",
    "                dat_extract_photoz_chunk = Table(next(chunk))\n",
    "            except: \n",
    "                print('no chunk')\n",
    "                continue\n",
    "            print(f'full healpix = ' + str(len(dat_extract_photoz_chunk['galaxy_id'])))\n",
    "            #use only selected galaxies\n",
    "            dat_extract_photoz_chunk_truncated = dat_extract_photoz_chunk[np.isin(dat_extract_photoz_chunk['galaxy_id'],\n",
    "                                                                                  table_photoz['galaxy_id'])]\n",
    "           # if len(dat_extract_photoz_chunk_truncated['galaxy_id']) == 0: continue\n",
    "\n",
    "            print('truncated healpix = ' + str(len(dat_extract_photoz_chunk_truncated['galaxy_id'])))\n",
    "            pzbins_table=np.array([z_bins for i in range(len(dat_extract_photoz_chunk_truncated['photoz_pdf'].data))])\n",
    "\n",
    "            #compute WL weights with \n",
    "            pz_quantities_chunk = _utils_photometric_redshifts.compute_photoz_quantities(z, dat_extract_photoz_chunk_truncated['photoz_pdf'], \n",
    "                                                                   pzbins_table, n_samples_per_pdf=3, cosmo=cosmo,\n",
    "                                                                   use_clmm=False)\n",
    "            pz_quantities_chunk['galaxy_id'] = dat_extract_photoz_chunk_truncated['galaxy_id']\n",
    "            pz_quantities_chunk['photoz_mean'] = dat_extract_photoz_chunk_truncated['photoz_mean']\n",
    "            pz_quantities_chunk['photoz_mode'] = dat_extract_photoz_chunk_truncated['photoz_mode']\n",
    "            pz_quantities_chunk['photoz_odds'] = dat_extract_photoz_chunk_truncated['photoz_odds']\n",
    "            pz_table = vstack([pz_table, pz_quantities_chunk])\n",
    "    colnames = pz_table.colnames\n",
    "    for name in colnames:\n",
    "        if name!='galaxy_id':\n",
    "            pz_table.rename_column(name, name + photoz_label[k])\n",
    "    bckgd_galaxy_catalog_truth = join(Table(bckgd_galaxy_catalog_truth), pz_table, keys='galaxy_id')"
   ]
  },
  {
   "cell_type": "code",
   "execution_count": 13,
   "id": "4bc734dc-43a1-41e1-9acb-fc4c739ce02d",
   "metadata": {},
   "outputs": [
    {
     "data": {
      "text/plain": [
       "['galaxy_id',\n",
       " 'dec',\n",
       " 'mag_z',\n",
       " 'shear_2',\n",
       " 'redshift',\n",
       " 'convergence',\n",
       " 'ra',\n",
       " 'mag_g',\n",
       " 'shear_1',\n",
       " 'mag_u',\n",
       " 'mag_r',\n",
       " 'mag_i',\n",
       " 'sigmac_photoz_bpz',\n",
       " 'p_background_bpz',\n",
       " 'photoz_dispersion_bpz',\n",
       " 'sigmac_estimate_0_bpz',\n",
       " 'sigmac_estimate_1_bpz',\n",
       " 'sigmac_estimate_2_bpz',\n",
       " 'z_estimate_0_bpz',\n",
       " 'z_estimate_1_bpz',\n",
       " 'z_estimate_2_bpz',\n",
       " 'photoz_mean_bpz',\n",
       " 'photoz_mode_bpz',\n",
       " 'photoz_odds_bpz',\n",
       " 'sigmac_photoz_flex',\n",
       " 'p_background_flex',\n",
       " 'photoz_dispersion_flex',\n",
       " 'sigmac_estimate_0_flex',\n",
       " 'sigmac_estimate_1_flex',\n",
       " 'sigmac_estimate_2_flex',\n",
       " 'z_estimate_0_flex',\n",
       " 'z_estimate_1_flex',\n",
       " 'z_estimate_2_flex',\n",
       " 'photoz_mean_flex',\n",
       " 'photoz_mode_flex',\n",
       " 'photoz_odds_flex']"
      ]
     },
     "execution_count": 13,
     "metadata": {},
     "output_type": "execute_result"
    }
   ],
   "source": [
    "bckgd_galaxy_catalog_truth.colnames"
   ]
  },
  {
   "cell_type": "code",
   "execution_count": 14,
   "id": "a1db696f-97ba-4dbe-bfd1-70db3e75af49",
   "metadata": {},
   "outputs": [
    {
     "data": {
      "image/png": "[encoded data removed]",
      "text/plain": [
       "<Figure size 640x480 with 1 Axes>"
      ]
     },
     "metadata": {},
     "output_type": "display_data"
    }
   ],
   "source": [
    "plt.hist(bckgd_galaxy_catalog_truth['redshift'], bins=20)\n",
    "plt.xlabel('redshift')\n",
    "plt.show()"
   ]
  },
  {
   "cell_type": "code",
   "execution_count": null,
   "id": "b2e8cf1d-6995-4e67-98a8-424ddb9945f0",
   "metadata": {},
   "outputs": [],
   "source": []
  }
 ],
 "metadata": {
  "kernelspec": {
   "display_name": "myenv",
   "language": "python",
   "name": "myenv"
  },
  "language_info": {
   "codemirror_mode": {
    "name": "ipython",
    "version": 3
   },
   "file_extension": ".py",
   "mimetype": "text/x-python",
   "name": "python",
   "nbconvert_exporter": "python",
   "pygments_lexer": "ipython3",
   "version": "3.10.10"
  }
 },
 "nbformat": 4,
 "nbformat_minor": 5
}
