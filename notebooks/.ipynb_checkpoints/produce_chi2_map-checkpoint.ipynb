{
 "cells": [
  {
   "cell_type": "code",
   "execution_count": 70,
   "metadata": {},
   "outputs": [],
   "source": [
    "import pyccl as ccl\n",
    "import matplotlib.pyplot as plt\n",
    "import numpy as np\n",
    "import scipy\n",
    "from scipy import stats\n",
    "from scipy.integrate import quad,simps, dblquad\n",
    "from astropy import units as u\n",
    "import itertools\n",
    "from astropy import constants as const\n",
    "from scipy import interpolate\n",
    "import emcee\n",
    "import iminuit\n",
    "from iminuit import Minuit\n",
    "from scipy.special import gamma\n",
    "import pickle as pkl\n",
    "from astropy.cosmology import FlatLambdaCDM"
   ]
  },
  {
   "cell_type": "code",
   "execution_count": 71,
   "metadata": {},
   "outputs": [],
   "source": [
    "import cluster_abundance_observed as obs"
   ]
  },
  {
   "cell_type": "code",
   "execution_count": 72,
   "metadata": {},
   "outputs": [
    {
     "data": {
      "text/plain": [
       "0.71"
      ]
     },
     "execution_count": 72,
     "metadata": {},
     "output_type": "execute_result"
    }
   ],
   "source": [
    "cosmo_DC2 = ccl.Cosmology(Omega_c=0.265, Omega_b=0.0448,h=0.71, n_s=0.96, sigma8=0.8)\n",
    "cosmo_DC2['h']"
   ]
  },
  {
   "cell_type": "markdown",
   "metadata": {},
   "source": [
    "### Select Available DC2 data"
   ]
  },
  {
   "cell_type": "code",
   "execution_count": 73,
   "metadata": {},
   "outputs": [],
   "source": [
    "\n",
    "def load(filename, **kwargs):\n",
    "\n",
    "    with open(filename, 'rb') as fin:\n",
    "        \n",
    "        return pkl.load(fin, **kwargs)\n",
    "    \n",
    "cluster =load('/pbs/throng/lsst/users/cpayerne/ThesisAtCCin2p3/Galaxy_Cluster_Catalogs_details/cosmoDC2/SkySim5000_DM_halos_.pkl')\n",
    "M200c = cluster['baseDC2/sod_halo_mass']/0.71\n",
    "cluster['M200c'] = M200c\n",
    "redshift = cluster['redshift']"
   ]
  },
  {
   "cell_type": "code",
   "execution_count": 74,
   "metadata": {},
   "outputs": [
    {
     "name": "stderr",
     "output_type": "stream",
     "text": [
      "/pbs/home/c/cpayerne/.conda/envs/mydesc/lib/python3.7/site-packages/ipykernel_launcher.py:1: RuntimeWarning: invalid value encountered in log10\n",
      "  \"\"\"Entry point for launching an IPython kernel.\n"
     ]
    },
    {
     "data": {
      "text/plain": [
       "(array([5.14580e+04, 2.79018e+05, 1.40168e+05, 6.19960e+04, 2.45920e+04,\n",
       "        8.53600e+03, 2.30400e+03, 4.88000e+02, 8.20000e+01, 7.00000e+00]),\n",
       " array([12.41629962, 12.70216984, 12.98804007, 13.27391029, 13.55978051,\n",
       "        13.84565074, 14.13152096, 14.41739119, 14.70326141, 14.98913163,\n",
       "        15.27500186]),\n",
       " <a list of 10 Patch objects>)"
      ]
     },
     "execution_count": 74,
     "metadata": {},
     "output_type": "execute_result"
    },
    {
     "data": {
      "image/png": "[encoded data removed]",
      "text/plain": [
       "<Figure size 432x288 with 1 Axes>"
      ]
     },
     "metadata": {
      "needs_background": "light"
     },
     "output_type": "display_data"
    }
   ],
   "source": [
    "plt.hist(np.log10(M200c))"
   ]
  },
  {
   "cell_type": "markdown",
   "metadata": {},
   "source": [
    "### Define binning "
   ]
  },
  {
   "cell_type": "code",
   "execution_count": 75,
   "metadata": {},
   "outputs": [],
   "source": [
    "def binning(corner): return [[corner[i],corner[i+1]] for i in range(len(corner)-1)]\n",
    "z_corner = np.linspace(0.2, 1, 3)\n",
    "Z_bin = binning(z_corner)\n",
    "m_corner = np.logspace(14,15, 7)\n",
    "Mass_bin = binning(m_corner)"
   ]
  },
  {
   "cell_type": "code",
   "execution_count": 76,
   "metadata": {},
   "outputs": [
    {
     "name": "stderr",
     "output_type": "stream",
     "text": [
      "/pbs/home/c/cpayerne/.conda/envs/mydesc/lib/python3.7/site-packages/ipykernel_launcher.py:1: RuntimeWarning: invalid value encountered in log10\n",
      "  \"\"\"Entry point for launching an IPython kernel.\n"
     ]
    },
    {
     "data": {
      "text/plain": [
       "<matplotlib.colorbar.Colorbar at 0x7f491161fad0>"
      ]
     },
     "execution_count": 76,
     "metadata": {},
     "output_type": "execute_result"
    },
    {
     "data": {
      "image/png": "[encoded data removed]",
      "text/plain": [
       "<Figure size 432x288 with 2 Axes>"
      ]
     },
     "metadata": {
      "needs_background": "light"
     },
     "output_type": "display_data"
    }
   ],
   "source": [
    "data, mass_edges, z_edges, im  = plt.hist2d(np.log10(M200c),redshift, \n",
    "                                       bins=[np.log10(m_corner),z_corner], cmin=1);\n",
    "where_are_NaNs = np.isnan(data)\n",
    "data[where_are_NaNs] = 0\n",
    "plt.colorbar()"
   ]
  },
  {
   "cell_type": "code",
   "execution_count": 77,
   "metadata": {},
   "outputs": [
    {
     "name": "stdout",
     "output_type": "stream",
     "text": [
      "The autoreload extension is already loaded. To reload it, use:\n",
      "  %reload_ext autoreload\n"
     ]
    }
   ],
   "source": [
    "%load_ext autoreload\n",
    "\n",
    "%autoreload 2\n",
    "import cluster_abundance_observed as obs"
   ]
  },
  {
   "cell_type": "code",
   "execution_count": 78,
   "metadata": {},
   "outputs": [
    {
     "name": "stderr",
     "output_type": "stream",
     "text": [
      "/pbs/throng/lsst/users/cpayerne/ThesisAtCCin2p3/p_Cosmological_Analysis/cosmological_analysis/cluster_abundance_observed.py:23: RuntimeWarning: invalid value encountered in log10\n",
      "  data, mass_edges, z_edges, im  = plt.hist2d(np.log10(mass[index_bootstrap]),redshift[index_bootstrap],\n"
     ]
    },
    {
     "data": {
      "image/png": "[encoded data removed]",
      "text/plain": [
       "<Figure size 432x288 with 1 Axes>"
      ]
     },
     "metadata": {
      "needs_background": "light"
     },
     "output_type": "display_data"
    }
   ],
   "source": [
    "covariance, mean = obs.compute_boostrap_covariance(mass = cluster['M200c'], redshift = cluster['redshift'],\n",
    "                                z_corner = z_corner, m_corner = m_corner,\n",
    "                                n_boot = 300)"
   ]
  },
  {
   "cell_type": "code",
   "execution_count": 79,
   "metadata": {},
   "outputs": [
    {
     "name": "stdout",
     "output_type": "stream",
     "text": [
      "[1, 10, 20, 30]\n",
      "['1', '10', '20', '30']\n"
     ]
    },
    {
     "data": {
      "image/png": "[encoded data removed]",
      "text/plain": [
       "<Figure size 504x504 with 1 Axes>"
      ]
     },
     "metadata": {
      "needs_background": "light"
     },
     "output_type": "display_data"
    }
   ],
   "source": [
    "plt.figure(figsize = (7,7))\n",
    "plt.rcParams['axes.linewidth']= 2\n",
    "plt.tick_params(axis='both', which = 'major', labelsize= 15)\n",
    "y = [1, 10, 20, 30]\n",
    "\n",
    "print(y)\n",
    "y_str = [str(y[i]) for i in range(len(y))]\n",
    "print(y_str)\n",
    "plt.yticks(ticks=y, labels = y_str)\n",
    "mean_th = np.linspace(1,1000, 1000)\n",
    "plt.scatter(data.flatten(), np.sqrt(covariance.diagonal()), c = 'k', s = 200, marker = '+')\n",
    "plt.plot(mean_th, np.sqrt(mean_th), '--' , color = 'cyan', label = r'$\\sqrt{N_{\\rm cluster}}$', linewidth = 3, zorder=0)\n",
    "plt.xlabel(r'$N_{\\rm cluster}$', fontsize = 20)\n",
    "plt.ylabel(r'$Bootstrap\\ \\sqrt{C(N_{i}, N_{i})}$', fontsize = 20)\n",
    "plt.legend(fontsize = 25, frameon = False)\n",
    "plt.xlim(-50, 1000)\n",
    "#plt.ylim(np.min(np.sqrt(covariance.diagonal())), np.max(np.sqrt(covariance.diagonal())))\n",
    "plt.savefig('/pbs/throng/lsst/users/cpayerne/ThesisAtCCin2p3/Images/covariance_N_count.png', bbox_inches='tight', dpi=300)"
   ]
  },
  {
   "cell_type": "markdown",
   "metadata": {},
   "source": [
    "# Model "
   ]
  },
  {
   "cell_type": "markdown",
   "metadata": {},
   "source": [
    "## Halo mass function model $\\frac{dn}{d\\log_{10}M}$"
   ]
  },
  {
   "cell_type": "code",
   "execution_count": 80,
   "metadata": {},
   "outputs": [],
   "source": [
    "def dndlog10M(log10M,z,cosmo):\n",
    "    a =  1./(1 + z)\n",
    "    massdef = ccl.halos.massdef.MassDef(200, 'critical', c_m_relation=None)\n",
    "    hmd = ccl.halos.MassFuncBocquet16(cosmo, mass_def=massdef)\n",
    "    hmf = hmd.get_mass_function(cosmo, 10**log10M, a)\n",
    "    \n",
    "    return hmf"
   ]
  },
  {
   "cell_type": "markdown",
   "metadata": {},
   "source": [
    "## Comobile volume $\\frac{dV_c}{dzd\\Omega}$"
   ]
  },
  {
   "cell_type": "markdown",
   "metadata": {},
   "source": [
    "Following Hogg (1999) https://arxiv.org/abs/astro-ph/9905116"
   ]
  },
  {
   "cell_type": "code",
   "execution_count": 81,
   "metadata": {},
   "outputs": [],
   "source": [
    "def dVdzdOmega(z,cosmo):\n",
    "        a = 1./(1. + z)\n",
    "        da = ccl.background.angular_diameter_distance(cosmo, a) # Mpc\n",
    "        ez = ccl.background.h_over_h0(cosmo, a) \n",
    "        dh = ccl.physical_constants.CLIGHT_HMPC / cosmo['h'] # Mpc\n",
    "        #dh = 3000/cosmo['h']\n",
    "        return ( dh*da**2 ) / (ez*a**2)"
   ]
  },
  {
   "cell_type": "markdown",
   "metadata": {},
   "source": [
    "## Cluster count model $N_{ij} = 4\\pi\\frac{440}{41253}\\int_{z_i}^{z_{i+1}} \\frac{dV(z)}{dz d\\Omega}\\int_{\\log_{10}M_j}^{\\log_{10}M_{j + 1}}\\frac{dn(M,z)}{d\\log_{10}M}d\\log_{10}M$"
   ]
  },
  {
   "cell_type": "code",
   "execution_count": 82,
   "metadata": {},
   "outputs": [],
   "source": [
    "m_min, m_max = np.min(m_corner), np.max(m_corner)\n",
    "z_min, z_max = np.min(z_corner), np.max(z_corner)\n",
    "z_axis = np.linspace(z_min, z_max, 100)\n",
    "z_mid = [(z_axis[i] + z_axis[i + 1])/2 for i in range(len(z_axis)-1)]\n",
    "m_axis = np.logspace(np.log10(m_min), np.log10(m_max), 100)\n",
    "m_mid = [(m_axis[i] + m_axis[i + 1])/2 for i in range(len(m_axis)-1)]\n",
    "z_mid, logm_mid = z_axis, np.log10(m_axis)"
   ]
  },
  {
   "cell_type": "code",
   "execution_count": 83,
   "metadata": {},
   "outputs": [],
   "source": [
    "def compute_hmf_plan(z_mid, logm_mid, cosmo):\n",
    "    \n",
    "    integrand_M_z_plan = np.zeros([len(logm_mid), len(z_mid)])\n",
    "    \n",
    "    for i, z in enumerate(z_mid):\n",
    "        \n",
    "        integrand_M_z_plan[:,i] = dndlog10M(logm_mid,z,cosmo)*dVdzdOmega(z,cosmo)*(4*np.pi)*(440/41253)\n",
    "        \n",
    "    return integrand_M_z_plan"
   ]
  },
  {
   "cell_type": "code",
   "execution_count": 91,
   "metadata": {},
   "outputs": [],
   "source": [
    "def chi2_Mine(Omegam, sigma8):\n",
    "    \n",
    "    cosmo = ccl.Cosmology(Omega_c=Omegam - 0.0448, Omega_b=0.0448, h=0.71, sigma8 = sigma8, n_s=0.96)\n",
    "    \n",
    "    chi_gauss = 0\n",
    "    chi_poiss = 0\n",
    "    \n",
    "    cluster_abundance_obs = np.zeros([len(Mass_bin), len(Z_bin)])\n",
    "    cluster_abundance_th = np.zeros([len(Mass_bin), len(Z_bin)])\n",
    "    \n",
    "    for i, m_bin in enumerate(Mass_bin):\n",
    "        \n",
    "        for j, z_bin in enumerate(Z_bin):\n",
    "            \n",
    "            logm_down, logm_up = np.log10(m_bin)[0], np.log10(m_bin)[1]\n",
    "            z_down, z_up = z_bin[0], z_bin[1]\n",
    "            mask_z = (z_mid > z_bin[0])*(z_mid < z_bin[1])\n",
    "            mask_logm = (logm_mid > np.log10(m_bin)[0])*(logm_mid < np.log10(m_bin)[1])\n",
    "            z_cut = z_mid[mask_z]\n",
    "            logm_cut = logm_mid[mask_logm]\n",
    "            z_cut[0], z_cut[-1] = z_down, z_up\n",
    "            logm_cut[0], logm_cut[-1] = logm_down, logm_up\n",
    "            \n",
    "            grid_mcmc = compute_hmf_plan(z_cut, logm_cut, cosmo)\n",
    "            th = simps(simps(grid_mcmc, z_cut), logm_cut) * 0.71\n",
    "            \n",
    "            obs = data[i,j]\n",
    "            chi_poiss = chi_poiss + - obs*np.log(th) + th\n",
    "            chi_gauss = chi_gauss  + (obs-th)**2/max(obs, 1)\n",
    "            \n",
    "            cluster_abundance_th[i,j] = th\n",
    "            cluster_abundance_obs[i,j] = obs\n",
    "            \n",
    "    return chi_gauss, chi_poiss, cluster_abundance_th, cluster_abundance_obs"
   ]
  },
  {
   "cell_type": "code",
   "execution_count": 92,
   "metadata": {},
   "outputs": [],
   "source": [
    "cosmo = ccl.Cosmology(Omega_c=0.26 - 0.0448, Omega_b=0.0448, h=0.71, sigma8 = 0.8, n_s=0.96)"
   ]
  },
  {
   "cell_type": "code",
   "execution_count": 93,
   "metadata": {},
   "outputs": [
    {
     "name": "stdout",
     "output_type": "stream",
     "text": [
      "CPU times: user 4.54 s, sys: 2.19 ms, total: 4.54 s\n",
      "Wall time: 1.06 s\n"
     ]
    }
   ],
   "source": [
    "%%time\n",
    "chi_gauss, chi_poiss, cluster_abundance_th, cluster_abundance_obs = chi2_Mine(0.265, 0.8)"
   ]
  },
  {
   "cell_type": "code",
   "execution_count": 94,
   "metadata": {},
   "outputs": [],
   "source": [
    "hmd_200c = ccl.halos.MassDef200c()\n",
    "def dV_over_dOmega_dz(z):\n",
    "    a = 1./(1. + z)\n",
    "    da = ccl.background.angular_diameter_distance(cosmo, a) \n",
    "    E = ccl.background.h_over_h0(cosmo, a)\n",
    "    return ((1+z)**2)*(da**2)*ccl.physical_constants.CLIGHT_HMPC/cosmo['h']/E\n",
    "def bocquet16(logm, z):\n",
    "    mass = 10**(logm)\n",
    "    hmf_200c = ccl.halos.MassFuncBocquet16(cosmo, mass_def=hmd_200c)\n",
    "    nm = hmf_200c.get_mass_function(cosmo, mass, 1./(1+z))\n",
    "    return nm # dn/dlog10M"
   ]
  },
  {
   "cell_type": "code",
   "execution_count": 95,
   "metadata": {},
   "outputs": [],
   "source": [
    "def integrand_bocquet16(logm,z):\n",
    "    return bocquet16(logm, z)*dV_over_dOmega_dz(z)\n"
   ]
  },
  {
   "cell_type": "code",
   "execution_count": 96,
   "metadata": {},
   "outputs": [],
   "source": [
    "def chi2_celine(Omegam, sigma8):\n",
    "    \n",
    "    cosmo = ccl.Cosmology(Omega_c=Omegam - 0.0448, Omega_b=0.0448, h=0.71, sigma8 = sigma8, n_s=0.96)\n",
    "    \n",
    "    chi_gauss = 0\n",
    "    chi_poiss = 0\n",
    "    \n",
    "    cluster_abundance_obs = np.zeros([len(Mass_bin), len(Z_bin)])\n",
    "    cluster_abundance_th = np.zeros([len(Mass_bin), len(Z_bin)])\n",
    "    \n",
    "    for i, m_bin in enumerate(Mass_bin):\n",
    "        \n",
    "        for j, z_bin in enumerate(Z_bin):\n",
    "            \n",
    "            logm_down, logm_up = np.log10(m_bin)[0], np.log10(m_bin)[1]\n",
    "            z_down, z_up = z_bin[0], z_bin[1]\n",
    "            mask_z = (z_mid > z_bin[0])*(z_mid < z_bin[1])\n",
    "            mask_logm = (logm_mid > np.log10(m_bin)[0])*(logm_mid < np.log10(m_bin)[1])\n",
    "            z_cut = z_mid[mask_z]\n",
    "            logm_cut = logm_mid[mask_logm]\n",
    "            z_cut[0], z_cut[-1] = z_down, z_up\n",
    "            logm_cut[0], logm_cut[-1] = logm_down, logm_up\n",
    "            \n",
    "            th = scipy.integrate.dblquad(integrand_bocquet16, z_down, z_up, lambda x:logm_down, lambda x:logm_up, epsabs=1.e-4, epsrel=1.e-4)[0]\n",
    "            \n",
    "            obs = data[i,j]\n",
    "            chi_poiss = chi_poiss + - obs*np.log(th) + th\n",
    "            chi_gauss = chi_gauss  + (obs-th)**2/max(obs, 1)\n",
    "            \n",
    "            cluster_abundance_th[i,j] = th\n",
    "            cluster_abundance_obs[i,j] = obs\n",
    "            \n",
    "    return chi_gauss, chi_poiss, cluster_abundance_th, cluster_abundance_obs"
   ]
  },
  {
   "cell_type": "code",
   "execution_count": 97,
   "metadata": {},
   "outputs": [
    {
     "name": "stdout",
     "output_type": "stream",
     "text": [
      "CPU times: user 5.33 s, sys: 7.59 ms, total: 5.33 s\n",
      "Wall time: 1.54 s\n"
     ]
    }
   ],
   "source": [
    "%%time\n",
    "chi_gauss, chi_poiss, cluster_abundance_th, cluster_abundance_obs_ = chi2_celine(0.265, 0.8)"
   ]
  },
  {
   "cell_type": "code",
   "execution_count": 99,
   "metadata": {},
   "outputs": [
    {
     "data": {
      "text/plain": [
       "[<matplotlib.lines.Line2D at 0x7f490c0f9c10>]"
      ]
     },
     "execution_count": 99,
     "metadata": {},
     "output_type": "execute_result"
    },
    {
     "data": {
      "image/png": "[encoded data removed]",
      "text/plain": [
       "<Figure size 432x288 with 1 Axes>"
      ]
     },
     "metadata": {
      "needs_background": "light"
     },
     "output_type": "display_data"
    }
   ],
   "source": [
    "plt.plot(cluster_abundance_obs_.flatten())\n",
    "plt.plot(cluster_abundance_obs.flatten())"
   ]
  },
  {
   "cell_type": "code",
   "execution_count": null,
   "metadata": {},
   "outputs": [],
   "source": [
    "a = [[1,2], [1,3]]"
   ]
  },
  {
   "cell_type": "code",
   "execution_count": null,
   "metadata": {},
   "outputs": [],
   "source": []
  }
 ],
 "metadata": {
  "kernelspec": {
   "display_name": "mydesc",
   "language": "python",
   "name": "mydesc"
  },
  "language_info": {
   "codemirror_mode": {
    "name": "ipython",
    "version": 3
   },
   "file_extension": ".py",
   "mimetype": "text/x-python",
   "name": "python",
   "nbconvert_exporter": "python",
   "pygments_lexer": "ipython3",
   "version": "3.7.6"
  }
 },
 "nbformat": 4,
 "nbformat_minor": 4
}
