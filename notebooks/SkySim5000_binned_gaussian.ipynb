{
 "cells": [
  {
   "cell_type": "code",
   "execution_count": 1,
   "id": "a8c3ef69-3762-4c03-848f-d8097d74b29d",
   "metadata": {},
   "outputs": [],
   "source": [
    "import numpy as np\n",
    "import matplotlib.pyplot as plt\n",
    "import os\n",
    "import pyccl as ccl\n",
    "\n",
    "import sys\n",
    "sys.path.append('../cluster_abundance/')\n",
    "import CL_COUNT_DATAOPS_cluster_abundance_covariance as covariance\n",
    "import CL_COUNT_class_cluster_abundance as cl_count\n",
    "import CL_COUNT_class_likelihood as lnL\n",
    "\n",
    "%load_ext autoreload\n",
    "%autoreload 2\n",
    "\n",
    "%matplotlib inline"
   ]
  },
  {
   "cell_type": "markdown",
   "id": "66ffc30c-5ab9-48b9-917e-149088166210",
   "metadata": {
    "tags": []
   },
   "source": [
    "# Extract DM haloes from the SkySim catalog in a given mass and redshift range. "
   ]
  },
  {
   "cell_type": "code",
   "execution_count": 2,
   "id": "122ef91d-6d7f-49b0-ac8a-2bdab14cc9d5",
   "metadata": {},
   "outputs": [],
   "source": [
    "zmin = 0.\n",
    "zmax = 1."
   ]
  },
  {
   "cell_type": "markdown",
   "id": "58b7bc9b-1ffa-47ab-94a6-4480285bec24",
   "metadata": {},
   "source": [
    "## Use the pre-extracted halo catalog stored at CC-IN2P3 or NERSC\n",
    "You may skip the step above by directly using pre-extracted SkySim halo catalog. These are stored as `hdf5` at CC-IN2P3 and NERSC. These files contains all DM halos of SkySim5000 with $M_{\\rm fof}>1\\times 10^{13}$M$_\\odot$ and $z\\in[0,1.2]$. Richness information (not used here) is also available in those files, along with some other halo-related columns. SkySim input cosmology and sky area are also saved as metadata in the file.\n",
    "\n",
    "You may choose among:\n",
    "- `skysim_halos_z=0-1.2_mfof_gt_1e13_small.hdf5` for the `small` sky area (~57 deg2)\n",
    "- `skysim_halos_z=0-1.2_mfof_gt_1e13_image.hdf5` for the `image` sky area (~440 deg2)\n",
    "- `skysim_halos_z=0-1.2_mfof_gt_1e13_full.hdf5` for the `full` sky area (~5200 deg2)\n",
    "\n",
    "**Path to access the files at CC-IN2P3:**\n",
    "`/sps/lsst/users/ccombet/SkySim5000/hdf5`\n",
    "\n",
    "**Path to access the files at NERSC:**\n",
    "`/global/u1/c/ccombet/SkySim5000/hdf5`\n",
    "\n",
    "Comment/uncomment accordingly in the cell below"
   ]
  },
  {
   "cell_type": "code",
   "execution_count": 118,
   "id": "c231cfd3-2bfe-4883-bdf4-a588f81589ae",
   "metadata": {},
   "outputs": [
    {
     "name": "stdout",
     "output_type": "stream",
     "text": [
      "There are 249485 halos with Mfof > 1e13 Msun and z=[0,1.2] in 439.78986 deg2\n"
     ]
    }
   ],
   "source": [
    "import pandas as pd\n",
    "\n",
    "path_to_cat = '/sps/lsst/users/ccombet/SkySim5000/hdf5' # CC-in2p3\n",
    "# path_to_cat = '/global/u1/c/ccombet/SkySim5000/hdf5' # NERSC\n",
    "\n",
    "size = 'image' # other options are 'image' (440 deg2) and 'small' (57 deg2)\n",
    "\n",
    "with pd.HDFStore(os.path.join(path_to_cat,f'skysim_halos_z=0-1.20_mfof_gt_1.00e+13_{size}.hdf5')) as store:\n",
    "    dm_halos = store['skysim']\n",
    "    metadata = store.get_storer('skysim').attrs.metadata\n",
    "\n",
    "cosmo_ss  = metadata['cosmo']\n",
    "sky_area = metadata['sky_area']\n",
    "N_cl = len(dm_halos['halo_mass'])\n",
    "print(f'There are {N_cl} halos with Mfof > 1e13 Msun and z=[0,1.2] in {sky_area} deg2')"
   ]
  },
  {
   "cell_type": "code",
   "execution_count": 119,
   "id": "691902d4-03b3-4b78-8dc6-3b595936c472",
   "metadata": {},
   "outputs": [
    {
     "data": {
      "text/plain": [
       "FlatLambdaCDM(H0=71 km / (Mpc s), Om0=0.265, Tcmb0=0 K, Neff=3.04, m_nu=None, Ob0=0.0448)"
      ]
     },
     "execution_count": 119,
     "metadata": {},
     "output_type": "execute_result"
    }
   ],
   "source": [
    "cosmo_ss"
   ]
  },
  {
   "cell_type": "markdown",
   "id": "f504fb7b-da02-4c6c-9004-afd7b62e8f7d",
   "metadata": {},
   "source": [
    "## Filter on redshift and mass ranges\n",
    "\n",
    "**Caution**: if using the pre-extracted halo catalog, make sure you do not require here mass and redshift ranges larger than the ones specified above.\n",
    "\n",
    "NB: SkySim5000 M200c masses are in units of Msun/h"
   ]
  },
  {
   "cell_type": "code",
   "execution_count": 120,
   "id": "bc29efaf-c833-435a-9011-d4bac5b073e4",
   "metadata": {},
   "outputs": [],
   "source": [
    "zmin = 0.25\n",
    "zmax = 1.\n",
    "mmin = 5.e13 # Msun. \n",
    "mmax = 1.e15 # Msun"
   ]
  },
  {
   "cell_type": "code",
   "execution_count": 121,
   "id": "16475169-e5a4-4428-90ab-b28dbf1d6311",
   "metadata": {},
   "outputs": [
    {
     "name": "stdout",
     "output_type": "stream",
     "text": [
      "16582 left in the [5.00e+13,1.00e+15[ mass range and [0.25,1.00[ redshift range\n"
     ]
    },
    {
     "data": {
      "text/plain": [
       "<matplotlib.colorbar.Colorbar at 0x7fa80069f520>"
      ]
     },
     "execution_count": 121,
     "metadata": {},
     "output_type": "execute_result"
    },
    {
     "data": {
      "image/png": "[encoded data removed]",
      "text/plain": [
       "<Figure size 432x288 with 2 Axes>"
      ]
     },
     "metadata": {
      "needs_background": "light"
     },
     "output_type": "display_data"
    }
   ],
   "source": [
    "dm_halos['M200c'] = dm_halos['baseDC2/sod_halo_mass']/cosmo_ss.h # sod_halo_mass = M200,c in Msun/h, needs conversion\n",
    "\n",
    "filt1 = dm_halos['redshift'] >= zmin\n",
    "filt2 = dm_halos['redshift'] < zmax\n",
    "filt3 = dm_halos['M200c'] >= mmin \n",
    "filt4 = dm_halos['M200c'] < mmax\n",
    "filt = filt1 & filt2 & filt3 & filt4\n",
    "\n",
    "data_m_ss = np.array(dm_halos['M200c'][filt]) # M200,c [Msun]\n",
    "data_z_ss = np.array(dm_halos['redshift'][filt])\n",
    "\n",
    "print(f\"{len(data_m_ss)} left in the [{mmin:.2e},{mmax:.2e}[ mass range and [{zmin:.2f},{zmax:.2f}[ redshift range\")\n",
    "hist2d = plt.hist2d(np.log10(data_m_ss), data_z_ss, bins=[5,3]);\n",
    "plt.colorbar()"
   ]
  },
  {
   "cell_type": "code",
   "execution_count": 122,
   "id": "ec59a7a1-6a58-4720-bfd3-0babf15ac13b",
   "metadata": {},
   "outputs": [],
   "source": [
    "count = hist2d[0]\n",
    "logm_edges = hist2d[1]\n",
    "z_edges = hist2d[2]"
   ]
  },
  {
   "cell_type": "code",
   "execution_count": 123,
   "id": "b0a083c7-2600-47d4-a073-9157c52e1474",
   "metadata": {},
   "outputs": [
    {
     "data": {
      "text/plain": [
       "<matplotlib.collections.PathCollection at 0x7fa84d4ac9a0>"
      ]
     },
     "execution_count": 123,
     "metadata": {},
     "output_type": "execute_result"
    },
    {
     "data": {
      "image/png": "[encoded data removed]",
      "text/plain": [
       "<Figure size 432x288 with 1 Axes>"
      ]
     },
     "metadata": {
      "needs_background": "light"
     },
     "output_type": "display_data"
    }
   ],
   "source": [
    "plt.scatter(dm_halos['ra'][filt],dm_halos['dec'][filt], s=0.1)"
   ]
  },
  {
   "cell_type": "markdown",
   "id": "066e5518-bc7f-4ecf-823a-94105bc2e28a",
   "metadata": {},
   "source": [
    "# Measure count covariance matrix"
   ]
  },
  {
   "cell_type": "code",
   "execution_count": 124,
   "id": "be379628-c0c8-4dba-9920-418a74f950ff",
   "metadata": {},
   "outputs": [],
   "source": [
    "Covariance = covariance.Covariance_matrix()"
   ]
  },
  {
   "cell_type": "code",
   "execution_count": 126,
   "id": "43a0def4-fa21-4d58-8869-e40e2ce39570",
   "metadata": {},
   "outputs": [
    {
     "name": "stdout",
     "output_type": "stream",
     "text": [
      "Number of JK regions: 8460\n",
      "Number of JK regions: 8460\n",
      "0\n",
      "50\n",
      "100\n",
      "150\n",
      "200\n",
      "250\n",
      "300\n",
      "350\n",
      "400\n",
      "450\n",
      "500\n",
      "550\n",
      "600\n",
      "650\n",
      "700\n",
      "750\n",
      "800\n",
      "850\n",
      "900\n",
      "950\n",
      "1000\n",
      "1050\n",
      "1100\n",
      "1150\n",
      "1200\n",
      "1250\n",
      "1300\n",
      "1350\n",
      "1400\n",
      "1450\n",
      "1500\n",
      "1550\n",
      "1600\n",
      "1650\n",
      "1700\n",
      "1750\n",
      "1800\n",
      "1850\n",
      "1900\n",
      "1950\n",
      "2000\n",
      "2050\n",
      "2100\n",
      "2150\n",
      "2200\n",
      "2250\n",
      "2300\n",
      "2350\n",
      "2400\n",
      "2450\n",
      "2500\n",
      "2550\n",
      "2600\n",
      "2650\n",
      "2700\n",
      "2750\n",
      "2800\n",
      "2850\n",
      "2900\n",
      "2950\n",
      "3000\n",
      "3050\n",
      "3100\n",
      "3150\n",
      "3200\n",
      "3250\n",
      "3300\n",
      "3350\n",
      "3400\n",
      "3450\n",
      "3500\n",
      "3550\n",
      "3600\n",
      "3650\n",
      "3700\n",
      "3750\n",
      "3800\n",
      "3850\n",
      "3900\n",
      "3950\n",
      "4000\n",
      "4050\n",
      "4100\n",
      "4150\n",
      "4200\n",
      "4250\n",
      "4300\n",
      "4350\n",
      "4400\n",
      "4450\n",
      "4500\n",
      "4550\n",
      "4600\n",
      "4650\n",
      "4700\n",
      "4750\n",
      "4800\n",
      "4850\n",
      "4900\n",
      "4950\n",
      "5000\n",
      "5050\n",
      "5100\n",
      "5150\n",
      "5200\n",
      "5250\n",
      "5300\n",
      "5350\n",
      "5400\n",
      "5450\n",
      "5500\n",
      "5550\n",
      "5600\n",
      "5650\n",
      "5700\n",
      "5750\n",
      "5800\n",
      "5850\n",
      "5900\n",
      "5950\n",
      "6000\n",
      "6050\n",
      "6100\n",
      "6150\n",
      "6200\n",
      "6250\n",
      "6300\n",
      "6350\n",
      "6400\n",
      "6450\n",
      "6500\n",
      "6550\n",
      "6600\n",
      "6650\n",
      "6700\n",
      "6750\n",
      "6800\n",
      "6850\n",
      "6900\n",
      "6950\n",
      "7000\n",
      "7050\n",
      "7100\n",
      "7150\n",
      "7200\n",
      "7250\n",
      "7300\n",
      "7350\n",
      "7400\n",
      "7450\n",
      "7500\n",
      "7550\n",
      "7600\n",
      "7650\n",
      "7700\n",
      "7750\n",
      "7800\n",
      "7850\n",
      "7900\n",
      "7950\n",
      "8000\n",
      "8050\n",
      "8100\n",
      "8150\n",
      "8200\n",
      "8250\n",
      "8300\n",
      "8350\n",
      "8400\n",
      "8450\n"
     ]
    }
   ],
   "source": [
    "hp_res = 8\n",
    "cov_jk = Covariance.compute_jackknife_covariance_healpy(catalog = dm_halos, proxy_colname = 'M200c', \n",
    "                                           redshift_colname = 'redshift', z_corner = z_edges, \n",
    "                                           proxy_corner = 10**logm_edges, ra_colname = 'ra', \n",
    "                                           dec_colname = 'dec', n_power = hp_res, N_delete = 1)"
   ]
  },
  {
   "cell_type": "code",
   "execution_count": 127,
   "id": "c3d6acad-6f33-476a-a17a-b3bacd78b6be",
   "metadata": {},
   "outputs": [],
   "source": [
    "cov_bs = Covariance.compute_boostrap_covariance(catalog = dm_halos, proxy_colname = 'M200c', \n",
    "                                    redshift_colname = 'redshift', proxy_corner = 10**logm_edges, \n",
    "                                    z_corner = z_edges, n_boot = 100)"
   ]
  },
  {
   "cell_type": "code",
   "execution_count": 128,
   "id": "0b55f994-ff30-420e-8484-b95cb5fd83f3",
   "metadata": {},
   "outputs": [
    {
     "data": {
      "text/plain": [
       "<matplotlib.colorbar.Colorbar at 0x7fa84d49d130>"
      ]
     },
     "execution_count": 128,
     "metadata": {},
     "output_type": "execute_result"
    },
    {
     "data": {
      "image/png": "[encoded data removed]",
      "text/plain": [
       "<Figure size 864x360 with 4 Axes>"
      ]
     },
     "metadata": {
      "needs_background": "light"
     },
     "output_type": "display_data"
    }
   ],
   "source": [
    "from mpl_toolkits.axes_grid1 import make_axes_locatable\n",
    "\n",
    "fig, axes = plt.subplots(nrows=1, ncols=2, figsize=(12, 5))\n",
    "im0 = axes[0].imshow(np.corrcoef(Covariance.Jackknife_covariance_matrix))\n",
    "im1 = axes[1].imshow(np.corrcoef(Covariance.Bootstrap_covariance_matrix))\n",
    "axes[0].set_title('Jackknife')\n",
    "axes[1].set_title('Bootstrap')\n",
    "divider = make_axes_locatable(axes[0])\n",
    "cax0 = divider.append_axes('right', size='5%', pad=0.05)\n",
    "divider = make_axes_locatable(axes[1])\n",
    "cax1 = divider.append_axes('right', size='5%', pad=0.05)\n",
    "fig.colorbar(im0, cax=cax0, orientation='vertical')\n",
    "fig.colorbar(im1, cax=cax1, orientation='vertical')"
   ]
  },
  {
   "cell_type": "markdown",
   "id": "8a779259-ffca-4e2d-8db8-06436939d64c",
   "metadata": {},
   "source": [
    "# Predict model"
   ]
  },
  {
   "cell_type": "code",
   "execution_count": 90,
   "id": "35f6e9e6-486b-4704-a075-0bf6eaf600a4",
   "metadata": {},
   "outputs": [],
   "source": [
    "# Grid for HMF evaluation\n",
    "z_grid = np.linspace(zmin, zmax, 500)\n",
    "logm_grid = np.linspace(np.log10(mmin),np.log10(mmax), 500)\n",
    "\n",
    "# Check likelihood with the right comsology\n",
    "cosmo = ccl.Cosmology(Omega_c = cosmo_ss.Om0 - cosmo_ss.Ob0, Omega_b = cosmo_ss.Ob0, \n",
    "                      h = cosmo_ss.h, sigma8 = cosmo_ss.sigma8, n_s=cosmo_ss.n_s)\n",
    "\n",
    "massdef = ccl.halos.MassDef(200, 'critical')\n",
    "hmd = ccl.halos.MassFuncTinker08(cosmo, mass_def=massdef)\n",
    "\n",
    "clc = cl_count.ClusterAbundance()\n",
    "clc.set_cosmology(cosmo = cosmo, hmd = hmd, massdef = massdef)\n",
    "clc.sky_area = sky_area*(np.pi/180.)*(np.pi/180.)"
   ]
  },
  {
   "cell_type": "code",
   "execution_count": 91,
   "id": "7c660a52-14f1-4e82-aaac-0630c7dcff4f",
   "metadata": {},
   "outputs": [],
   "source": [
    "clc.compute_multiplicity_grid_MZ(z_grid = z_grid, logm_grid = logm_grid)\n",
    "count_prediction = clc.Cluster_Abundance_MZ(zbin_edges = z_edges, proxybin_edges = logm_edges, method = 'grid')"
   ]
  },
  {
   "cell_type": "code",
   "execution_count": 92,
   "id": "cb188ddf-b805-451b-9f79-a564941332d9",
   "metadata": {},
   "outputs": [
    {
     "data": {
      "text/plain": [
       "<matplotlib.colorbar.Colorbar at 0x7fa800d5eeb0>"
      ]
     },
     "execution_count": 92,
     "metadata": {},
     "output_type": "execute_result"
    },
    {
     "data": {
      "image/png": "[encoded data removed]",
      "text/plain": [
       "<Figure size 432x288 with 2 Axes>"
      ]
     },
     "metadata": {
      "needs_background": "light"
     },
     "output_type": "display_data"
    }
   ],
   "source": [
    "plt.imshow((count_prediction-count.T)/count.T)\n",
    "plt.colorbar()"
   ]
  },
  {
   "cell_type": "markdown",
   "id": "ffb8d805-e0f7-493f-9176-f4b117ff3f29",
   "metadata": {},
   "source": [
    "# Binned Gaussian Likelihood"
   ]
  },
  {
   "cell_type": "code",
   "execution_count": 93,
   "id": "6d42fc9b-5bc3-4bc9-84ef-6f2ced97f738",
   "metadata": {},
   "outputs": [],
   "source": [
    "Likelihood = lnL.Likelihood()"
   ]
  },
  {
   "cell_type": "code",
   "execution_count": 94,
   "id": "e083cfe8-a310-4bb8-ac63-6aa9b6151c3a",
   "metadata": {},
   "outputs": [
    {
     "name": "stdout",
     "output_type": "stream",
     "text": [
      "-285.87029677165475\n"
     ]
    }
   ],
   "source": [
    "lnL_Binned_Gaussian = Likelihood.lnLikelihood_Binned_Gaussian(Abundance, count.T, \n",
    "                                                              Covariance.Jackknife_covariance_matrix)\n",
    "print(Likelihood.lnL_Binned_Gaussian)"
   ]
  },
  {
   "cell_type": "markdown",
   "id": "e2b66098-27da-4b5e-896c-096a6710322a",
   "metadata": {},
   "source": [
    "# Likelihood Maximization to get ($\\sigma_8, \\Omega_m$) (using `Minuit`) "
   ]
  },
  {
   "cell_type": "code",
   "execution_count": 95,
   "id": "ecc0c48c-dc5e-431c-9120-d7a34bc2a9fa",
   "metadata": {},
   "outputs": [],
   "source": [
    "clc = cl_count.ClusterAbundance()\n",
    "clc.sky_area = sky_area*(np.pi/180.)*(np.pi/180.)\n",
    "Likelihood = lnL.Likelihood()\n",
    "\n",
    "def m_log_likelihood(sigma8, Omega_m):\n",
    "    cosmo = ccl.Cosmology(Omega_c = Omega_m - cosmo_ss.Ob0, Omega_b = cosmo_ss.Ob0, \n",
    "                      h = cosmo_ss.h, sigma8 = sigma8, n_s=cosmo_ss.n_s, T_CMB=2.725)\n",
    "    \n",
    "    hmd = ccl.halos.MassFuncTinker08(cosmo, mass_def=massdef)\n",
    "    clc.set_cosmology(cosmo = cosmo, hmd = hmd, massdef = massdef)\n",
    "    \n",
    "    if ltype == 'BG' or ltype == 'BP':\n",
    "        clc.compute_multiplicity_grid_MZ(z_grid = z_grid, logm_grid = logm_grid)\n",
    "        abundance_predict = clc.Cluster_Abundance_MZ(zbin_edges = z_edges, \n",
    "                                                     proxybin_edges = logm_edges, \n",
    "                                                     method=method)\n",
    "\n",
    "    if ltype == 'BG':\n",
    "        Likelihood.lnLikelihood_Binned_Gaussian(abundance_predict, count.T, Covariance.Jackknife_covariance_matrix)\n",
    "        return -Likelihood.lnL_Binned_Gaussian\n",
    "    if ltype == 'BP':\n",
    "        Likelihood.lnLikelihood_Binned_Poissonian(abundance_predict, count.T)\n",
    "        return -Likelihood.lnL_Binned_Poissonian\n"
   ]
  },
  {
   "cell_type": "code",
   "execution_count": 102,
   "id": "571f6511-c9a8-4d9d-af67-50f536aefc57",
   "metadata": {},
   "outputs": [
    {
     "data": {
      "text/html": [
       "<table>\n",
       "    <tr>\n",
       "        <th colspan=\"5\" style=\"text-align:center\" title=\"Minimizer\"> Migrad </th>\n",
       "    </tr>\n",
       "    <tr>\n",
       "        <td colspan=\"2\" style=\"text-align:left\" title=\"Minimum value of function\"> FCN = 12.66 </td>\n",
       "        <td colspan=\"3\" style=\"text-align:center\" title=\"No. of function evaluations in last call and total number\"> Nfcn = 70 </td>\n",
       "    </tr>\n",
       "    <tr>\n",
       "        <td colspan=\"2\" style=\"text-align:left\" title=\"Estimated distance to minimum and goal\"> EDM = 4.68e-05 (Goal: 0.0001) </td>\n",
       "        <td colspan=\"3\" style=\"text-align:center\" title=\"No. of gradient evaluations in last call and total number\">  </td>\n",
       "    </tr>\n",
       "    <tr>\n",
       "        <td colspan=\"2\" style=\"text-align:center;background-color:#92CCA6;color:black\"> Valid Minimum </td>\n",
       "        <td colspan=\"3\" style=\"text-align:center;background-color:#92CCA6;color:black\"> No Parameters at limit </td>\n",
       "    </tr>\n",
       "    <tr>\n",
       "        <td colspan=\"2\" style=\"text-align:center;background-color:#92CCA6;color:black\"> Below EDM threshold (goal x 10) </td>\n",
       "        <td colspan=\"3\" style=\"text-align:center;background-color:#92CCA6;color:black\"> Below call limit </td>\n",
       "    </tr>\n",
       "    <tr>\n",
       "        <td style=\"text-align:center;background-color:#92CCA6;color:black\"> Covariance </td>\n",
       "        <td style=\"text-align:center;background-color:#92CCA6;color:black\"> Hesse ok </td>\n",
       "        <td style=\"text-align:center;background-color:#92CCA6;color:black\" title=\"Is covariance matrix accurate?\"> Accurate </td>\n",
       "        <td style=\"text-align:center;background-color:#92CCA6;color:black\" title=\"Is covariance matrix positive definite?\"> Pos. def. </td>\n",
       "        <td style=\"text-align:center;background-color:#92CCA6;color:black\" title=\"Was positive definiteness enforced by Minuit?\"> Not forced </td>\n",
       "    </tr>\n",
       "</table><table>\n",
       "    <tr>\n",
       "        <td></td>\n",
       "        <th title=\"Variable name\"> Name </th>\n",
       "        <th title=\"Value of parameter\"> Value </th>\n",
       "        <th title=\"Hesse error\"> Hesse Error </th>\n",
       "        <th title=\"Minos lower error\"> Minos Error- </th>\n",
       "        <th title=\"Minos upper error\"> Minos Error+ </th>\n",
       "        <th title=\"Lower limit of the parameter\"> Limit- </th>\n",
       "        <th title=\"Upper limit of the parameter\"> Limit+ </th>\n",
       "        <th title=\"Is the parameter fixed in the fit\"> Fixed </th>\n",
       "    </tr>\n",
       "    <tr>\n",
       "        <th> 0 </th>\n",
       "        <td> sigma8 </td>\n",
       "        <td> 0.8191 </td>\n",
       "        <td> 0.0027 </td>\n",
       "        <td>  </td>\n",
       "        <td>  </td>\n",
       "        <td> 0.7 </td>\n",
       "        <td> 0.9 </td>\n",
       "        <td>  </td>\n",
       "    </tr>\n",
       "    <tr>\n",
       "        <th> 1 </th>\n",
       "        <td> Omega_m </td>\n",
       "        <td> 0.2512 </td>\n",
       "        <td> 0.0028 </td>\n",
       "        <td>  </td>\n",
       "        <td>  </td>\n",
       "        <td> 0.2 </td>\n",
       "        <td> 0.4 </td>\n",
       "        <td>  </td>\n",
       "    </tr>\n",
       "</table><table>\n",
       "    <tr>\n",
       "        <td></td>\n",
       "        <th> sigma8 </th>\n",
       "        <th> Omega_m </th>\n",
       "    </tr>\n",
       "    <tr>\n",
       "        <th> sigma8 </th>\n",
       "        <td> 7.01e-06 </td>\n",
       "        <td style=\"background-color:rgb(149,149,250);color:black\"> -5.67e-06 <strong>(-0.775)</strong> </td>\n",
       "    </tr>\n",
       "    <tr>\n",
       "        <th> Omega_m </th>\n",
       "        <td style=\"background-color:rgb(149,149,250);color:black\"> -5.67e-06 <strong>(-0.775)</strong> </td>\n",
       "        <td> 7.63e-06 </td>\n",
       "    </tr>\n",
       "</table>"
      ],
      "text/plain": [
       "┌─────────────────────────────────────────────────────────────────────────┐\n",
       "│                                Migrad                                   │\n",
       "├──────────────────────────────────┬──────────────────────────────────────┤\n",
       "│ FCN = 12.66                      │              Nfcn = 70               │\n",
       "│ EDM = 4.68e-05 (Goal: 0.0001)    │                                      │\n",
       "├──────────────────────────────────┼──────────────────────────────────────┤\n",
       "│          Valid Minimum           │        No Parameters at limit        │\n",
       "├──────────────────────────────────┼──────────────────────────────────────┤\n",
       "│ Below EDM threshold (goal x 10)  │           Below call limit           │\n",
       "├───────────────┬──────────────────┼───────────┬─────────────┬────────────┤\n",
       "│  Covariance   │     Hesse ok     │ Accurate  │  Pos. def.  │ Not forced │\n",
       "└───────────────┴──────────────────┴───────────┴─────────────┴────────────┘\n",
       "┌───┬─────────┬───────────┬───────────┬────────────┬────────────┬─────────┬─────────┬───────┐\n",
       "│   │ Name    │   Value   │ Hesse Err │ Minos Err- │ Minos Err+ │ Limit-  │ Limit+  │ Fixed │\n",
       "├───┼─────────┼───────────┼───────────┼────────────┼────────────┼─────────┼─────────┼───────┤\n",
       "│ 0 │ sigma8  │  0.8191   │  0.0027   │            │            │   0.7   │   0.9   │       │\n",
       "│ 1 │ Omega_m │  0.2512   │  0.0028   │            │            │   0.2   │   0.4   │       │\n",
       "└───┴─────────┴───────────┴───────────┴────────────┴────────────┴─────────┴─────────┴───────┘\n",
       "┌─────────┬─────────────────────┐\n",
       "│         │    sigma8   Omega_m │\n",
       "├─────────┼─────────────────────┤\n",
       "│  sigma8 │  7.01e-06 -5.67e-06 │\n",
       "│ Omega_m │ -5.67e-06  7.63e-06 │\n",
       "└─────────┴─────────────────────┘"
      ]
     },
     "execution_count": 102,
     "metadata": {},
     "output_type": "execute_result"
    }
   ],
   "source": [
    "from iminuit import Minuit\n",
    "\n",
    "ltype='BG' \n",
    "method='grid'\n",
    "z_grid = np.linspace(zmin, zmax, 500)\n",
    "logm_grid = np.linspace(np.log10(mmin),np.log10(mmax), 500)\n",
    "\n",
    "m1 = Minuit(m_log_likelihood, 0.8, 0.3)\n",
    "m1.limits['sigma8'] = [0.7,0.9]\n",
    "m1.limits['Omega_m'] = [0.2,0.4]\n",
    "m1.errordef = 0.5 # because dealing with likelihood function\n",
    "m1.migrad() # finds minimum \n",
    "m1.hesse() # computes errors "
   ]
  },
  {
   "cell_type": "code",
   "execution_count": 97,
   "id": "8c7b5b11-fe78-464f-95db-d51f32351ce8",
   "metadata": {},
   "outputs": [
    {
     "data": {
      "text/html": [
       "<table>\n",
       "    <tr>\n",
       "        <th colspan=\"5\" style=\"text-align:center\" title=\"Minimizer\"> Migrad </th>\n",
       "    </tr>\n",
       "    <tr>\n",
       "        <td colspan=\"2\" style=\"text-align:left\" title=\"Minimum value of function\"> FCN = -4.252e+05 </td>\n",
       "        <td colspan=\"3\" style=\"text-align:center\" title=\"No. of function evaluations in last call and total number\"> Nfcn = 60 </td>\n",
       "    </tr>\n",
       "    <tr>\n",
       "        <td colspan=\"2\" style=\"text-align:left\" title=\"Estimated distance to minimum and goal\"> EDM = 1.39e-05 (Goal: 0.0001) </td>\n",
       "        <td colspan=\"3\" style=\"text-align:center\" title=\"No. of gradient evaluations in last call and total number\">  </td>\n",
       "    </tr>\n",
       "    <tr>\n",
       "        <td colspan=\"2\" style=\"text-align:center;background-color:#92CCA6;color:black\"> Valid Minimum </td>\n",
       "        <td colspan=\"3\" style=\"text-align:center;background-color:#92CCA6;color:black\"> No Parameters at limit </td>\n",
       "    </tr>\n",
       "    <tr>\n",
       "        <td colspan=\"2\" style=\"text-align:center;background-color:#92CCA6;color:black\"> Below EDM threshold (goal x 10) </td>\n",
       "        <td colspan=\"3\" style=\"text-align:center;background-color:#92CCA6;color:black\"> Below call limit </td>\n",
       "    </tr>\n",
       "    <tr>\n",
       "        <td style=\"text-align:center;background-color:#92CCA6;color:black\"> Covariance </td>\n",
       "        <td style=\"text-align:center;background-color:#92CCA6;color:black\"> Hesse ok </td>\n",
       "        <td style=\"text-align:center;background-color:#92CCA6;color:black\" title=\"Is covariance matrix accurate?\"> Accurate </td>\n",
       "        <td style=\"text-align:center;background-color:#92CCA6;color:black\" title=\"Is covariance matrix positive definite?\"> Pos. def. </td>\n",
       "        <td style=\"text-align:center;background-color:#92CCA6;color:black\" title=\"Was positive definiteness enforced by Minuit?\"> Not forced </td>\n",
       "    </tr>\n",
       "</table><table>\n",
       "    <tr>\n",
       "        <td></td>\n",
       "        <th title=\"Variable name\"> Name </th>\n",
       "        <th title=\"Value of parameter\"> Value </th>\n",
       "        <th title=\"Hesse error\"> Hesse Error </th>\n",
       "        <th title=\"Minos lower error\"> Minos Error- </th>\n",
       "        <th title=\"Minos upper error\"> Minos Error+ </th>\n",
       "        <th title=\"Lower limit of the parameter\"> Limit- </th>\n",
       "        <th title=\"Upper limit of the parameter\"> Limit+ </th>\n",
       "        <th title=\"Is the parameter fixed in the fit\"> Fixed </th>\n",
       "    </tr>\n",
       "    <tr>\n",
       "        <th> 0 </th>\n",
       "        <td> sigma8 </td>\n",
       "        <td> 0.821 </td>\n",
       "        <td> 0.002 </td>\n",
       "        <td>  </td>\n",
       "        <td>  </td>\n",
       "        <td> 0.7 </td>\n",
       "        <td> 0.9 </td>\n",
       "        <td>  </td>\n",
       "    </tr>\n",
       "    <tr>\n",
       "        <th> 1 </th>\n",
       "        <td> Omega_m </td>\n",
       "        <td> 0.2506 </td>\n",
       "        <td> 0.0019 </td>\n",
       "        <td>  </td>\n",
       "        <td>  </td>\n",
       "        <td> 0.2 </td>\n",
       "        <td> 0.4 </td>\n",
       "        <td>  </td>\n",
       "    </tr>\n",
       "</table><table>\n",
       "    <tr>\n",
       "        <td></td>\n",
       "        <th> sigma8 </th>\n",
       "        <th> Omega_m </th>\n",
       "    </tr>\n",
       "    <tr>\n",
       "        <th> sigma8 </th>\n",
       "        <td> 4.02e-06 </td>\n",
       "        <td style=\"background-color:rgb(127,127,250);color:black\"> -3.54e-06 <strong>(-0.944)</strong> </td>\n",
       "    </tr>\n",
       "    <tr>\n",
       "        <th> Omega_m </th>\n",
       "        <td style=\"background-color:rgb(127,127,250);color:black\"> -3.54e-06 <strong>(-0.944)</strong> </td>\n",
       "        <td> 3.51e-06 </td>\n",
       "    </tr>\n",
       "</table>"
      ],
      "text/plain": [
       "┌─────────────────────────────────────────────────────────────────────────┐\n",
       "│                                Migrad                                   │\n",
       "├──────────────────────────────────┬──────────────────────────────────────┤\n",
       "│ FCN = -4.252e+05                 │              Nfcn = 60               │\n",
       "│ EDM = 1.39e-05 (Goal: 0.0001)    │                                      │\n",
       "├──────────────────────────────────┼──────────────────────────────────────┤\n",
       "│          Valid Minimum           │        No Parameters at limit        │\n",
       "├──────────────────────────────────┼──────────────────────────────────────┤\n",
       "│ Below EDM threshold (goal x 10)  │           Below call limit           │\n",
       "├───────────────┬──────────────────┼───────────┬─────────────┬────────────┤\n",
       "│  Covariance   │     Hesse ok     │ Accurate  │  Pos. def.  │ Not forced │\n",
       "└───────────────┴──────────────────┴───────────┴─────────────┴────────────┘\n",
       "┌───┬─────────┬───────────┬───────────┬────────────┬────────────┬─────────┬─────────┬───────┐\n",
       "│   │ Name    │   Value   │ Hesse Err │ Minos Err- │ Minos Err+ │ Limit-  │ Limit+  │ Fixed │\n",
       "├───┼─────────┼───────────┼───────────┼────────────┼────────────┼─────────┼─────────┼───────┤\n",
       "│ 0 │ sigma8  │   0.821   │   0.002   │            │            │   0.7   │   0.9   │       │\n",
       "│ 1 │ Omega_m │  0.2506   │  0.0019   │            │            │   0.2   │   0.4   │       │\n",
       "└───┴─────────┴───────────┴───────────┴────────────┴────────────┴─────────┴─────────┴───────┘\n",
       "┌─────────┬─────────────────────┐\n",
       "│         │    sigma8   Omega_m │\n",
       "├─────────┼─────────────────────┤\n",
       "│  sigma8 │  4.02e-06 -3.54e-06 │\n",
       "│ Omega_m │ -3.54e-06  3.51e-06 │\n",
       "└─────────┴─────────────────────┘"
      ]
     },
     "execution_count": 97,
     "metadata": {},
     "output_type": "execute_result"
    }
   ],
   "source": [
    "ltype='BP' \n",
    "\n",
    "m2 = Minuit(m_log_likelihood, 0.8, 0.3)\n",
    "m2.limits['sigma8'] = [0.7,0.9]\n",
    "m2.limits['Omega_m'] = [0.2,0.4]\n",
    "m2.errordef = 0.5 # because dealing with likelihood function\n",
    "m2.migrad() # finds minimum \n",
    "m2.hesse()  # computes errors "
   ]
  },
  {
   "cell_type": "code",
   "execution_count": 98,
   "id": "1f9d11dc-7497-4d27-b1e6-6a512c09e5c7",
   "metadata": {},
   "outputs": [],
   "source": [
    "from matplotlib.patches import Ellipse\n",
    "\n",
    "def _make_ellipse(mean, cov, ax, color=None, label = None, ls = '-',):\n",
    "    v, w = np.linalg.eigh(cov)\n",
    "    u = w[0] / np.linalg.norm(w[0])\n",
    "    angle = np.arctan(u[1] / u[0])\n",
    "    angle = 180 * angle / np.pi \n",
    "    for i in [3]:\n",
    "        ell = Ellipse(mean, 2 * i * v[0] ** 0.5, 2 * i * v[1] ** 0.5,\n",
    "                                  180 + angle,\n",
    "                                  linewidth=2, facecolor = 'none',edgecolor=color, ls = ls)\n",
    "        ax.add_patch(ell)\n",
    "#    ax.plot([],[],ls, color = color, label = label)"
   ]
  },
  {
   "cell_type": "code",
   "execution_count": 103,
   "id": "d2bf0e03-3767-41df-8187-79f38b657a72",
   "metadata": {},
   "outputs": [
    {
     "data": {
      "image/png": "[encoded data removed]",
      "text/plain": [
       "<Figure size 360x360 with 1 Axes>"
      ]
     },
     "metadata": {
      "needs_background": "light"
     },
     "output_type": "display_data"
    }
   ],
   "source": [
    "fig, ax1 = plt.subplots(ncols=1, nrows=1, figsize=(5,5))\n",
    "_make_ellipse(m1.values, m1.covariance, ax1, color='black', ls = '-')\n",
    "_make_ellipse(m2.values, m2.covariance, ax1, color='teal', ls = '-')\n",
    "ax1.set_ylim([0.23,0.28])\n",
    "ax1.set_xlim([0.795,0.85])\n",
    "ax1.axvline(cosmo_ss.sigma8, color='orange', ls=':')\n",
    "ax1.axhline(cosmo_ss.Om0, color='orange', ls=':')\n",
    "ax1.scatter(m1.values['sigma8'],m1.values['Omega_m'], color='black', marker='+', label='Binned Gaussian (3-$\\sigma$ level)')\n",
    "ax1.scatter(m2.values['sigma8'],m2.values['Omega_m'], color='teal', marker='+', label='Binned Poissonian (3-$\\sigma$ level)')\n",
    "ax1.set_xlabel('$\\sigma_8$')\n",
    "ax1.set_ylabel('$\\Omega_m$')\n",
    "ax1.legend()\n",
    "\n",
    "fig.savefig(f'contours_{size}_{mmin:.2e}_{mmax:.2e}_{hp_res:.2e}.png')"
   ]
  },
  {
   "cell_type": "code",
   "execution_count": null,
   "id": "90300c5f-3c57-4ba5-a44d-8960c5aad785",
   "metadata": {},
   "outputs": [],
   "source": []
  }
 ],
 "metadata": {
  "kernelspec": {
   "display_name": "mydesc",
   "language": "python",
   "name": "mydesc"
  },
  "language_info": {
   "codemirror_mode": {
    "name": "ipython",
    "version": 3
   },
   "file_extension": ".py",
   "mimetype": "text/x-python",
   "name": "python",
   "nbconvert_exporter": "python",
   "pygments_lexer": "ipython3",
   "version": "3.8.8"
  }
 },
 "nbformat": 4,
 "nbformat_minor": 5
}
