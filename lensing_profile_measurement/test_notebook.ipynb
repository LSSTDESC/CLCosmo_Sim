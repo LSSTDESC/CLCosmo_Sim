{
 "cells": [
  {
   "cell_type": "code",
   "execution_count": 109,
   "id": "ac83108c-af47-4aad-9cf0-179d0c81954d",
   "metadata": {},
   "outputs": [],
   "source": [
    "import numpy as np\n",
    "import matplotlib.pyplot as plt\n",
    "import glob"
   ]
  },
  {
   "cell_type": "code",
   "execution_count": 110,
   "id": "fd8c9639-1ed3-4b1d-9307-c33448be06f6",
   "metadata": {},
   "outputs": [],
   "source": [
    "a = np.load(glob.glob('../data/ind_profile_redmapper_per_cluster_index/*')[20], allow_pickle=True)"
   ]
  },
  {
   "cell_type": "code",
   "execution_count": 111,
   "id": "9c015e4a-cb90-43cf-b154-d5d37389d214",
   "metadata": {},
   "outputs": [
    {
     "data": {
      "text/plain": [
       "[]"
      ]
     },
     "execution_count": 111,
     "metadata": {},
     "output_type": "execute_result"
    },
    {
     "data": {
      "image/png": "[encoded data removed]",
      "text/plain": [
       "<Figure size 640x480 with 1 Axes>"
      ]
     },
     "metadata": {},
     "output_type": "display_data"
    }
   ],
   "source": [
    "plt.plot(a[0]['radius_true'], np.mean(a['DSt_true'], axis=0))\n",
    "#plt.plot(a[0]['radius_true'], a[1]['DSt_true'])\n",
    "plt.loglog()"
   ]
  },
  {
   "cell_type": "code",
   "execution_count": 112,
   "id": "c3d36a1a-fb52-47ae-830d-8e78b38cdc51",
   "metadata": {},
   "outputs": [],
   "source": [
    "name_lens_cat = '../data/lens_catalog_cosmoDC2_v1.1.4_redmapper_v0.8.1.pkl'\n",
    "ra_name, dec_name, z_name = 'ra', 'dec', 'redshift'\n",
    "obs_name = 'richness'\n",
    "lens_cat = np.load(name_lens_cat, allow_pickle = True)\n",
    "mask_select = (lens_cat['richness'] > 20)*(lens_cat['redshift'] > .2)\n",
    "lens_cat_to_extract = lens_cat[mask_select]\n",
    "ra, dec, z = lens_cat_to_extract['ra'], lens_cat_to_extract['dec'], lens_cat_to_extract['redshift']"
   ]
  },
  {
   "cell_type": "code",
   "execution_count": 113,
   "id": "c2ead6da-55b7-4896-b7eb-5af7233d3c3f",
   "metadata": {},
   "outputs": [],
   "source": [
    "n_cl = len(lens_cat_to_extract)\n",
    "index_cl = np.arange(n_cl)\n",
    "split_lists = np.array_split(index_cl, 60)"
   ]
  },
  {
   "cell_type": "code",
   "execution_count": 114,
   "id": "d10649ba-4671-44f9-a00b-5f14685add5b",
   "metadata": {},
   "outputs": [],
   "source": [
    "q = np.sum([len(split_list) for split_list in split_lists])"
   ]
  },
  {
   "cell_type": "code",
   "execution_count": 115,
   "id": "2362075c-d65d-4f16-b583-27e39c3aa8b2",
   "metadata": {},
   "outputs": [
    {
     "data": {
      "text/plain": [
       "4240"
      ]
     },
     "execution_count": 115,
     "metadata": {},
     "output_type": "execute_result"
    }
   ],
   "source": [
    "q"
   ]
  },
  {
   "cell_type": "code",
   "execution_count": 116,
   "id": "41308fbf-311c-4529-94fe-96f0808118c3",
   "metadata": {},
   "outputs": [
    {
     "data": {
      "text/plain": [
       "array([1, 2])"
      ]
     },
     "execution_count": 116,
     "metadata": {},
     "output_type": "execute_result"
    }
   ],
   "source": [
    "np.arange(1, 3)"
   ]
  },
  {
   "cell_type": "code",
   "execution_count": 118,
   "id": "eb69f14b-3488-47fe-8a8a-5dd6c6b0dd09",
   "metadata": {},
   "outputs": [
    {
     "name": "stdout",
     "output_type": "stream",
     "text": [
      "4240\n"
     ]
    }
   ],
   "source": [
    "n = 0\n",
    "for k, split_list in enumerate(split_lists):\n",
    "    start, end = min(split_list), max(split_list)\n",
    "    #print(start, end)\n",
    "    a = np.load(glob.glob(f'../data/ind_profile_redmapper_per_cluster_random_index/ind_profile_redmapper_random_split={k}_*')[0], \n",
    "                allow_pickle = True)\n",
    "    f = lens_cat_to_extract['cluster_id']\n",
    "    #print(f'python run_extract_sources_in_cosmoDC2.py {start} {end}')\n",
    "    n = n + len(a)\n",
    "print(n)"
   ]
  },
  {
   "cell_type": "code",
   "execution_count": null,
   "id": "7d003fe4-d2f6-4fbf-9f0d-746d173d1eaa",
   "metadata": {},
   "outputs": [],
   "source": []
  },
  {
   "cell_type": "code",
   "execution_count": 106,
   "id": "44b1754c-bce6-4182-b363-b5fe84890fcf",
   "metadata": {},
   "outputs": [],
   "source": [
    "prf = np.load('../data/ind_profile_redmapper.pkl', allow_pickle = True)"
   ]
  },
  {
   "cell_type": "code",
   "execution_count": 107,
   "id": "11a7bce3-a953-4caf-8ead-494d6b838705",
   "metadata": {},
   "outputs": [
    {
     "data": {
      "text/plain": [
       "4190"
      ]
     },
     "execution_count": 107,
     "metadata": {},
     "output_type": "execute_result"
    }
   ],
   "source": [
    "len(prf)"
   ]
  },
  {
   "cell_type": "code",
   "execution_count": 30,
   "id": "d634c2d9-0485-4776-8de5-51bc7b3a60ad",
   "metadata": {},
   "outputs": [
    {
     "data": {
      "text/plain": [
       "(4240, 4240)"
      ]
     },
     "execution_count": 30,
     "metadata": {},
     "output_type": "execute_result"
    }
   ],
   "source": [
    "n_cl, n"
   ]
  },
  {
   "cell_type": "code",
   "execution_count": null,
   "id": "8c23687e-c1d6-4011-9a9c-f45887cfdfb4",
   "metadata": {},
   "outputs": [],
   "source": []
  }
 ],
 "metadata": {
  "kernelspec": {
   "display_name": "myenv",
   "language": "python",
   "name": "myenv"
  },
  "language_info": {
   "codemirror_mode": {
    "name": "ipython",
    "version": 3
   },
   "file_extension": ".py",
   "mimetype": "text/x-python",
   "name": "python",
   "nbconvert_exporter": "python",
   "pygments_lexer": "ipython3",
   "version": "3.10.10"
  }
 },
 "nbformat": 4,
 "nbformat_minor": 5
}
