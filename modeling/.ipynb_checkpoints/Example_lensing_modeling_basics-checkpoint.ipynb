{
 "cells": [
  {
   "cell_type": "code",
   "execution_count": 1,
   "id": "6d428ca0-7944-4b33-8461-6707720c36a5",
   "metadata": {},
   "outputs": [],
   "source": [
    "%load_ext autoreload\n",
    "%autoreload 2\n",
    "import glob, sys\n",
    "import numpy as np\n",
    "import matplotlib.pyplot as plt\n",
    "import time\n",
    "from scipy.integrate import simps\n",
    "import pyccl as ccl\n",
    "import clmm\n",
    "from clmm import Cosmology\n",
    "def binning(corner): return [[corner[i],corner[i+1]] for i in range(len(corner)-1)]"
   ]
  },
  {
   "cell_type": "code",
   "execution_count": 2,
   "id": "5b1c5c0f-1ef4-4608-8cd5-11bd118541d3",
   "metadata": {},
   "outputs": [
    {
     "data": {
      "text/plain": [
       "'1.10.0'"
      ]
     },
     "execution_count": 2,
     "metadata": {},
     "output_type": "execute_result"
    }
   ],
   "source": [
    "clmm.__version__"
   ]
  },
  {
   "cell_type": "code",
   "execution_count": 3,
   "id": "e4e1dbc8-2ce5-4157-9963-c7e6f6344ac2",
   "metadata": {},
   "outputs": [
    {
     "name": "stdout",
     "output_type": "stream",
     "text": [
      "The autoreload extension is already loaded. To reload it, use:\n",
      "  %reload_ext autoreload\n"
     ]
    },
    {
     "name": "stderr",
     "output_type": "stream",
     "text": [
      "/pbs/throng/lsst/users/cpayerne/CLCosmo_Sim/modeling/CL_LENSING_cluster_lensing.py:144: SyntaxWarning: 'float' object is not callable; perhaps you missed a comma?\n",
      "  return ( R_off/(sigma_off**2) ) * np.exp(-0.2(R_off/sigma_off)**2)\n"
     ]
    }
   ],
   "source": [
    "%load_ext autoreload\n",
    "%autoreload 2\n",
    "import CL_COUNT_modeling_completeness as comp\n",
    "import CL_COUNT_modeling_purity as pur\n",
    "import CL_COUNT_modeling_halo_mass_function as hmf\n",
    "import CL_COUNT_modeling_richness_mass_relation as rm_relation\n",
    "import CL_MASS_cluster_mass as cl_mass\n",
    "import CL_COUNT_cluster_abundance as cl_count\n",
    "import CL_LENSING_cluster_lensing as cl_lensing"
   ]
  },
  {
   "cell_type": "markdown",
   "id": "eee05473-cefc-4042-9ba5-5715df86cb31",
   "metadata": {},
   "source": [
    "# Hyper-parameters\n",
    "## Hyper-parameters (non-cosmo)"
   ]
  },
  {
   "cell_type": "code",
   "execution_count": 4,
   "id": "59aa9675-2066-4685-94a1-7cc67347a06a",
   "metadata": {},
   "outputs": [],
   "source": [
    "#cosmology\n",
    "Omega_c_true = 0.30711 - 0.048254\n",
    "Omega_b_true = 0.048254\n",
    "sigma8_true = .8288\n",
    "Omegam_true = 0.30711\n",
    "True_value = [Omega_c_true + Omega_b_true, sigma8_true]\n",
    "cosmo_clmm = Cosmology(H0 = 71.0, Omega_dm0 = 0.265 - 0.0448, Omega_b0 = 0.0448, Omega_k0 = 0.0)\n",
    "cosmo = ccl.Cosmology(Omega_c = Omega_c_true, Omega_b = Omega_b_true, h = 0.6777, sigma8 = sigma8_true, n_s=0.96)\n",
    "#halo model\n",
    "massdef = ccl.halos.massdef.MassDef('vir', 'critical',)# c_m_relation=None)\n",
    "hmd = ccl.halos.hmfunc.MassFuncDespali16( mass_def=massdef)"
   ]
  },
  {
   "cell_type": "markdown",
   "id": "20e2ffac-ad2f-446b-8f54-ed8334abb984",
   "metadata": {},
   "source": [
    "## Hyper-parameters (non-cosmo)"
   ]
  },
  {
   "cell_type": "code",
   "execution_count": 5,
   "id": "18e65d6a-595c-4ad1-8207-64bdcc902dde",
   "metadata": {},
   "outputs": [],
   "source": [
    "#purity\n",
    "a_nc, b_nc, a_rc, b_rc = np.log(10)*0.8612, np.log(10)*0.3527, 2.2183, -0.6592\n",
    "theta_purity = [a_nc, b_nc, a_rc, b_rc]\n",
    "#completeness\n",
    "a_nc, b_nc, a_mc, b_mc = 1.1321, 0.7751, 13.31, 0.2025\n",
    "theta_completeness = [a_nc, b_nc, a_mc, b_mc]\n",
    "#rm_relation\n",
    "log10m0, z0 = np.log10(10**14.2), .4\n",
    "proxy_mu0, proxy_muz, proxy_mulog10m =  3.091, 0, 1.05*np.log(10)\n",
    "proxy_sigma0, proxy_sigmaz, proxy_sigmalog10m =  0.594, 0., 0.026*np.log(10)\n",
    "theta_rm = [log10m0, z0, proxy_mu0, proxy_muz, proxy_mulog10m, proxy_sigma0, proxy_sigmaz, proxy_sigmalog10m]"
   ]
  },
  {
   "cell_type": "markdown",
   "id": "58241dc9-aab1-492c-9429-ac36fdb743b9",
   "metadata": {},
   "source": [
    "# Purity"
   ]
  },
  {
   "cell_type": "code",
   "execution_count": 6,
   "id": "bfc0a729-d0a2-4355-9240-9a42d78b58ca",
   "metadata": {},
   "outputs": [],
   "source": [
    "richness_grid = np.logspace(np.log10(2), np.log10(500), 310)\n",
    "logm_grid = np.linspace(11, 16, 30)\n",
    "z_grid = np.linspace(.1, 1, 301)"
   ]
  },
  {
   "cell_type": "markdown",
   "id": "14157248-e5af-48cb-80b1-db8d6dbb756d",
   "metadata": {},
   "source": [
    "# Cluster Abundance"
   ]
  },
  {
   "cell_type": "code",
   "execution_count": 7,
   "id": "2be08c5d-7324-42c4-85ef-c1a6f4ddbf84",
   "metadata": {},
   "outputs": [],
   "source": [
    "z_edges = np.linspace(0.2, 1, 5)\n",
    "Z_bin = binning(z_edges)\n",
    "richness_edges = np.exp(np.linspace(np.log(20), np.log(200), 5))\n",
    "Richness_bin = binning(richness_edges)"
   ]
  },
  {
   "cell_type": "markdown",
   "id": "7c7b8c41-f213-4957-a5c5-54bd95084b5a",
   "metadata": {},
   "source": [
    "## effect of purity and completeness"
   ]
  },
  {
   "cell_type": "code",
   "execution_count": 8,
   "id": "57cd75af-514f-4866-a32f-14b551828abd",
   "metadata": {},
   "outputs": [],
   "source": [
    "bins = {'redshift_bins':Z_bin, 'richness_bins': Richness_bin}\n",
    "grids = {'logm_grid': logm_grid, 'z_grid': z_grid, 'richness_grid':richness_grid}\n",
    "count_modelling = {'dNdzdlogMdOmega':None,'richness_mass_relation':None, 'completeness':None, 'purity':None }\n",
    "params = {'params_purity':theta_purity, 'params_completeness': theta_completeness, 'params_richness_mass_relation': theta_rm,\n",
    "         'CCL_cosmology': cosmo, 'halo_mass_distribution': hmd, 'params_concentration_mass_relation': 'Duffy08'}\n",
    "adds = {'add_purity' : True, 'add_completeness':True}\n",
    "compute = {'compute_dNdzdlogMdOmega':True,'compute_richness_mass_relation':True, \n",
    "           'compute_completeness':True, 'compute_halo_bias':True ,'compute_purity':True }"
   ]
  },
  {
   "cell_type": "code",
   "execution_count": 9,
   "id": "598c5eec-3cf1-4725-8ff0-c1bac2b132af",
   "metadata": {},
   "outputs": [
    {
     "name": "stdout",
     "output_type": "stream",
     "text": [
      "CPU times: user 5.03 s, sys: 90 ms, total: 5.12 s\n",
      "Wall time: 1.2 s\n"
     ]
    }
   ],
   "source": [
    "#compute_count_modeling\n",
    "%time count_modelling_new = cl_count.recompute_count_modelling(count_modelling, grids = grids, compute = compute, params = params)"
   ]
  },
  {
   "cell_type": "code",
   "execution_count": 10,
   "id": "4f74dd0e-753b-4591-bceb-64c9d3d3c23b",
   "metadata": {},
   "outputs": [],
   "source": [
    "#define integrand\n",
    "integrand_count = cl_count.define_count_integrand(count_modelling_new, adds)"
   ]
  },
  {
   "cell_type": "code",
   "execution_count": 11,
   "id": "013fdc5a-6ddd-440f-be9e-b01bcddab762",
   "metadata": {},
   "outputs": [],
   "source": [
    "Omega = (4*np.pi)\n",
    "N = Omega * cl_count.Cluster_SurfaceDensity_ProxyZ(bins, integrand_count = integrand_count, grids = grids)"
   ]
  },
  {
   "cell_type": "code",
   "execution_count": 12,
   "id": "2ddba187-a05d-4530-a9df-6c8fc5a0a699",
   "metadata": {},
   "outputs": [],
   "source": [
    "adds1 = {'add_purity' : False, 'add_completeness':False}\n",
    "adds2 = {'add_purity' : True, 'add_completeness':False}\n",
    "adds3 = {'add_purity' : False, 'add_completeness':True}\n",
    "adds4 = {'add_purity' : True, 'add_completeness':True}\n",
    "adds_list = [adds1, adds2, adds3, adds4]\n",
    "list_dNdlambda = []\n",
    "for adds in adds_list:\n",
    "    integrand_count = cl_count.define_count_integrand(count_modelling_new, adds)\n",
    "    list_dNdlambda.append(simps(integrand_count, logm_grid, axis=1))"
   ]
  },
  {
   "cell_type": "markdown",
   "id": "ed1e704e-f77f-413a-a8b0-a23174e369ee",
   "metadata": {},
   "source": [
    "# Lensing profiles"
   ]
  },
  {
   "cell_type": "code",
   "execution_count": 13,
   "id": "81d378e6-3096-497e-bbaa-3c003eddbbe9",
   "metadata": {},
   "outputs": [
    {
     "data": {
      "text/plain": [
       "152241922857.01013"
      ]
     },
     "execution_count": 13,
     "metadata": {},
     "output_type": "execute_result"
    }
   ],
   "source": [
    "cosmo_clmm.get_rho_c(.1)"
   ]
  },
  {
   "cell_type": "code",
   "execution_count": 23,
   "id": "7ca1d50e-9d72-4358-b85c-0138e06f8edd",
   "metadata": {},
   "outputs": [
    {
     "name": "stderr",
     "output_type": "stream",
     "text": [
      "/pbs/home/c/cpayerne/.conda/envs/myenv/lib/python3.10/site-packages/tqdm/auto.py:21: TqdmWarning: IProgress not found. Please update jupyter and ipywidgets. See https://ipywidgets.readthedocs.io/en/stable/user_install.html\n",
      "  from .autonotebook import tqdm as notebook_tqdm\n"
     ]
    }
   ],
   "source": [
    "cluster_lensing_1h = cl_lensing.compute_cluster_lensing(r, 'Duffy08', logm_grid, z_grid, cosmo, cosmo_clmm, \n",
    "                                                                  two_halo=False, boost_factor=False, miscentering=True, use_multiprocessing=True)"
   ]
  },
  {
   "cell_type": "code",
   "execution_count": null,
   "id": "8d25b410-718f-43cd-be60-adeffaa16d18",
   "metadata": {},
   "outputs": [],
   "source": []
  },
  {
   "cell_type": "code",
   "execution_count": null,
   "id": "c9063169-a8d2-43d4-8295-777dc603e701",
   "metadata": {},
   "outputs": [],
   "source": []
  },
  {
   "cell_type": "code",
   "execution_count": null,
   "id": "56abad13-b9e1-4501-95a0-2b031195865f",
   "metadata": {},
   "outputs": [],
   "source": []
  },
  {
   "cell_type": "code",
   "execution_count": null,
   "id": "126b4a36-1e90-47a6-ac30-31fba9920f71",
   "metadata": {},
   "outputs": [],
   "source": []
  },
  {
   "cell_type": "code",
   "execution_count": null,
   "id": "288c2b43-74a0-4455-903e-3fc69ec6e43d",
   "metadata": {},
   "outputs": [],
   "source": []
  },
  {
   "cell_type": "code",
   "execution_count": null,
   "id": "1cd2b1fc-4f6e-47e8-90f4-c3b8815bad1b",
   "metadata": {},
   "outputs": [],
   "source": []
  },
  {
   "cell_type": "code",
   "execution_count": null,
   "id": "13979d57-d9f0-4a89-9e07-4f20fde2e94a",
   "metadata": {},
   "outputs": [],
   "source": []
  },
  {
   "cell_type": "code",
   "execution_count": 14,
   "id": "0a815393-986e-4115-9b3b-e34d42e2c509",
   "metadata": {},
   "outputs": [],
   "source": [
    "#cluster lensing\n",
    "r = np.logspace(np.log10(.1), np.log10(20),10)\n",
    "cluster_lensing_1h = cl_lensing.compute_cluster_lensing(r, 'Duffy08', logm_grid, z_grid, cosmo, cosmo_clmm, \n",
    "                                                                  two_halo=False, boost_factor=True)\n",
    "cluster_lensing_1h_noboost = cl_lensing.compute_cluster_lensing(r, 'Duffy08', logm_grid, z_grid, cosmo, cosmo_clmm, \n",
    "                                                                two_halo=False, boost_factor=False)"
   ]
  },
  {
   "cell_type": "code",
   "execution_count": 15,
   "id": "ee0fe9d0-7fa8-4cf9-a10a-111ef8fb42a0",
   "metadata": {},
   "outputs": [
    {
     "name": "stderr",
     "output_type": "stream",
     "text": [
      "/pbs/throng/lsst/users/cpayerne/CLCosmo_Sim/modeling/CL_LENSING_cluster_lensing.py:144: SyntaxWarning: 'float' object is not callable; perhaps you missed a comma?\n",
      "  return ( R_off/(sigma_off**2) ) * np.exp(-0.2(R_off/sigma_off)**2)\n",
      "/pbs/throng/lsst/users/cpayerne/CLCosmo_Sim/modeling/CL_LENSING_cluster_lensing.py:144: SyntaxWarning: 'float' object is not callable; perhaps you missed a comma?\n",
      "  return ( R_off/(sigma_off**2) ) * np.exp(-0.2(R_off/sigma_off)**2)\n",
      "/pbs/throng/lsst/users/cpayerne/CLCosmo_Sim/modeling/CL_LENSING_cluster_lensing.py:144: SyntaxWarning: 'float' object is not callable; perhaps you missed a comma?\n",
      "  return ( R_off/(sigma_off**2) ) * np.exp(-0.2(R_off/sigma_off)**2)\n",
      "/pbs/throng/lsst/users/cpayerne/CLCosmo_Sim/modeling/CL_LENSING_cluster_lensing.py:144: SyntaxWarning: 'float' object is not callable; perhaps you missed a comma?\n",
      "  return ( R_off/(sigma_off**2) ) * np.exp(-0.2(R_off/sigma_off)**2)\n"
     ]
    },
    {
     "ename": "KeyboardInterrupt",
     "evalue": "",
     "output_type": "error",
     "traceback": [
      "\u001b[0;31m---------------------------------------------------------------------------\u001b[0m",
      "\u001b[0;31mKeyboardInterrupt\u001b[0m                         Traceback (most recent call last)",
      "Cell \u001b[0;32mIn[15], line 1\u001b[0m\n\u001b[0;32m----> 1\u001b[0m NDS_profiles_Duffy_1h \u001b[38;5;241m=\u001b[39m Omega \u001b[38;5;241m*\u001b[39m \u001b[43mcl_lensing\u001b[49m\u001b[38;5;241;43m.\u001b[39;49m\u001b[43mCluster_dNd0mega_Lensing_ProxyZ\u001b[49m\u001b[43m(\u001b[49m\u001b[43mbins\u001b[49m\u001b[43m,\u001b[49m\u001b[43m \u001b[49m\u001b[43mintegrand_count\u001b[49m\u001b[43m \u001b[49m\u001b[38;5;241;43m=\u001b[39;49m\u001b[43m \u001b[49m\u001b[43mintegrand_count\u001b[49m\u001b[43m,\u001b[49m\u001b[43m \u001b[49m\u001b[43mcluster_lensing\u001b[49m\u001b[43m \u001b[49m\u001b[38;5;241;43m=\u001b[39;49m\u001b[43m \u001b[49m\u001b[43mcluster_lensing_1h\u001b[49m\u001b[43m,\u001b[49m\u001b[43m \u001b[49m\u001b[43mlensing_radius\u001b[49m\u001b[43m \u001b[49m\u001b[38;5;241;43m=\u001b[39;49m\u001b[43m \u001b[49m\u001b[43mr\u001b[49m\u001b[43m,\u001b[49m\u001b[43m \u001b[49m\u001b[43mgrids\u001b[49m\u001b[43m \u001b[49m\u001b[38;5;241;43m=\u001b[39;49m\u001b[43m \u001b[49m\u001b[43mgrids\u001b[49m\u001b[43m)\u001b[49m\n\u001b[1;32m      2\u001b[0m DS_profiles_Duffy_1h \u001b[38;5;241m=\u001b[39m NDS_profiles_Duffy_1h\u001b[38;5;241m/\u001b[39mN\n\u001b[1;32m      3\u001b[0m NDS_profiles_Duffy_1h_noboost \u001b[38;5;241m=\u001b[39m Omega \u001b[38;5;241m*\u001b[39m cl_lensing\u001b[38;5;241m.\u001b[39mCluster_dNd0mega_Lensing_ProxyZ(bins, integrand_count \u001b[38;5;241m=\u001b[39m integrand_count, cluster_lensing \u001b[38;5;241m=\u001b[39m cluster_lensing_1h_noboost, lensing_radius \u001b[38;5;241m=\u001b[39m r, grids \u001b[38;5;241m=\u001b[39m grids)\n",
      "File \u001b[0;32m/pbs/throng/lsst/users/cpayerne/CLCosmo_Sim/modeling/CL_LENSING_cluster_lensing.py:121\u001b[0m, in \u001b[0;36mCluster_dNd0mega_Lensing_ProxyZ\u001b[0;34m(bins, integrand_count, cluster_lensing, lensing_radius, grids)\u001b[0m\n\u001b[1;32m    119\u001b[0m         cluster_lensing_cut \u001b[38;5;241m=\u001b[39m cluster_lensing[:,:,index_z_grid_cut]\n\u001b[1;32m    120\u001b[0m         \u001b[38;5;28;01mfor\u001b[39;00m k, r \u001b[38;5;129;01min\u001b[39;00m \u001b[38;5;28menumerate\u001b[39m(lensing_radius):\n\u001b[0;32m--> 121\u001b[0m             stacked_lensing_profile[k,i,j] \u001b[38;5;241m=\u001b[39m simps(simps(\u001b[43msimps\u001b[49m\u001b[43m(\u001b[49m\u001b[43mintegrand_cut\u001b[49m\u001b[43m,\u001b[49m\u001b[43m \u001b[49m\n\u001b[1;32m    122\u001b[0m \u001b[43m                                     \u001b[49m\u001b[43mrichness_grid_cut\u001b[49m\u001b[43m,\u001b[49m\u001b[43m \u001b[49m\u001b[43maxis\u001b[49m\u001b[38;5;241;43m=\u001b[39;49m\u001b[38;5;241;43m0\u001b[39;49m\u001b[43m)\u001b[49m \u001b[38;5;241m*\u001b[39m cluster_lensing_cut[k,:,:], \n\u001b[1;32m    123\u001b[0m                                      logm_grid, axis\u001b[38;5;241m=\u001b[39m\u001b[38;5;241m0\u001b[39m), \n\u001b[1;32m    124\u001b[0m                                      z_grid_cut, axis\u001b[38;5;241m=\u001b[39m\u001b[38;5;241m0\u001b[39m)\n\u001b[1;32m    127\u001b[0m \u001b[38;5;28;01mreturn\u001b[39;00m stacked_lensing_profile\n",
      "File \u001b[0;32m~/.conda/envs/myenv/lib/python3.10/site-packages/scipy/integrate/_quadrature.py:533\u001b[0m, in \u001b[0;36msimps\u001b[0;34m(y, x, dx, axis, even)\u001b[0m\n\u001b[1;32m    527\u001b[0m \u001b[38;5;28;01mdef\u001b[39;00m \u001b[38;5;21msimps\u001b[39m(y, x\u001b[38;5;241m=\u001b[39m\u001b[38;5;28;01mNone\u001b[39;00m, dx\u001b[38;5;241m=\u001b[39m\u001b[38;5;241m1.0\u001b[39m, axis\u001b[38;5;241m=\u001b[39m\u001b[38;5;241m-\u001b[39m\u001b[38;5;241m1\u001b[39m, even\u001b[38;5;241m=\u001b[39m\u001b[38;5;124m'\u001b[39m\u001b[38;5;124mavg\u001b[39m\u001b[38;5;124m'\u001b[39m):\n\u001b[1;32m    528\u001b[0m \u001b[38;5;250m    \u001b[39m\u001b[38;5;124;03m\"\"\"An alias of `simpson`.\u001b[39;00m\n\u001b[1;32m    529\u001b[0m \n\u001b[1;32m    530\u001b[0m \u001b[38;5;124;03m    `simps` is kept for backwards compatibility. For new code, prefer\u001b[39;00m\n\u001b[1;32m    531\u001b[0m \u001b[38;5;124;03m    `simpson` instead.\u001b[39;00m\n\u001b[1;32m    532\u001b[0m \u001b[38;5;124;03m    \"\"\"\u001b[39;00m\n\u001b[0;32m--> 533\u001b[0m     \u001b[38;5;28;01mreturn\u001b[39;00m \u001b[43msimpson\u001b[49m\u001b[43m(\u001b[49m\u001b[43my\u001b[49m\u001b[43m,\u001b[49m\u001b[43m \u001b[49m\u001b[43mx\u001b[49m\u001b[38;5;241;43m=\u001b[39;49m\u001b[43mx\u001b[49m\u001b[43m,\u001b[49m\u001b[43m \u001b[49m\u001b[43mdx\u001b[49m\u001b[38;5;241;43m=\u001b[39;49m\u001b[43mdx\u001b[49m\u001b[43m,\u001b[49m\u001b[43m \u001b[49m\u001b[43maxis\u001b[49m\u001b[38;5;241;43m=\u001b[39;49m\u001b[43maxis\u001b[49m\u001b[43m,\u001b[49m\u001b[43m \u001b[49m\u001b[43meven\u001b[49m\u001b[38;5;241;43m=\u001b[39;49m\u001b[43meven\u001b[49m\u001b[43m)\u001b[49m\n",
      "File \u001b[0;32m~/.conda/envs/myenv/lib/python3.10/site-packages/scipy/integrate/_quadrature.py:655\u001b[0m, in \u001b[0;36msimpson\u001b[0;34m(y, x, dx, axis, even)\u001b[0m\n\u001b[1;32m    653\u001b[0m         first_dx \u001b[38;5;241m=\u001b[39m x[\u001b[38;5;28mtuple\u001b[39m(slice2)] \u001b[38;5;241m-\u001b[39m x[\u001b[38;5;28mtuple\u001b[39m(slice1)]\n\u001b[1;32m    654\u001b[0m     val \u001b[38;5;241m+\u001b[39m\u001b[38;5;241m=\u001b[39m \u001b[38;5;241m0.5\u001b[39m\u001b[38;5;241m*\u001b[39mfirst_dx\u001b[38;5;241m*\u001b[39m(y[slice2]\u001b[38;5;241m+\u001b[39my[slice1])\n\u001b[0;32m--> 655\u001b[0m     result \u001b[38;5;241m+\u001b[39m\u001b[38;5;241m=\u001b[39m \u001b[43m_basic_simpson\u001b[49m\u001b[43m(\u001b[49m\u001b[43my\u001b[49m\u001b[43m,\u001b[49m\u001b[43m \u001b[49m\u001b[38;5;241;43m1\u001b[39;49m\u001b[43m,\u001b[49m\u001b[43m \u001b[49m\u001b[43mN\u001b[49m\u001b[38;5;241;43m-\u001b[39;49m\u001b[38;5;241;43m2\u001b[39;49m\u001b[43m,\u001b[49m\u001b[43m \u001b[49m\u001b[43mx\u001b[49m\u001b[43m,\u001b[49m\u001b[43m \u001b[49m\u001b[43mdx\u001b[49m\u001b[43m,\u001b[49m\u001b[43m \u001b[49m\u001b[43maxis\u001b[49m\u001b[43m)\u001b[49m\n\u001b[1;32m    656\u001b[0m \u001b[38;5;28;01mif\u001b[39;00m even \u001b[38;5;241m==\u001b[39m \u001b[38;5;124m'\u001b[39m\u001b[38;5;124mavg\u001b[39m\u001b[38;5;124m'\u001b[39m:\n\u001b[1;32m    657\u001b[0m     val \u001b[38;5;241m/\u001b[39m\u001b[38;5;241m=\u001b[39m \u001b[38;5;241m2.0\u001b[39m\n",
      "File \u001b[0;32m~/.conda/envs/myenv/lib/python3.10/site-packages/scipy/integrate/_quadrature.py:521\u001b[0m, in \u001b[0;36m_basic_simpson\u001b[0;34m(y, start, stop, x, dx, axis)\u001b[0m\n\u001b[1;32m    511\u001b[0m     h0divh1 \u001b[38;5;241m=\u001b[39m np\u001b[38;5;241m.\u001b[39mtrue_divide(h0, h1, out\u001b[38;5;241m=\u001b[39mnp\u001b[38;5;241m.\u001b[39mzeros_like(h0), where\u001b[38;5;241m=\u001b[39mh1 \u001b[38;5;241m!=\u001b[39m \u001b[38;5;241m0\u001b[39m)\n\u001b[1;32m    512\u001b[0m     tmp \u001b[38;5;241m=\u001b[39m hsum\u001b[38;5;241m/\u001b[39m\u001b[38;5;241m6.0\u001b[39m \u001b[38;5;241m*\u001b[39m (y[slice0] \u001b[38;5;241m*\u001b[39m\n\u001b[1;32m    513\u001b[0m                       (\u001b[38;5;241m2.0\u001b[39m \u001b[38;5;241m-\u001b[39m np\u001b[38;5;241m.\u001b[39mtrue_divide(\u001b[38;5;241m1.0\u001b[39m, h0divh1,\n\u001b[1;32m    514\u001b[0m                                             out\u001b[38;5;241m=\u001b[39mnp\u001b[38;5;241m.\u001b[39mzeros_like(h0divh1),\n\u001b[0;32m   (...)\u001b[0m\n\u001b[1;32m    519\u001b[0m                                                   where\u001b[38;5;241m=\u001b[39mhprod \u001b[38;5;241m!=\u001b[39m \u001b[38;5;241m0\u001b[39m)) \u001b[38;5;241m+\u001b[39m\n\u001b[1;32m    520\u001b[0m                       y[slice2] \u001b[38;5;241m*\u001b[39m (\u001b[38;5;241m2.0\u001b[39m \u001b[38;5;241m-\u001b[39m h0divh1))\n\u001b[0;32m--> 521\u001b[0m     result \u001b[38;5;241m=\u001b[39m \u001b[43mnp\u001b[49m\u001b[38;5;241;43m.\u001b[39;49m\u001b[43msum\u001b[49m\u001b[43m(\u001b[49m\u001b[43mtmp\u001b[49m\u001b[43m,\u001b[49m\u001b[43m \u001b[49m\u001b[43maxis\u001b[49m\u001b[38;5;241;43m=\u001b[39;49m\u001b[43maxis\u001b[49m\u001b[43m)\u001b[49m\n\u001b[1;32m    522\u001b[0m \u001b[38;5;28;01mreturn\u001b[39;00m result\n",
      "File \u001b[0;32m<__array_function__ internals>:180\u001b[0m, in \u001b[0;36msum\u001b[0;34m(*args, **kwargs)\u001b[0m\n",
      "File \u001b[0;32m~/.conda/envs/myenv/lib/python3.10/site-packages/numpy/core/fromnumeric.py:2183\u001b[0m, in \u001b[0;36m_sum_dispatcher\u001b[0;34m(a, axis, dtype, out, keepdims, initial, where)\u001b[0m\n\u001b[1;32m   2113\u001b[0m \u001b[38;5;250m    \u001b[39m\u001b[38;5;124;03m\"\"\"\u001b[39;00m\n\u001b[1;32m   2114\u001b[0m \u001b[38;5;124;03m    Clip (limit) the values in an array.\u001b[39;00m\n\u001b[1;32m   2115\u001b[0m \n\u001b[0;32m   (...)\u001b[0m\n\u001b[1;32m   2178\u001b[0m \n\u001b[1;32m   2179\u001b[0m \u001b[38;5;124;03m    \"\"\"\u001b[39;00m\n\u001b[1;32m   2180\u001b[0m     \u001b[38;5;28;01mreturn\u001b[39;00m _wrapfunc(a, \u001b[38;5;124m'\u001b[39m\u001b[38;5;124mclip\u001b[39m\u001b[38;5;124m'\u001b[39m, a_min, a_max, out\u001b[38;5;241m=\u001b[39mout, \u001b[38;5;241m*\u001b[39m\u001b[38;5;241m*\u001b[39mkwargs)\n\u001b[0;32m-> 2183\u001b[0m \u001b[38;5;28;01mdef\u001b[39;00m \u001b[38;5;21m_sum_dispatcher\u001b[39m(a, axis\u001b[38;5;241m=\u001b[39m\u001b[38;5;28;01mNone\u001b[39;00m, dtype\u001b[38;5;241m=\u001b[39m\u001b[38;5;28;01mNone\u001b[39;00m, out\u001b[38;5;241m=\u001b[39m\u001b[38;5;28;01mNone\u001b[39;00m, keepdims\u001b[38;5;241m=\u001b[39m\u001b[38;5;28;01mNone\u001b[39;00m,\n\u001b[1;32m   2184\u001b[0m                     initial\u001b[38;5;241m=\u001b[39m\u001b[38;5;28;01mNone\u001b[39;00m, where\u001b[38;5;241m=\u001b[39m\u001b[38;5;28;01mNone\u001b[39;00m):\n\u001b[1;32m   2185\u001b[0m     \u001b[38;5;28;01mreturn\u001b[39;00m (a, out)\n\u001b[1;32m   2188\u001b[0m \u001b[38;5;129m@array_function_dispatch\u001b[39m(_sum_dispatcher)\n\u001b[1;32m   2189\u001b[0m \u001b[38;5;28;01mdef\u001b[39;00m \u001b[38;5;21msum\u001b[39m(a, axis\u001b[38;5;241m=\u001b[39m\u001b[38;5;28;01mNone\u001b[39;00m, dtype\u001b[38;5;241m=\u001b[39m\u001b[38;5;28;01mNone\u001b[39;00m, out\u001b[38;5;241m=\u001b[39m\u001b[38;5;28;01mNone\u001b[39;00m, keepdims\u001b[38;5;241m=\u001b[39mnp\u001b[38;5;241m.\u001b[39m_NoValue,\n\u001b[1;32m   2190\u001b[0m         initial\u001b[38;5;241m=\u001b[39mnp\u001b[38;5;241m.\u001b[39m_NoValue, where\u001b[38;5;241m=\u001b[39mnp\u001b[38;5;241m.\u001b[39m_NoValue):\n",
      "\u001b[0;31mKeyboardInterrupt\u001b[0m: "
     ]
    }
   ],
   "source": [
    "NDS_profiles_Duffy_1h = Omega * cl_lensing.Cluster_dNd0mega_Lensing_ProxyZ(bins, integrand_count = integrand_count, cluster_lensing = cluster_lensing_1h, lensing_radius = r, grids = grids)\n",
    "DS_profiles_Duffy_1h = NDS_profiles_Duffy_1h/N\n",
    "NDS_profiles_Duffy_1h_noboost = Omega * cl_lensing.Cluster_dNd0mega_Lensing_ProxyZ(bins, integrand_count = integrand_count, cluster_lensing = cluster_lensing_1h_noboost, lensing_radius = r, grids = grids)\n",
    "DS_profiles_Duffy_1h_noboost = NDS_profiles_Duffy_1h_noboost/N\n",
    "#NDS_profiles_Duffy_2h = Omega * cl_lensing.Cluster_dNd0mega_Lensing_ProxyZ(bins, integrand_count = integrand_count, cluster_lensing = cluster_lensing_2h, lensing_radius = r, grids = grids)\n",
    "#DS_profiles_Duffy_2h = NDS_profiles_Duffy_2h/N\n",
    "#NDS_profiles_Diemer = Omega * cl_lensing.Cluster_dNd0mega_Lensing_ProxyZ(bins, integrand_count = integrand_count, cluster_lensing = cluster_lensing_2, lensing_radius = r, grids = grids)\n",
    "#DS_profiles_Diemer = NDS_profiles_Diemer/N\n",
    "#NDS_profiles_Prada = Omega * cl_lensing.Cluster_dNd0mega_Lensing_ProxyZ(bins, integrand_count = integrand_count, cluster_lensing = cluster_lensing_3, lensing_radius = r, grids = grids)\n",
    "#DS_profiles_Prada = NDS_profiles_Prada/N"
   ]
  },
  {
   "cell_type": "code",
   "execution_count": null,
   "id": "960f613c-4de3-4e97-9b7e-460c1c353db4",
   "metadata": {},
   "outputs": [],
   "source": [
    "fig, ax = plt.subplots( len(Z_bin), len(Richness_bin), figsize = (10,10), sharey=True, sharex = True)\n",
    "for i in range(len(Z_bin)):\n",
    "    for j in range(len(Richness_bin)):\n",
    "        label_z =  r'$ z \\in $' + f'[{Z_bin[i][0]:.1f}, {Z_bin[i][1]:.1f}]'\n",
    "        label_l = r'$ \\lambda \\in $' + f'[{Richness_bin[j][0]:.1f}, {Richness_bin[j][1]:.1f}]'\n",
    "        ax[i,j].plot(r, DS_profiles_Duffy_1h_noboost[:,j,i], '-c', label = '1h+2h')\n",
    "        ax[i,j].plot(r, DS_profiles_Duffy_1h[:,j,i], '-b', label = 'boost+1h+2h')\n",
    "    #ax[i,j].loglog(r, DS_profiles_Duffy_1h_noboost[:,j,i], '--m', label = '1-halo')\n",
    "       # ax[i,j].loglog(r, DS_profiles_Duffy_2h[:,j,i], '-r', label = '2-halo term')\n",
    "       # ax[i,j].loglog(r, DS_profiles_Duffy[:,j,i], '--k')\n",
    "       # ax[i,j].loglog(r, DS_profiles_Prada[:,j,i], '-m')\n",
    "        ax[i,j].set_xlabel(r'$R\\ [Mpc]$', fontsize=20)\n",
    "        ax[i,0].set_ylabel(r'$\\Delta\\Sigma$', fontsize=20)\n",
    "        ax[i,j].tick_params(axis='both', which=\"both\", labelsize= 13)\n",
    "        ax[i,j].set_xlim(.1, 20)\n",
    "        ax[i,j].set_xscale('log')\n",
    "        #ax[i,j].set_yscale('log')\n",
    "        ax[i,j].minorticks_on()\n",
    "        #ax[i,j].set_ylim(1e13,)\n",
    "        ax[i,j].grid(True, )\n",
    "        ax[i,j].grid(True, which='minor')\n",
    "        ax[i,0].set_ylabel(label_z, fontsize = 12)\n",
    "        ax[0,j].set_title(label_l, fontsize = 13)\n",
    "ax[0,0].legend()\n",
    "#plt.savefig('hlambdaf_ds.png', bbox_inches='tight', dpi=300)"
   ]
  },
  {
   "cell_type": "code",
   "execution_count": null,
   "id": "543052c1-3c37-40da-ade1-337719bb4acb",
   "metadata": {},
   "outputs": [],
   "source": []
  },
  {
   "cell_type": "code",
   "execution_count": null,
   "id": "0e8157b0-256d-4f32-a403-5e272229f1f5",
   "metadata": {},
   "outputs": [],
   "source": []
  }
 ],
 "metadata": {
  "kernelspec": {
   "display_name": "myenv",
   "language": "python",
   "name": "myenv"
  },
  "language_info": {
   "codemirror_mode": {
    "name": "ipython",
    "version": 3
   },
   "file_extension": ".py",
   "mimetype": "text/x-python",
   "name": "python",
   "nbconvert_exporter": "python",
   "pygments_lexer": "ipython3",
   "version": "3.10.10"
  }
 },
 "nbformat": 4,
 "nbformat_minor": 5
}
