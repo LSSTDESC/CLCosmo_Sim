{
 "cells": [
  {
   "cell_type": "code",
   "execution_count": 1,
   "id": "df0f262b",
   "metadata": {},
   "outputs": [],
   "source": [
    "import glob, sys\n",
    "import numpy as np\n",
    "import matplotlib.pyplot as plt\n",
    "import time\n",
    "import pyccl as ccl\n",
    "cosmo = ccl.Cosmology(Omega_c = 0.30711 - 0.048254, Omega_b = 0.048254, h = 0.677, sigma8 = 0.8288, n_s=0.96)"
   ]
  },
  {
   "cell_type": "code",
   "execution_count": 2,
   "id": "9108e25d-0437-4cbc-9b45-cc466687b6a9",
   "metadata": {},
   "outputs": [
    {
     "ename": "ModuleNotFoundError",
     "evalue": "No module named 'CL_COUNT_class_cluster_abundance'",
     "output_type": "error",
     "traceback": [
      "\u001b[0;31m---------------------------------------------------------------------------\u001b[0m",
      "\u001b[0;31mModuleNotFoundError\u001b[0m                       Traceback (most recent call last)",
      "\u001b[0;32m<ipython-input-2-dba49fbedb09>\u001b[0m in \u001b[0;36m<module>\u001b[0;34m\u001b[0m\n\u001b[1;32m      1\u001b[0m \u001b[0mget_ipython\u001b[0m\u001b[0;34m(\u001b[0m\u001b[0;34m)\u001b[0m\u001b[0;34m.\u001b[0m\u001b[0mrun_line_magic\u001b[0m\u001b[0;34m(\u001b[0m\u001b[0;34m'load_ext'\u001b[0m\u001b[0;34m,\u001b[0m \u001b[0;34m'autoreload'\u001b[0m\u001b[0;34m)\u001b[0m\u001b[0;34m\u001b[0m\u001b[0;34m\u001b[0m\u001b[0m\n\u001b[1;32m      2\u001b[0m \u001b[0mget_ipython\u001b[0m\u001b[0;34m(\u001b[0m\u001b[0;34m)\u001b[0m\u001b[0;34m.\u001b[0m\u001b[0mrun_line_magic\u001b[0m\u001b[0;34m(\u001b[0m\u001b[0;34m'autoreload'\u001b[0m\u001b[0;34m,\u001b[0m \u001b[0;34m'2'\u001b[0m\u001b[0;34m)\u001b[0m\u001b[0;34m\u001b[0m\u001b[0;34m\u001b[0m\u001b[0m\n\u001b[0;32m----> 3\u001b[0;31m \u001b[0;32mimport\u001b[0m \u001b[0mCL_COUNT_class_cluster_abundance\u001b[0m \u001b[0;32mas\u001b[0m \u001b[0mcl_count\u001b[0m\u001b[0;34m\u001b[0m\u001b[0;34m\u001b[0m\u001b[0m\n\u001b[0m",
      "\u001b[0;31mModuleNotFoundError\u001b[0m: No module named 'CL_COUNT_class_cluster_abundance'"
     ]
    }
   ],
   "source": [
    "%load_ext autoreload\n",
    "%autoreload 2\n",
    "import CL_COUNT_class_cluster_abundance as cl_count"
   ]
  },
  {
   "cell_type": "markdown",
   "id": "d4db73bc-1373-4a09-af6b-205c8c667416",
   "metadata": {},
   "source": [
    "initialize the `ClusterAbundance` object"
   ]
  },
  {
   "cell_type": "code",
   "execution_count": null,
   "id": "0161d728-016f-4e1e-bb0e-4679cad8a1cb",
   "metadata": {},
   "outputs": [],
   "source": [
    "clc = cl_count.ClusterAbundance()\n",
    "#choose the halo mass function and mass definition\n",
    "massdef = ccl.halos.massdef.MassDef('vir', 'critical', c_m_relation=None)\n",
    "hmd = ccl.halos.hmfunc.MassFuncDespali16(cosmo, mass_def=massdef)\n",
    "clc.set_cosmology(cosmo = cosmo, hmd = hmd, massdef = massdef)\n",
    "clc.sky_area = (0.25)*4*np.pi\n",
    "clc.f_sky = clc.sky_area/4*np.pi"
   ]
  },
  {
   "cell_type": "markdown",
   "id": "9f72e8c9-57d8-473a-a865-41978c33e051",
   "metadata": {},
   "source": [
    "# Binned approach\n",
    "Compute the 2D integral"
   ]
  },
  {
   "cell_type": "markdown",
   "id": "f3c51c0f-f092-4d07-9ccf-b7168627a87d",
   "metadata": {},
   "source": [
    "## model"
   ]
  },
  {
   "cell_type": "markdown",
   "id": "419c30ea-33da-4125-b24a-fcc4d996fb48",
   "metadata": {},
   "source": [
    "$$\n",
    "N_{\\alpha\\beta}^{\\rm predicted} = \\Omega_s\\int_{z_\\alpha}^{z_{\\alpha + 1}} dz\\int_{\\log_{10}M_\\beta}^{\\log_{10}M_{\\beta + 1}}\\frac{d^2V(z)}{dz d\\Omega}\\frac{dn(M,z)}{d\\log_{10}M}d\\log_{10}M\n",
    "$$"
   ]
  },
  {
   "cell_type": "markdown",
   "id": "10e4885c-3808-477b-b7ea-c4d927630eeb",
   "metadata": {},
   "source": [
    "define mass & redshift binning"
   ]
  },
  {
   "cell_type": "code",
   "execution_count": null,
   "id": "226eab23-2904-4655-ad98-f1062a3320d7",
   "metadata": {},
   "outputs": [],
   "source": [
    "z_edges = np.linspace(0.25, 1.25, 10)\n",
    "logm_edges = np.linspace(14, 14.8, 10)"
   ]
  },
  {
   "cell_type": "code",
   "execution_count": null,
   "id": "d9fe64e5-87b2-47e1-9520-80f9c0e204c9",
   "metadata": {},
   "outputs": [],
   "source": [
    "#define redshift-mass grid\n",
    "z_grid = np.linspace(0., 3, 300)\n",
    "logm_grid = np.linspace(12,16, 300)"
   ]
  },
  {
   "cell_type": "markdown",
   "id": "74a7feec-9e6e-44a4-aa15-56642b764599",
   "metadata": {},
   "source": [
    "### Abundance prediction"
   ]
  },
  {
   "cell_type": "markdown",
   "id": "0763810d-9a1d-4d37-b650-72f0b7ad066a",
   "metadata": {},
   "source": [
    "`grid`"
   ]
  },
  {
   "cell_type": "code",
   "execution_count": null,
   "id": "00c346f8-ce9a-4152-a1a3-7528f1c0e5f9",
   "metadata": {},
   "outputs": [],
   "source": [
    "t0 = time.time()\n",
    "clc.compute_multiplicity_grid_MZ(z_grid = z_grid, logm_grid = logm_grid)\n",
    "Abundance_grid = clc.Cluster_Abundance_MZ(zbin_edges = z_edges, proxybin_edges = logm_edges, method = 'grid')\n",
    "t1 = time.time()\n",
    "print('time (seconds) = ' + str(t1-t0))\n",
    "time_simps = t1-t0"
   ]
  },
  {
   "cell_type": "markdown",
   "id": "93728cef-e6f0-49ae-8223-61a58abf80e2",
   "metadata": {},
   "source": [
    "### Shot noise"
   ]
  },
  {
   "cell_type": "code",
   "execution_count": null,
   "id": "a53db01a-719a-483f-9e06-0d2acc939612",
   "metadata": {},
   "outputs": [],
   "source": [
    "shot_noise_variance = np.diag(Abundance_grid.flatten())"
   ]
  },
  {
   "cell_type": "code",
   "execution_count": null,
   "id": "a1af800f-5984-4e7b-b697-723d661f8c35",
   "metadata": {},
   "outputs": [],
   "source": [
    "covariance = shot_noise_variance #here, we do not take account of sample variance"
   ]
  },
  {
   "cell_type": "markdown",
   "id": "ee29674b-8e29-49bd-a7d7-4fea40dafec1",
   "metadata": {},
   "source": [
    "## data"
   ]
  },
  {
   "cell_type": "code",
   "execution_count": null,
   "id": "f1fe0074-08e9-4b2c-82cf-0aab0e619a7f",
   "metadata": {},
   "outputs": [],
   "source": [
    "N_obs = np.random.multivariate_normal(Abundance_grid.flatten(), covariance)"
   ]
  },
  {
   "cell_type": "markdown",
   "id": "cb36f0bf-130c-4d93-a0c1-31c869ebbf31",
   "metadata": {},
   "source": [
    "## Likelihood"
   ]
  },
  {
   "cell_type": "code",
   "execution_count": null,
   "id": "98d7b656-15c0-4fb7-baa5-b590170b957d",
   "metadata": {},
   "outputs": [],
   "source": [
    "%load_ext autoreload\n",
    "%autoreload 2\n",
    "import CL_COUNT_class_likelihood as lnL"
   ]
  },
  {
   "cell_type": "code",
   "execution_count": null,
   "id": "34f2c401-499c-4a5b-bb76-c6813c6fa64f",
   "metadata": {},
   "outputs": [],
   "source": [
    "Likelihood = lnL.Likelihood()"
   ]
  },
  {
   "cell_type": "markdown",
   "id": "ac710cb5-e355-459e-a757-096c1222911d",
   "metadata": {},
   "source": [
    "### Binned Gaussian"
   ]
  },
  {
   "cell_type": "markdown",
   "id": "2d989a38-d7ce-4ca2-a3b1-d267af6cd65a",
   "metadata": {},
   "source": [
    "$L = \\mathcal{G}(\\vec{\\widehat{N}}|\\vec{\\mu}, \\Sigma_{SV})$"
   ]
  },
  {
   "cell_type": "code",
   "execution_count": null,
   "id": "584d6a3a-b300-4e54-b073-39e344f59783",
   "metadata": {},
   "outputs": [],
   "source": [
    "lnL_Binned_Gaussian = Likelihood.lnLikelihood_Binned_Gaussian(Abundance_grid, N_obs.reshape(len(z_edges)-1, len(logm_edges)-1), covariance)\n",
    "print(Likelihood.lnL_Binned_Gaussian)"
   ]
  },
  {
   "cell_type": "markdown",
   "id": "56a8e3f9-f60d-486d-b435-cfd7f7749ddc",
   "metadata": {},
   "source": [
    "### Binned Poisson"
   ]
  },
  {
   "cell_type": "markdown",
   "id": "3c9e8551-8f79-497d-b63a-95cc1aad0e58",
   "metadata": {},
   "source": [
    "$L = \\prod_i^N\\mathcal{P}(\\widehat{N}_i| \\mu_i)$"
   ]
  },
  {
   "cell_type": "code",
   "execution_count": null,
   "id": "0c23079a-53d5-4941-9fd0-94f104cd4962",
   "metadata": {},
   "outputs": [],
   "source": [
    "lnL_Binned_Poissonian = Likelihood.lnLikelihood_Binned_Poissonian(Abundance_grid, N_obs.reshape(len(z_edges)-1, len(logm_edges)-1))\n",
    "print(Likelihood.lnL_Binned_Poissonian)"
   ]
  },
  {
   "cell_type": "markdown",
   "id": "d4d5fe08-b62d-445c-b54b-ca4758cb3567",
   "metadata": {},
   "source": [
    "# Unbinned Approach"
   ]
  },
  {
   "cell_type": "markdown",
   "id": "c298b6b8-01ca-4ba9-882b-9d0f7fe3788c",
   "metadata": {},
   "source": [
    "## data"
   ]
  },
  {
   "cell_type": "code",
   "execution_count": null,
   "id": "da447c1b-5f5a-4ee3-9adb-5a224cd2cd81",
   "metadata": {},
   "outputs": [],
   "source": [
    "#Generate mass, redshift catalog\n",
    "n_cluster = 100000\n",
    "redshift, M200c = np.random.random(n_cluster)*(1 - 0.2) + 0.2, 10**(np.random.random(n_cluster)*(15 - 13) + 13)"
   ]
  },
  {
   "cell_type": "markdown",
   "id": "43c05b56-4a19-4f67-8288-f05b5ee4c595",
   "metadata": {},
   "source": [
    "## model"
   ]
  },
  {
   "cell_type": "markdown",
   "id": "73548dd0-0e6d-4278-80f6-7f141ff6ce5a",
   "metadata": {},
   "source": [
    "$$\n",
    "\\lambda(m_i, z_i) = \\Omega_s\\frac{d^2V(z_i)}{dz d\\Omega}\\frac{dn(M_i,z_i)}{d\\log_{10}M}\n",
    "$$"
   ]
  },
  {
   "cell_type": "code",
   "execution_count": null,
   "id": "067e46f8-082f-4aec-b5f3-aef8a9073a21",
   "metadata": {},
   "outputs": [],
   "source": [
    "t0 = time.time()\n",
    "clc.compute_multiplicity_grid_MZ(z_grid = z_grid, logm_grid = logm_grid)\n",
    "multiplicity_interp = clc.multiplicity_function_individual_MZ(z = redshift, logm = np.log10(M200c), method = 'interp')\n",
    "t1 = time.time()\n",
    "print('time (seconds) = ' + str(t1-t0))"
   ]
  },
  {
   "cell_type": "code",
   "execution_count": null,
   "id": "799cd226-b5a2-4a41-9999-7d3ea1a881b3",
   "metadata": {},
   "outputs": [],
   "source": [
    "N_tot = clc.Cluster_Abundance_MZ(zbin_edges = [.2, 1], proxybin_edges = [13,15], method = 'grid')[0][0]"
   ]
  },
  {
   "cell_type": "markdown",
   "id": "d95830fc-1c4f-4097-b215-09363002ee9a",
   "metadata": {},
   "source": [
    "## Likelihood"
   ]
  },
  {
   "cell_type": "markdown",
   "id": "ddf16979-cf5c-4ccf-9fa4-78fdb3e1251c",
   "metadata": {},
   "source": [
    "$\\log L = \\sum_i^N \\log\\lambda(m_i, z_i) - N_{tot}$"
   ]
  },
  {
   "cell_type": "code",
   "execution_count": null,
   "id": "4120da10-9cd2-4053-8119-4ecf2cc6f8ef",
   "metadata": {},
   "outputs": [],
   "source": [
    "Likelihood.lnLikelihood_UnBinned_Poissonian(multiplicity_interp, N_tot)\n",
    "print(Likelihood.lnL_UnBinned_Poissonian)"
   ]
  }
 ],
 "metadata": {
  "kernelspec": {
   "display_name": "mydesc",
   "language": "python",
   "name": "mydesc"
  },
  "language_info": {
   "codemirror_mode": {
    "name": "ipython",
    "version": 3
   },
   "file_extension": ".py",
   "mimetype": "text/x-python",
   "name": "python",
   "nbconvert_exporter": "python",
   "pygments_lexer": "ipython3",
   "version": "3.7.6"
  }
 },
 "nbformat": 4,
 "nbformat_minor": 5
}
